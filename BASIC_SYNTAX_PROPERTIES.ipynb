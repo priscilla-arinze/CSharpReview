{
 "cells": [
  {
   "attachments": {},
   "cell_type": "markdown",
   "metadata": {},
   "source": [
    "# PROPERTIES\n",
    "\n",
    "*Getters and setters; Like fields (or class/instance variables), except properties can be used accessed/modified outside of classes*"
   ]
  },
  {
   "attachments": {},
   "cell_type": "markdown",
   "metadata": {},
   "source": [
    "## Auto-Implemented Properties"
   ]
  },
  {
   "cell_type": "code",
   "execution_count": null,
   "metadata": {
    "vscode": {
     "languageId": "polyglot-notebook"
    }
   },
   "outputs": [],
   "source": [
    "public class Car\n",
    "{\n",
    "    public ushort Year { get; set; }\n",
    "    public string Make { get; set; } = \"Toyota\"; // >= C# 6: setting auto-implemented properties equal to something will be default values\n",
    "    public string Model { get; set; }\n",
    "}\n"
   ]
  },
  {
   "attachments": {},
   "cell_type": "markdown",
   "metadata": {},
   "source": [
    "__ABOVE PROPERTIES EQUIVALENT TO:__"
   ]
  },
  {
   "cell_type": "code",
   "execution_count": null,
   "metadata": {
    "vscode": {
     "languageId": "polyglot-notebook"
    }
   },
   "outputs": [],
   "source": [
    "public class Car2\n",
    "{\n",
    "    // private backing fields; setting private fields equal to something will be default values for properties\n",
    "    private ushort _year;\n",
    "    private string _make = \"Toyota\"; // setting private fields equal to something will be default values for properties\n",
    "    private string _model;\n",
    "\n",
    "    // NOTE: `value` is a reserved keyword and will equal whatever you set the instances property equal to:\n",
    "        // e.g. Car c1 = new Car(); c1.Year = 2022; --> `value` is now 2022 for this current instance\n",
    "    public ushort Year \n",
    "    {\n",
    "        get { return _year; }\n",
    "\t    set { _year = value; }\n",
    "    }\n",
    "    public string Make \n",
    "    {\n",
    "        get { return _make; }\n",
    "\t    set { _make = value; }\n",
    "    }\n",
    "    public string Model \n",
    "    {\n",
    "        get { return _model; }\n",
    "\t    set { _model = value; }\n",
    "    }\n",
    "}"
   ]
  },
  {
   "attachments": {},
   "cell_type": "markdown",
   "metadata": {},
   "source": [
    "## Custom Properties"
   ]
  },
  {
   "cell_type": "code",
   "execution_count": null,
   "metadata": {
    "dotnet_interactive": {
     "language": "csharp"
    },
    "polyglot_notebook": {
     "kernelName": "csharp"
    },
    "vscode": {
     "languageId": "polyglot-notebook"
    }
   },
   "outputs": [],
   "source": [
    "public class Car3\n",
    "{\n",
    "    private ushort _year;\n",
    "    private string _make = \"Toyota\";\n",
    "    private string _model;\n",
    "\n",
    "    public ushort Year \n",
    "    {\n",
    "        get \n",
    "        { \n",
    "            return _year; \n",
    "        }\n",
    "\t    set \n",
    "        { \n",
    "            if(!(value > 1600 && value <= DateTime.Today.Year+2))\n",
    "            {\n",
    "                throw new Exception(\"Please enter a valid car model year, in YYYY format.\");\n",
    "            }\n",
    "            _year = value; \n",
    "        }\n",
    "    }\n",
    "    public string Make \n",
    "    {\n",
    "        get \n",
    "        { \n",
    "            return _make.ToUpper(); // will always return in UPPERCASE, regardless of private backing field case setting\n",
    "        }\n",
    "\t    set \n",
    "        { \n",
    "            _make = value; \n",
    "        }\n",
    "    }\n",
    "    public string Model \n",
    "    {\n",
    "        get \n",
    "        { \n",
    "            return _model.ToUpper(); // will always return in UPPERCASE, regardless of private backing field case setting\n",
    "        }\n",
    "\t    set \n",
    "        { \n",
    "            _model = value; \n",
    "        }\n",
    "    }\n",
    "}"
   ]
  },
  {
   "attachments": {},
   "cell_type": "markdown",
   "metadata": {},
   "source": [
    "## Read-Only Properties"
   ]
  },
  {
   "cell_type": "code",
   "execution_count": null,
   "metadata": {
    "dotnet_interactive": {
     "language": "csharp"
    },
    "polyglot_notebook": {
     "kernelName": "csharp"
    },
    "vscode": {
     "languageId": "polyglot-notebook"
    }
   },
   "outputs": [],
   "source": []
  },
  {
   "attachments": {},
   "cell_type": "markdown",
   "metadata": {},
   "source": [
    "### (Read-Only) Limited Setter Properties (accessor modifiers for `set`)"
   ]
  },
  {
   "cell_type": "code",
   "execution_count": null,
   "metadata": {
    "dotnet_interactive": {
     "language": "csharp"
    },
    "polyglot_notebook": {
     "kernelName": "csharp"
    },
    "vscode": {
     "languageId": "polyglot-notebook"
    }
   },
   "outputs": [],
   "source": []
  }
 ],
 "metadata": {
  "language_info": {
   "name": "python"
  },
  "orig_nbformat": 4
 },
 "nbformat": 4,
 "nbformat_minor": 2
}
