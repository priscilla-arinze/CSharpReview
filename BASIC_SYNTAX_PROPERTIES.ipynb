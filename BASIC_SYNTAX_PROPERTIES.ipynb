{
 "cells": [
  {
   "attachments": {},
   "cell_type": "markdown",
   "metadata": {},
   "source": [
    "# PROPERTIES\n",
    "\n",
    "*Getters and setters; Like fields (or class/instance variables), except properties can be used accessed/modified outside of classes*"
   ]
  },
  {
   "attachments": {},
   "cell_type": "markdown",
   "metadata": {},
   "source": [
    "## Auto-Implemented Properties"
   ]
  },
  {
   "cell_type": "code",
   "execution_count": null,
   "metadata": {
    "dotnet_interactive": {
     "language": "csharp"
    },
    "polyglot_notebook": {
     "kernelName": "csharp"
    },
    "vscode": {
     "languageId": "polyglot-notebook"
    }
   },
   "outputs": [],
   "source": [
    "public class Car\n",
    "{\n",
    "    public ushort Year { get; set; }\n",
    "    public string Make { get; set; } = \"Toyota\"; // >= C# 6: setting auto-implemented properties equal to something will be default values\n",
    "    public string Model { get; set; }\n",
    "}\n"
   ]
  },
  {
   "attachments": {},
   "cell_type": "markdown",
   "metadata": {},
   "source": [
    "__ABOVE PROPERTIES EQUIVALENT TO:__"
   ]
  },
  {
   "cell_type": "code",
   "execution_count": null,
   "metadata": {
    "dotnet_interactive": {
     "language": "csharp"
    },
    "polyglot_notebook": {
     "kernelName": "csharp"
    },
    "vscode": {
     "languageId": "polyglot-notebook"
    }
   },
   "outputs": [],
   "source": [
    "public class Car2\n",
    "{\n",
    "    // private backing fields; setting private fields equal to something will be default values for properties\n",
    "    private ushort _year;\n",
    "    private string _make = \"Toyota\"; // setting private fields equal to something will be default values for properties\n",
    "    private string _model;\n",
    "\n",
    "    // NOTE: `value` is a reserved keyword and will equal whatever you set the instances property equal to:\n",
    "        // e.g. Car c1 = new Car(); c1.Year = 2022; --> `value` is now 2022 for this current instance\n",
    "    public ushort Year \n",
    "    {\n",
    "        get { return _year; }\n",
    "\t    set { _year = value; }\n",
    "    }\n",
    "    public string Make \n",
    "    {\n",
    "        get { return _make; }\n",
    "\t    set { _make = value; }\n",
    "    }\n",
    "    public string Model \n",
    "    {\n",
    "        get { return _model; }\n",
    "\t    set { _model = value; }\n",
    "    }\n",
    "}"
   ]
  },
  {
   "attachments": {},
   "cell_type": "markdown",
   "metadata": {},
   "source": [
    "## Custom Properties"
   ]
  },
  {
   "cell_type": "code",
   "execution_count": null,
   "metadata": {
    "dotnet_interactive": {
     "language": "csharp"
    },
    "polyglot_notebook": {
     "kernelName": "csharp"
    },
    "vscode": {
     "languageId": "polyglot-notebook"
    }
   },
   "outputs": [],
   "source": [
    "public class Car3\n",
    "{\n",
    "    private ushort _year;\n",
    "    private string _make = \"Toyota\";\n",
    "    private string _model;\n",
    "\n",
    "    public ushort Year \n",
    "    {\n",
    "        get \n",
    "        { \n",
    "            return _year; \n",
    "        }\n",
    "\t    set \n",
    "        { \n",
    "            if(!(value > 1600 && value <= DateTime.Today.Year+2))\n",
    "            {\n",
    "                throw new Exception(\"Please enter a valid car model year, in YYYY format.\");\n",
    "            }\n",
    "            _year = value; \n",
    "        }\n",
    "    }\n",
    "    public string Make \n",
    "    {\n",
    "        get \n",
    "        { \n",
    "            return _make.ToUpper(); // will always return in UPPERCASE, regardless of private backing field case setting\n",
    "        }\n",
    "\t    set \n",
    "        { \n",
    "            _make = value; \n",
    "        }\n",
    "    }\n",
    "    public string Model \n",
    "    {\n",
    "        get \n",
    "        { \n",
    "            return _model.ToUpper(); // will always return in UPPERCASE, regardless of private backing field case setting\n",
    "        }\n",
    "\t    set \n",
    "        { \n",
    "            _model = value; \n",
    "        }\n",
    "    }\n",
    "}"
   ]
  },
  {
   "attachments": {},
   "cell_type": "markdown",
   "metadata": {},
   "source": [
    "## Read-Only Properties\n",
    "\n",
    "*getters, no setters (will get an error if you try to set a read-only property)*\n",
    "\n",
    "__NOTE: Static fields considerations:__ \n",
    "* are NOT specifically tied to each instance\n",
    "* so each created instance's ID will not all be '1001'\n",
    "* from the moment that an instance is created, the static ID field will update each time the constructor is run, regardless of instance.\n",
    "* also, static fields are at the top of the call stack when creating a new instance.\n"
   ]
  },
  {
   "cell_type": "code",
   "execution_count": null,
   "metadata": {
    "dotnet_interactive": {
     "language": "csharp"
    },
    "polyglot_notebook": {
     "kernelName": "csharp"
    },
    "vscode": {
     "languageId": "polyglot-notebook"
    }
   },
   "outputs": [],
   "source": [
    "public class Student\n",
    "{\n",
    "    private static int _idSeed = 1001; \n",
    "\n",
    "    public string ID { get; } // auto-implemented\n",
    "    // OR:  public string ID { get; private set; }\n",
    "    /* \n",
    "\n",
    "    **OR CUSTOM:\n",
    "    public string ID\n",
    "    {\n",
    "        get { return _idSeed.ToString(); }\n",
    "    } \n",
    "\n",
    "    */\n",
    "\n",
    "    public Student()\n",
    "    {\n",
    "        this.ID = _idSeed.ToString();\n",
    "        _idSeed++;\n",
    "    }\n",
    "}"
   ]
  },
  {
   "attachments": {},
   "cell_type": "markdown",
   "metadata": {},
   "source": [
    "### (Read-Only) Limited Setter Properties (accessor modifiers for `set`)\n",
    "\n",
    "*great for validating read-only properties*"
   ]
  },
  {
   "cell_type": "code",
   "execution_count": null,
   "metadata": {
    "dotnet_interactive": {
     "language": "csharp"
    },
    "polyglot_notebook": {
     "kernelName": "csharp"
    },
    "vscode": {
     "languageId": "polyglot-notebook"
    }
   },
   "outputs": [],
   "source": [
    "public class Student2\n",
    "{\n",
    "    private string _name = \"Spongebob Squarepants\";\n",
    "\n",
    "    public string Name\n",
    "    {\n",
    "        get { return _name; }\n",
    "\n",
    "        // or protected set (can be set in a derived class)\n",
    "        private set\n",
    "        {\n",
    "            if(IsValidName(value))\n",
    "                this._name = value;\n",
    "        }\n",
    "    }\n",
    "\n",
    "    public bool IsValidName(string name)\n",
    "    {\n",
    "        return name.EndsWith(\"Squarepants\");\n",
    "    }\n",
    "}"
   ]
  },
  {
   "attachments": {},
   "cell_type": "markdown",
   "metadata": {},
   "source": [
    "## Expression-bodied properties\n",
    "\n",
    "*single-line property getting/setting with the ability to add expressions*"
   ]
  },
  {
   "cell_type": "code",
   "execution_count": null,
   "metadata": {
    "dotnet_interactive": {
     "language": "csharp"
    },
    "polyglot_notebook": {
     "kernelName": "csharp"
    },
    "vscode": {
     "languageId": "polyglot-notebook"
    }
   },
   "outputs": [],
   "source": [
    "public class Car4\n",
    "{\n",
    "    private ushort _year;\n",
    "    private string _make = \"Toyota\";\n",
    "    private string _model;\n",
    "\n",
    "\n",
    "    public ushort Year\n",
    "    {\n",
    "        get => _year;\n",
    "        set => _year = value;\n",
    "    }\n",
    "\n",
    "    // just pretend it is a read-only property for this example...\n",
    "    public string Make => _make; // READ-ONLY\n",
    "\n",
    "\n",
    "    public string Model\n",
    "    {\n",
    "        get => _model.ToUpper(); // custom property modification expression\n",
    "        set => _model = value;\n",
    "    }\n",
    "    \n",
    "}"
   ]
  }
 ],
 "metadata": {
  "language_info": {
   "name": "python"
  },
  "orig_nbformat": 4
 },
 "nbformat": 4,
 "nbformat_minor": 2
}
