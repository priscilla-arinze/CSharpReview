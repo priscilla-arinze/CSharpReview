{
 "cells": [
  {
   "cell_type": "markdown",
   "metadata": {},
   "source": [
    "# LINQ & Regex Version of Password Checker\n",
    "\n",
    "Validation Criteria:\n",
    "1. Must be between 8-30 characters in length\n",
    "2. Must contain at least 1 number\n",
    "3. Must contain at least 1 capital letter (A-Z)\n",
    "4. Must contain at least 1 of the following symbols (includes spaces):  !\"#$%&'()*+,-./:;<=>?@[\\\\]^_`{|}~\n",
    "5. Must NOT contain the word \"password\", regardless of case"
   ]
  },
  {
   "cell_type": "code",
   "execution_count": 9,
   "metadata": {
    "dotnet_interactive": {
     "language": "csharp"
    },
    "polyglot_notebook": {
     "kernelName": "csharp"
    }
   },
   "outputs": [],
   "source": [
    "string badPassword__password_keyword = \"iAmAvERy!sECure123PAssWord!7\";\n",
    "string badPassword__no_symbols = \"iAmAvERysECure1237\";\n",
    "string badPassword__no_capitals = \"iamvery!secure123!7\";\n",
    "string badPassword__morethan31chars = \"iAmAvERysECure123PAssWord7\";\n",
    "string badPassword__lessthan8chars = \"vEry1!\";\n",
    "string badPassword_no_nums = \"iAmAvERy!sECurePAssWord!\";\n",
    "\n",
    "string goodPassword = \"iAmAvERy!sECure123!7\";"
   ]
  },
  {
   "cell_type": "code",
   "execution_count": 10,
   "metadata": {
    "dotnet_interactive": {
     "language": "csharp"
    },
    "polyglot_notebook": {
     "kernelName": "csharp"
    }
   },
   "outputs": [],
   "source": [
    "using System.Linq;\n",
    "using System.Text.RegularExpressions;"
   ]
  },
  {
   "cell_type": "markdown",
   "metadata": {},
   "source": [
    "<hr>"
   ]
  },
  {
   "cell_type": "markdown",
   "metadata": {},
   "source": [
    "### Checking for at least 1 number using `Char.IsDigit()` & `.Any()` Enumerable method from Linq"
   ]
  },
  {
   "cell_type": "code",
   "execution_count": 9,
   "metadata": {
    "dotnet_interactive": {
     "language": "csharp"
    },
    "polyglot_notebook": {
     "kernelName": "csharp"
    }
   },
   "outputs": [
    {
     "name": "stdout",
     "output_type": "stream",
     "text": [
      "True\n",
      "False\n"
     ]
    }
   ],
   "source": [
    "Console.WriteLine(goodPassword.Any(c => Char.IsDigit(c)));\n",
    "Console.WriteLine(badPassword_no_nums.Any(c => Char.IsDigit(c)));"
   ]
  },
  {
   "cell_type": "markdown",
   "metadata": {},
   "source": [
    "### Checking for at least 1 number using regex"
   ]
  },
  {
   "cell_type": "code",
   "execution_count": 11,
   "metadata": {
    "dotnet_interactive": {
     "language": "csharp"
    },
    "polyglot_notebook": {
     "kernelName": "csharp"
    }
   },
   "outputs": [
    {
     "name": "stdout",
     "output_type": "stream",
     "text": [
      "True\n",
      "False\n"
     ]
    }
   ],
   "source": [
    "Regex pattern_nums = new Regex(\"[0-9]+\");\n",
    "\n",
    "Console.WriteLine(pattern_nums.IsMatch(goodPassword));\n",
    "Console.WriteLine(pattern_nums.IsMatch(badPassword_no_nums));"
   ]
  },
  {
   "cell_type": "markdown",
   "metadata": {},
   "source": [
    "<hr>"
   ]
  },
  {
   "cell_type": "markdown",
   "metadata": {},
   "source": [
    "### Checking for at least 1 capital letter using ASCII conversion & `.Any()` Enumerable method from LINQ\n",
    "\n",
    "*ASCII A-Z: 65-90*"
   ]
  },
  {
   "cell_type": "markdown",
   "metadata": {},
   "source": [
    "*Testing*"
   ]
  },
  {
   "cell_type": "code",
   "execution_count": 16,
   "metadata": {
    "dotnet_interactive": {
     "language": "csharp"
    },
    "polyglot_notebook": {
     "kernelName": "csharp"
    }
   },
   "outputs": [
    {
     "name": "stdout",
     "output_type": "stream",
     "text": [
      "65\n",
      "90\n"
     ]
    }
   ],
   "source": [
    "char aChar = 'A';\n",
    "char zChar = 'Z';\n",
    "\n",
    "Console.WriteLine((int)aChar);\n",
    "Console.WriteLine((int)zChar);"
   ]
  },
  {
   "cell_type": "code",
   "execution_count": 17,
   "metadata": {
    "dotnet_interactive": {
     "language": "csharp"
    },
    "polyglot_notebook": {
     "kernelName": "csharp"
    }
   },
   "outputs": [
    {
     "name": "stdout",
     "output_type": "stream",
     "text": [
      "True\n",
      "False\n"
     ]
    }
   ],
   "source": [
    "Console.WriteLine(goodPassword.Any(c => (int)c >= 65 && (int)c <= 90));\n",
    "Console.WriteLine(badPassword__no_capitals.Any(c => (int)c >= 65 && (int)c <= 90));"
   ]
  },
  {
   "cell_type": "markdown",
   "metadata": {},
   "source": [
    "### Checking for at least 1 capital letter using regex"
   ]
  },
  {
   "cell_type": "code",
   "execution_count": 12,
   "metadata": {
    "dotnet_interactive": {
     "language": "csharp"
    },
    "polyglot_notebook": {
     "kernelName": "csharp"
    }
   },
   "outputs": [
    {
     "name": "stdout",
     "output_type": "stream",
     "text": [
      "True\n",
      "False\n"
     ]
    }
   ],
   "source": [
    "Regex pattern_caps = new Regex(\"[A-Z]+\");\n",
    "\n",
    "Console.WriteLine(pattern_caps.IsMatch(goodPassword));\n",
    "Console.WriteLine(pattern_caps.IsMatch(badPassword__no_capitals));"
   ]
  },
  {
   "cell_type": "markdown",
   "metadata": {},
   "source": [
    "<hr>"
   ]
  },
  {
   "cell_type": "markdown",
   "metadata": {},
   "source": [
    "### Checking for at least 1 symbol using `.Intersect()` / `.Any()` Enumerable methods from LINQ"
   ]
  },
  {
   "cell_type": "markdown",
   "metadata": {},
   "source": [
    "*Testing*"
   ]
  },
  {
   "cell_type": "code",
   "execution_count": 7,
   "metadata": {
    "dotnet_interactive": {
     "language": "csharp"
    },
    "polyglot_notebook": {
     "kernelName": "csharp"
    }
   },
   "outputs": [
    {
     "name": "stdout",
     "output_type": "stream",
     "text": [
      "4\n",
      "5\n"
     ]
    }
   ],
   "source": [
    "string s1 = \"12345\";\n",
    "string s2 = \"445678\";\n",
    "\n",
    "IEnumerable<char> strIntersect = s1.Intersect(s2);\n",
    "\n",
    "foreach (char ch in strIntersect) {\n",
    "    Console.WriteLine(ch);\n",
    "}"
   ]
  },
  {
   "cell_type": "code",
   "execution_count": 13,
   "metadata": {
    "dotnet_interactive": {
     "language": "csharp"
    },
    "polyglot_notebook": {
     "kernelName": "csharp"
    }
   },
   "outputs": [
    {
     "name": "stdout",
     "output_type": "stream",
     "text": [
      "True\n",
      "False\n"
     ]
    }
   ],
   "source": [
    "string symbols = \" !\\\"#$%&'()*+,-./:;<=>?@[\\\\]^_`{|}~\";\n",
    "\n",
    "IEnumerable<char> symbolIntersectGood = symbols.Intersect(goodPassword);\n",
    "IEnumerable<char> symbolIntersectBad = symbols.Intersect(badPassword__no_symbols);\n",
    "\n",
    "Console.WriteLine(symbolIntersectGood.Any());\n",
    "Console.WriteLine(symbolIntersectBad.Any());\n"
   ]
  },
  {
   "cell_type": "markdown",
   "metadata": {},
   "source": [
    "### Checking for at least 1 symbol using regex"
   ]
  },
  {
   "cell_type": "code",
   "execution_count": 18,
   "metadata": {
    "dotnet_interactive": {
     "language": "csharp"
    },
    "polyglot_notebook": {
     "kernelName": "csharp"
    }
   },
   "outputs": [
    {
     "name": "stdout",
     "output_type": "stream",
     "text": [
      "True\n",
      "False\n"
     ]
    }
   ],
   "source": [
    "Regex pattern_nosymbols = new Regex(\"^[a-zA-Z0-9]*$\");\n",
    "\n",
    "Console.WriteLine(!(pattern_nosymbols.IsMatch(goodPassword)));\n",
    "Console.WriteLine(!(pattern_nosymbols.IsMatch(badPassword__no_symbols)));"
   ]
  },
  {
   "cell_type": "markdown",
   "metadata": {},
   "source": [
    "<hr>"
   ]
  },
  {
   "cell_type": "markdown",
   "metadata": {},
   "source": [
    "### Checking for case-insenstive \"password\" keyword using `str.Contains()`"
   ]
  },
  {
   "cell_type": "markdown",
   "metadata": {},
   "source": [
    "*Testing*"
   ]
  },
  {
   "cell_type": "code",
   "execution_count": 20,
   "metadata": {
    "dotnet_interactive": {
     "language": "csharp"
    },
    "polyglot_notebook": {
     "kernelName": "csharp"
    }
   },
   "outputs": [
    {
     "name": "stdout",
     "output_type": "stream",
     "text": [
      "True\n",
      "False\n"
     ]
    }
   ],
   "source": [
    "string fruit = \"apple grapes raspberries pears\";\n",
    "\n",
    "Console.WriteLine(fruit.ToLower().Contains(\"grape\"));\n",
    "Console.WriteLine(fruit.ToLower().Contains(\"concrete\"));"
   ]
  },
  {
   "cell_type": "code",
   "execution_count": 21,
   "metadata": {
    "dotnet_interactive": {
     "language": "csharp"
    },
    "polyglot_notebook": {
     "kernelName": "csharp"
    }
   },
   "outputs": [
    {
     "name": "stdout",
     "output_type": "stream",
     "text": [
      "False\n",
      "True\n"
     ]
    }
   ],
   "source": [
    "Console.WriteLine(goodPassword.ToLower().Contains(\"password\"));\n",
    "Console.WriteLine(badPassword__password_keyword.ToLower().Contains(\"password\"));"
   ]
  },
  {
   "cell_type": "markdown",
   "metadata": {},
   "source": [
    "### Checking for case-insenstive \"password\" keyword using regex"
   ]
  },
  {
   "cell_type": "code",
   "execution_count": 26,
   "metadata": {
    "dotnet_interactive": {
     "language": "csharp"
    },
    "polyglot_notebook": {
     "kernelName": "csharp"
    }
   },
   "outputs": [
    {
     "name": "stdout",
     "output_type": "stream",
     "text": [
      "False\n",
      "True\n"
     ]
    }
   ],
   "source": [
    "Regex pattern_password_keyword = new Regex(\"password\");\n",
    "\n",
    "Console.WriteLine(pattern_password_keyword.IsMatch(goodPassword.ToLower()));\n",
    "Console.WriteLine(pattern_password_keyword.IsMatch(badPassword__password_keyword.ToLower()));"
   ]
  },
  {
   "cell_type": "markdown",
   "metadata": {},
   "source": [
    "<hr>\n",
    "<hr>"
   ]
  },
  {
   "attachments": {
    "image.png": {
     "image/png": "[encoded data removed]"
    }
   },
   "cell_type": "markdown",
   "metadata": {},
   "source": [
    "### FINAL\n",
    "\n",
    "![image.png](attachment:image.png)"
   ]
  },
  {
   "cell_type": "code",
   "execution_count": 37,
   "metadata": {
    "dotnet_interactive": {
     "language": "csharp"
    },
    "polyglot_notebook": {
     "kernelName": "csharp"
    }
   },
   "outputs": [],
   "source": [
    "/// <summary> Returns a boolean of whether the given password passes the following validation criteria using LINQ\n",
    "/// <para>Validation Criteria:</para>\n",
    "/// <para>1. Must be between 8-30 characters in length</para>\n",
    "/// <para>2. Must contain at least 1 number</para>\n",
    "/// <para>3. Must contain at least 1 capital letter (A-Z)</para>\n",
    "/// <para>4. Must contain at least 1 symbol (includes spaces)</para>\n",
    "/// <para>5. Must NOT contain the word \"password\", regardless of case</para>\n",
    "/// </summary>\n",
    "internal static bool PasswordCheckerLINQ(string password) {\n",
    "\n",
    "    int passwordLength = password.Length;\n",
    "\n",
    "    if (passwordLength < 8 || passwordLength > 30) {\n",
    "        return false;\n",
    "    }\n",
    "\n",
    "    string symbols = \" !\\\"#$%&'()*+,-./:;<=>?@[\\\\]^_`{|}~\";\n",
    "\n",
    "    bool validateNums = password.Any(c => Char.IsDigit(c));\n",
    "    bool validateCaps = password.Any(c => (int)c >= 65 && (int)c <= 90);\n",
    "    bool validateSymbols = password.Intersect(symbols).Any();\n",
    "    bool validateNoPasswordKeyword = !(password.ToLower().Contains(\"password\"));\n",
    "\n",
    "    return validateNums && validateCaps && validateSymbols && validateNoPasswordKeyword;\n",
    "}\n",
    "\n",
    "\n",
    "internal static bool PasswordCheckerREGEX(string password) {\n",
    "\n",
    "    int passwordLength = password.Length;\n",
    "    \n",
    "    if (passwordLength < 8 || passwordLength > 30) {\n",
    "        return false;\n",
    "    }\n",
    "\n",
    "    Regex patternNums = new Regex(\"[0-9]+\");\n",
    "    Regex patternCaps = new Regex(\"[A-Z]+\");\n",
    "    Regex patternNoSymbols = new Regex(\"^[a-zA-Z0-9]*$\");\n",
    "    Regex patternPasswordKeyword = new Regex(\"password\");\n",
    "\n",
    "    bool validateNums = patternNums.IsMatch(password);\n",
    "    bool validateCaps = patternCaps.IsMatch(password);\n",
    "    bool validateSymbols = !(patternNoSymbols.IsMatch(password));\n",
    "    bool validateNoPasswordKeyword = !(patternPasswordKeyword.IsMatch(password.ToLower()));\n",
    "\n",
    "    return validateNums && validateCaps && validateSymbols && validateNoPasswordKeyword;\n",
    "\n",
    "}"
   ]
  },
  {
   "cell_type": "code",
   "execution_count": 36,
   "metadata": {
    "dotnet_interactive": {
     "language": "csharp"
    },
    "polyglot_notebook": {
     "kernelName": "csharp"
    }
   },
   "outputs": [
    {
     "name": "stdout",
     "output_type": "stream",
     "text": [
      "False\n",
      "False\n",
      "False\n",
      "False\n",
      "False\n",
      "False\n",
      "True\n"
     ]
    }
   ],
   "source": [
    "Console.WriteLine(PasswordCheckerLINQ(badPassword__password_keyword));\n",
    "Console.WriteLine(PasswordCheckerLINQ(badPassword__no_symbols));\n",
    "Console.WriteLine(PasswordCheckerLINQ(badPassword__no_capitals));\n",
    "Console.WriteLine(PasswordCheckerLINQ(badPassword__morethan31chars));\n",
    "Console.WriteLine(PasswordCheckerLINQ(badPassword__lessthan8chars));\n",
    "Console.WriteLine(PasswordCheckerLINQ(badPassword_no_nums));\n",
    "\n",
    "Console.WriteLine(PasswordCheckerLINQ(goodPassword));"
   ]
  },
  {
   "cell_type": "code",
   "execution_count": 38,
   "metadata": {
    "dotnet_interactive": {
     "language": "csharp"
    },
    "polyglot_notebook": {
     "kernelName": "csharp"
    }
   },
   "outputs": [
    {
     "name": "stdout",
     "output_type": "stream",
     "text": [
      "False\n",
      "False\n",
      "False\n",
      "False\n",
      "False\n",
      "False\n",
      "True\n"
     ]
    }
   ],
   "source": [
    "Console.WriteLine(PasswordCheckerREGEX(badPassword__password_keyword));\n",
    "Console.WriteLine(PasswordCheckerREGEX(badPassword__no_symbols));\n",
    "Console.WriteLine(PasswordCheckerREGEX(badPassword__no_capitals));\n",
    "Console.WriteLine(PasswordCheckerREGEX(badPassword__morethan31chars));\n",
    "Console.WriteLine(PasswordCheckerREGEX(badPassword__lessthan8chars));\n",
    "Console.WriteLine(PasswordCheckerREGEX(badPassword_no_nums));\n",
    "\n",
    "Console.WriteLine(PasswordCheckerREGEX(goodPassword));"
   ]
  },
  {
   "cell_type": "markdown",
   "metadata": {},
   "source": [
    "<hr>"
   ]
  },
  {
   "cell_type": "markdown",
   "metadata": {},
   "source": [
    "### *Initial Brainstorming - Testing Linq with char array*"
   ]
  },
  {
   "cell_type": "code",
   "execution_count": 8,
   "metadata": {
    "dotnet_interactive": {
     "language": "csharp"
    },
    "polyglot_notebook": {
     "kernelName": "csharp"
    }
   },
   "outputs": [
    {
     "name": "stdout",
     "output_type": "stream",
     "text": [
      "20\r\n"
     ]
    }
   ],
   "source": [
    "Console.WriteLine(goodPassword.Length);"
   ]
  },
  {
   "cell_type": "code",
   "execution_count": 10,
   "metadata": {
    "dotnet_interactive": {
     "language": "csharp"
    },
    "polyglot_notebook": {
     "kernelName": "csharp"
    }
   },
   "outputs": [
    {
     "name": "stdout",
     "output_type": "stream",
     "text": [
      "i\n",
      "A\n",
      "m\n",
      "A\n",
      "v\n",
      "E\n",
      "R\n",
      "y\n",
      "!\n",
      "s\n",
      "E\n",
      "C\n",
      "u\n",
      "r\n",
      "e\n",
      "1\n",
      "2\n",
      "3\n",
      "!\n",
      "7\n"
     ]
    }
   ],
   "source": [
    "char[] goodPassword_split = goodPassword.ToCharArray();\n",
    "\n",
    "\n",
    "foreach (char c in goodPassword_split) {\n",
    "    Console.WriteLine(c);\n",
    "}"
   ]
  },
  {
   "cell_type": "code",
   "execution_count": 12,
   "metadata": {
    "dotnet_interactive": {
     "language": "csharp"
    },
    "polyglot_notebook": {
     "kernelName": "csharp"
    }
   },
   "outputs": [
    {
     "name": "stdout",
     "output_type": "stream",
     "text": [
      "A\n",
      "A\n"
     ]
    }
   ],
   "source": [
    "var query = from c in goodPassword_split\n",
    "            where c == 'A'\n",
    "            select c;\n",
    "\n",
    "foreach (var c1 in query) {\n",
    "    Console.WriteLine(c1);\n",
    "}"
   ]
  },
  {
   "cell_type": "code",
   "execution_count": 13,
   "metadata": {
    "dotnet_interactive": {
     "language": "csharp"
    },
    "polyglot_notebook": {
     "kernelName": "csharp"
    }
   },
   "outputs": [
    {
     "name": "stdout",
     "output_type": "stream",
     "text": [
      "A\n",
      "A\n",
      "E\n",
      "R\n",
      "!\n",
      "E\n",
      "C\n",
      "1\n",
      "2\n",
      "3\n",
      "!\n",
      "7\n"
     ]
    }
   ],
   "source": [
    "var query1 = goodPassword_split.Where(c2 => c2.ToString().ToUpper() == c2.ToString());\n",
    "\n",
    "foreach (var c3 in query1) {\n",
    "    Console.WriteLine(c3);\n",
    "}"
   ]
  }
 ],
 "metadata": {
  "kernelspec": {
   "display_name": ".NET (C#)",
   "language": "C#",
   "name": ".net-csharp"
  },
  "language_info": {
   "name": "polyglot-notebook"
  },
  "orig_nbformat": 4,
  "polyglot_notebook": {
   "kernelInfo": {
    "defaultKernelName": "csharp",
    "items": [
     {
      "aliases": [],
      "name": "csharp"
     }
    ]
   }
  }
 },
 "nbformat": 4,
 "nbformat_minor": 2
}
