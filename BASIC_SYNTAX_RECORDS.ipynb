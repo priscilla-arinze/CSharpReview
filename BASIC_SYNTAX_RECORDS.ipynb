{
 "cells": [
  {
   "attachments": {},
   "cell_type": "markdown",
   "metadata": {},
   "source": [
    "# RECORDS\n",
    "\n",
    "*A reference type (like a class or struct) that uses __value-based__ equality, rather than __referential memory-based__ equality like with classes.*"
   ]
  },
  {
   "attachments": {},
   "cell_type": "markdown",
   "metadata": {},
   "source": [
    "## Random Notes\n",
    "* Consider using a record in place of a class or struct in the following scenarios:\n",
    "    * You want to define a data model / object that depends on value-based equality.\n",
    "    * You want to define a type for which objects are immutable.\n",
    "        * This can be useful for thread-safe and/or hashable data models\n",
    "        * Also allows for positional parameter usage\n",
    "* A record can inherit from another record, but cannot inherit from a class (and vice versa)\n",
    "\n",
    "\n",
    "Additional Resources:\n",
    "* [Records in C#: Microsoft Documentation](https://learn.microsoft.com/en-us/dotnet/csharp/fundamentals/types/records)\n",
    "* [Records in C# (CodeMaze)](https://code-maze.com/csharp-records/)\n"
   ]
  },
  {
   "attachments": {},
   "cell_type": "markdown",
   "metadata": {},
   "source": [
    "### Basic Syntax:"
   ]
  },
  {
   "cell_type": "code",
   "execution_count": 1,
   "metadata": {
    "vscode": {
     "languageId": "polyglot-notebook"
    }
   },
   "outputs": [],
   "source": [
    "public record Person(string FirstName, string LastName);\n",
    "\n",
    "\n",
    "// SAME AS ABOVE: \n",
    "/*\n",
    "    public record class Person\n",
    "    {\n",
    "        public Person(string firstName, string lastName)\n",
    "        {\n",
    "            FirstName = firstName;\n",
    "            LastName = lastName;\n",
    "        }\n",
    "    }\n",
    "*/\n",
    "\n",
    "\n",
    "//// OR\n",
    "\n",
    "\n",
    "/*\n",
    "    public record struct Person {...}\n",
    "*/"
   ]
  },
  {
   "attachments": {},
   "cell_type": "markdown",
   "metadata": {},
   "source": [
    "### Value-based equality:"
   ]
  },
  {
   "cell_type": "code",
   "execution_count": 2,
   "metadata": {
    "dotnet_interactive": {
     "language": "csharp"
    },
    "polyglot_notebook": {
     "kernelName": "csharp"
    },
    "vscode": {
     "languageId": "polyglot-notebook"
    }
   },
   "outputs": [
    {
     "name": "stdout",
     "output_type": "stream",
     "text": [
      "Person1 == Person2? False\n",
      "Person1 == Person4? True\n"
     ]
    }
   ],
   "source": [
    "var person1 = new Person(\"Spongebob\", \"Squarepants\");\n",
    "var person2 = new Person(\"Sandy\", \"Cheeks\");\n",
    "var person3 = new Person(\"Squidward\", \"Tentacles\");\n",
    "var person4 = new Person(\"Spongebob\", \"Squarepants\");\n",
    "\n",
    "Console.WriteLine($\"Person1 == Person2? {person1 == person2}\");\n",
    "Console.WriteLine($\"Person1 == Person4? {person1 == person4}\");"
   ]
  },
  {
   "attachments": {},
   "cell_type": "markdown",
   "metadata": {},
   "source": [
    "^^^ For class instances, those two equality statements would evaluate to `False` no matter what, unless it is the actual class instance in memory"
   ]
  },
  {
   "cell_type": "code",
   "execution_count": 7,
   "metadata": {
    "dotnet_interactive": {
     "language": "csharp"
    },
    "polyglot_notebook": {
     "kernelName": "csharp"
    },
    "vscode": {
     "languageId": "polyglot-notebook"
    }
   },
   "outputs": [
    {
     "name": "stdout",
     "output_type": "stream",
     "text": [
      "Person1 == Person4 (IN-MEMORY)? False\r\n"
     ]
    }
   ],
   "source": [
    "Console.WriteLine($\"Person1 == Person4 (IN-MEMORY)? {Object.ReferenceEquals(person1, person2)}\");"
   ]
  },
  {
   "attachments": {},
   "cell_type": "markdown",
   "metadata": {},
   "source": [
    "### Immutability:\n",
    "\n",
    "*attempting to change any record's properties after its been instantiated will result in an error*"
   ]
  },
  {
   "cell_type": "code",
   "execution_count": 11,
   "metadata": {
    "dotnet_interactive": {
     "language": "csharp"
    },
    "polyglot_notebook": {
     "kernelName": "csharp"
    },
    "vscode": {
     "languageId": "polyglot-notebook"
    }
   },
   "outputs": [
    {
     "ename": "Error",
     "evalue": "(3,1): error CS8852: Init-only property or indexer 'Person.FirstName' can only be assigned in an object initializer, or on 'this' or 'base' in an instance constructor or an 'init' accessor.",
     "output_type": "error",
     "traceback": [
      "(3,1): error CS8852: Init-only property or indexer 'Person.FirstName' can only be assigned in an object initializer, or on 'this' or 'base' in an instance constructor or an 'init' accessor."
     ]
    }
   ],
   "source": [
    "Console.WriteLine($\"ORIGINAL: {person1}\");\n",
    "\n",
    "person1.FirstName = \"Patrick\";"
   ]
  },
  {
   "attachments": {},
   "cell_type": "markdown",
   "metadata": {},
   "source": [
    "You can make a copy of the immutable record object using the `with` keyword:"
   ]
  },
  {
   "cell_type": "code",
   "execution_count": 9,
   "metadata": {
    "dotnet_interactive": {
     "language": "csharp"
    },
    "polyglot_notebook": {
     "kernelName": "csharp"
    },
    "vscode": {
     "languageId": "polyglot-notebook"
    }
   },
   "outputs": [
    {
     "name": "stdout",
     "output_type": "stream",
     "text": [
      "ORIGINAL: Person { FirstName = Sandy, LastName = Cheeks }\n",
      "COPY (modified): Person { FirstName = Squidward, LastName = Cheeks }\n"
     ]
    }
   ],
   "source": [
    "Console.WriteLine($\"ORIGINAL: {person2}\");\n",
    "\n",
    "person2 = person2 with { FirstName = \"Squidward\" };\n",
    "\n",
    "Console.WriteLine($\"COPY (modified): {person2}\");"
   ]
  },
  {
   "cell_type": "code",
   "execution_count": 10,
   "metadata": {
    "dotnet_interactive": {
     "language": "csharp"
    },
    "polyglot_notebook": {
     "kernelName": "csharp"
    },
    "vscode": {
     "languageId": "polyglot-notebook"
    }
   },
   "outputs": [
    {
     "name": "stdout",
     "output_type": "stream",
     "text": [
      "ORIGINAL: Person { FirstName = Squidward, LastName = Tentacles }\n",
      "COPY (modified): Person { FirstName = Spongebob, LastName = Squarepants }\n"
     ]
    }
   ],
   "source": [
    "Console.WriteLine($\"ORIGINAL: {person3}\");\n",
    "\n",
    "person3 = person1 with { };\n",
    "\n",
    "Console.WriteLine($\"COPY (modified): {person3}\");"
   ]
  },
  {
   "attachments": {},
   "cell_type": "markdown",
   "metadata": {},
   "source": [
    "### Inheritance:\n",
    "\n",
    "*records can only inherit from other records, not classes or structs (and vice versa)*"
   ]
  },
  {
   "cell_type": "code",
   "execution_count": 12,
   "metadata": {
    "dotnet_interactive": {
     "language": "csharp"
    },
    "polyglot_notebook": {
     "kernelName": "csharp"
    },
    "vscode": {
     "languageId": "polyglot-notebook"
    }
   },
   "outputs": [],
   "source": [
    "public record Employee(string FirstName, string LastName, string Job) : Person(FirstName, LastName);"
   ]
  },
  {
   "cell_type": "code",
   "execution_count": 13,
   "metadata": {
    "dotnet_interactive": {
     "language": "csharp"
    },
    "polyglot_notebook": {
     "kernelName": "csharp"
    },
    "vscode": {
     "languageId": "polyglot-notebook"
    }
   },
   "outputs": [
    {
     "name": "stdout",
     "output_type": "stream",
     "text": [
      "Employee { FirstName = Spongebob, LastName = Squarepants, Job = Fry Cook }\r\n"
     ]
    }
   ],
   "source": [
    "var employee1 = new Employee(\"Spongebob\", \"Squarepants\", \"Fry Cook\");\n",
    "\n",
    "Console.WriteLine(employee1);"
   ]
  }
 ],
 "metadata": {
  "language_info": {
   "name": "python"
  },
  "orig_nbformat": 4
 },
 "nbformat": 4,
 "nbformat_minor": 2
}
