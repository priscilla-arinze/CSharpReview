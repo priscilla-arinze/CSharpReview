{
 "cells": [
  {
   "cell_type": "markdown",
   "metadata": {},
   "source": [
    "# COLLECTIONS (KEY VALUE PAIRS) -- SORTEDLIST"
   ]
  },
  {
   "cell_type": "markdown",
   "metadata": {},
   "source": [
    "## Non-Generic (`SortedList`)\n",
    "\n",
    "__Considerations:__\n",
    "* Pretty much like the non-generic `Hashtable`, but with sorted keys\n",
    "* Slower lookup time complexity *[O(log n)]* compared to `Hashtable` & `Dictionary<TKey,TValue>` *[O(1)]*\n",
    "* Duplicate keys are not allowed, an exception is thrown if attempting to add a duplicate key"
   ]
  },
  {
   "cell_type": "code",
   "execution_count": null,
   "metadata": {},
   "outputs": [],
   "source": []
  },
  {
   "cell_type": "markdown",
   "metadata": {},
   "source": [
    "## Generic (`SortedList<TKey,TValue>`)\n",
    "\n",
    "__Considerations:__\n",
    "* Pretty much like the generic `Dictionary<TKey,TValue>`, but with sorted keys"
   ]
  },
  {
   "cell_type": "code",
   "execution_count": null,
   "metadata": {},
   "outputs": [],
   "source": []
  }
 ],
 "metadata": {
  "language_info": {
   "name": "python"
  },
  "orig_nbformat": 4
 },
 "nbformat": 4,
 "nbformat_minor": 2
}
