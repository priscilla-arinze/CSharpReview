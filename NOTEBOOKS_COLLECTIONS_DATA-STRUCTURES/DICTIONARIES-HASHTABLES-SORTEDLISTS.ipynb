{
 "cells": [
  {
   "cell_type": "markdown",
   "metadata": {},
   "source": [
    "# COLLECTIONS (KEY VALUE PAIRS) -- DICTIONARIES / HASHTABLES / SORTEDLISTS"
   ]
  },
  {
   "cell_type": "markdown",
   "metadata": {},
   "source": [
    "## Non-Generic (`Hashtable`)\n",
    "\n",
    "__Considerations:__\n",
    "* Each key-value pair entry is a `DictionaryEntry` object\n",
    "* No strict type-safety, so keys and values may require explicit casting and may have to undergo boxing/unboxing operations, making it have slower performance and higher memory usage\n",
    "    * relative to generic key-value pair collections (`Dictionary<TKey,TValue>`, `SortedList<TKey,TValue`)\n",
    "* Entries are stored & ordered by the key's hash code, so they might not be printed in the same order that they were added (like dictionaries)\n",
    "* Duplicate keys are not allowed, an exception will be thrown for any attempt to add a duplicate key\n",
    "* Thread-safe, regardless if static member or not\n",
    "* Will return `null` if attempting to access a key that doesn't exist"
   ]
  },
  {
   "cell_type": "code",
   "execution_count": 1,
   "metadata": {
    "dotnet_interactive": {
     "language": "csharp"
    },
    "polyglot_notebook": {
     "kernelName": "csharp"
    },
    "vscode": {
     "languageId": "polyglot-notebook"
    }
   },
   "outputs": [],
   "source": [
    "using System.Collections;"
   ]
  },
  {
   "cell_type": "markdown",
   "metadata": {},
   "source": [
    "### Hashtable Declaration"
   ]
  },
  {
   "cell_type": "code",
   "execution_count": 3,
   "metadata": {
    "dotnet_interactive": {
     "language": "csharp"
    },
    "polyglot_notebook": {
     "kernelName": "csharp"
    },
    "vscode": {
     "languageId": "polyglot-notebook"
    }
   },
   "outputs": [],
   "source": [
    "Hashtable cars = new Hashtable();"
   ]
  },
  {
   "cell_type": "markdown",
   "metadata": {},
   "source": [
    "### Hashtable Intialization"
   ]
  },
  {
   "cell_type": "code",
   "execution_count": 6,
   "metadata": {
    "dotnet_interactive": {
     "language": "csharp"
    },
    "polyglot_notebook": {
     "kernelName": "csharp"
    },
    "vscode": {
     "languageId": "polyglot-notebook"
    }
   },
   "outputs": [
    {
     "name": "stdout",
     "output_type": "stream",
     "text": [
      "Key: nissan, Value: altima\n",
      "Key: ford, Value: expedition\n",
      "Key: toyota, Value: corolla\n",
      "\n",
      "\n",
      "Key: nissan, Value: altima\n",
      "Key: ford, Value: expedition\n",
      "Key: toyota, Value: corolla\n"
     ]
    }
   ],
   "source": [
    "Hashtable cars2 = new Hashtable();\n",
    "cars2.Add(\"toyota\", \"corolla\");\n",
    "cars2.Add(\"ford\", \"expedition\");\n",
    "cars2.Add(\"nissan\", \"altima\");\n",
    "\n",
    "foreach(DictionaryEntry car in cars2)\n",
    "    Console.WriteLine(\"Key: {0}, Value: {1}\", car.Key, car.Value); \n",
    "\n",
    "// OR\n",
    "Console.WriteLine(\"\\n\");\n",
    "\n",
    "Hashtable cars3 = new Hashtable()\n",
    "{\n",
    "    {\"toyota\", \"corolla\"},\n",
    "    {\"ford\", \"expedition\"},\n",
    "    {\"nissan\", \"altima\"}\n",
    "};\n",
    "\n",
    "foreach(DictionaryEntry car in cars3)\n",
    "    Console.WriteLine(\"Key: {0}, Value: {1}\", car.Key, car.Value); \n"
   ]
  },
  {
   "cell_type": "markdown",
   "metadata": {},
   "source": [
    "### Hashtable Value Modification"
   ]
  },
  {
   "cell_type": "code",
   "execution_count": 7,
   "metadata": {
    "dotnet_interactive": {
     "language": "csharp"
    },
    "polyglot_notebook": {
     "kernelName": "csharp"
    },
    "vscode": {
     "languageId": "polyglot-notebook"
    }
   },
   "outputs": [
    {
     "name": "stdout",
     "output_type": "stream",
     "text": [
      "Key: nissan, Value: altima\n",
      "Key: ford, Value: focus\n",
      "Key: toyota, Value: camry\n"
     ]
    }
   ],
   "source": [
    "Hashtable cars4 = new Hashtable()\n",
    "{\n",
    "    {\"toyota\", \"corolla\"},\n",
    "    {\"ford\", \"expedition\"},\n",
    "    {\"nissan\", \"altima\"}\n",
    "};\n",
    "\n",
    "cars4[\"toyota\"] = \"camry\";\n",
    "cars4[\"ford\"] = \"focus\";\n",
    "\n",
    "foreach(DictionaryEntry car in cars4)\n",
    "    Console.WriteLine(\"Key: {0}, Value: {1}\", car.Key, car.Value); "
   ]
  },
  {
   "cell_type": "markdown",
   "metadata": {},
   "source": [
    "<hr>"
   ]
  },
  {
   "cell_type": "markdown",
   "metadata": {},
   "source": [
    "## `SortedList` (non-generic): Very similar to `Hashtable`, but sorted\n",
    "\n",
    "__Considerations:__\n",
    "* Pretty much like the non-generic `Hashtable`, but with sorted keys \n",
    "    * Value types are sorted in ascending order, reference types are sorted using the `IComparer<T>` interface implementation\n",
    "* Entries retain their order, unlike `Hashtable`\n",
    "* Because of the sorting, slower lookup time complexity *[O(log n)]* compared to `Hashtable` & `Dictionary<TKey,TValue>` *[O(1)]*\n",
    "* Duplicate keys are not allowed, but attempting to add duplicate keys will overwrite the current value of that key (no exception is thrown)"
   ]
  },
  {
   "cell_type": "code",
   "execution_count": 90,
   "metadata": {
    "dotnet_interactive": {
     "language": "csharp"
    },
    "polyglot_notebook": {
     "kernelName": "csharp"
    },
    "vscode": {
     "languageId": "polyglot-notebook"
    }
   },
   "outputs": [
    {
     "name": "stdout",
     "output_type": "stream",
     "text": [
      "KEY == CST, VALUE == Central Standard Time\n",
      "KEY == EST, VALUE == Eastern Standard Time\n",
      "KEY == MT, VALUE == Mountain Standard Time\n",
      "KEY == PST, VALUE == Pacific Standard Time\n"
     ]
    }
   ],
   "source": [
    "SortedList timezones = new SortedList()\n",
    "{\n",
    "    {\"PST\", \"Pacific Standard Time\"},\n",
    "    {\"CST\", \"Central Standard Time\"},\n",
    "    {\"MT\", \"Mountain Standard Time\"},\n",
    "    {\"EST\", \"Eastern Standard Time\"},\n",
    "};\n",
    "\n",
    "foreach(DictionaryEntry timezone in timezones)\n",
    "    Console.WriteLine($\"KEY == {timezone.Key}, VALUE == {timezone.Value}\");"
   ]
  },
  {
   "cell_type": "markdown",
   "metadata": {},
   "source": [
    "<hr>"
   ]
  },
  {
   "cell_type": "markdown",
   "metadata": {},
   "source": [
    "## Hashtable (or SortedList) Methods/Properties"
   ]
  },
  {
   "cell_type": "markdown",
   "metadata": {},
   "source": [
    "### `.Count` property: returns number of entries in hashtable"
   ]
  },
  {
   "cell_type": "code",
   "execution_count": 89,
   "metadata": {
    "dotnet_interactive": {
     "language": "csharp"
    },
    "polyglot_notebook": {
     "kernelName": "csharp"
    },
    "vscode": {
     "languageId": "polyglot-notebook"
    }
   },
   "outputs": [
    {
     "name": "stdout",
     "output_type": "stream",
     "text": [
      "3\r\n"
     ]
    }
   ],
   "source": [
    "Hashtable cars5 = new Hashtable()\n",
    "{\n",
    "    {\"toyota\", \"corolla\"},\n",
    "    {\"ford\", \"expedition\"},\n",
    "    {\"nissan\", \"altima\"}\n",
    "}; \n",
    "\n",
    "Console.WriteLine(cars5.Count);"
   ]
  },
  {
   "cell_type": "markdown",
   "metadata": {},
   "source": [
    "### `.Keys` property: returns a collection of all of the keys in hashtable\n",
    "\n",
    "*NOTE: Return type is an `ICollection`*"
   ]
  },
  {
   "cell_type": "code",
   "execution_count": 84,
   "metadata": {
    "dotnet_interactive": {
     "language": "csharp"
    },
    "polyglot_notebook": {
     "kernelName": "csharp"
    },
    "vscode": {
     "languageId": "polyglot-notebook"
    }
   },
   "outputs": [
    {
     "name": "stdout",
     "output_type": "stream",
     "text": [
      "COL\n",
      "NYR\n",
      "DAL\n",
      "WPG\n"
     ]
    }
   ],
   "source": [
    "Hashtable nhlteams = new Hashtable()\n",
    "{\n",
    "    {\"COL\", \"colorado avalanche\"},\n",
    "    {\"WPG\", \"winnipeg jets\"},\n",
    "    {\"DAL\", \"dallas stars\"},\n",
    "    {\"NYR\", \"new york rangers\"},\n",
    "};\n",
    "\n",
    "foreach(string team in nhlteams.Keys)\n",
    "    Console.WriteLine(team);"
   ]
  },
  {
   "cell_type": "markdown",
   "metadata": {},
   "source": [
    "### `.Values` property: returns an collection of all of the values in hashtable\n",
    "\n",
    "*NOTE: Return type is an `ICollection`*"
   ]
  },
  {
   "cell_type": "code",
   "execution_count": 88,
   "metadata": {
    "dotnet_interactive": {
     "language": "csharp"
    },
    "polyglot_notebook": {
     "kernelName": "csharp"
    },
    "vscode": {
     "languageId": "polyglot-notebook"
    }
   },
   "outputs": [
    {
     "name": "stdout",
     "output_type": "stream",
     "text": [
      "colorado avalanche\n",
      "new york rangers\n",
      "dallas stars\n",
      "winnipeg jets\n"
     ]
    }
   ],
   "source": [
    "Hashtable nhlteams2 = new Hashtable()\n",
    "{\n",
    "    {\"COL\", \"colorado avalanche\"},\n",
    "    {\"WPG\", \"winnipeg jets\"},\n",
    "    {\"DAL\", \"dallas stars\"},\n",
    "    {\"NYR\", \"new york rangers\"},\n",
    "};\n",
    "\n",
    "foreach(string team in nhlteams2.Values)\n",
    "    Console.WriteLine(team);"
   ]
  },
  {
   "cell_type": "markdown",
   "metadata": {},
   "source": [
    "### `.ContainsKey()`: returns boolean if given key exists in hashtable"
   ]
  },
  {
   "cell_type": "code",
   "execution_count": 9,
   "metadata": {
    "dotnet_interactive": {
     "language": "csharp"
    },
    "polyglot_notebook": {
     "kernelName": "csharp"
    },
    "vscode": {
     "languageId": "polyglot-notebook"
    }
   },
   "outputs": [
    {
     "name": "stdout",
     "output_type": "stream",
     "text": [
      "Does the hashtable contain 'bread'? True\n",
      "Does the hashtable contain 'dessert'? False\n"
     ]
    }
   ],
   "source": [
    "Hashtable food = new Hashtable()\n",
    "{\n",
    "    {\"bread\", \"baguette\"},\n",
    "    {\"fruit\", \"blackberries\"},\n",
    "    {\"vegetable\", \"celery\"}\n",
    "};\n",
    "\n",
    "Console.WriteLine($\"Does the hashtable contain 'bread' key? {food.ContainsKey(\"bread\")}\");\n",
    "Console.WriteLine($\"Does the hashtable contain 'dessert' key? {food.ContainsKey(\"dessert\")}\");"
   ]
  },
  {
   "cell_type": "markdown",
   "metadata": {},
   "source": [
    "### `.ContainsValue()`: returns boolean if given value exists in hashtable"
   ]
  },
  {
   "cell_type": "code",
   "execution_count": 10,
   "metadata": {
    "dotnet_interactive": {
     "language": "csharp"
    },
    "polyglot_notebook": {
     "kernelName": "csharp"
    },
    "vscode": {
     "languageId": "polyglot-notebook"
    }
   },
   "outputs": [
    {
     "name": "stdout",
     "output_type": "stream",
     "text": [
      "Does the hashtable contain 'celery' value? True\n",
      "Does the hashtable contain 'concrete' value? False\n"
     ]
    }
   ],
   "source": [
    "Hashtable food2 = new Hashtable()\n",
    "{\n",
    "    {\"bread\", \"baguette\"},\n",
    "    {\"fruit\", \"blackberries\"},\n",
    "    {\"vegetable\", \"celery\"}\n",
    "};\n",
    "\n",
    "Console.WriteLine($\"Does the hashtable contain 'celery' value? {food.ContainsValue(\"celery\")}\");\n",
    "Console.WriteLine($\"Does the hashtable contain 'concrete' value? {food.ContainsValue(\"concrete\")}\");"
   ]
  },
  {
   "cell_type": "markdown",
   "metadata": {},
   "source": [
    "### `.Clear()`: removes all entries in hashtable"
   ]
  },
  {
   "cell_type": "code",
   "execution_count": 14,
   "metadata": {
    "dotnet_interactive": {
     "language": "csharp"
    },
    "polyglot_notebook": {
     "kernelName": "csharp"
    },
    "vscode": {
     "languageId": "polyglot-notebook"
    }
   },
   "outputs": [
    {
     "name": "stdout",
     "output_type": "stream",
     "text": [
      "Before clearing elements:\n",
      "Key: charlotte, Value: north carolina\n",
      "Key: albany, Value: new york\n",
      "Key: atlanta, Value: georgia\n",
      "Key: las vegas, Value: nevada\n",
      "\n",
      "After clearing elements:\n"
     ]
    }
   ],
   "source": [
    "Hashtable cities2 = new Hashtable()\n",
    "{\n",
    "    {\"atlanta\", \"georgia\"},\n",
    "    {\"charlotte\", \"north carolina\"},\n",
    "    {\"las vegas\", \"nevada\"},\n",
    "    {\"albany\", \"new york\"},\n",
    "};\n",
    "\n",
    "Console.WriteLine(\"Before clearing elements:\");\n",
    "foreach(DictionaryEntry city in cities2)\n",
    "    Console.WriteLine(\"Key: {0}, Value: {1}\", city.Key, city.Value); \n",
    "\n",
    "cities.Clear();\n",
    "\n",
    "\n",
    "Console.WriteLine(\"\\nAfter clearing elements:\");\n",
    "foreach(DictionaryEntry city in cities)\n",
    "    Console.WriteLine(\"Key: {0}, Value: {1}\", city.Key, city.Value); "
   ]
  },
  {
   "cell_type": "markdown",
   "metadata": {},
   "source": [
    "### `.Clone()`: returns a shallow copy of the given hashtable\n",
    "\n",
    "*NOTE: \"shallow\" as in, reference types elements (NOT value type elements) in both the original and new hashtables will continue to have the same reference, so modifications made in one hashtable will affect the other.*"
   ]
  },
  {
   "cell_type": "markdown",
   "metadata": {},
   "source": [
    "*Value type elements:*"
   ]
  },
  {
   "cell_type": "code",
   "execution_count": 76,
   "metadata": {
    "dotnet_interactive": {
     "language": "csharp"
    },
    "polyglot_notebook": {
     "kernelName": "csharp"
    },
    "vscode": {
     "languageId": "polyglot-notebook"
    }
   },
   "outputs": [
    {
     "name": "stdout",
     "output_type": "stream",
     "text": [
      "Original hashtable:\n",
      "Key: COL, Value: colorado avalanche\n",
      "Key: NYR, Value: new york rangers\n",
      "Key: DAL, Value: dallas stars\n",
      "Key: WPG, Value: winnipeg jets\n",
      "\n",
      "Cloned hashtable:\n",
      "Key: COL, Value: colorado avalanche\n",
      "Key: NYR, Value: new york rangers\n",
      "Key: DAL, Value: dallas stars\n",
      "Key: WPG, Value: winnipeg jets\n"
     ]
    }
   ],
   "source": [
    "Hashtable nhlteams3 = new Hashtable()\n",
    "{\n",
    "    {\"COL\", \"colorado avalanche\"},\n",
    "    {\"WPG\", \"winnipeg jets\"},\n",
    "    {\"DAL\", \"dallas stars\"},\n",
    "    {\"NYR\", \"new york rangers\"},\n",
    "};\n",
    "\n",
    "Console.WriteLine(\"Original hashtable:\");\n",
    "foreach(DictionaryEntry team in nhlteams3)\n",
    "    Console.WriteLine(\"Key: {0}, Value: {1}\", team.Key, team.Value); \n",
    "\n",
    "\n",
    "Hashtable nhlteams3_cloned = (Hashtable)nhlteams3.Clone();\n",
    "\n",
    "\n",
    "Console.WriteLine(\"\\nCloned hashtable:\");\n",
    "foreach(DictionaryEntry team in nhlteams3_cloned)\n",
    "    Console.WriteLine(\"Key: {0}, Value: {1}\", team.Key, team.Value); "
   ]
  },
  {
   "cell_type": "markdown",
   "metadata": {},
   "source": [
    "*Reference type elements:*"
   ]
  },
  {
   "cell_type": "code",
   "execution_count": 2,
   "metadata": {
    "dotnet_interactive": {
     "language": "csharp"
    },
    "polyglot_notebook": {
     "kernelName": "csharp"
    },
    "vscode": {
     "languageId": "polyglot-notebook"
    }
   },
   "outputs": [
    {
     "name": "stdout",
     "output_type": "stream",
     "text": [
      "Original hashtable:\n",
      "KEY == spongebob, VALUE == First Name: spongebob, Last Name: squarepants, Major: hospitality\n",
      "KEY == eugene, VALUE == First Name: eugene, Last Name: krabs, Major: finance\n",
      "KEY == squidward, VALUE == First Name: squidward, Last Name: tentacles, Major: music\n",
      "KEY == sandy, VALUE == First Name: sandy, Last Name: cheeks, Major: physics\n",
      "\n",
      "Modifying only the cloned hashtable...\n",
      "\n",
      "Original hashtable (MODIFIED):\n",
      "KEY == spongebob, VALUE == First Name: SPONGEBOB, Last Name: SQUAREPANTS, Major: hospitality\n",
      "KEY == eugene, VALUE == First Name: eugene, Last Name: krabs, Major: finance\n",
      "KEY == squidward, VALUE == First Name: squidward, Last Name: tentacles, Major: music\n",
      "KEY == sandy, VALUE == First Name: sandy, Last Name: cheeks, Major: physics\n",
      "\n",
      "Cloned hashtable (MODIFIED):\n",
      "KEY == spongebob, VALUE == First Name: SPONGEBOB, Last Name: SQUAREPANTS, Major: hospitality\n",
      "KEY == sandy, VALUE == First Name: sandy, Last Name: cheeks, Major: physics\n",
      "KEY == squidward, VALUE == First Name: squidward, Last Name: tentacles, Major: music\n",
      "KEY == eugene, VALUE == First Name: eugene, Last Name: krabs, Major: finance\n"
     ]
    }
   ],
   "source": [
    "internal class Student\n",
    "{\n",
    "    public string FirstName { get; set; }\n",
    "    public string LastName { get; set; }\n",
    "    public string FieldOfStudy { get; set; }\n",
    "    \n",
    "    public override string ToString()\n",
    "    {\n",
    "        return $\"First Name: {FirstName}, Last Name: {LastName}, Major: {FieldOfStudy}\";\n",
    "    }\n",
    "}\n",
    "\n",
    "Hashtable students = new Hashtable()\n",
    "{\n",
    "    {\"spongebob\", new Student(){FirstName=\"spongebob\", LastName=\"squarepants\", FieldOfStudy=\"hospitality\"}},\n",
    "    {\"sandy\", new Student(){FirstName=\"sandy\", LastName=\"cheeks\", FieldOfStudy=\"physics\"}},\n",
    "    {\"eugene\", new Student(){FirstName=\"eugene\", LastName=\"krabs\", FieldOfStudy=\"finance\"}},\n",
    "    {\"squidward\", new Student(){FirstName=\"squidward\", LastName=\"tentacles\", FieldOfStudy=\"music\"}}\n",
    "};\n",
    "\n",
    "\n",
    "Console.WriteLine(\"Original hashtable:\");\n",
    "foreach(DictionaryEntry student in students)\n",
    "    Console.WriteLine(\"KEY == {0}, VALUE == {1}\", student.Key, student.Value.ToString()); \n",
    "\n",
    "\n",
    "Hashtable students_cloned = (Hashtable)students.Clone();\n",
    "\n",
    "// modification in cloned hashtable that will affect both hashtables' reference type elements (Student class instances)\n",
    "Console.WriteLine(\"\\nModifying only the cloned hashtable...\");\n",
    "((Student)students_cloned[\"spongebob\"]).FirstName = \"SPONGEBOB\";\n",
    "((Student)students_cloned[\"spongebob\"]).LastName = \"SQUAREPANTS\";\n",
    "\n",
    "\n",
    "Console.WriteLine(\"\\nOriginal hashtable (MODIFIED):\");\n",
    "foreach(DictionaryEntry student in students)\n",
    "    Console.WriteLine(\"KEY == {0}, VALUE == {1}\", student.Key, student.Value.ToString()); \n",
    "\n",
    "\n",
    "Console.WriteLine(\"\\nCloned hashtable (MODIFIED):\");\n",
    "foreach(DictionaryEntry student in students_cloned)\n",
    "    Console.WriteLine(\"KEY == {0}, VALUE == {1}\", student.Key, student.Value.ToString()); "
   ]
  },
  {
   "cell_type": "markdown",
   "metadata": {},
   "source": [
    "<hr>\n",
    "<hr>"
   ]
  },
  {
   "cell_type": "markdown",
   "metadata": {},
   "source": [
    "## Generic (3 very similar types w/ important considerations): \n",
    "__GENERAL CONSIDERATIONS FOR ALL 3:__\n",
    "* Each key-value pair entry is a `KeyValuePair<TKey, TValue>` object\n",
    "* Like `Hashtable`, entries are stored & ordered by the key's hash code, so they might not be printed in the same order that they were added\n",
    "* Strict type-safety for both key and value (`<TKey, TValue>`) & doesn't require boxing/unboxing operations unlike `Hashtable` and `SortedList` (non-generic)\n",
    "    * Higher performance, faster data retrieval and lower memory usage\n",
    "* __The above methods/properties (except `.Clone()`) for `Hashtable` is available for these three types__\n",
    "    * ADDITIONAL METHOD FOR ALL: `.TryGetValue()`\n",
    "\n",
    "<br>\n",
    "\n",
    "### `Dictionary<TKey,TValue>`\n",
    "__Considerations:__\n",
    "* Thread-safe only for public static members\n",
    "* Will throw an exception if attempting to access a key that doesn't exist\n",
    "\n",
    "<br>\n",
    "\n",
    "\n",
    "### `SortedDictionary<TKey,TValue>`\n",
    "__Considerations:__\n",
    "* Performs sorted with red-black (self-balancing) binary search tree (O(log n) time complexity)\n",
    "* Maintains sorted order\n",
    "* Duplicate keys are not allowed, an exception will be thrown for any attempt to add a duplicate key\n",
    "* Uses more memory than `SortedList<TKey,TValue>` \n",
    "    * primarily because binary search tree implementations require multiple lists/arrays\n",
    "* Faster element insertion & removal than `SortedList<TKey,TValue>`\n",
    "    * because binary search trees will ALWAYS maintain sorting with any insertion/removal\n",
    "* Slower retrieval than `SortedList<TKey,TValue>` because a binary search tree is used to perform the sorting and doesn't allow for easy indexing of nodes\n",
    "* __SUMMARY__:\n",
    "    * ADDITIONAL METHODS: \n",
    "        * `.CopyTo(KeyValuePair<TKey,TValue> collection)`\n",
    "    * Uses self-balancing binary search tree to perform sorting\n",
    "    * Adding duplicate key entries --> throws exception\n",
    "    * PROS:\n",
    "        * Faster insertions\n",
    "        * Faster removals\n",
    "    * CONS:\n",
    "        * Higher memory usage\n",
    "        * Lack of direct indexing\n",
    "\n",
    "\n",
    "<br>\n",
    "\n",
    "\n",
    "### `SortedList<TKey,TValue>`\n",
    "__Considerations:__\n",
    "* Performs sorting with array (O(n) time complexity)\n",
    "    * Value types are sorted in ascending order, reference types are sorted using the `IComparer<T>` interface implementation\n",
    "* Maintains sorted order\n",
    "* Duplicate keys are not allowed, but attempting to add duplicate keys will overwrite the current value of that key (no exception is thrown)\n",
    "* Uses less memory than `SortedDictionary<TKey,TValue>`\n",
    "    * primarily because it uses a single array vs multiple arrays (binary search tree)\n",
    "* Only once sorted, faster retrieval than `SortedDicionary<TKey,TValue>`, otherwise slow retrieval b/c of sorting\n",
    "    * Fast direct retrieval because an array is used to perform the sorting, allowing for easy indexing: `IndexOfKey()` and `IndexOfValue()` methods\n",
    "* Slower element insertion & removal than `SortedDictionary<TKey,TValue>`\n",
    "    * will maintain the sorting, but EACH insertion/removal may require another O(n) time complexity sorting operation\n",
    "* __SUMMARY__:\n",
    "    * ADDITIONAL METHODS: \n",
    "        * `.CopyTo(KeyValuePair<TKey,TValue> collection)`\n",
    "        * `.GetKeyAtIndex(int index)` --> `TKey`\n",
    "        * `.GetValueAtIndex(int index)` --> `TValue`\n",
    "        * `IndexOfKey(TKey)` --> `int index`\n",
    "        * `IndexOfValue(TValue)` --> `int index`\n",
    "        * `SetValueAtIndex(TValue)`\n",
    "    * Uses an array to perform sorting\n",
    "    * Adding duplicate key entries --> overwrites value\n",
    "    * PROS:\n",
    "        * Lower memory usage\n",
    "        * Direct element indexing\n",
    "    * CONS:\n",
    "        * Slower insertions\n",
    "        * Slower removals"
   ]
  },
  {
   "cell_type": "code",
   "execution_count": 15,
   "metadata": {
    "dotnet_interactive": {
     "language": "csharp"
    },
    "polyglot_notebook": {
     "kernelName": "csharp"
    },
    "vscode": {
     "languageId": "polyglot-notebook"
    }
   },
   "outputs": [
    {
     "name": "stdout",
     "output_type": "stream",
     "text": [
      "KEY == rice, VALUE == 4.99\n",
      "KEY == milk, VALUE == 2.99\n",
      "KEY == applesauce, VALUE == 1.99\n",
      "KEY == cereal, VALUE == 3.99\n",
      "KEY == bread, VALUE == 2.25\n",
      "\n",
      "OR:\n",
      "\n",
      "[rice, 4.99]\n",
      "[milk, 2.99]\n",
      "[applesauce, 1.99]\n",
      "[cereal, 3.99]\n",
      "[bread, 2.25]\n"
     ]
    }
   ],
   "source": [
    "Dictionary<string, double> groceries = new Dictionary<string, double>();  \n",
    "// OR: SortedDictionary<string, double> groceries = new SortedDictionary<string, double>();  \n",
    "// OR: SortedList<string, double> groceries = new SortedList<string, double>();  \n",
    "groceries.Add(\"rice\", 4.99);  \n",
    "groceries.Add(\"milk\", 2.99);  \n",
    "groceries.Add(\"applesauce\", 1.99);  \n",
    "groceries.Add(\"cereal\", 3.99);  \n",
    "groceries.Add(\"bread\", 2.25);\n",
    "\n",
    "\n",
    "// OR (collection initializer syntax)\n",
    "\n",
    "\n",
    "/*\n",
    "Dictionary<string, double> groceries = new Dictionary<string, double>()  \n",
    "{\n",
    "    {\"rice\", 4.99}, \n",
    "    {\"milk\", 2.99},\n",
    "    {\"applesauce\", 1.99}, \n",
    "    {\"cereal\", 3.99},\n",
    "    {\"bread\", 2.25}\n",
    "};\n",
    "*/\n",
    "\n",
    "foreach(KeyValuePair<string, double> grocery in groceries)\n",
    "    Console.WriteLine(\"KEY == {0}, VALUE == {1}\", grocery.Key, grocery.Value); \n",
    "\n",
    "Console.WriteLine(\"\\nOR:\\n\");\n",
    "foreach(KeyValuePair<string, double> grocery in groceries)\n",
    "    Console.WriteLine(grocery);"
   ]
  },
  {
   "cell_type": "markdown",
   "metadata": {},
   "source": [
    "### `.TryGetValue()`: Returns a boolean where it attempts to determine whether the given key exists\n",
    "\n",
    "*NOTE: the `out` variable that is passed in the parameter will be set to the given key's value if the key exists, or it remain set to the original/default value*"
   ]
  },
  {
   "cell_type": "code",
   "execution_count": 18,
   "metadata": {
    "dotnet_interactive": {
     "language": "csharp"
    },
    "polyglot_notebook": {
     "kernelName": "csharp"
    },
    "vscode": {
     "languageId": "polyglot-notebook"
    }
   },
   "outputs": [
    {
     "name": "stdout",
     "output_type": "stream",
     "text": [
      "Attempting to get the price for 'cereal': 3.99\n",
      "Attempting to get the price for 'concrete': 0\n"
     ]
    }
   ],
   "source": [
    "Dictionary<string, double> groceries2 = new Dictionary<string, double>()  \n",
    "// OR: SortedDictionary<string, double> groceries2 = new SortedDictionary<string, double>()  \n",
    "// OR: SortedList<string, double> groceries2 = new SortedList<string, double>()\n",
    "{\n",
    "    {\"rice\", 4.99}, \n",
    "    {\"milk\", 2.99},\n",
    "    {\"applesauce\", 1.99}, \n",
    "    {\"cereal\", 3.99},\n",
    "    {\"bread\", 2.25}\n",
    "};  \n",
    "\n",
    "\n",
    "double price;\n",
    "\n",
    "if(groceries2.TryGetValue(\"cereal\", out price))\n",
    "{\n",
    "    Console.WriteLine($\"Attempting to get the price for 'cereal': {price}\");\n",
    "}\n",
    "\n",
    "\n",
    "if(!(groceries2.TryGetValue(\"concrete\", out price)))\n",
    "{\n",
    "    Console.WriteLine($\"Attempting to get the price for 'concrete': {price}\");\n",
    "}\n"
   ]
  }
 ],
 "metadata": {
  "language_info": {
   "name": "python"
  },
  "orig_nbformat": 4
 },
 "nbformat": 4,
 "nbformat_minor": 2
}
