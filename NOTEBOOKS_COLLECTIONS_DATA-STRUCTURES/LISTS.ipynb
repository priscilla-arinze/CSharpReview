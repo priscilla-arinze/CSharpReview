{
 "cells": [
  {
   "cell_type": "markdown",
   "metadata": {},
   "source": [
    "# COLLECTIONS - LISTS"
   ]
  },
  {
   "cell_type": "markdown",
   "metadata": {},
   "source": [
    "## Non-Generic (`ArrayList`)\n",
    "\n",
    "__Considerations__:\n",
    "* Automatic dynamic re-sizing, unlike `Array`\n",
    "* This data structure was around pre .NET Framework 2.0, before generic `List<T>`\n",
    "* Does NOT have the luxury of type safety at compile time and it's non-generic\n",
    "    * Multiple different types can be added to the same `ArrayList()`, so be careful I guess because runtime errors *may* occur\n",
    "* Slower performance than arrays due to the whole lack of type safety at compile-time thing\n",
    "    * Because of this, it requires the CLR to go through boxing/unboxing operations using the base `Object` class\n",
    "    * Very similar to what the CLR have to do with the `dynamic` type\n",
    "    * __This and the lack of type safety is why it's NOT RECOMMENDED to use in lieu of `List<T>`__\n",
    "* Initializing, iterating, and indexing an `ArrayList()` are very similar to an `Array`\n",
    "* Similar to `Array`, an `ArrayList()` have the following methods: `ArrayList.Sort()`, `ArrayList.Reverse()`, `ArrayList.IndexOf()`, `ArrayList.Clear()`, etc.\n",
    "* You can convert a regular `Array` to an `ArrayList` object with the `.ToArray()` method"
   ]
  },
  {
   "cell_type": "code",
   "execution_count": 1,
   "metadata": {
    "dotnet_interactive": {
     "language": "csharp"
    },
    "polyglot_notebook": {
     "kernelName": "csharp"
    },
    "vscode": {
     "languageId": "polyglot-notebook"
    }
   },
   "outputs": [],
   "source": [
    "using System.Collections;"
   ]
  },
  {
   "cell_type": "markdown",
   "metadata": {},
   "source": [
    "### ArrayList Declaration"
   ]
  },
  {
   "cell_type": "code",
   "execution_count": 2,
   "metadata": {
    "dotnet_interactive": {
     "language": "csharp"
    },
    "polyglot_notebook": {
     "kernelName": "csharp"
    },
    "vscode": {
     "languageId": "polyglot-notebook"
    }
   },
   "outputs": [],
   "source": [
    "ArrayList randomData = new ArrayList();"
   ]
  },
  {
   "cell_type": "markdown",
   "metadata": {},
   "source": [
    "### ArrayList Initialization"
   ]
  },
  {
   "cell_type": "code",
   "execution_count": 3,
   "metadata": {
    "dotnet_interactive": {
     "language": "csharp"
    },
    "polyglot_notebook": {
     "kernelName": "csharp"
    },
    "vscode": {
     "languageId": "polyglot-notebook"
    }
   },
   "outputs": [],
   "source": [
    "ArrayList randomData2 = new ArrayList();\n",
    "\n",
    "randomData2.Add(\"stuff\");\n",
    "randomData2.Add(52);\n",
    "randomData2.Add(false);\n",
    "randomData2.Add(null);\n",
    "randomData2.Add(\"more stuff\");\n",
    "\n",
    "// OR\n",
    "\n",
    "ArrayList randomData3 = new ArrayList()\n",
    "{\n",
    "    \"stuff\", 52, false, null, \"more stuff\"\n",
    "};"
   ]
  },
  {
   "cell_type": "markdown",
   "metadata": {},
   "source": [
    "### ArrayList Element Indexing\n",
    "\n",
    "*NOTE: Each element inside an ArrayList is considered a type `Object`, so explicit casting is required to assign to a variable, or use `var`.*"
   ]
  },
  {
   "cell_type": "code",
   "execution_count": 6,
   "metadata": {
    "dotnet_interactive": {
     "language": "csharp"
    },
    "polyglot_notebook": {
     "kernelName": "csharp"
    },
    "vscode": {
     "languageId": "polyglot-notebook"
    }
   },
   "outputs": [],
   "source": [
    "ArrayList randomData4 = new ArrayList()\n",
    "{\n",
    "    \"stuff\", 52, false, null, \"more stuff\"\n",
    "};\n",
    "\n",
    "string stuff = (string) randomData4[0];\n",
    "var morestuff = randomData4[4];"
   ]
  },
  {
   "cell_type": "markdown",
   "metadata": {},
   "source": [
    "<hr>"
   ]
  },
  {
   "cell_type": "markdown",
   "metadata": {},
   "source": [
    "## ArrayList Methods/Properties"
   ]
  },
  {
   "cell_type": "markdown",
   "metadata": {},
   "source": [
    "### `.Count` property: displays number of elements in ArrayList"
   ]
  },
  {
   "cell_type": "code",
   "execution_count": 8,
   "metadata": {
    "dotnet_interactive": {
     "language": "csharp"
    },
    "polyglot_notebook": {
     "kernelName": "csharp"
    },
    "vscode": {
     "languageId": "polyglot-notebook"
    }
   },
   "outputs": [
    {
     "name": "stdout",
     "output_type": "stream",
     "text": [
      "5\r\n"
     ]
    }
   ],
   "source": [
    "ArrayList randomData5 = new ArrayList()\n",
    "{\n",
    "    \"stuff\", 52, false, null, \"more stuff\"\n",
    "};\n",
    "\n",
    "Console.WriteLine(randomData5.Count)"
   ]
  },
  {
   "cell_type": "markdown",
   "metadata": {},
   "source": [
    "### `.AddRange()`: add specified collection to the end of the ArrayList\n",
    "\n",
    "*NOTE: The `ICollection` parameter can be any collection (generic or non-generic), including arrays*"
   ]
  },
  {
   "cell_type": "code",
   "execution_count": 31,
   "metadata": {
    "dotnet_interactive": {
     "language": "csharp"
    },
    "polyglot_notebook": {
     "kernelName": "csharp"
    },
    "vscode": {
     "languageId": "polyglot-notebook"
    }
   },
   "outputs": [
    {
     "name": "stdout",
     "output_type": "stream",
     "text": [
      "Original ArrayList: 2, 4, concrete, 6, True, 8\n",
      "Array to be added to ArrayList: 1, 2, 3, 4\n",
      "Adding array to ArrayList...\n",
      "New ArrayList: 2, 4, concrete, 6, True, 8, 1, 2, 3, 4\n"
     ]
    }
   ],
   "source": [
    "ArrayList arrls = new ArrayList() {\"2\", 4, \"concrete\", 6, true, 8};\n",
    "Console.WriteLine($\"Original ArrayList: {String.Join(\", \", arrls.ToArray())}\");\n",
    "\n",
    "\n",
    "int[] arr = new int[] {1, 2, 3, 4};\n",
    "Console.WriteLine($\"Array to be added to ArrayList: {String.Join(\", \", arr.ToArray())}\");\n",
    "\n",
    "arrls.AddRange(arr);\n",
    "// OR: arrls.AddRange(new ArrayList() {\"2\", 4, \"concrete\", 6, true, 8});\n",
    "Console.WriteLine(\"Adding array to ArrayList...\");\n",
    "\n",
    "Console.WriteLine($\"New ArrayList: {String.Join(\", \", arrls.ToArray())}\");"
   ]
  },
  {
   "cell_type": "markdown",
   "metadata": {},
   "source": [
    "### `.Insert()`: inserts specified element at specified index in ArrayList"
   ]
  },
  {
   "cell_type": "code",
   "execution_count": 15,
   "metadata": {
    "dotnet_interactive": {
     "language": "csharp"
    },
    "polyglot_notebook": {
     "kernelName": "csharp"
    },
    "vscode": {
     "languageId": "polyglot-notebook"
    }
   },
   "outputs": [
    {
     "name": "stdout",
     "output_type": "stream",
     "text": [
      "Original arraylist: stuff, 52, False, , more stuff\n",
      "New arraylist: stuff, 52, some stuff, False, , more stuff\n"
     ]
    }
   ],
   "source": [
    "ArrayList randomData6 = new ArrayList()\n",
    "{\n",
    "    \"stuff\", 52, false, null, \"more stuff\"\n",
    "};\n",
    "\n",
    "Console.WriteLine($\"Original arraylist: {String.Join(\", \", randomData6.ToArray())}\");\n",
    "\n",
    "randomData6.Insert(2, \"some stuff\");\n",
    "\n",
    "Console.WriteLine($\"New arraylist: {String.Join(\", \", randomData6.ToArray())}\");"
   ]
  },
  {
   "cell_type": "markdown",
   "metadata": {},
   "source": [
    "### `.InsertRange()`: inserts specified collection of elements at specified index in ArrayList"
   ]
  },
  {
   "cell_type": "code",
   "execution_count": 16,
   "metadata": {
    "dotnet_interactive": {
     "language": "csharp"
    },
    "polyglot_notebook": {
     "kernelName": "csharp"
    },
    "vscode": {
     "languageId": "polyglot-notebook"
    }
   },
   "outputs": [
    {
     "name": "stdout",
     "output_type": "stream",
     "text": [
      "Original arraylist: a, b, h, i, j, k\n",
      "New arraylist: a, b, c, d, e, f, g, h, i, j, k\n"
     ]
    }
   ],
   "source": [
    "ArrayList alphabet1 = new ArrayList() {\"a\", \"b\", \"h\", \"i\", \"j\", \"k\"};\n",
    "ArrayList alphabet2 = new ArrayList() {\"c\", \"d\", \"e\", \"f\", \"g\"};\n",
    "\n",
    "Console.WriteLine($\"Original arraylist: {String.Join(\", \", alphabet1.ToArray())}\");\n",
    "\n",
    "alphabet1.InsertRange(2, alphabet2);\n",
    "\n",
    "Console.WriteLine($\"New arraylist: {String.Join(\", \", alphabet1.ToArray())}\");"
   ]
  },
  {
   "cell_type": "markdown",
   "metadata": {},
   "source": [
    "### `.Remove()`, `.RemoveAt()`, `.RemoveRange()`, `.RemoveAll()`: various ways to remove elements from ArrayList"
   ]
  },
  {
   "cell_type": "code",
   "execution_count": 17,
   "metadata": {
    "dotnet_interactive": {
     "language": "csharp"
    },
    "polyglot_notebook": {
     "kernelName": "csharp"
    },
    "vscode": {
     "languageId": "polyglot-notebook"
    }
   },
   "outputs": [
    {
     "name": "stdout",
     "output_type": "stream",
     "text": [
      "Original arraylist: stuff, 52, some stuff, False, , more stuff\n",
      "Arraylist after remove first instance of 'null': stuff, 52, some stuff, False, more stuff\n",
      "Arraylist after removing element at index 2: stuff, 52, False, more stuff\n",
      "Arraylist after remove element at index 0 and 1: False, more stuff\n"
     ]
    }
   ],
   "source": [
    "ArrayList randomData7 = new ArrayList()\n",
    "{\n",
    "    \"stuff\", 52, \"some stuff\", false, null, \"more stuff\"\n",
    "};\n",
    "\n",
    "Console.WriteLine($\"Original arraylist: {String.Join(\", \", randomData7.ToArray())}\");\n",
    "\n",
    "randomData7.Remove(null); // Removes first occurance of null\n",
    "Console.WriteLine($\"Arraylist after remove first instance of 'null': {String.Join(\", \", randomData7.ToArray())}\");\n",
    "\n",
    "randomData7.RemoveAt(2); // Removes element at index 4\n",
    "Console.WriteLine($\"Arraylist after removing element at index 2: {String.Join(\", \", randomData7.ToArray())}\");\n",
    "\n",
    "randomData7.RemoveRange(0, 2);// Removes first two elements at index 0 and 1 (doesn't include index 2)\n",
    "Console.WriteLine($\"Arraylist after remove element at index 0 and 1: {String.Join(\", \", randomData7.ToArray())}\");"
   ]
  },
  {
   "cell_type": "markdown",
   "metadata": {},
   "source": [
    "### `.Contains()`: returns boolean of whether a specified element exists in ArrayList"
   ]
  },
  {
   "cell_type": "code",
   "execution_count": 21,
   "metadata": {
    "dotnet_interactive": {
     "language": "csharp"
    },
    "polyglot_notebook": {
     "kernelName": "csharp"
    },
    "vscode": {
     "languageId": "polyglot-notebook"
    }
   },
   "outputs": [
    {
     "name": "stdout",
     "output_type": "stream",
     "text": [
      "ArrayList contains 'null'? True\n",
      "ArrayList contains '53'? False\n",
      "ArrayList contains 'more stuff'? True\n"
     ]
    }
   ],
   "source": [
    "ArrayList randomData8 = new ArrayList()\n",
    "{\n",
    "    \"stuff\", 52, \"some stuff\", false, null, \"more stuff\"\n",
    "};\n",
    "\n",
    "Console.WriteLine($\"ArrayList contains 'null'? {randomData8.Contains(null)}\");\n",
    "Console.WriteLine($\"ArrayList contains '53'? {randomData8.Contains(53)}\");\n",
    "Console.WriteLine($\"ArrayList contains 'more stuff'? {randomData8.Contains(\"more stuff\")}\");"
   ]
  },
  {
   "cell_type": "markdown",
   "metadata": {},
   "source": [
    "### `.GetRange()`: returns specified number of elements from specified index in ArrayList\n",
    "\n",
    "*Parameter 1: index <br> Parameter 2: number of elements after index*"
   ]
  },
  {
   "cell_type": "code",
   "execution_count": 29,
   "metadata": {
    "dotnet_interactive": {
     "language": "csharp"
    },
    "polyglot_notebook": {
     "kernelName": "csharp"
    },
    "vscode": {
     "languageId": "polyglot-notebook"
    }
   },
   "outputs": [
    {
     "name": "stdout",
     "output_type": "stream",
     "text": [
      "52, some stuff, False\r\n"
     ]
    }
   ],
   "source": [
    "ArrayList randomData9 = new ArrayList()\n",
    "{\n",
    "    \"stuff\", 52, \"some stuff\", false, null, \"more stuff\"\n",
    "};\n",
    "\n",
    "// starting at index 1, retrieve 3 consecutive elements (including element at index 1)\n",
    "Console.WriteLine(String.Join(\", \", randomData9.GetRange(1,3).ToArray()));"
   ]
  },
  {
   "cell_type": "markdown",
   "metadata": {},
   "source": [
    "<hr>\n",
    "<hr>"
   ]
  },
  {
   "cell_type": "markdown",
   "metadata": {},
   "source": [
    "## Generic (`List<T>`)\n",
    "\n",
    "__Considerations:__\n",
    "* Generic version of `ArrayList` (using type parameters `<T>`)\n",
    "    * `<T>` type parameter can be a primitive type (`int`, `string`, etc.) or a class object\n",
    "* Dynamic resizing like `ArrayList`\n",
    "* Unlike `ArrayList`, `List<T>` is type-safe at compile time & CLR does not need to perform any boxing/unboxing operations\n",
    "    * So performance is similar to an `Array`"
   ]
  },
  {
   "cell_type": "code",
   "execution_count": 30,
   "metadata": {
    "dotnet_interactive": {
     "language": "csharp"
    },
    "polyglot_notebook": {
     "kernelName": "csharp"
    },
    "vscode": {
     "languageId": "polyglot-notebook"
    }
   },
   "outputs": [],
   "source": [
    "using System.Collections.Generic;"
   ]
  },
  {
   "cell_type": "markdown",
   "metadata": {},
   "source": [
    "*Class object to use an example for demonstrating generic `List<T>`*"
   ]
  },
  {
   "cell_type": "code",
   "execution_count": 18,
   "metadata": {
    "dotnet_interactive": {
     "language": "csharp"
    },
    "polyglot_notebook": {
     "kernelName": "csharp"
    },
    "vscode": {
     "languageId": "polyglot-notebook"
    }
   },
   "outputs": [],
   "source": [
    "internal class Employee\n",
    "{\n",
    "    public string FirstName { get; set; }\n",
    "    public string LastName { get; set; }\n",
    "    public string JobTitle { get; set; }\n",
    "    public int AnnualSalary { get; set; }\n",
    "\n",
    "    public Employee(string firstname, string lastname, string jobtitle, int annualsalary)\n",
    "    {\n",
    "        this.FirstName = firstname;\n",
    "        this.LastName = lastname;\n",
    "        this.JobTitle = jobtitle;\n",
    "        this.AnnualSalary = annualsalary;\n",
    "    }\n",
    "}\n",
    "\n",
    "\n",
    "internal class Student\n",
    "{\n",
    "    public string FirstName { get; set; }\n",
    "    public string LastName { get; set; }\n",
    "    public string FieldOfStudy { get; set; }\n",
    "}"
   ]
  },
  {
   "cell_type": "markdown",
   "metadata": {},
   "source": [
    "### `List<T>` Declaration"
   ]
  },
  {
   "cell_type": "code",
   "execution_count": 39,
   "metadata": {
    "dotnet_interactive": {
     "language": "csharp"
    },
    "polyglot_notebook": {
     "kernelName": "csharp"
    },
    "vscode": {
     "languageId": "polyglot-notebook"
    }
   },
   "outputs": [],
   "source": [
    "List<string> fieldsOfStudy = new List<string>();\n",
    "List<Employee> employees = new List<Employee>();"
   ]
  },
  {
   "cell_type": "markdown",
   "metadata": {},
   "source": [
    "### `List<T>` Initialization\n",
    "\n",
    "*NOTE: Very similar to `ArrayList`*"
   ]
  },
  {
   "cell_type": "code",
   "execution_count": 20,
   "metadata": {
    "dotnet_interactive": {
     "language": "csharp"
    },
    "polyglot_notebook": {
     "kernelName": "csharp"
    },
    "vscode": {
     "languageId": "polyglot-notebook"
    }
   },
   "outputs": [],
   "source": [
    "List<string> fieldsOfStudy2 = new List<string>();\n",
    "fieldsOfStudy2.Add(\"psychology\");\n",
    "fieldsOfStudy2.Add(\"computer science\");\n",
    "fieldsOfStudy2.Add(\"accounting\");\n",
    "fieldsOfStudy2.Add(\"civil engineering\");\n",
    "\n",
    "// OR\n",
    "\n",
    "// constructor with positional parameters \n",
    "List<Employee> employees2 = new List<Employee>()\n",
    "{\n",
    "    new Employee(\"spongebob\", \"squarepants\", \"fry cook\", 5),\n",
    "    new Employee(\"eugene\", \"krabs\", \"restaurant manager\", 900000000),\n",
    "    new Employee(\"squidward\", \"tentacles\", \"cashier\", 6)\n",
    "};\n",
    "\n",
    "// OR\n",
    "\n",
    "// parameter-less constructor w/ properties\n",
    "var students = new List<Student>() { \n",
    "    new Student(){FirstName=\"john\", LastName=\"Johnson\", FieldOfStudy=\"mathematics\"},\n",
    "    new Student(){FirstName=\"bob\", LastName=\"bobson\", FieldOfStudy=\"information technology\"},\n",
    "    new Student(){FirstName=\"samantha\", LastName=\"samanthason\", FieldOfStudy=\"economics\"},\n",
    "    new Student(){FirstName=\"greg\", LastName=\"gregson\", FieldOfStudy=\"philosophy\"}\n",
    "};"
   ]
  },
  {
   "cell_type": "markdown",
   "metadata": {},
   "source": [
    "### `List<T>` Class Object Indexing (Indexer)\n",
    "\n",
    "> Brief description of indexers: \n",
    "> * indexers allow class/struct instances to be indexed like arrays\n",
    "> * Indexers and the `List<T>` indexer implementation in the source code has similar syntax to the following:\n",
    "```csharp\n",
    "    class ExampleCollection\n",
    "    {\n",
    "        private T[] arr = new T[100];\n",
    "\n",
    "        /// INDEXER PROPERTY SYNTAX\n",
    "        public T this[int i] { get; set; }\n",
    "\n",
    "        // OR\n",
    "\n",
    "        public T this[int i]\n",
    "        {\n",
    "            get { return arr[i]; }\n",
    "            // OR get => arr[i];\n",
    "            set { arr[i] = value; }\n",
    "            // OR set => arr[i] = value;\n",
    "        }\n",
    "\n",
    "        // OR\n",
    "\n",
    "        public T this[int i] => arr[i]\n",
    "\n",
    "        ...\n",
    "    }\n",
    "\n",
    "    ExampleCollection<string> example = new ExampleCollection<string>();\n",
    "\n",
    "    \n",
    "``` \n",
    "\n",
    "__[Another Example: Data Validation Indexer (Days of the Week)](https://learn.microsoft.com/en-us/dotnet/csharp/programming-guide/indexers/using-indexers#example-2)__"
   ]
  },
  {
   "cell_type": "code",
   "execution_count": 28,
   "metadata": {
    "dotnet_interactive": {
     "language": "csharp"
    },
    "polyglot_notebook": {
     "kernelName": "csharp"
    },
    "vscode": {
     "languageId": "polyglot-notebook"
    }
   },
   "outputs": [
    {
     "data": {
      "text/html": [
       "<details open=\"open\" class=\"dni-treeview\"><summary><span class=\"dni-code-hint\"><code>Submission#19+Student</code></span></summary><div><table><thead><tr></tr></thead><tbody><tr><td>FirstName</td><td>john</td></tr><tr><td>LastName</td><td>Johnson</td></tr><tr><td>FieldOfStudy</td><td>mathematics</td></tr></tbody></table></div></details><style>\r\n",
       ".dni-code-hint {\r\n",
       "    font-style: italic;\r\n",
       "    overflow: hidden;\r\n",
       "    white-space: nowrap;\r\n",
       "}\r\n",
       ".dni-treeview {\r\n",
       "    white-space: nowrap;\r\n",
       "}\r\n",
       ".dni-treeview td {\r\n",
       "    vertical-align: top;\r\n",
       "    text-align: start;\r\n",
       "}\r\n",
       "details.dni-treeview {\r\n",
       "    padding-left: 1em;\r\n",
       "}\r\n",
       "table td {\r\n",
       "    text-align: start;\r\n",
       "}\r\n",
       "table tr { \r\n",
       "    vertical-align: top; \r\n",
       "    margin: 0em 0px;\r\n",
       "}\r\n",
       "table tr td pre \r\n",
       "{ \r\n",
       "    vertical-align: top !important; \r\n",
       "    margin: 0em 0px !important;\r\n",
       "} \r\n",
       "table th {\r\n",
       "    text-align: start;\r\n",
       "}\r\n",
       "</style>"
      ]
     },
     "metadata": {},
     "output_type": "display_data"
    },
    {
     "name": "stdout",
     "output_type": "stream",
     "text": [
      "Microsoft.DotNet.Interactive.DisplayedValue\n",
      "bob\n",
      "economics\n"
     ]
    }
   ],
   "source": [
    "Console.WriteLine(students[0].Display());\n",
    "\n",
    "Console.WriteLine(students[1].FirstName);\n",
    "\n",
    "Console.WriteLine(students[2].FieldOfStudy);"
   ]
  },
  {
   "cell_type": "markdown",
   "metadata": {},
   "source": [
    "<hr>"
   ]
  },
  {
   "cell_type": "markdown",
   "metadata": {},
   "source": [
    "## *`List<T>` Methods/Properties: Pretty much the same as `ArrayList`*\n",
    "\n",
    "__Considerations:__\n",
    "* For adding/inserting, just make sure that the elements' type as same as the specified `<T>`\n",
    "* There is a `RemoveAll()` method that is capable of using a delegate/lambda expression to remove all elements based on a certain condition:\n",
    "```csharp\n",
    "    List<string> states = new List<string>()\n",
    "    {\n",
    "        \"California\",\n",
    "        \"Alabama\",\n",
    "        \"Illinois\",\n",
    "        \"Georgia\",\n",
    "        \"Alaska\"\n",
    "    };\n",
    "\n",
    "    states.RemoveAll(state => \n",
    "    {\n",
    "        if (name.StartsWith(\"A\"))\n",
    "        return true;\n",
    "        else\n",
    "        return false;\n",
    "    });\n",
    "```"
   ]
  }
 ],
 "metadata": {
  "language_info": {
   "name": "python"
  },
  "orig_nbformat": 4
 },
 "nbformat": 4,
 "nbformat_minor": 2
}
