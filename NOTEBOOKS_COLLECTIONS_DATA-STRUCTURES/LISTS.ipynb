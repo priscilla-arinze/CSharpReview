{
 "cells": [
  {
   "cell_type": "markdown",
   "metadata": {},
   "source": [
    "# COLLECTIONS - LISTS"
   ]
  },
  {
   "cell_type": "markdown",
   "metadata": {},
   "source": [
    "## Non-Generic (`ArrayList`)\n",
    "\n",
    "__Considerations__:\n",
    "* Automatic dynamic re-sizing, unlike `Array`\n",
    "* This data structure was around pre .NET Framework 2.0, before generic `List<T>`\n",
    "* Does NOT have the luxury of type safety at compile time and it's non-generic\n",
    "    * Multiple different types can be added to the same `ArrayList()`, so be careful I guess because runtime errors *may* occur\n",
    "* Slower performance than arrays due to the whole lack of type safety at compile-time thing\n",
    "    * Because of this, it requires the CLR to go through boxing/unboxing operations using the base `Object` class\n",
    "    * Very similar to what the CLR have to do with the `dynamic` type\n",
    "    * __This and the lack of type safety is why it's NOT RECOMMENDED to use in lieu of `List<T>`__\n",
    "* Initializing, iterating, and indexing an `ArrayList()` are very similar to an `Array`\n",
    "* Similar to `Array`, an `ArrayList()` have the following methods: `ArrayList.Sort()`, `ArrayList.Reverse()`, `ArrayList.IndexOf()`, `ArrayList.Clear()`, etc.\n",
    "* You can convert a regular `Array` to an `ArrayList` object with the `.ToArray()` method"
   ]
  },
  {
   "cell_type": "code",
   "execution_count": 1,
   "metadata": {
    "dotnet_interactive": {
     "language": "csharp"
    },
    "polyglot_notebook": {
     "kernelName": "csharp"
    },
    "vscode": {
     "languageId": "polyglot-notebook"
    }
   },
   "outputs": [],
   "source": [
    "using System.Collections;"
   ]
  },
  {
   "cell_type": "markdown",
   "metadata": {},
   "source": [
    "### ArrayList Declaration"
   ]
  },
  {
   "cell_type": "code",
   "execution_count": 2,
   "metadata": {
    "vscode": {
     "languageId": "polyglot-notebook"
    }
   },
   "outputs": [],
   "source": [
    "ArrayList randomData = new ArrayList();"
   ]
  },
  {
   "cell_type": "markdown",
   "metadata": {},
   "source": [
    "### ArrayList Initialization"
   ]
  },
  {
   "cell_type": "code",
   "execution_count": 3,
   "metadata": {
    "dotnet_interactive": {
     "language": "csharp"
    },
    "polyglot_notebook": {
     "kernelName": "csharp"
    },
    "vscode": {
     "languageId": "polyglot-notebook"
    }
   },
   "outputs": [],
   "source": [
    "ArrayList randomData2 = new ArrayList();\n",
    "\n",
    "randomData2.Add(\"stuff\");\n",
    "randomData2.Add(52);\n",
    "randomData2.Add(false);\n",
    "randomData2.Add(null);\n",
    "randomData2.Add(\"more stuff\");\n",
    "\n",
    "// OR\n",
    "\n",
    "ArrayList randomData3 = new ArrayList()\n",
    "{\n",
    "    \"stuff\", 52, false, null, \"more stuff\"\n",
    "};"
   ]
  },
  {
   "cell_type": "markdown",
   "metadata": {},
   "source": [
    "### ArrayList Element Indexing\n",
    "\n",
    "*NOTE: Each element inside an ArrayList is considered a type `Object`, so explicit casting is required to assign to a variable, or use `var`.*"
   ]
  },
  {
   "cell_type": "code",
   "execution_count": 6,
   "metadata": {
    "dotnet_interactive": {
     "language": "csharp"
    },
    "polyglot_notebook": {
     "kernelName": "csharp"
    },
    "vscode": {
     "languageId": "polyglot-notebook"
    }
   },
   "outputs": [],
   "source": [
    "ArrayList randomData4 = new ArrayList()\n",
    "{\n",
    "    \"stuff\", 52, false, null, \"more stuff\"\n",
    "};\n",
    "\n",
    "string stuff = (string) randomData4[0];\n",
    "var morestuff = randomData4[4];"
   ]
  },
  {
   "cell_type": "markdown",
   "metadata": {},
   "source": [
    "<hr>"
   ]
  },
  {
   "cell_type": "markdown",
   "metadata": {},
   "source": [
    "## ArrayList Methods/Properties"
   ]
  },
  {
   "cell_type": "markdown",
   "metadata": {},
   "source": [
    "### `.Count` property: displays number of elements in ArrayList"
   ]
  },
  {
   "cell_type": "code",
   "execution_count": 8,
   "metadata": {
    "dotnet_interactive": {
     "language": "csharp"
    },
    "polyglot_notebook": {
     "kernelName": "csharp"
    },
    "vscode": {
     "languageId": "polyglot-notebook"
    }
   },
   "outputs": [
    {
     "name": "stdout",
     "output_type": "stream",
     "text": [
      "5\r\n"
     ]
    }
   ],
   "source": [
    "ArrayList randomData5 = new ArrayList()\n",
    "{\n",
    "    \"stuff\", 52, false, null, \"more stuff\"\n",
    "};\n",
    "\n",
    "Console.WriteLine(randomData5.Count)"
   ]
  },
  {
   "cell_type": "markdown",
   "metadata": {},
   "source": [
    "### `.Insert()`: inserts specified element at specified index in ArrayList"
   ]
  },
  {
   "cell_type": "code",
   "execution_count": 15,
   "metadata": {
    "dotnet_interactive": {
     "language": "csharp"
    },
    "polyglot_notebook": {
     "kernelName": "csharp"
    },
    "vscode": {
     "languageId": "polyglot-notebook"
    }
   },
   "outputs": [
    {
     "name": "stdout",
     "output_type": "stream",
     "text": [
      "Original arraylist: stuff, 52, False, , more stuff\n",
      "New arraylist: stuff, 52, some stuff, False, , more stuff\n"
     ]
    }
   ],
   "source": [
    "ArrayList randomData6 = new ArrayList()\n",
    "{\n",
    "    \"stuff\", 52, false, null, \"more stuff\"\n",
    "};\n",
    "\n",
    "Console.WriteLine($\"Original arraylist: {String.Join(\", \", randomData6.ToArray())}\");\n",
    "\n",
    "randomData6.Insert(2, \"some stuff\");\n",
    "\n",
    "Console.WriteLine($\"New arraylist: {String.Join(\", \", randomData6.ToArray())}\");"
   ]
  },
  {
   "cell_type": "markdown",
   "metadata": {},
   "source": [
    "### `.InsertRange()`: inserts specified collection of elements at specified index in ArrayList"
   ]
  },
  {
   "cell_type": "code",
   "execution_count": 16,
   "metadata": {
    "dotnet_interactive": {
     "language": "csharp"
    },
    "polyglot_notebook": {
     "kernelName": "csharp"
    },
    "vscode": {
     "languageId": "polyglot-notebook"
    }
   },
   "outputs": [
    {
     "name": "stdout",
     "output_type": "stream",
     "text": [
      "Original arraylist: a, b, h, i, j, k\n",
      "New arraylist: a, b, c, d, e, f, g, h, i, j, k\n"
     ]
    }
   ],
   "source": [
    "ArrayList alphabet1 = new ArrayList() {\"a\", \"b\", \"h\", \"i\", \"j\", \"k\"};\n",
    "ArrayList alphabet2 = new ArrayList() {\"c\", \"d\", \"e\", \"f\", \"g\"};\n",
    "\n",
    "Console.WriteLine($\"Original arraylist: {String.Join(\", \", alphabet1.ToArray())}\");\n",
    "\n",
    "alphabet1.InsertRange(2, alphabet2);\n",
    "\n",
    "Console.WriteLine($\"New arraylist: {String.Join(\", \", alphabet1.ToArray())}\");"
   ]
  },
  {
   "cell_type": "markdown",
   "metadata": {},
   "source": [
    "### `.Remove()`, `.RemoveAt()`, `.RemoveRange()`: various ways to remove elements from ArrayList"
   ]
  },
  {
   "cell_type": "code",
   "execution_count": 17,
   "metadata": {
    "dotnet_interactive": {
     "language": "csharp"
    },
    "polyglot_notebook": {
     "kernelName": "csharp"
    },
    "vscode": {
     "languageId": "polyglot-notebook"
    }
   },
   "outputs": [
    {
     "name": "stdout",
     "output_type": "stream",
     "text": [
      "Original arraylist: stuff, 52, some stuff, False, , more stuff\n",
      "Arraylist after remove first instance of 'null': stuff, 52, some stuff, False, more stuff\n",
      "Arraylist after removing element at index 2: stuff, 52, False, more stuff\n",
      "Arraylist after remove element at index 0 and 1: False, more stuff\n"
     ]
    }
   ],
   "source": [
    "ArrayList randomData7 = new ArrayList()\n",
    "{\n",
    "    \"stuff\", 52, \"some stuff\", false, null, \"more stuff\"\n",
    "};\n",
    "\n",
    "Console.WriteLine($\"Original arraylist: {String.Join(\", \", randomData7.ToArray())}\");\n",
    "\n",
    "randomData7.Remove(null); // Removes first occurance of null\n",
    "Console.WriteLine($\"Arraylist after remove first instance of 'null': {String.Join(\", \", randomData7.ToArray())}\");\n",
    "\n",
    "randomData7.RemoveAt(2); // Removes element at index 4\n",
    "Console.WriteLine($\"Arraylist after removing element at index 2: {String.Join(\", \", randomData7.ToArray())}\");\n",
    "\n",
    "randomData7.RemoveRange(0, 2);// Removes first two elements at index 0 and 1 (doesn't include index 2)\n",
    "Console.WriteLine($\"Arraylist after remove element at index 0 and 1: {String.Join(\", \", randomData7.ToArray())}\");\n"
   ]
  },
  {
   "cell_type": "markdown",
   "metadata": {},
   "source": [
    "### `.Contains()`: returns boolean of whether a specified element exists in ArrayList"
   ]
  },
  {
   "cell_type": "code",
   "execution_count": 21,
   "metadata": {
    "dotnet_interactive": {
     "language": "csharp"
    },
    "polyglot_notebook": {
     "kernelName": "csharp"
    },
    "vscode": {
     "languageId": "polyglot-notebook"
    }
   },
   "outputs": [
    {
     "name": "stdout",
     "output_type": "stream",
     "text": [
      "ArrayList contains 'null'? True\n",
      "ArrayList contains '53'? False\n",
      "ArrayList contains 'more stuff'? True\n"
     ]
    }
   ],
   "source": [
    "ArrayList randomData8 = new ArrayList()\n",
    "{\n",
    "    \"stuff\", 52, \"some stuff\", false, null, \"more stuff\"\n",
    "};\n",
    "\n",
    "Console.WriteLine($\"ArrayList contains 'null'? {randomData8.Contains(null)}\");\n",
    "Console.WriteLine($\"ArrayList contains '53'? {randomData8.Contains(53)}\");\n",
    "Console.WriteLine($\"ArrayList contains 'more stuff'? {randomData8.Contains(\"more stuff\")}\");"
   ]
  },
  {
   "cell_type": "markdown",
   "metadata": {},
   "source": [
    "### `.GetRange()`: returns specified number of elements from specified index in ArrayList\n",
    "\n",
    "*Parameter 1: index <br> Parameter 2: number of elements after index*"
   ]
  },
  {
   "cell_type": "code",
   "execution_count": 29,
   "metadata": {
    "dotnet_interactive": {
     "language": "csharp"
    },
    "polyglot_notebook": {
     "kernelName": "csharp"
    },
    "vscode": {
     "languageId": "polyglot-notebook"
    }
   },
   "outputs": [
    {
     "name": "stdout",
     "output_type": "stream",
     "text": [
      "52, some stuff, False\r\n"
     ]
    }
   ],
   "source": [
    "ArrayList randomData9 = new ArrayList()\n",
    "{\n",
    "    \"stuff\", 52, \"some stuff\", false, null, \"more stuff\"\n",
    "};\n",
    "\n",
    "// starting at index 1, retrieve 3 consecutive elements (including element at index 1)\n",
    "Console.WriteLine(String.Join(\", \", randomData9.GetRange(1,3).ToArray()));"
   ]
  },
  {
   "cell_type": "markdown",
   "metadata": {},
   "source": [
    "<hr>\n",
    "<hr>"
   ]
  },
  {
   "cell_type": "markdown",
   "metadata": {},
   "source": [
    "## Generic (`List<T>`)"
   ]
  },
  {
   "cell_type": "code",
   "execution_count": null,
   "metadata": {
    "vscode": {
     "languageId": "polyglot-notebook"
    }
   },
   "outputs": [],
   "source": []
  }
 ],
 "metadata": {
  "language_info": {
   "name": "python"
  },
  "orig_nbformat": 4
 },
 "nbformat": 4,
 "nbformat_minor": 2
}
