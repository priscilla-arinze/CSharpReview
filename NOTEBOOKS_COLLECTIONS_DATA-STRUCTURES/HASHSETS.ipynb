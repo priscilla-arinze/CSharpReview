{
 "cells": [
  {
   "cell_type": "markdown",
   "metadata": {},
   "source": [
    "# COLLECTIONS - HASHSET"
   ]
  },
  {
   "cell_type": "markdown",
   "metadata": {},
   "source": [
    "## Generic ONLY (`HashSet<T>`)\n",
    "\n",
    "__Considerations:__\n",
    "* Like Python's sets, no duplicate elements\n",
    "* High performance set operations (`.UnionWith()`, `.IntersectWith()`, `.ExceptWith()`, `.SymmetricExceptWith()`)\n",
    "    * Faster retrieval than other collection types\n",
    "* .NET Framework 4.6 and later: `HashSet<T>` implements the `IReadOnlyCollection<T>` interface "
   ]
  },
  {
   "cell_type": "code",
   "execution_count": 1,
   "metadata": {
    "vscode": {
     "languageId": "polyglot-notebook"
    }
   },
   "outputs": [],
   "source": [
    "using System.Collections.Generic;"
   ]
  },
  {
   "cell_type": "markdown",
   "metadata": {},
   "source": [
    "## HashSet Declaration"
   ]
  },
  {
   "cell_type": "code",
   "execution_count": 2,
   "metadata": {
    "vscode": {
     "languageId": "polyglot-notebook"
    }
   },
   "outputs": [],
   "source": [
    "HashSet<string> daysOfTheWeek = new HashSet<string>();"
   ]
  },
  {
   "cell_type": "markdown",
   "metadata": {},
   "source": [
    "## HashSet Initialization"
   ]
  },
  {
   "cell_type": "code",
   "execution_count": 4,
   "metadata": {
    "vscode": {
     "languageId": "polyglot-notebook"
    }
   },
   "outputs": [
    {
     "name": "stdout",
     "output_type": "stream",
     "text": [
      "Monday, Tuesday, Wednesday, Thursday, Friday, Saturday, Sunday\r\n"
     ]
    }
   ],
   "source": [
    "HashSet<string> daysOfTheWeek = new HashSet<string>();\n",
    "daysOfTheWeek.Add(\"Monday\");\n",
    "daysOfTheWeek.Add(\"Tuesday\");\n",
    "daysOfTheWeek.Add(\"Wednesday\");\n",
    "daysOfTheWeek.Add(\"Thursday\");\n",
    "daysOfTheWeek.Add(\"Friday\");\n",
    "daysOfTheWeek.Add(\"Saturday\");\n",
    "daysOfTheWeek.Add(\"Sunday\");\n",
    "\n",
    "// OR\n",
    "\n",
    "HashSet<string> daysOfTheWeek2 = new HashSet<string>() {\"Monday\", \"Tuesday\", \"Wednesday\", \"Thursday\", \"Friday\", \"Saturday\", \"Sunday\"};\n",
    "\n",
    "Console.WriteLine(String.Join(\", \", daysOfTheWeek));"
   ]
  },
  {
   "cell_type": "markdown",
   "metadata": {},
   "source": [
    "## HashSet Unique Elements\n",
    "\n",
    "*NOTE: Any attempt to add duplicate elements to a HashSet will be ignored*"
   ]
  },
  {
   "cell_type": "code",
   "execution_count": 17,
   "metadata": {
    "dotnet_interactive": {
     "language": "csharp"
    },
    "polyglot_notebook": {
     "kernelName": "csharp"
    },
    "vscode": {
     "languageId": "polyglot-notebook"
    }
   },
   "outputs": [
    {
     "name": "stdout",
     "output_type": "stream",
     "text": [
      "Original array: 1, 1, 1, 2, 2, 2, 3, 3, 3\n",
      "Array added to a HashSet: 1, 2, 3\n"
     ]
    }
   ],
   "source": [
    "int[] numbers = new int[] {1, 1, 1, 2, 2, 2, 3, 3, 3};\n",
    "\n",
    "HashSet<int> numbersSet = new HashSet<int>(numbers);\n",
    "\n",
    "\n",
    "Console.WriteLine($\"Original array: {String.Join(\", \", numbers)}\");\n",
    "Console.WriteLine($\"Array added to a HashSet: {String.Join(\", \", numbersSet)}\");"
   ]
  },
  {
   "cell_type": "markdown",
   "metadata": {},
   "source": [
    "<hr>"
   ]
  },
  {
   "cell_type": "markdown",
   "metadata": {},
   "source": [
    "## HashSet Methods/Properties"
   ]
  },
  {
   "cell_type": "markdown",
   "metadata": {},
   "source": [
    "### `.Count` property: returns number of elements in HashSet"
   ]
  },
  {
   "cell_type": "code",
   "execution_count": 6,
   "metadata": {
    "dotnet_interactive": {
     "language": "csharp"
    },
    "polyglot_notebook": {
     "kernelName": "csharp"
    },
    "vscode": {
     "languageId": "polyglot-notebook"
    }
   },
   "outputs": [
    {
     "name": "stdout",
     "output_type": "stream",
     "text": [
      "7\r\n"
     ]
    }
   ],
   "source": [
    "HashSet<string> daysOfTheWeek2 = new HashSet<string>() {\"Monday\", \"Tuesday\", \"Wednesday\", \"Thursday\", \"Friday\", \"Saturday\", \"Sunday\"};\n",
    "\n",
    "Console.WriteLine(daysOfTheWeek2.Count);"
   ]
  },
  {
   "cell_type": "markdown",
   "metadata": {},
   "source": [
    "### `.Contains()`: returns boolean if the given element exists in the HashSet"
   ]
  },
  {
   "cell_type": "code",
   "execution_count": 8,
   "metadata": {
    "dotnet_interactive": {
     "language": "csharp"
    },
    "polyglot_notebook": {
     "kernelName": "csharp"
    },
    "vscode": {
     "languageId": "polyglot-notebook"
    }
   },
   "outputs": [
    {
     "name": "stdout",
     "output_type": "stream",
     "text": [
      "Is 'Saturday' in the set? True\n",
      "Is 'Concreteday' in the set? False\n"
     ]
    }
   ],
   "source": [
    "HashSet<string> daysOfTheWeek3 = new HashSet<string>() {\"Monday\", \"Tuesday\", \"Wednesday\", \"Thursday\", \"Friday\", \"Saturday\", \"Sunday\"};\n",
    "\n",
    "Console.WriteLine($\"Is 'Saturday' in the set? {daysOfTheWeek3.Contains(\"Saturday\")}\");\n",
    "Console.WriteLine($\"Is 'Concreteday' in the set? {daysOfTheWeek3.Contains(\"Concreteday\")}\");"
   ]
  },
  {
   "cell_type": "markdown",
   "metadata": {},
   "source": [
    "### `.IsSubsetOf()` / `.IsProperSubsetOf()`: returns boolean of whether all elements in the HashSet are contained in a given HashSet\n",
    "\n",
    "*NOTE: The difference between a Subset and ProperSubset, is that two identical subsets will return `True` with `.IsSubsetOf()`, but they will return `False` with `.IsProperSubsetOf()`. <br> The \"Proper\" part just calls for the subset to be an actual subset of the main set, they can't be exactly identical.*"
   ]
  },
  {
   "cell_type": "code",
   "execution_count": 21,
   "metadata": {
    "dotnet_interactive": {
     "language": "csharp"
    },
    "polyglot_notebook": {
     "kernelName": "csharp"
    },
    "vscode": {
     "languageId": "polyglot-notebook"
    }
   },
   "outputs": [
    {
     "name": "stdout",
     "output_type": "stream",
     "text": [
      "setA is a subset of setC and all elements exist.\n",
      "setA is NOT a subset of setB and one or more of the elements do not exist in setB.\n"
     ]
    }
   ],
   "source": [
    "HashSet<string> setA = new HashSet<string>() { \"A\", \"B\", \"C\", \"D\" };\n",
    "HashSet<string> setB = new HashSet<string>() { \"A\", \"B\", \"C\", \"X\" };\n",
    "HashSet<string> setC = new HashSet<string>() { \"A\", \"B\", \"C\", \"D\", \"E\" };\n",
    "if (setA.IsProperSubsetOf(setC))\n",
    "   Console.WriteLine(\"setA is a subset of setC and all elements exist.\");\n",
    "if (!setA.IsProperSubsetOf(setB))\n",
    "   Console.WriteLine(\"setA is NOT a subset of setB and one or more of the elements do not exist in setB.\");"
   ]
  },
  {
   "cell_type": "markdown",
   "metadata": {},
   "source": [
    "### `.IsSupersetOf()` / `.IsProperSupersetOf()`: kinda the opposite of `.IsProperSubsetOf()`, returns boolean of whether the HashSet has all of the elements of the given subset HashSet \n",
    "\n",
    "*NOTE: The difference between a Superset and ProperSuperset, is that two identical supersets will return `True` with `.IsSupersetOf()`, but they will return `False` with `.IsProperSupersetOf()`. <br> The \"Proper\" part just calls for the superset to be an actual superset of a subset, they can't be exactly identical.*"
   ]
  },
  {
   "cell_type": "code",
   "execution_count": 23,
   "metadata": {
    "dotnet_interactive": {
     "language": "csharp"
    },
    "polyglot_notebook": {
     "kernelName": "csharp"
    },
    "vscode": {
     "languageId": "polyglot-notebook"
    }
   },
   "outputs": [
    {
     "name": "stdout",
     "output_type": "stream",
     "text": [
      "setC is a superset of setA and has all of the elements that are in setA.\n",
      "setA is NOT a superset of setC and one or more of setC's elements do not exist in setA.\n"
     ]
    }
   ],
   "source": [
    "HashSet<string> setA = new HashSet<string>() { \"A\", \"B\", \"C\", \"D\" };\n",
    "HashSet<string> setB = new HashSet<string>() { \"A\", \"B\", \"C\", \"X\" };\n",
    "HashSet<string> setC = new HashSet<string>() { \"A\", \"B\", \"C\", \"D\", \"E\" };\n",
    "if (setC.IsProperSupersetOf(setA))\n",
    "   Console.WriteLine(\"setC is a superset of setA and has all of the elements that are in setA.\");\n",
    "if (!setA.IsProperSupersetOf(setC))\n",
    "   Console.WriteLine(\"setA is NOT a superset of setC and one or more of setC's elements do not exist in setA.\");"
   ]
  },
  {
   "cell_type": "code",
   "execution_count": null,
   "metadata": {
    "dotnet_interactive": {
     "language": "csharp"
    },
    "polyglot_notebook": {
     "kernelName": "csharp"
    },
    "vscode": {
     "languageId": "polyglot-notebook"
    }
   },
   "outputs": [
    {
     "name": "stdout",
     "output_type": "stream",
     "text": [
      "Is 'Saturday' in the set? True\n",
      "Is 'Concreteday' in the set? False\n"
     ]
    }
   ],
   "source": [
    "HashSet<string> daysOfTheWeek3 = new HashSet<string>() {\"Monday\", \"Tuesday\", \"Wednesday\", \"Thursday\", \"Friday\", \"Saturday\", \"Sunday\"};\n",
    "\n",
    "Console.WriteLine($\"Is 'Saturday' in the set? {daysOfTheWeek3.Contains(\"Saturday\")}\");\n",
    "Console.WriteLine($\"Is 'Concreteday' in the set? {daysOfTheWeek3.Contains(\"Concreteday\")}\");"
   ]
  },
  {
   "cell_type": "markdown",
   "metadata": {},
   "source": [
    "### `.Remove()`: removes the specified element in the HashSet"
   ]
  },
  {
   "cell_type": "code",
   "execution_count": 12,
   "metadata": {
    "dotnet_interactive": {
     "language": "csharp"
    },
    "polyglot_notebook": {
     "kernelName": "csharp"
    },
    "vscode": {
     "languageId": "polyglot-notebook"
    }
   },
   "outputs": [
    {
     "name": "stdout",
     "output_type": "stream",
     "text": [
      "Before removing 'Wednesday': Monday, Tuesday, Wednesday, Thursday, Friday, Saturday, Sunday\n",
      "After removing 'Wednesday': Monday, Tuesday, Thursday, Friday, Saturday, Sunday\n"
     ]
    }
   ],
   "source": [
    "HashSet<string> daysOfTheWeek4 = new HashSet<string>() {\"Monday\", \"Tuesday\", \"Wednesday\", \"Thursday\", \"Friday\", \"Saturday\", \"Sunday\"};\n",
    "Console.WriteLine($\"Before removing 'Wednesday': {String.Join(\", \", daysOfTheWeek4)}\");\n",
    "\n",
    "daysOfTheWeek4.Remove(\"Wednesday\");\n",
    "\n",
    "Console.WriteLine($\"After removing 'Wednesday': {String.Join(\", \", daysOfTheWeek4)}\");"
   ]
  },
  {
   "cell_type": "markdown",
   "metadata": {},
   "source": [
    "### `.RemoveWhere()`: based on the given lambda expression, removes any element that satisfy the expression"
   ]
  },
  {
   "cell_type": "code",
   "execution_count": 14,
   "metadata": {
    "dotnet_interactive": {
     "language": "csharp"
    },
    "polyglot_notebook": {
     "kernelName": "csharp"
    },
    "vscode": {
     "languageId": "polyglot-notebook"
    }
   },
   "outputs": [
    {
     "name": "stdout",
     "output_type": "stream",
     "text": [
      "Before removing any day starting with 'T': Monday, Tuesday, Wednesday, Thursday, Friday, Saturday, Sunday\n",
      "After removing any day starting with 'T': Monday, Wednesday, Friday, Saturday, Sunday\n"
     ]
    }
   ],
   "source": [
    "HashSet<string> daysOfTheWeek5 = new HashSet<string>() {\"Monday\", \"Tuesday\", \"Wednesday\", \"Thursday\", \"Friday\", \"Saturday\", \"Sunday\"};\n",
    "Console.WriteLine($\"Before removing any day starting with 'T': {String.Join(\", \", daysOfTheWeek5)}\");\n",
    "\n",
    "daysOfTheWeek5.RemoveWhere(day => day.StartsWith(\"T\"));\n",
    "\n",
    "Console.WriteLine($\"After removing any day starting with 'T': {String.Join(\", \", daysOfTheWeek5)}\");"
   ]
  },
  {
   "cell_type": "markdown",
   "metadata": {},
   "source": [
    "### `.Clear()`: removes all of the elements in the HashSet"
   ]
  },
  {
   "cell_type": "code",
   "execution_count": 13,
   "metadata": {
    "dotnet_interactive": {
     "language": "csharp"
    },
    "polyglot_notebook": {
     "kernelName": "csharp"
    },
    "vscode": {
     "languageId": "polyglot-notebook"
    }
   },
   "outputs": [
    {
     "name": "stdout",
     "output_type": "stream",
     "text": [
      "Before clearing out set: Monday, Tuesday, Wednesday, Thursday, Friday, Saturday, Sunday\n",
      "After clearing out set: \n"
     ]
    }
   ],
   "source": [
    "HashSet<string> daysOfTheWeek6 = new HashSet<string>() {\"Monday\", \"Tuesday\", \"Wednesday\", \"Thursday\", \"Friday\", \"Saturday\", \"Sunday\"};\n",
    "Console.WriteLine($\"Before clearing out set: {String.Join(\", \", daysOfTheWeek6)}\");\n",
    "\n",
    "daysOfTheWeek6.Clear();\n",
    "\n",
    "Console.WriteLine($\"After clearing out set: {String.Join(\", \", daysOfTheWeek6)}\");"
   ]
  },
  {
   "cell_type": "markdown",
   "metadata": {},
   "source": [
    "### `.UnionWith()`: combines two sets (set A will be expanded with the elements of set B)"
   ]
  },
  {
   "cell_type": "code",
   "execution_count": 26,
   "metadata": {
    "dotnet_interactive": {
     "language": "csharp"
    },
    "polyglot_notebook": {
     "kernelName": "csharp"
    },
    "vscode": {
     "languageId": "polyglot-notebook"
    }
   },
   "outputs": [
    {
     "name": "stdout",
     "output_type": "stream",
     "text": [
      "Weekdays set: Monday, Tuesday, Wednesday, Thursday, Friday\n",
      "Weekends set: Saturday, Sunday\n",
      "Union of weekdays and weekends sets: Monday, Tuesday, Wednesday, Thursday, Friday, Saturday, Sunday\n"
     ]
    }
   ],
   "source": [
    "HashSet<string> weekdays = new HashSet<string>() {\"Monday\", \"Tuesday\", \"Wednesday\", \"Thursday\", \"Friday\"};\n",
    "HashSet<string> weekends = new HashSet<string>() {\"Saturday\", \"Sunday\"};\n",
    "\n",
    "Console.WriteLine($\"Weekdays set: {String.Join(\", \", weekdays)}\");\n",
    "Console.WriteLine($\"Weekends set: {String.Join(\", \", weekends)}\");\n",
    "\n",
    "weekdays.UnionWith(weekends);\n",
    "\n",
    "Console.WriteLine($\"Union of weekdays and weekends sets: {String.Join(\", \", weekdays)}\");"
   ]
  },
  {
   "cell_type": "markdown",
   "metadata": {},
   "source": [
    "### `.IntersectWith()`: finds common elements that appear in both sets (set A will be altered containing ONLY the common elements)"
   ]
  },
  {
   "cell_type": "code",
   "execution_count": 29,
   "metadata": {
    "dotnet_interactive": {
     "language": "csharp"
    },
    "polyglot_notebook": {
     "kernelName": "csharp"
    },
    "vscode": {
     "languageId": "polyglot-notebook"
    }
   },
   "outputs": [
    {
     "name": "stdout",
     "output_type": "stream",
     "text": [
      "numbers10 set: 1, 2, 3, 4, 5, 6, 7, 8, 9, 10\n",
      "evennumbers10 set: 2, 4, 6, 8, 10, 12, 14, 16, 18, 20\n",
      "Intersection between numbers10 and evennumbers10 sets: 2, 4, 6, 8, 10\n"
     ]
    }
   ],
   "source": [
    "HashSet<int> numbers10 = new HashSet<int>() {1,2,3,4,5,6,7,8,9,10};\n",
    "HashSet<int> evennumbers10 = new HashSet<int>() {2,4,6,8,10,12,14,16,18,20};\n",
    "\n",
    "Console.WriteLine($\"numbers10 set: {String.Join(\", \", numbers10)}\");\n",
    "Console.WriteLine($\"evennumbers10 set: {String.Join(\", \", evennumbers10)}\");\n",
    "\n",
    "numbers10.IntersectWith(evennumbers10);\n",
    "\n",
    "Console.WriteLine($\"Intersection between numbers10 and evennumbers10 sets: {String.Join(\", \", numbers10)}\");"
   ]
  },
  {
   "cell_type": "markdown",
   "metadata": {},
   "source": [
    "### `.ExceptWith()` (non-symmetric): kinda opposite of `.IntersectWith()`, returns set A elements that do NOT appear in set B \n",
    "\n",
    "*NOTE: set A will be altered containing ONLY the set A elements that aren't in set B*"
   ]
  },
  {
   "cell_type": "code",
   "execution_count": 30,
   "metadata": {
    "dotnet_interactive": {
     "language": "csharp"
    },
    "polyglot_notebook": {
     "kernelName": "csharp"
    },
    "vscode": {
     "languageId": "polyglot-notebook"
    }
   },
   "outputs": [
    {
     "name": "stdout",
     "output_type": "stream",
     "text": [
      "numbers10 set: 1, 2, 3, 4, 5, 6, 7, 8, 9, 10\n",
      "evennumbers10 set: 2, 4, 6, 8, 10, 12, 14, 16, 18, 20\n",
      "Differences between numbers10 and evennumbers10 sets: 1, 3, 5, 7, 9\n"
     ]
    }
   ],
   "source": [
    "HashSet<int> numbers10 = new HashSet<int>() {1,2,3,4,5,6,7,8,9,10};\n",
    "HashSet<int> evennumbers10 = new HashSet<int>() {2,4,6,8,10,12,14,16,18,20};\n",
    "\n",
    "Console.WriteLine($\"numbers10 set: {String.Join(\", \", numbers10)}\");\n",
    "Console.WriteLine($\"evennumbers10 set: {String.Join(\", \", evennumbers10)}\");\n",
    "\n",
    "numbers10.ExceptWith(evennumbers10);\n",
    "\n",
    "Console.WriteLine($\"numbers10 element NOT in and evennumbers10 sets: {String.Join(\", \", numbers10)}\");"
   ]
  },
  {
   "cell_type": "markdown",
   "metadata": {},
   "source": [
    "### `.SymmetricExceptWith()`: similar to `.ExceptWith()`, returns uncommon elements between BOTH sets \n",
    "\n",
    "*NOTE: set A will be altered containing ONLY the uncommon elements between BOTH sets*"
   ]
  },
  {
   "cell_type": "code",
   "execution_count": 31,
   "metadata": {
    "dotnet_interactive": {
     "language": "csharp"
    },
    "polyglot_notebook": {
     "kernelName": "csharp"
    },
    "vscode": {
     "languageId": "polyglot-notebook"
    }
   },
   "outputs": [
    {
     "name": "stdout",
     "output_type": "stream",
     "text": [
      "numbers10 set: 1, 2, 3, 4, 5, 6, 7, 8, 9, 10\n",
      "evennumbers10 set: 2, 4, 6, 8, 10, 12, 14, 16, 18, 20\n",
      "Differences between numbers10 and evennumbers10 sets: 1, 20, 3, 18, 5, 16, 7, 14, 9, 12\n"
     ]
    }
   ],
   "source": [
    "HashSet<int> numbers10 = new HashSet<int>() {1,2,3,4,5,6,7,8,9,10};\n",
    "HashSet<int> evennumbers10 = new HashSet<int>() {2,4,6,8,10,12,14,16,18,20};\n",
    "\n",
    "Console.WriteLine($\"numbers10 set: {String.Join(\", \", numbers10)}\");\n",
    "Console.WriteLine($\"evennumbers10 set: {String.Join(\", \", evennumbers10)}\");\n",
    "\n",
    "numbers10.SymmetricExceptWith(evennumbers10);\n",
    "\n",
    "Console.WriteLine($\"Differences between numbers10 and evennumbers10 sets: {String.Join(\", \", numbers10)}\");"
   ]
  },
  {
   "cell_type": "markdown",
   "metadata": {},
   "source": [
    "<hr>\n",
    "<hr>"
   ]
  },
  {
   "cell_type": "markdown",
   "metadata": {},
   "source": [
    "## `SortedSet()` / `SortedSet<T>` (non-generic/generic): Very similar to `HashSet`, but sorted\n",
    "\n",
    "__Considerations:__\n",
    "* ^ that's pretty much it tbh\n",
    "* the same methods/properties above for `HashSet<T>` are available to use, but there's also a `.Reverse()` method"
   ]
  },
  {
   "cell_type": "code",
   "execution_count": 35,
   "metadata": {
    "vscode": {
     "languageId": "polyglot-notebook"
    }
   },
   "outputs": [
    {
     "name": "stdout",
     "output_type": "stream",
     "text": [
      "April, August, December, February, January, July, June, March, May, November, October, September\n",
      "Reversed: September, October, November, May, March, June, July, January, February, December, August, April\n"
     ]
    }
   ],
   "source": [
    "SortedSet<string> months = new SortedSet<string>()\n",
    "{\n",
    "    \"January\", \"February\", \"March\", \"April\",\n",
    "    \"May\", \"June\", \"July\", \"August\",\n",
    "    \"September\", \"October\", \"November\", \"December\"\n",
    "};\n",
    "\n",
    "Console.WriteLine(String.Join(\", \", months));\n",
    "Console.WriteLine($\"Reversed: {String.Join(\", \", months.Reverse())}\");\n"
   ]
  }
 ],
 "metadata": {
  "language_info": {
   "name": "python"
  },
  "orig_nbformat": 4
 },
 "nbformat": 4,
 "nbformat_minor": 2
}
