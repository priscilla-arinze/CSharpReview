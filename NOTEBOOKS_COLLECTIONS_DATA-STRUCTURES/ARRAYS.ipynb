{
 "cells": [
  {
   "cell_type": "markdown",
   "metadata": {},
   "source": [
    "# COLLECTIONS - ARRAYS\n",
    "\n",
    "Reference types that can be declared with the type and square brackets `[]` defining the __fixed__ size of the array. Optionally, they can be initialized when being declared with curly braces `{}`."
   ]
  },
  {
   "cell_type": "markdown",
   "metadata": {},
   "source": [
    "## Non-Generic ONLY"
   ]
  },
  {
   "cell_type": "markdown",
   "metadata": {},
   "source": [
    "*NOTE: `var` can be used in place of `<TYPE>[]`*"
   ]
  },
  {
   "cell_type": "markdown",
   "metadata": {},
   "source": [
    "### Array Declaration"
   ]
  },
  {
   "cell_type": "code",
   "execution_count": 4,
   "metadata": {
    "vscode": {
     "languageId": "polyglot-notebook"
    }
   },
   "outputs": [],
   "source": [
    "int[] years; // the array itself IS NULL\n",
    "\n",
    "// OR\n",
    "\n",
    "int[] years1 = new int[4]; // the array itself is NOT NULL, but each of the 4 elements in array object are considered NULL at this time"
   ]
  },
  {
   "cell_type": "markdown",
   "metadata": {},
   "source": [
    "### Array Initialization"
   ]
  },
  {
   "cell_type": "code",
   "execution_count": 70,
   "metadata": {
    "vscode": {
     "languageId": "polyglot-notebook"
    }
   },
   "outputs": [],
   "source": [
    "int[] years2 = new int[4] {2023, 2024, 2025, 2026};\n",
    "\n",
    "// OR\n",
    "\n",
    "int[] years2_5 = new int[] {2023, 2024, 2025, 2026};\n",
    "\n",
    "// OR\n",
    "\n",
    "int[] years3 = {2023, 2024, 2025, 2026};\n",
    "\n",
    "// OR\n",
    "\n",
    "int[] years4 = new int[4];\n",
    "years4[0] = 2023;\n",
    "years4[1] = 2024;\n",
    "years4[2] = 2025;\n",
    "years4[3] = 2026;"
   ]
  },
  {
   "cell_type": "markdown",
   "metadata": {},
   "source": [
    "<hr>"
   ]
  },
  {
   "cell_type": "markdown",
   "metadata": {},
   "source": [
    "## Multi-Dimensional Arrays (Rectangular & Jagged)"
   ]
  },
  {
   "cell_type": "markdown",
   "metadata": {},
   "source": [
    "### Array Declaration"
   ]
  },
  {
   "cell_type": "code",
   "execution_count": 26,
   "metadata": {
    "vscode": {
     "languageId": "polyglot-notebook"
    }
   },
   "outputs": [],
   "source": [
    "/// RECTANGULAR ARRAY:\n",
    "int[,] seasonsRECTANGULAR1;\n",
    "\n",
    "// OR\n",
    "\n",
    "int[,] seasonsRECTANGULAR2 = new int[5,2]; \n",
    "// can add another dimension by adding another comma (e.g. int[,,] seasonsRECTANGULAR2 = new int[5,2,2];)\n",
    "\n",
    "\n",
    "/// JAGGED ARRAY (irregular shape):\n",
    "int[][] seasonsJAGGED1;\n",
    "\n",
    "// OR\n",
    "\n",
    "int[][] seasonsJAGGED2 = new int[6][];"
   ]
  },
  {
   "cell_type": "markdown",
   "metadata": {},
   "source": [
    "### Array Initialization"
   ]
  },
  {
   "cell_type": "code",
   "execution_count": 36,
   "metadata": {
    "vscode": {
     "languageId": "polyglot-notebook"
    }
   },
   "outputs": [],
   "source": [
    "/// RECTANGULAR ARRAY:\n",
    "int[,] seasonsRECTANGULAR3 = new int[5,2] { {2018,2019}, {2019,2020}, {2020,2021}, {2021,2022}, {2022,2023} };\n",
    "\n",
    "\n",
    "/// JAGGED ARRAY (irregular shape):\n",
    "// NOTE: adding curly braces with initial values to a fixed dimension size jagged array will result in an array initializer error;\n",
    "    // will need to manually assign a size to each level in the array dimension\n",
    "int[][] seasonsJAGGED3 = new int[6][];\n",
    "seasonsJAGGED3[0] = new int[2] { 2018,2019 };\n",
    "seasonsJAGGED3[1] = new int[2] { 2019,2020 };\n",
    "seasonsJAGGED3[2] = new int[2] { 2020,2021 };\n",
    "seasonsJAGGED3[3] = new int[2] { 2021,2022 };\n",
    "seasonsJAGGED3[4] = new int[2] { 2022,2023 };\n",
    "seasonsJAGGED3[5] = new int[1] { 2023 };\n",
    "\n",
    "// OR\n",
    "\n",
    "int[][] seasonsJAGGED4 = new int[][]\n",
    "{\n",
    "    new int[] { 2018,2019 },\n",
    "    new int[] { 2019,2020 },\n",
    "    new int[] { 2020,2021 },\n",
    "    new int[] { 2021,2022 },\n",
    "    new int[] { 2022,2023 },\n",
    "    new int[] { 2023 }\n",
    "};\n",
    "\n",
    "// OR (THREE DIMENSIONS, mixing rectangular & jagged)\n",
    "\n",
    "int[][,] seasonsJAGGED5 = new int[3][,] // 3 dimensions, 2x2 / 1x1 / 2x2 rectangular arrays\n",
    "{\n",
    "    new int[,] { {2018,2019}, {2019,2020} },\n",
    "    new int[,] { {2020,2021} },\n",
    "    new int[,] { {2021,2022}, {2022,2023} }\n",
    "};"
   ]
  },
  {
   "cell_type": "markdown",
   "metadata": {},
   "source": [
    "<hr>"
   ]
  },
  {
   "cell_type": "markdown",
   "metadata": {},
   "source": [
    "## Implicitly Typed Arrays"
   ]
  },
  {
   "cell_type": "code",
   "execution_count": 37,
   "metadata": {
    "vscode": {
     "languageId": "polyglot-notebook"
    }
   },
   "outputs": [],
   "source": [
    "var years7 = new[] { 2023, 2024, 2025, 2026 }; // int[] at runtime\n",
    "\n",
    "var numWords = new[] { \"one\", \"two\", \"three\" }; // string[] at runtime\n",
    "\n",
    "var randomNums = new[] // int[2][4] at runtime (rectangular)\n",
    "{\n",
    "    new[]{1,2,3,4},\n",
    "    new[]{5,6,7,8}\n",
    "};\n",
    "\n",
    "var seasonsJAGGED6 = new[] // int[6][] at runtime (jagged)\n",
    "{\n",
    "    new[] { 2018,2019 },\n",
    "    new[] { 2019,2020 },\n",
    "    new[] { 2020,2021 },\n",
    "    new[] { 2021,2022 },\n",
    "    new[] { 2022,2023 },\n",
    "    new[] { 2023 }\n",
    "};"
   ]
  },
  {
   "cell_type": "markdown",
   "metadata": {},
   "source": [
    "<hr>"
   ]
  },
  {
   "cell_type": "markdown",
   "metadata": {},
   "source": [
    "## Array Methods/Properties"
   ]
  },
  {
   "cell_type": "markdown",
   "metadata": {},
   "source": [
    "### `.Rank` property: displays number of dimensions in array"
   ]
  },
  {
   "cell_type": "code",
   "execution_count": 45,
   "metadata": {
    "vscode": {
     "languageId": "polyglot-notebook"
    }
   },
   "outputs": [
    {
     "name": "stdout",
     "output_type": "stream",
     "text": [
      "# of dimensions in bleh array: 1\n",
      "# of dimensions in blehs array: 2\n",
      "# of dimensions in blehs2 array: 3\n"
     ]
    }
   ],
   "source": [
    "string[] bleh = new string[3] { \"bleh\", \"bleh\", \"bleh\" };\n",
    "Console.WriteLine($\"# of dimensions in bleh array: {bleh.Rank}\");\n",
    "\n",
    "string[,] blehs = new string[2,3]\n",
    "{ \n",
    "    {\"bleh\", \"bleh\", \"bleh\"}, \n",
    "    {\"bleh\", \"bleh\", \"bleh\"}\n",
    "};\n",
    "Console.WriteLine($\"# of dimensions in blehs array: {blehs.Rank}\");\n",
    "\n",
    "\n",
    "string[,,] blehs2 = new string[3, 2, 2]\n",
    "{ \n",
    "    {\n",
    "        {\"bleh\", \"bleh\"},\n",
    "        {\"bleh\", \"bleh\"}\n",
    "    },\n",
    "    {\n",
    "        {\"bleh\", \"bleh\"},\n",
    "        {\"bleh\", \"bleh\"}\n",
    "    }, \n",
    "    {\n",
    "        {\"bleh\", \"bleh\"},\n",
    "        {\"bleh\", \"bleh\"}\n",
    "    } \n",
    "};\n",
    "Console.WriteLine($\"# of dimensions in blehs2 array: {blehs2.Rank}\");"
   ]
  },
  {
   "cell_type": "markdown",
   "metadata": {},
   "source": [
    "### `.Length` property: displays number of elements in array\n",
    "\n",
    "*NOTE: Also use to find total elements in multi-dimensional JAGGED arrays*"
   ]
  },
  {
   "cell_type": "code",
   "execution_count": 10,
   "metadata": {
    "vscode": {
     "languageId": "polyglot-notebook"
    }
   },
   "outputs": [
    {
     "name": "stdout",
     "output_type": "stream",
     "text": [
      "4\r\n"
     ]
    }
   ],
   "source": [
    "int[] years5 = {2023, 2024, 2025, 2026};\n",
    "\n",
    "Console.WriteLine(years5.Length);"
   ]
  },
  {
   "cell_type": "code",
   "execution_count": 67,
   "metadata": {
    "vscode": {
     "languageId": "polyglot-notebook"
    }
   },
   "outputs": [
    {
     "name": "stdout",
     "output_type": "stream",
     "text": [
      "Total number of elements in multi-dimensional jagged array: 11\r\n"
     ]
    }
   ],
   "source": [
    "string[][] applesauceArr = {\n",
    "    new string[] {\"applesauce\", \"applesauce\", \"applesauce\", \"applesauce\", \"applesauce\"},\n",
    "    new string[] {\"applesauce\", \"applesauce\", \"applesauce\", \"applesauce\"},\n",
    "    new string[] {\"applesauce\", \"applesauce\"} \n",
    "};\n",
    "\n",
    "int totalElements = 0;\n",
    "\n",
    "foreach (string[] arr in applesauceArr)\n",
    "{\n",
    "    totalElements += arr.Length;\n",
    "}\n",
    "\n",
    "Console.WriteLine($\"Total number of elements in multi-dimensional jagged array: {totalElements}\");"
   ]
  },
  {
   "cell_type": "markdown",
   "metadata": {},
   "source": [
    "### `.GetLength()`: given the index of a dimension, displays number of elements in array\n",
    "\n",
    "*NOTE: Single-dimension arrays: Length == GetLength(0) <br> Multi-dimensional arrays (rectangular & jagged): Total # of top-level arrays == GetLength(0)*\n",
    "\n",
    "*NOTE: For a multi-dimensional rectangular array, Length == GetLength(0) * GetLength(1) == rows * columns*"
   ]
  },
  {
   "cell_type": "code",
   "execution_count": 68,
   "metadata": {
    "vscode": {
     "languageId": "polyglot-notebook"
    }
   },
   "outputs": [
    {
     "name": "stdout",
     "output_type": "stream",
     "text": [
      "Total number of top-level arrays in single-dimension array: 5\n",
      "Total number of top-level arrays in multi-dimensional rectangular array: 3\n",
      "Total number of elements in multi-dimensional rectangular array: 12\n"
     ]
    }
   ],
   "source": [
    "int[] years6 = {2023, 2024, 2025, 2026, 2027};\n",
    "Console.WriteLine($\"Total number of top-level arrays in single-dimension array: {years6.GetLength(0)}\");\n",
    "\n",
    "\n",
    "string[,] blehs0 = new string[4,3]\n",
    "{ \n",
    "    {\"bleh\", \"bleh\", \"bleh\"}, \n",
    "    {\"bleh\", \"bleh\", \"bleh\"}, \n",
    "    {\"bleh\", \"bleh\", \"bleh\"}, \n",
    "    {\"bleh\", \"bleh\", \"bleh\"}\n",
    "};\n",
    "\n",
    "int totalElements = blehs0.GetLength(0) * blehs0.GetLength(1);\n",
    "\n",
    "Console.WriteLine($\"Total number of top-level arrays in multi-dimensional rectangular array: {blehs0.GetLength(1)}\");\n",
    "Console.WriteLine($\"Total number of elements in multi-dimensional rectangular array: {totalElements}\");"
   ]
  },
  {
   "cell_type": "markdown",
   "metadata": {},
   "source": [
    "### `.GetValue()`: returns the element of the specified index in the array"
   ]
  },
  {
   "cell_type": "code",
   "execution_count": 101,
   "metadata": {
    "vscode": {
     "languageId": "polyglot-notebook"
    }
   },
   "outputs": [
    {
     "name": "stdout",
     "output_type": "stream",
     "text": [
      "The car make at index 3 is: jeep\r\n"
     ]
    }
   ],
   "source": [
    "string[] carMakes = {\"toyota\", \"nissan\", \"volkswagon\", \"jeep\", \"lexus\", \"toyota (again)\"};\n",
    "\n",
    "Console.WriteLine($\"The car make at index 3 is: {carMakes.GetValue(3)}\");"
   ]
  },
  {
   "cell_type": "markdown",
   "metadata": {},
   "source": [
    "### `Array.IndexOf()`: returns the index of the specified element in the array"
   ]
  },
  {
   "cell_type": "code",
   "execution_count": 84,
   "metadata": {
    "vscode": {
     "languageId": "polyglot-notebook"
    }
   },
   "outputs": [
    {
     "name": "stdout",
     "output_type": "stream",
     "text": [
      "Index of the word 'is' is: 2\r\n"
     ]
    }
   ],
   "source": [
    "string[] sentence = {\"beef\", \"jerky\", \"is\", \"good\"};\n",
    "\n",
    "Console.WriteLine(\"Index of the word 'is' is: {0}\", Array.IndexOf(sentence, \"is\"));"
   ]
  },
  {
   "cell_type": "markdown",
   "metadata": {},
   "source": [
    "### `Array.LastIndexOf()`: returns the index of the last occurrence of the specified element in the array"
   ]
  },
  {
   "cell_type": "code",
   "execution_count": 90,
   "metadata": {
    "vscode": {
     "languageId": "polyglot-notebook"
    }
   },
   "outputs": [
    {
     "name": "stdout",
     "output_type": "stream",
     "text": [
      "Index of the last occurrence of the word 'applesauce' is: 5\r\n"
     ]
    }
   ],
   "source": [
    "string[] foods = {\"applesauce\", \"beef jerky\", \"applesauce\", \"tomato\", \"bread\", \"applesauce\", \"concrete\", \"apple pie\", \"garlic bread\"};\n",
    "\n",
    "Console.WriteLine($\"Index of the last occurrence of the word 'applesauce' is: {Array.LastIndexOf(foods, \"applesauce\")}\");"
   ]
  },
  {
   "cell_type": "markdown",
   "metadata": {},
   "source": [
    "### `Array.Copy()`: copies a specified source array to a specified declared target array of the same fixed size"
   ]
  },
  {
   "cell_type": "code",
   "execution_count": 107,
   "metadata": {
    "vscode": {
     "languageId": "polyglot-notebook"
    }
   },
   "outputs": [
    {
     "name": "stdout",
     "output_type": "stream",
     "text": [
      "Original array: bread is good; Hash Code: 17616676\n",
      "New copied array: bread is good; Hash Code: 41121575\n"
     ]
    }
   ],
   "source": [
    "string[] sentence0 = {\"bread\", \"is\", \"good\"};\n",
    "string[] sentence00 = new string[3];\n",
    "Array.Copy(sentence0, sentence00, 3);\n",
    "\n",
    "Console.WriteLine($\"Original array: {String.Join(\" \", sentence0)}; Hash Code: {sentence0.GetHashCode()}\");\n",
    "Console.WriteLine($\"New copied array: {String.Join(\" \", sentence00)}; Hash Code: {sentence00.GetHashCode()}\");"
   ]
  },
  {
   "cell_type": "markdown",
   "metadata": {},
   "source": [
    "### `Array.Exists()`: returns boolean of whether a specified element in array exists or not (using a lambda expression)"
   ]
  },
  {
   "cell_type": "code",
   "execution_count": 93,
   "metadata": {
    "vscode": {
     "languageId": "polyglot-notebook"
    }
   },
   "outputs": [
    {
     "name": "stdout",
     "output_type": "stream",
     "text": [
      "City that starts with the letter 'd'? True\n",
      "City that starts with the letter 'e'? False\n",
      "Is 'charlotte' in the array? True\n"
     ]
    }
   ],
   "source": [
    "string[] cities = {\"chicago\", \"reno\", \"seattle\", \"dallas\", \"sacramento\", \"charlotte\"};\n",
    "\n",
    "Console.WriteLine($\"City that starts with the letter 'd'? {Array.Exists(cities, city => city.StartsWith('d'))}\");\n",
    "Console.WriteLine($\"City that starts with the letter 'e'? {Array.Exists(cities, city => city.StartsWith('e'))}\");\n",
    "Console.WriteLine($\"Is 'charlotte' in the array? {Array.Exists(cities, city => city == \"charlotte\")}\");"
   ]
  },
  {
   "cell_type": "markdown",
   "metadata": {},
   "source": [
    "### `Array.Find()`: returns the first occurence of the specified element (using lambda expression)"
   ]
  },
  {
   "cell_type": "code",
   "execution_count": 110,
   "metadata": {
    "vscode": {
     "languageId": "polyglot-notebook"
    }
   },
   "outputs": [
    {
     "name": "stdout",
     "output_type": "stream",
     "text": [
      "purple\r\n"
     ]
    }
   ],
   "source": [
    "string[] colors = {\"blue\", \"purple\", \"red\", \"light blue\", \"concrete\", \"magenta\", \"yellow\"};\n",
    "\n",
    "Console.WriteLine(Array.Find(colors, c => c.Contains(\"purple\")));"
   ]
  },
  {
   "cell_type": "markdown",
   "metadata": {},
   "source": [
    "### `Array.FindAll()`: returns an array of all occurences of the specified element (using lambda expression)"
   ]
  },
  {
   "cell_type": "code",
   "execution_count": 113,
   "metadata": {
    "vscode": {
     "languageId": "polyglot-notebook"
    }
   },
   "outputs": [
    {
     "name": "stdout",
     "output_type": "stream",
     "text": [
      "blue\n",
      "light blue\n"
     ]
    }
   ],
   "source": [
    "string[] colors2 = {\"blue\", \"purple\", \"red\", \"light blue\", \"concrete\", \"magenta\", \"yellow\"};\n",
    "\n",
    "string[] blueoccurences = Array.FindAll(colors2, c => c.Contains(\"blue\"));\n",
    "\n",
    "foreach (string blue in blueoccurences)\n",
    "{\n",
    "    Console.WriteLine(blue);\n",
    "}"
   ]
  },
  {
   "cell_type": "markdown",
   "metadata": {},
   "source": [
    "### `Array.ForEach()`: performs a specified action on each element in the array\n",
    "\n",
    "*NOTE: can use a delegate in place of a lambda expression*"
   ]
  },
  {
   "cell_type": "code",
   "execution_count": 135,
   "metadata": {
    "vscode": {
     "languageId": "polyglot-notebook"
    }
   },
   "outputs": [
    {
     "name": "stdout",
     "output_type": "stream",
     "text": [
      "Original prices : 2.99, 1.25, 72.95, 12.33, 6, 8.25\n",
      "New reasonably inflated prices :) : 29.90, 12.50, 729.50, 123.30, 60.00, 82.50, "
     ]
    }
   ],
   "source": [
    "double[] inflationPricesSimulator = {2.99, 1.25, 72.95, 12.33, 6.00, 8.25};\n",
    "\n",
    "Console.WriteLine($\"Original prices : {String.Join(\", \", inflationPricesSimulator)}\");\n",
    "\n",
    "Console.Write(\"New reasonably inflated prices :) : \");\n",
    "Array.ForEach(inflationPricesSimulator, price =>\n",
    "{\n",
    "    Console.Write($\"{(price * 10).ToString(\"0.00\")}, \");\n",
    "});"
   ]
  },
  {
   "cell_type": "markdown",
   "metadata": {},
   "source": [
    "### `Array.Clear()`: sets the fixed number of elements in array to NULL "
   ]
  },
  {
   "cell_type": "code",
   "execution_count": 87,
   "metadata": {
    "vscode": {
     "languageId": "polyglot-notebook"
    }
   },
   "outputs": [
    {
     "name": "stdout",
     "output_type": "stream",
     "text": [
      "Array size: 5; Original array: applesauce applesauce applesauce applesauce applesauce\n",
      "Array size: 5; Cleared out array:     \n"
     ]
    }
   ],
   "source": [
    "string[] applesauceagain = {\"applesauce\",\"applesauce\",\"applesauce\",\"applesauce\",\"applesauce\"};\n",
    "\n",
    "Console.WriteLine(\"Array size: {0}; Original array: {1}\", applesauceagain.Length, String.Join(\" \", applesauceagain));\n",
    "\n",
    "Array.Clear(applesauceagain);\n",
    "\n",
    "Console.WriteLine(\"Array size: {0}; Cleared out array: {1}\", applesauceagain.Length, String.Join(\" \", applesauceagain));"
   ]
  },
  {
   "cell_type": "markdown",
   "metadata": {},
   "source": [
    "### `Array.Sort()`: sort elements of array in ascending order, numerically or alphabetically "
   ]
  },
  {
   "cell_type": "code",
   "execution_count": 49,
   "metadata": {
    "vscode": {
     "languageId": "polyglot-notebook"
    }
   },
   "outputs": [
    {
     "name": "stdout",
     "output_type": "stream",
     "text": [
      "2023\n",
      "2024\n",
      "2025\n",
      "2026\n"
     ]
    }
   ],
   "source": [
    "int[] years7 = {2025, 2024, 2023, 2026};\n",
    "\n",
    "Array.Sort(years7); // in-place sorting\n",
    "\n",
    "foreach (int year in years7)\n",
    "{\n",
    "    Console.WriteLine(year);\n",
    "}"
   ]
  },
  {
   "cell_type": "markdown",
   "metadata": {},
   "source": [
    "### `Array.Resize()`: allocates new memory for a new array with the specified size and copies elements from original array by reference\n",
    "\n",
    "*NOTE: only for single-dimension arrays*"
   ]
  },
  {
   "cell_type": "code",
   "execution_count": 80,
   "metadata": {
    "vscode": {
     "languageId": "polyglot-notebook"
    }
   },
   "outputs": [
    {
     "name": "stdout",
     "output_type": "stream",
     "text": [
      "Original size of fruits array: 3 \n",
      "   Elements: apple pear orange\n",
      "\n",
      "Resizing array to 5 elements...\n",
      "\n",
      "New size of fruits array: 5 \n",
      "   Elements: apple pear orange blueberries tomatoes\n"
     ]
    }
   ],
   "source": [
    "string[] fruits = new string[] {\"apple\", \"pear\", \"orange\"};\n",
    "\n",
    "Console.WriteLine(\"Original size of fruits array: {0} \\n   Elements: {1}\", fruits.Length, String.Join(\" \", fruits));\n",
    "\n",
    "Array.Resize(ref fruits, 5);\n",
    "Console.WriteLine(\"\\nResizing array to 5 elements...\\n\");\n",
    "\n",
    "fruits[3] = \"blueberries\";\n",
    "fruits[4] = \"tomatoes\";\n",
    "Console.WriteLine(\"New size of fruits array: {0} \\n   Elements: {1}\", fruits.Length, String.Join(\" \", fruits));"
   ]
  },
  {
   "cell_type": "markdown",
   "metadata": {},
   "source": [
    "### `Array.Fill()`: sets all of the elements in the given array with the specified element"
   ]
  },
  {
   "cell_type": "code",
   "execution_count": 81,
   "metadata": {
    "vscode": {
     "languageId": "polyglot-notebook"
    }
   },
   "outputs": [
    {
     "name": "stdout",
     "output_type": "stream",
     "text": [
      "applesauce\n",
      "applesauce\n",
      "applesauce\n",
      "applesauce\n",
      "applesauce\n",
      "applesauce\n",
      "applesauce\n",
      "applesauce\n",
      "applesauce\n",
      "applesauce\n"
     ]
    }
   ],
   "source": [
    "string[] food = new string[10];\n",
    "\n",
    "Array.Fill(food, \"applesauce\");\n",
    "\n",
    "foreach (string f in food)\n",
    "{\n",
    "    Console.WriteLine(f);\n",
    "}"
   ]
  },
  {
   "cell_type": "markdown",
   "metadata": {},
   "source": [
    "### `Array.Reverse()`: reverses order of elements in array"
   ]
  },
  {
   "cell_type": "code",
   "execution_count": 82,
   "metadata": {
    "vscode": {
     "languageId": "polyglot-notebook"
    }
   },
   "outputs": [
    {
     "name": "stdout",
     "output_type": "stream",
     "text": [
      "1500\n",
      "400\n",
      "250\n",
      "50\n",
      "20\n",
      "0\n"
     ]
    }
   ],
   "source": [
    "int[] bankAccountBalance = {0, 20, 50, 250, 400, 1500};\n",
    "\n",
    "Array.Reverse(bankAccountBalance);\n",
    "\n",
    "foreach (int money in bankAccountBalance)\n",
    "{\n",
    "    Console.WriteLine(money);\n",
    "}"
   ]
  }
 ],
 "metadata": {
  "language_info": {
   "name": "python"
  },
  "orig_nbformat": 4
 },
 "nbformat": 4,
 "nbformat_minor": 2
}
