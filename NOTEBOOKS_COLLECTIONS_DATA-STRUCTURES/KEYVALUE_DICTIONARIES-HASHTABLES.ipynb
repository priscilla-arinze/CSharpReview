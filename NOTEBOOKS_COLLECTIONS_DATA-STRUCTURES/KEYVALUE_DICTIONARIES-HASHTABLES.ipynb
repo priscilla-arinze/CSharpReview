{
 "cells": [
  {
   "cell_type": "markdown",
   "metadata": {},
   "source": [
    "# COLLECTIONS (KEY VALUE PAIRS) -- DICTIONARIES / HASHTABLES"
   ]
  },
  {
   "cell_type": "markdown",
   "metadata": {},
   "source": [
    "## Non-Generic (`Hashtable`)\n",
    "\n",
    "__Considerations:__\n",
    "* Each key-value pair entry is a `DictionaryEntry` object\n",
    "* Entries are stored & ordered by the key's hash code, so they might not be printed in the same order that they were added (like dictionaries)\n",
    "* Duplicate keys are not allowed, but attempting to add duplicate keys will overwrite the current value of that key (no exception is thrown)"
   ]
  },
  {
   "cell_type": "code",
   "execution_count": 11,
   "metadata": {
    "dotnet_interactive": {
     "language": "csharp"
    },
    "polyglot_notebook": {
     "kernelName": "csharp"
    },
    "vscode": {
     "languageId": "polyglot-notebook"
    }
   },
   "outputs": [],
   "source": [
    "using System.Collections;"
   ]
  },
  {
   "cell_type": "markdown",
   "metadata": {},
   "source": [
    "### Hashtable Declaration"
   ]
  },
  {
   "cell_type": "code",
   "execution_count": 3,
   "metadata": {
    "vscode": {
     "languageId": "polyglot-notebook"
    }
   },
   "outputs": [],
   "source": [
    "Hashtable cars = new Hashtable();"
   ]
  },
  {
   "cell_type": "markdown",
   "metadata": {},
   "source": [
    "### Hashtable Intialization"
   ]
  },
  {
   "cell_type": "code",
   "execution_count": 6,
   "metadata": {
    "dotnet_interactive": {
     "language": "csharp"
    },
    "polyglot_notebook": {
     "kernelName": "csharp"
    },
    "vscode": {
     "languageId": "polyglot-notebook"
    }
   },
   "outputs": [
    {
     "name": "stdout",
     "output_type": "stream",
     "text": [
      "Key: nissan, Value: altima\n",
      "Key: ford, Value: expedition\n",
      "Key: toyota, Value: corolla\n",
      "\n",
      "\n",
      "Key: nissan, Value: altima\n",
      "Key: ford, Value: expedition\n",
      "Key: toyota, Value: corolla\n"
     ]
    }
   ],
   "source": [
    "Hashtable cars2 = new Hashtable();\n",
    "cars2.Add(\"toyota\", \"corolla\");\n",
    "cars2.Add(\"ford\", \"expedition\");\n",
    "cars2.Add(\"nissan\", \"altima\");\n",
    "\n",
    "foreach(DictionaryEntry car in cars2)\n",
    "    Console.WriteLine(\"Key: {0}, Value: {1}\", car.Key, car.Value); \n",
    "\n",
    "// OR\n",
    "Console.WriteLine(\"\\n\");\n",
    "\n",
    "Hashtable cars3 = new Hashtable()\n",
    "{\n",
    "    {\"toyota\", \"corolla\"},\n",
    "    {\"ford\", \"expedition\"},\n",
    "    {\"nissan\", \"altima\"}\n",
    "};\n",
    "\n",
    "foreach(DictionaryEntry car in cars3)\n",
    "    Console.WriteLine(\"Key: {0}, Value: {1}\", car.Key, car.Value); \n"
   ]
  },
  {
   "cell_type": "markdown",
   "metadata": {},
   "source": [
    "### Hashtable Value Modification"
   ]
  },
  {
   "cell_type": "code",
   "execution_count": 7,
   "metadata": {
    "dotnet_interactive": {
     "language": "csharp"
    },
    "polyglot_notebook": {
     "kernelName": "csharp"
    },
    "vscode": {
     "languageId": "polyglot-notebook"
    }
   },
   "outputs": [
    {
     "name": "stdout",
     "output_type": "stream",
     "text": [
      "Key: nissan, Value: altima\n",
      "Key: ford, Value: focus\n",
      "Key: toyota, Value: camry\n"
     ]
    }
   ],
   "source": [
    "Hashtable cars4 = new Hashtable()\n",
    "{\n",
    "    {\"toyota\", \"corolla\"},\n",
    "    {\"ford\", \"expedition\"},\n",
    "    {\"nissan\", \"altima\"}\n",
    "};\n",
    "\n",
    "cars4[\"toyota\"] = \"camry\";\n",
    "cars4[\"ford\"] = \"focus\";\n",
    "\n",
    "foreach(DictionaryEntry car in cars4)\n",
    "    Console.WriteLine(\"Key: {0}, Value: {1}\", car.Key, car.Value); "
   ]
  },
  {
   "cell_type": "markdown",
   "metadata": {},
   "source": [
    "<hr>"
   ]
  },
  {
   "cell_type": "markdown",
   "metadata": {},
   "source": [
    "## Hashtable Methods/Properties"
   ]
  },
  {
   "cell_type": "markdown",
   "metadata": {},
   "source": [
    "### `.Count` property: returns number of entries in hashtable"
   ]
  },
  {
   "cell_type": "code",
   "execution_count": 89,
   "metadata": {
    "dotnet_interactive": {
     "language": "csharp"
    },
    "polyglot_notebook": {
     "kernelName": "csharp"
    },
    "vscode": {
     "languageId": "polyglot-notebook"
    }
   },
   "outputs": [
    {
     "name": "stdout",
     "output_type": "stream",
     "text": [
      "3\r\n"
     ]
    }
   ],
   "source": [
    "Hashtable cars5 = new Hashtable()\n",
    "{\n",
    "    {\"toyota\", \"corolla\"},\n",
    "    {\"ford\", \"expedition\"},\n",
    "    {\"nissan\", \"altima\"}\n",
    "}; \n",
    "\n",
    "Console.WriteLine(cars5.Count);"
   ]
  },
  {
   "cell_type": "markdown",
   "metadata": {},
   "source": [
    "### `.Keys` property: returns a collection of all of the keys in hashtable\n",
    "\n",
    "*NOTE: Return type is an `ICollection`*"
   ]
  },
  {
   "cell_type": "code",
   "execution_count": 84,
   "metadata": {
    "dotnet_interactive": {
     "language": "csharp"
    },
    "polyglot_notebook": {
     "kernelName": "csharp"
    },
    "vscode": {
     "languageId": "polyglot-notebook"
    }
   },
   "outputs": [
    {
     "name": "stdout",
     "output_type": "stream",
     "text": [
      "COL\n",
      "NYR\n",
      "DAL\n",
      "WPG\n"
     ]
    }
   ],
   "source": [
    "Hashtable nhlteams = new Hashtable()\n",
    "{\n",
    "    {\"COL\", \"colorado avalanche\"},\n",
    "    {\"WPG\", \"winnipeg jets\"},\n",
    "    {\"DAL\", \"dallas stars\"},\n",
    "    {\"NYR\", \"new york rangers\"},\n",
    "};\n",
    "\n",
    "foreach(string team in nhlteams.Keys)\n",
    "    Console.WriteLine(team);"
   ]
  },
  {
   "cell_type": "markdown",
   "metadata": {},
   "source": [
    "### `.Values` property: returns an collection of all of the values in hashtable\n",
    "\n",
    "*NOTE: Return type is an `ICollection`*"
   ]
  },
  {
   "cell_type": "code",
   "execution_count": 88,
   "metadata": {
    "dotnet_interactive": {
     "language": "csharp"
    },
    "polyglot_notebook": {
     "kernelName": "csharp"
    },
    "vscode": {
     "languageId": "polyglot-notebook"
    }
   },
   "outputs": [
    {
     "name": "stdout",
     "output_type": "stream",
     "text": [
      "colorado avalanche\n",
      "new york rangers\n",
      "dallas stars\n",
      "winnipeg jets\n"
     ]
    }
   ],
   "source": [
    "Hashtable nhlteams2 = new Hashtable()\n",
    "{\n",
    "    {\"COL\", \"colorado avalanche\"},\n",
    "    {\"WPG\", \"winnipeg jets\"},\n",
    "    {\"DAL\", \"dallas stars\"},\n",
    "    {\"NYR\", \"new york rangers\"},\n",
    "};\n",
    "\n",
    "foreach(string team in nhlteams2.Values)\n",
    "    Console.WriteLine(team);"
   ]
  },
  {
   "cell_type": "markdown",
   "metadata": {},
   "source": [
    "### `.ContainsKey()`: returns boolean if given key exists in hashtable"
   ]
  },
  {
   "cell_type": "code",
   "execution_count": 9,
   "metadata": {
    "dotnet_interactive": {
     "language": "csharp"
    },
    "polyglot_notebook": {
     "kernelName": "csharp"
    },
    "vscode": {
     "languageId": "polyglot-notebook"
    }
   },
   "outputs": [
    {
     "name": "stdout",
     "output_type": "stream",
     "text": [
      "Does the hashtable contain 'bread'? True\n",
      "Does the hashtable contain 'dessert'? False\n"
     ]
    }
   ],
   "source": [
    "Hashtable food = new Hashtable()\n",
    "{\n",
    "    {\"bread\", \"baguette\"},\n",
    "    {\"fruit\", \"blackberries\"},\n",
    "    {\"vegetable\", \"celery\"}\n",
    "};\n",
    "\n",
    "Console.WriteLine($\"Does the hashtable contain 'bread' key? {food.ContainsKey(\"bread\")}\");\n",
    "Console.WriteLine($\"Does the hashtable contain 'dessert' key? {food.ContainsKey(\"dessert\")}\");"
   ]
  },
  {
   "cell_type": "markdown",
   "metadata": {},
   "source": [
    "### `.ContainsValue()`: returns boolean if given value exists in hashtable"
   ]
  },
  {
   "cell_type": "code",
   "execution_count": 10,
   "metadata": {
    "dotnet_interactive": {
     "language": "csharp"
    },
    "polyglot_notebook": {
     "kernelName": "csharp"
    },
    "vscode": {
     "languageId": "polyglot-notebook"
    }
   },
   "outputs": [
    {
     "name": "stdout",
     "output_type": "stream",
     "text": [
      "Does the hashtable contain 'celery' value? True\n",
      "Does the hashtable contain 'concrete' value? False\n"
     ]
    }
   ],
   "source": [
    "Hashtable food2 = new Hashtable()\n",
    "{\n",
    "    {\"bread\", \"baguette\"},\n",
    "    {\"fruit\", \"blackberries\"},\n",
    "    {\"vegetable\", \"celery\"}\n",
    "};\n",
    "\n",
    "Console.WriteLine($\"Does the hashtable contain 'celery' value? {food.ContainsValue(\"celery\")}\");\n",
    "Console.WriteLine($\"Does the hashtable contain 'concrete' value? {food.ContainsValue(\"concrete\")}\");"
   ]
  },
  {
   "cell_type": "markdown",
   "metadata": {},
   "source": [
    "### `.Clear()`: removes all entries in hashtable"
   ]
  },
  {
   "cell_type": "code",
   "execution_count": 14,
   "metadata": {
    "dotnet_interactive": {
     "language": "csharp"
    },
    "polyglot_notebook": {
     "kernelName": "csharp"
    },
    "vscode": {
     "languageId": "polyglot-notebook"
    }
   },
   "outputs": [
    {
     "name": "stdout",
     "output_type": "stream",
     "text": [
      "Before clearing elements:\n",
      "Key: charlotte, Value: north carolina\n",
      "Key: albany, Value: new york\n",
      "Key: atlanta, Value: georgia\n",
      "Key: las vegas, Value: nevada\n",
      "\n",
      "After clearing elements:\n"
     ]
    }
   ],
   "source": [
    "Hashtable cities2 = new Hashtable()\n",
    "{\n",
    "    {\"atlanta\", \"georgia\"},\n",
    "    {\"charlotte\", \"north carolina\"},\n",
    "    {\"las vegas\", \"nevada\"},\n",
    "    {\"albany\", \"new york\"},\n",
    "};\n",
    "\n",
    "Console.WriteLine(\"Before clearing elements:\");\n",
    "foreach(DictionaryEntry city in cities2)\n",
    "    Console.WriteLine(\"Key: {0}, Value: {1}\", city.Key, city.Value); \n",
    "\n",
    "cities.Clear();\n",
    "\n",
    "\n",
    "Console.WriteLine(\"\\nAfter clearing elements:\");\n",
    "foreach(DictionaryEntry city in cities)\n",
    "    Console.WriteLine(\"Key: {0}, Value: {1}\", city.Key, city.Value); "
   ]
  },
  {
   "cell_type": "markdown",
   "metadata": {},
   "source": [
    "### `.Clone()`: returns a shallow copy of the given hashtable\n",
    "\n",
    "*NOTE: \"shallow\" as in, reference types elements (NOT value type elements) in both the original and new hashtables will continue to have the same reference, so modifications made in one hashtable will affect the other.*"
   ]
  },
  {
   "cell_type": "markdown",
   "metadata": {},
   "source": [
    "*Value type elements:*"
   ]
  },
  {
   "cell_type": "code",
   "execution_count": 76,
   "metadata": {
    "dotnet_interactive": {
     "language": "csharp"
    },
    "polyglot_notebook": {
     "kernelName": "csharp"
    },
    "vscode": {
     "languageId": "polyglot-notebook"
    }
   },
   "outputs": [
    {
     "name": "stdout",
     "output_type": "stream",
     "text": [
      "Original hashtable:\n",
      "Key: COL, Value: colorado avalanche\n",
      "Key: NYR, Value: new york rangers\n",
      "Key: DAL, Value: dallas stars\n",
      "Key: WPG, Value: winnipeg jets\n",
      "\n",
      "Cloned hashtable:\n",
      "Key: COL, Value: colorado avalanche\n",
      "Key: NYR, Value: new york rangers\n",
      "Key: DAL, Value: dallas stars\n",
      "Key: WPG, Value: winnipeg jets\n"
     ]
    }
   ],
   "source": [
    "Hashtable nhlteams3 = new Hashtable()\n",
    "{\n",
    "    {\"COL\", \"colorado avalanche\"},\n",
    "    {\"WPG\", \"winnipeg jets\"},\n",
    "    {\"DAL\", \"dallas stars\"},\n",
    "    {\"NYR\", \"new york rangers\"},\n",
    "};\n",
    "\n",
    "Console.WriteLine(\"Original hashtable:\");\n",
    "foreach(DictionaryEntry team in nhlteams3)\n",
    "    Console.WriteLine(\"Key: {0}, Value: {1}\", team.Key, team.Value); \n",
    "\n",
    "\n",
    "Hashtable nhlteams3_cloned = (Hashtable)nhlteams3.Clone();\n",
    "\n",
    "\n",
    "Console.WriteLine(\"\\nCloned hashtable:\");\n",
    "foreach(DictionaryEntry team in nhlteams3_cloned)\n",
    "    Console.WriteLine(\"Key: {0}, Value: {1}\", team.Key, team.Value); "
   ]
  },
  {
   "cell_type": "markdown",
   "metadata": {},
   "source": [
    "*Reference type elements:*"
   ]
  },
  {
   "cell_type": "code",
   "execution_count": 75,
   "metadata": {
    "dotnet_interactive": {
     "language": "csharp"
    },
    "polyglot_notebook": {
     "kernelName": "csharp"
    },
    "vscode": {
     "languageId": "polyglot-notebook"
    }
   },
   "outputs": [
    {
     "name": "stdout",
     "output_type": "stream",
     "text": [
      "Original hashtable:\n",
      "KEY == squidward, VALUE == First Name: squidward, Last Name: tentacles, Major: music\n",
      "KEY == eugene, VALUE == First Name: eugene, Last Name: krabs, Major: finance\n",
      "KEY == spongebob, VALUE == First Name: spongebob, Last Name: squarepants, Major: hospitality\n",
      "KEY == sandy, VALUE == First Name: sandy, Last Name: cheeks, Major: physics\n",
      "\n",
      "Original hashtable (MODIFIED):\n",
      "KEY == squidward, VALUE == First Name: squidward, Last Name: tentacles, Major: music\n",
      "KEY == eugene, VALUE == First Name: eugene, Last Name: krabs, Major: finance\n",
      "KEY == spongebob, VALUE == First Name: SPONGEBOB, Last Name: SQUAREPANTS, Major: hospitality\n",
      "KEY == sandy, VALUE == First Name: sandy, Last Name: cheeks, Major: physics\n",
      "\n",
      "Cloned hashtable (MODIFIED):\n",
      "KEY == squidward, VALUE == First Name: squidward, Last Name: tentacles, Major: music\n",
      "KEY == eugene, VALUE == First Name: eugene, Last Name: krabs, Major: finance\n",
      "KEY == spongebob, VALUE == First Name: SPONGEBOB, Last Name: SQUAREPANTS, Major: hospitality\n",
      "KEY == sandy, VALUE == First Name: sandy, Last Name: cheeks, Major: physics\n"
     ]
    }
   ],
   "source": [
    "internal class Student\n",
    "{\n",
    "    public string FirstName { get; set; }\n",
    "    public string LastName { get; set; }\n",
    "    public string FieldOfStudy { get; set; }\n",
    "    \n",
    "    public override string ToString()\n",
    "    {\n",
    "        return $\"First Name: {FirstName}, Last Name: {LastName}, Major: {FieldOfStudy}\";\n",
    "    }\n",
    "}\n",
    "\n",
    "Hashtable students = new Hashtable()\n",
    "{\n",
    "    {\"spongebob\", new Student(){FirstName=\"spongebob\", LastName=\"squarepants\", FieldOfStudy=\"hospitality\"}},\n",
    "    {\"sandy\", new Student(){FirstName=\"sandy\", LastName=\"cheeks\", FieldOfStudy=\"physics\"}},\n",
    "    {\"eugene\", new Student(){FirstName=\"eugene\", LastName=\"krabs\", FieldOfStudy=\"finance\"}},\n",
    "    {\"squidward\", new Student(){FirstName=\"squidward\", LastName=\"tentacles\", FieldOfStudy=\"music\"}}\n",
    "};\n",
    "\n",
    "\n",
    "Console.WriteLine(\"Original hashtable:\");\n",
    "foreach(DictionaryEntry student in students)\n",
    "    Console.WriteLine(\"KEY == {0}, VALUE == {1}\", student.Key, student.Value.ToString()); \n",
    "\n",
    "\n",
    "Hashtable students_cloned = (Hashtable)students.Clone();\n",
    "\n",
    "// // modification in cloned hashtable that will affect both hashtables' reference type elements (Student class instances)\n",
    "((Student)students_cloned[\"spongebob\"]).FirstName = \"SPONGEBOB\";\n",
    "((Student)students_cloned[\"spongebob\"]).LastName = \"SQUAREPANTS\";\n",
    "\n",
    "\n",
    "Console.WriteLine(\"\\nOriginal hashtable (MODIFIED):\");\n",
    "foreach(DictionaryEntry student in students)\n",
    "    Console.WriteLine(\"KEY == {0}, VALUE == {1}\", student.Key, student.Value.ToString()); \n",
    "\n",
    "\n",
    "Hashtable nhlteams2_cloned = (Hashtable)nhlteams2.Clone();\n",
    "\n",
    "\n",
    "Console.WriteLine(\"\\nCloned hashtable (MODIFIED):\");\n",
    "foreach(DictionaryEntry student in students_cloned)\n",
    "    Console.WriteLine(\"KEY == {0}, VALUE == {1}\", student.Key, student.Value.ToString()); "
   ]
  },
  {
   "cell_type": "markdown",
   "metadata": {},
   "source": [
    "<hr>\n",
    "<hr>"
   ]
  },
  {
   "cell_type": "markdown",
   "metadata": {},
   "source": [
    "## Generic (`Dictionary<TKey,TValue>`)\n",
    "\n",
    "__Considerations:__\n",
    "* Duplicate keys are not allowed, an exception is thrown if attempting to add a duplicate key"
   ]
  },
  {
   "cell_type": "code",
   "execution_count": null,
   "metadata": {
    "vscode": {
     "languageId": "polyglot-notebook"
    }
   },
   "outputs": [],
   "source": []
  }
 ],
 "metadata": {
  "language_info": {
   "name": "python"
  },
  "orig_nbformat": 4
 },
 "nbformat": 4,
 "nbformat_minor": 2
}
