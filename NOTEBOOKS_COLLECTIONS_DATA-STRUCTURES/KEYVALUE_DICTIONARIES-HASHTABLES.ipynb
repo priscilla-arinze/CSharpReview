{
 "cells": [
  {
   "cell_type": "markdown",
   "metadata": {},
   "source": [
    "# COLLECTIONS (KEY VALUE PAIRS) -- DICTIONARIES / HASHTABLES"
   ]
  },
  {
   "cell_type": "markdown",
   "metadata": {},
   "source": [
    "## Non-Generic (`Hashtable`)\n",
    "\n",
    "__Considerations:__\n",
    "* Each key-value pair entry is a `DictionaryEntry` object\n",
    "* Entries are stored & ordered by the key's hash code, so they might not be printed in the same order that they were added (like dictionaries)\n",
    "* Duplicate keys are not allowed, but attempting to add duplicate keys will overwrite the current value of that key (no exception is thrown)"
   ]
  },
  {
   "cell_type": "code",
   "execution_count": 1,
   "metadata": {
    "dotnet_interactive": {
     "language": "csharp"
    },
    "polyglot_notebook": {
     "kernelName": "csharp"
    },
    "vscode": {
     "languageId": "polyglot-notebook"
    }
   },
   "outputs": [],
   "source": [
    "using System.Collections;"
   ]
  },
  {
   "cell_type": "markdown",
   "metadata": {},
   "source": [
    "### Hashtable Declaration"
   ]
  },
  {
   "cell_type": "code",
   "execution_count": 3,
   "metadata": {
    "vscode": {
     "languageId": "polyglot-notebook"
    }
   },
   "outputs": [],
   "source": [
    "Hashtable cars = new Hashtable();"
   ]
  },
  {
   "cell_type": "markdown",
   "metadata": {},
   "source": [
    "### Hashtable Intialization"
   ]
  },
  {
   "cell_type": "code",
   "execution_count": 6,
   "metadata": {
    "dotnet_interactive": {
     "language": "csharp"
    },
    "polyglot_notebook": {
     "kernelName": "csharp"
    },
    "vscode": {
     "languageId": "polyglot-notebook"
    }
   },
   "outputs": [
    {
     "name": "stdout",
     "output_type": "stream",
     "text": [
      "Key: nissan, Value: altima\n",
      "Key: ford, Value: expedition\n",
      "Key: toyota, Value: corolla\n",
      "\n",
      "\n",
      "Key: nissan, Value: altima\n",
      "Key: ford, Value: expedition\n",
      "Key: toyota, Value: corolla\n"
     ]
    }
   ],
   "source": [
    "Hashtable cars2 = new Hashtable();\n",
    "cars2.Add(\"toyota\", \"corolla\");\n",
    "cars2.Add(\"ford\", \"expedition\");\n",
    "cars2.Add(\"nissan\", \"altima\");\n",
    "\n",
    "foreach(DictionaryEntry car in cars2)\n",
    "    Console.WriteLine(\"Key: {0}, Value: {1}\", car.Key, car.Value); \n",
    "\n",
    "// OR\n",
    "Console.WriteLine(\"\\n\");\n",
    "\n",
    "Hashtable cars3 = new Hashtable()\n",
    "{\n",
    "    {\"toyota\", \"corolla\"},\n",
    "    {\"ford\", \"expedition\"},\n",
    "    {\"nissan\", \"altima\"}\n",
    "};\n",
    "\n",
    "foreach(DictionaryEntry car in cars3)\n",
    "    Console.WriteLine(\"Key: {0}, Value: {1}\", car.Key, car.Value); \n"
   ]
  },
  {
   "cell_type": "markdown",
   "metadata": {},
   "source": [
    "### Hashtable Value Modification"
   ]
  },
  {
   "cell_type": "code",
   "execution_count": 7,
   "metadata": {
    "dotnet_interactive": {
     "language": "csharp"
    },
    "polyglot_notebook": {
     "kernelName": "csharp"
    },
    "vscode": {
     "languageId": "polyglot-notebook"
    }
   },
   "outputs": [
    {
     "name": "stdout",
     "output_type": "stream",
     "text": [
      "Key: nissan, Value: altima\n",
      "Key: ford, Value: focus\n",
      "Key: toyota, Value: camry\n"
     ]
    }
   ],
   "source": [
    "Hashtable cars4 = new Hashtable()\n",
    "{\n",
    "    {\"toyota\", \"corolla\"},\n",
    "    {\"ford\", \"expedition\"},\n",
    "    {\"nissan\", \"altima\"}\n",
    "};\n",
    "\n",
    "cars4[\"toyota\"] = \"camry\";\n",
    "cars4[\"ford\"] = \"focus\";\n",
    "\n",
    "foreach(DictionaryEntry car in cars4)\n",
    "    Console.WriteLine(\"Key: {0}, Value: {1}\", car.Key, car.Value); "
   ]
  },
  {
   "cell_type": "markdown",
   "metadata": {},
   "source": [
    "<hr>"
   ]
  },
  {
   "cell_type": "markdown",
   "metadata": {},
   "source": [
    "## Hashtable Methods/Properties"
   ]
  },
  {
   "cell_type": "markdown",
   "metadata": {},
   "source": [
    "### `.ContainsKey()`: returns boolean if given key exists in hashtable"
   ]
  },
  {
   "cell_type": "code",
   "execution_count": 8,
   "metadata": {
    "dotnet_interactive": {
     "language": "csharp"
    },
    "polyglot_notebook": {
     "kernelName": "csharp"
    },
    "vscode": {
     "languageId": "polyglot-notebook"
    }
   },
   "outputs": [
    {
     "name": "stdout",
     "output_type": "stream",
     "text": [
      "Does the hashtable contain 'bread'? True\r\n"
     ]
    }
   ],
   "source": [
    "Hashtable food = new Hashtable()\n",
    "{\n",
    "    {\"bread\", \"baguette\"},\n",
    "    {\"fruit\", \"blackberries\"},\n",
    "    {\"vegetable\", \"celery\"}\n",
    "};\n",
    "\n",
    "Console.WriteLine($\"Does the hashtable contain 'bread'? {food.ContainsKey(\"bread\")}\");"
   ]
  },
  {
   "cell_type": "markdown",
   "metadata": {},
   "source": [
    "<hr>\n",
    "<hr>"
   ]
  },
  {
   "cell_type": "markdown",
   "metadata": {},
   "source": [
    "## Generic (`Dictionary<TKey,TValue>`)\n",
    "\n",
    "__Considerations:__\n",
    "* Duplicate keys are not allowed, an exception is thrown if attempting to add a duplicate key"
   ]
  },
  {
   "cell_type": "code",
   "execution_count": null,
   "metadata": {
    "vscode": {
     "languageId": "polyglot-notebook"
    }
   },
   "outputs": [],
   "source": []
  }
 ],
 "metadata": {
  "language_info": {
   "name": "python"
  },
  "orig_nbformat": 4
 },
 "nbformat": 4,
 "nbformat_minor": 2
}
