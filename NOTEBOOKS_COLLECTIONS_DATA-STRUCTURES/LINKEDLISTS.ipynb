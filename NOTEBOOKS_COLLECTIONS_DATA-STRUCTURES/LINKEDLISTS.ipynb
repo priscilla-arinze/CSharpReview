{
 "cells": [
  {
   "cell_type": "markdown",
   "metadata": {},
   "source": [
    "# COLLECTIONS - LINKEDLISTS"
   ]
  },
  {
   "cell_type": "markdown",
   "metadata": {},
   "source": [
    "## Generic ONLY (`LinkedList<T>`)\n",
    "\n",
    "__Considerations:__\n",
    "* This implementation is a doubly linked list (each node knows about the node before and the node after itself)\n",
    "    * Head node points to the next node and `null`; Tail node points to the previous node and `null`\n",
    "* Each node is a `LinkedListNode<T>` type\n",
    "* Not thread-safe, node additions/removals/accesses/enumerations will require the `LinkedList<T>` to be locked"
   ]
  },
  {
   "cell_type": "code",
   "execution_count": 1,
   "metadata": {
    "vscode": {
     "languageId": "polyglot-notebook"
    }
   },
   "outputs": [],
   "source": [
    "using System.Collections.Generic;"
   ]
  },
  {
   "cell_type": "markdown",
   "metadata": {},
   "source": [
    "### LinkedList Declaration"
   ]
  },
  {
   "cell_type": "code",
   "execution_count": 11,
   "metadata": {
    "vscode": {
     "languageId": "polyglot-notebook"
    }
   },
   "outputs": [],
   "source": [
    "LinkedList<int> numbers = new LinkedList<int>(); "
   ]
  },
  {
   "cell_type": "markdown",
   "metadata": {},
   "source": [
    "### LinkedList Intialization"
   ]
  },
  {
   "cell_type": "code",
   "execution_count": 15,
   "metadata": {
    "dotnet_interactive": {
     "language": "csharp"
    },
    "polyglot_notebook": {
     "kernelName": "csharp"
    },
    "vscode": {
     "languageId": "polyglot-notebook"
    }
   },
   "outputs": [
    {
     "name": "stdout",
     "output_type": "stream",
     "text": [
      "1, 2, 3, 4, 5, 6, 7, 8, 9, 10\r\n"
     ]
    }
   ],
   "source": [
    "LinkedList<int> numbers10 = new LinkedList<int>(new int[] {1,2,3,4,5,6,7,8,9,10}); \n",
    "\n",
    "Console.WriteLine(String.Join(\", \", numbers10));"
   ]
  },
  {
   "cell_type": "markdown",
   "metadata": {},
   "source": [
    "<hr>"
   ]
  },
  {
   "cell_type": "markdown",
   "metadata": {},
   "source": [
    "## LinkedList Methods/Properties"
   ]
  },
  {
   "cell_type": "markdown",
   "metadata": {},
   "source": [
    "### `.Count` property: returns number of elements in LinkedList"
   ]
  },
  {
   "cell_type": "code",
   "execution_count": 17,
   "metadata": {
    "dotnet_interactive": {
     "language": "csharp"
    },
    "polyglot_notebook": {
     "kernelName": "csharp"
    },
    "vscode": {
     "languageId": "polyglot-notebook"
    }
   },
   "outputs": [
    {
     "name": "stdout",
     "output_type": "stream",
     "text": [
      "10\r\n"
     ]
    }
   ],
   "source": [
    "LinkedList<int> numbers10 = new LinkedList<int>(new int[] {1,2,3,4,5,6,7,8,9,10}); \n",
    "\n",
    "Console.WriteLine(numbers10.Count);"
   ]
  },
  {
   "cell_type": "markdown",
   "metadata": {},
   "source": [
    "### `LinkedListNode<T>.Value` property: returns the actual element of the given LinkedList node object"
   ]
  },
  {
   "cell_type": "code",
   "execution_count": 49,
   "metadata": {
    "dotnet_interactive": {
     "language": "csharp"
    },
    "polyglot_notebook": {
     "kernelName": "csharp"
    },
    "vscode": {
     "languageId": "polyglot-notebook"
    }
   },
   "outputs": [
    {
     "name": "stdout",
     "output_type": "stream",
     "text": [
      "Node object: System.Collections.Generic.LinkedListNode`1[System.Int32]; Node value: 1\n",
      "Node object: System.Collections.Generic.LinkedListNode`1[System.Int32]; Node value: 2\n",
      "Node object: System.Collections.Generic.LinkedListNode`1[System.Int32]; Node value: 3\n",
      "Node object: System.Collections.Generic.LinkedListNode`1[System.Int32]; Node value: 4\n",
      "Node object: System.Collections.Generic.LinkedListNode`1[System.Int32]; Node value: 5\n",
      "Node object: System.Collections.Generic.LinkedListNode`1[System.Int32]; Node value: 6\n",
      "Node object: System.Collections.Generic.LinkedListNode`1[System.Int32]; Node value: 7\n",
      "Node object: System.Collections.Generic.LinkedListNode`1[System.Int32]; Node value: 8\n",
      "Node object: System.Collections.Generic.LinkedListNode`1[System.Int32]; Node value: 9\n",
      "Node object: System.Collections.Generic.LinkedListNode`1[System.Int32]; Node value: 10\n"
     ]
    }
   ],
   "source": [
    "LinkedList<int> numbers10 = new LinkedList<int>(new int[] {1,2,3,4,5,6,7,8,9,10}); \n",
    "\n",
    "// numbers10.\n",
    "\n",
    "for(LinkedListNode<int> numNode = numbers10.First; numNode != null; numNode=numNode.Next)\n",
    "    Console.WriteLine($\"Node object: {numNode}; Node value: {numNode.Value}\");"
   ]
  },
  {
   "cell_type": "markdown",
   "metadata": {},
   "source": [
    "### `.First` property: returns the first node object in the LinkedList"
   ]
  },
  {
   "cell_type": "code",
   "execution_count": 22,
   "metadata": {
    "dotnet_interactive": {
     "language": "csharp"
    },
    "polyglot_notebook": {
     "kernelName": "csharp"
    },
    "vscode": {
     "languageId": "polyglot-notebook"
    }
   },
   "outputs": [
    {
     "name": "stdout",
     "output_type": "stream",
     "text": [
      "System.Collections.Generic.LinkedListNode`1[System.Int32]\n",
      "1\n"
     ]
    }
   ],
   "source": [
    "LinkedList<int> numbers10 = new LinkedList<int>(new int[] {1,2,3,4,5,6,7,8,9,10}); \n",
    "\n",
    "Console.WriteLine(numbers10.First);\n",
    "Console.WriteLine(numbers10.First.Value);"
   ]
  },
  {
   "cell_type": "markdown",
   "metadata": {},
   "source": [
    "### `.Last` property: returns the last node object in the LinkedList"
   ]
  },
  {
   "cell_type": "code",
   "execution_count": 23,
   "metadata": {
    "dotnet_interactive": {
     "language": "csharp"
    },
    "polyglot_notebook": {
     "kernelName": "csharp"
    },
    "vscode": {
     "languageId": "polyglot-notebook"
    }
   },
   "outputs": [
    {
     "name": "stdout",
     "output_type": "stream",
     "text": [
      "System.Collections.Generic.LinkedListNode`1[System.Int32]\n",
      "10\n"
     ]
    }
   ],
   "source": [
    "LinkedList<int> numbers10 = new LinkedList<int>(new int[] {1,2,3,4,5,6,7,8,9,10}); \n",
    "\n",
    "Console.WriteLine(numbers10.Last);\n",
    "Console.WriteLine(numbers10.Last.Value);"
   ]
  },
  {
   "cell_type": "markdown",
   "metadata": {},
   "source": [
    "### `.Next` property: returns the next node object of the specified node in the LinkedList"
   ]
  },
  {
   "cell_type": "code",
   "execution_count": 34,
   "metadata": {
    "dotnet_interactive": {
     "language": "csharp"
    },
    "polyglot_notebook": {
     "kernelName": "csharp"
    },
    "vscode": {
     "languageId": "polyglot-notebook"
    }
   },
   "outputs": [
    {
     "name": "stdout",
     "output_type": "stream",
     "text": [
      "System.Collections.Generic.LinkedListNode`1[System.Int32]\n",
      "2\n"
     ]
    }
   ],
   "source": [
    "LinkedList<int> numbers10 = new LinkedList<int>(new int[] {1,2,3,4,5,6,7,8,9,10}); \n",
    "\n",
    "Console.WriteLine(numbers10.First.Next);\n",
    "Console.WriteLine(numbers10.First.Next.Value);"
   ]
  },
  {
   "cell_type": "markdown",
   "metadata": {},
   "source": [
    "### `.Previous` property: returns the previous node object of the specified node in the LinkedList"
   ]
  },
  {
   "cell_type": "code",
   "execution_count": 35,
   "metadata": {
    "dotnet_interactive": {
     "language": "csharp"
    },
    "polyglot_notebook": {
     "kernelName": "csharp"
    },
    "vscode": {
     "languageId": "polyglot-notebook"
    }
   },
   "outputs": [
    {
     "name": "stdout",
     "output_type": "stream",
     "text": [
      "System.Collections.Generic.LinkedListNode`1[System.Int32]\n",
      "9\n"
     ]
    }
   ],
   "source": [
    "LinkedList<int> numbers10 = new LinkedList<int>(new int[] {1,2,3,4,5,6,7,8,9,10}); \n",
    "\n",
    "Console.WriteLine(numbers10.Last.Previous);\n",
    "Console.WriteLine(numbers10.Last.Previous.Value);"
   ]
  },
  {
   "cell_type": "markdown",
   "metadata": {},
   "source": [
    "### `.AddFirst()`: appends specified node at the beginning of the LinkedList"
   ]
  },
  {
   "cell_type": "code",
   "execution_count": 28,
   "metadata": {
    "dotnet_interactive": {
     "language": "csharp"
    },
    "polyglot_notebook": {
     "kernelName": "csharp"
    },
    "vscode": {
     "languageId": "polyglot-notebook"
    }
   },
   "outputs": [
    {
     "name": "stdout",
     "output_type": "stream",
     "text": [
      "0, 1, 2, 3, 4, 5, 6, 7, 8, 9, 10\r\n"
     ]
    }
   ],
   "source": [
    "LinkedList<int> numbers10 = new LinkedList<int>(new int[] {1,2,3,4,5,6,7,8,9,10}); \n",
    "\n",
    "numbers10.AddFirst(0);\n",
    "\n",
    "Console.WriteLine(String.Join(\", \", numbers10));"
   ]
  },
  {
   "cell_type": "markdown",
   "metadata": {},
   "source": [
    "### `.RemoveFirst()`: removes first node at the beginning of the LinkedList"
   ]
  },
  {
   "cell_type": "code",
   "execution_count": 29,
   "metadata": {
    "dotnet_interactive": {
     "language": "csharp"
    },
    "polyglot_notebook": {
     "kernelName": "csharp"
    },
    "vscode": {
     "languageId": "polyglot-notebook"
    }
   },
   "outputs": [
    {
     "name": "stdout",
     "output_type": "stream",
     "text": [
      "2, 3, 4, 5, 6, 7, 8, 9, 10\r\n"
     ]
    }
   ],
   "source": [
    "LinkedList<int> numbers10 = new LinkedList<int>(new int[] {1,2,3,4,5,6,7,8,9,10}); \n",
    "\n",
    "numbers10.RemoveFirst();\n",
    "\n",
    "Console.WriteLine(String.Join(\", \", numbers10));"
   ]
  },
  {
   "cell_type": "markdown",
   "metadata": {},
   "source": [
    "### `.AddLast()`: appends specified node at the end of the LinkedList"
   ]
  },
  {
   "cell_type": "code",
   "execution_count": null,
   "metadata": {
    "dotnet_interactive": {
     "language": "csharp"
    },
    "polyglot_notebook": {
     "kernelName": "csharp"
    },
    "vscode": {
     "languageId": "polyglot-notebook"
    }
   },
   "outputs": [
    {
     "name": "stdout",
     "output_type": "stream",
     "text": [
      "1, 2, 3, 4, 5, 6, 7, 8, 9, 10, 11\r\n"
     ]
    }
   ],
   "source": [
    "LinkedList<int> numbers10 = new LinkedList<int>(new int[] {1,2,3,4,5,6,7,8,9,10}); \n",
    "\n",
    "numbers10.AddLast(11);\n",
    "\n",
    "Console.WriteLine(String.Join(\", \", numbers10));"
   ]
  },
  {
   "cell_type": "markdown",
   "metadata": {},
   "source": [
    "### `.RemoveLast()`: removes last node at the end of the LinkedList"
   ]
  },
  {
   "cell_type": "code",
   "execution_count": null,
   "metadata": {
    "dotnet_interactive": {
     "language": "csharp"
    },
    "polyglot_notebook": {
     "kernelName": "csharp"
    },
    "vscode": {
     "languageId": "polyglot-notebook"
    }
   },
   "outputs": [
    {
     "name": "stdout",
     "output_type": "stream",
     "text": [
      "1, 2, 3, 4, 5, 6, 7, 8, 9\r\n"
     ]
    }
   ],
   "source": [
    "LinkedList<int> numbers10 = new LinkedList<int>(new int[] {1,2,3,4,5,6,7,8,9,10}); \n",
    "\n",
    "numbers10.RemoveLast();\n",
    "\n",
    "Console.WriteLine(String.Join(\", \", numbers10));"
   ]
  },
  {
   "cell_type": "markdown",
   "metadata": {},
   "source": [
    "### `.Find()`: returns the first node object occurrance of the specified element"
   ]
  },
  {
   "cell_type": "code",
   "execution_count": 36,
   "metadata": {
    "dotnet_interactive": {
     "language": "csharp"
    },
    "polyglot_notebook": {
     "kernelName": "csharp"
    },
    "vscode": {
     "languageId": "polyglot-notebook"
    }
   },
   "outputs": [
    {
     "name": "stdout",
     "output_type": "stream",
     "text": [
      "System.Collections.Generic.LinkedListNode`1[System.Int32]\n",
      "7\n"
     ]
    }
   ],
   "source": [
    "LinkedList<int> numbers15 = new LinkedList<int>(new int[] {1,2,3,4,5,6,7,8,9,10,2,4,6,8,10}); \n",
    "\n",
    "Console.WriteLine(numbers15.Find(6));\n",
    "Console.WriteLine(numbers15.Find(6).Next.Value);"
   ]
  },
  {
   "cell_type": "markdown",
   "metadata": {},
   "source": [
    "### `.FindLast()`: returns the last node object occurrance of the specified element"
   ]
  },
  {
   "cell_type": "code",
   "execution_count": 37,
   "metadata": {
    "dotnet_interactive": {
     "language": "csharp"
    },
    "polyglot_notebook": {
     "kernelName": "csharp"
    },
    "vscode": {
     "languageId": "polyglot-notebook"
    }
   },
   "outputs": [
    {
     "name": "stdout",
     "output_type": "stream",
     "text": [
      "System.Collections.Generic.LinkedListNode`1[System.Int32]\n",
      "8\n"
     ]
    }
   ],
   "source": [
    "LinkedList<int> numbers15 = new LinkedList<int>(new int[] {1,2,3,4,5,6,7,8,9,10,2,4,6,8,10}); \n",
    "\n",
    "Console.WriteLine(numbers15.FindLast(6));\n",
    "Console.WriteLine(numbers15.FindLast(6).Next.Value);"
   ]
  },
  {
   "cell_type": "markdown",
   "metadata": {},
   "source": [
    "### `.RemoveFirst()`: removes first node at the beginning of the LinkedList"
   ]
  },
  {
   "cell_type": "code",
   "execution_count": null,
   "metadata": {
    "dotnet_interactive": {
     "language": "csharp"
    },
    "polyglot_notebook": {
     "kernelName": "csharp"
    },
    "vscode": {
     "languageId": "polyglot-notebook"
    }
   },
   "outputs": [
    {
     "name": "stdout",
     "output_type": "stream",
     "text": [
      "2, 3, 4, 5, 6, 7, 8, 9, 10\r\n"
     ]
    }
   ],
   "source": [
    "LinkedList<int> numbers10 = new LinkedList<int>(new int[] {1,2,3,4,5,6,7,8,9,10}); \n",
    "\n",
    "numbers10.RemoveFirst();\n",
    "\n",
    "Console.WriteLine(String.Join(\", \", numbers10));"
   ]
  },
  {
   "cell_type": "markdown",
   "metadata": {},
   "source": [
    "### `.Remove()`: removes first occurrance of the specified node in LinkedList"
   ]
  },
  {
   "cell_type": "code",
   "execution_count": 43,
   "metadata": {
    "dotnet_interactive": {
     "language": "csharp"
    },
    "polyglot_notebook": {
     "kernelName": "csharp"
    },
    "vscode": {
     "languageId": "polyglot-notebook"
    }
   },
   "outputs": [
    {
     "name": "stdout",
     "output_type": "stream",
     "text": [
      "Original linkedlist: 1, 2, 3, 4, 5, 6, 7, 8, 9, 10\n",
      "After removng '5' from linkedlist: 1, 2, 3, 4, 6, 7, 8, 9, 10\n"
     ]
    }
   ],
   "source": [
    "LinkedList<int> numbers10 = new LinkedList<int>(new int[] {1,2,3,4,5,6,7,8,9,10}); \n",
    "\n",
    "Console.WriteLine($\"Original linkedlist: {String.Join(\", \", numbers10)}\");\n",
    "\n",
    "numbers10.Remove(numbers10.Find(5));\n",
    "\n",
    "Console.WriteLine($\"After removng '5' from linkedlist: {String.Join(\", \", numbers10)}\");"
   ]
  },
  {
   "cell_type": "markdown",
   "metadata": {},
   "source": [
    "### `.Clear()`: removes all nodes in LinkedList"
   ]
  },
  {
   "cell_type": "code",
   "execution_count": 50,
   "metadata": {
    "dotnet_interactive": {
     "language": "csharp"
    },
    "polyglot_notebook": {
     "kernelName": "csharp"
    },
    "vscode": {
     "languageId": "polyglot-notebook"
    }
   },
   "outputs": [
    {
     "name": "stdout",
     "output_type": "stream",
     "text": [
      "Original linkedlist: 1, 2, 3, 4, 5, 6, 7, 8, 9, 10\n",
      "After clearing linkedlist: \n"
     ]
    }
   ],
   "source": [
    "LinkedList<int> numbers10 = new LinkedList<int>(new int[] {1,2,3,4,5,6,7,8,9,10}); \n",
    "\n",
    "Console.WriteLine($\"Original linkedlist: {String.Join(\", \", numbers10)}\");\n",
    "\n",
    "numbers10.Clear();\n",
    "\n",
    "Console.WriteLine($\"After clearing linkedlist: {String.Join(\", \", numbers10)}\");"
   ]
  },
  {
   "cell_type": "markdown",
   "metadata": {},
   "source": [
    "### `.AddBefore()`: adds a new node right before the specified existing node"
   ]
  },
  {
   "cell_type": "code",
   "execution_count": 41,
   "metadata": {
    "dotnet_interactive": {
     "language": "csharp"
    },
    "polyglot_notebook": {
     "kernelName": "csharp"
    },
    "vscode": {
     "languageId": "polyglot-notebook"
    }
   },
   "outputs": [
    {
     "name": "stdout",
     "output_type": "stream",
     "text": [
      "Original linkedlist: 1, 2, 3, 4, 5, 6, 7, 8, 9, 10\n",
      "After adding '-1' BEFORE '9' in linkedlist: 1, 2, 3, 4, 5, 6, 7, 8, -1, 9, 10\n"
     ]
    }
   ],
   "source": [
    "LinkedList<int> numbers10 = new LinkedList<int>(new int[] {1,2,3,4,5,6,7,8,9,10}); \n",
    "\n",
    "Console.WriteLine($\"Original linkedlist: {String.Join(\", \", numbers10)}\");\n",
    "\n",
    "numbers10.AddBefore(numbers10.Last.Previous, -1);\n",
    "\n",
    "Console.WriteLine($\"After adding '-1' BEFORE '9' in linkedlist: {String.Join(\", \", numbers10)}\");"
   ]
  },
  {
   "cell_type": "markdown",
   "metadata": {},
   "source": [
    "### `.AddAfter()`: adds a new node right after the specified existing node"
   ]
  },
  {
   "cell_type": "code",
   "execution_count": 42,
   "metadata": {
    "dotnet_interactive": {
     "language": "csharp"
    },
    "polyglot_notebook": {
     "kernelName": "csharp"
    },
    "vscode": {
     "languageId": "polyglot-notebook"
    }
   },
   "outputs": [
    {
     "name": "stdout",
     "output_type": "stream",
     "text": [
      "Original linkedlist: 1, 2, 3, 4, 5, 6, 7, 8, 9, 10\n",
      "After adding '-1' AFTER '9' in linkedlist: 1, 2, 3, 4, 5, 6, 7, 8, 9, -1, 10\n"
     ]
    }
   ],
   "source": [
    "LinkedList<int> numbers10 = new LinkedList<int>(new int[] {1,2,3,4,5,6,7,8,9,10}); \n",
    "\n",
    "Console.WriteLine($\"Original linkedlist: {String.Join(\", \", numbers10)}\");\n",
    "\n",
    "numbers10.AddAfter(numbers10.Last.Previous, -1);\n",
    "\n",
    "Console.WriteLine($\"After adding '-1' AFTER '9' in linkedlist: {String.Join(\", \", numbers10)}\");"
   ]
  }
 ],
 "metadata": {
  "language_info": {
   "name": "python"
  },
  "orig_nbformat": 4
 },
 "nbformat": 4,
 "nbformat_minor": 2
}
