{
 "cells": [
  {
   "attachments": {},
   "cell_type": "markdown",
   "metadata": {},
   "source": [
    "# Basic C# Syntax"
   ]
  },
  {
   "attachments": {},
   "cell_type": "markdown",
   "metadata": {},
   "source": [
    "## PRINT STATEMENTS"
   ]
  },
  {
   "cell_type": "code",
   "execution_count": 1,
   "metadata": {
    "dotnet_interactive": {
     "language": "csharp"
    },
    "polyglot_notebook": {
     "kernelName": "csharp"
    }
   },
   "outputs": [
    {
     "name": "stdout",
     "output_type": "stream",
     "text": [
      "i am a print statement\n",
      "same linesame line"
     ]
    }
   ],
   "source": [
    "Console.WriteLine(\"i am a print statement\");\n",
    "Console.Write(\"same line\");\n",
    "Console.Write(\"same line\");"
   ]
  },
  {
   "attachments": {},
   "cell_type": "markdown",
   "metadata": {},
   "source": [
    "<hr>"
   ]
  },
  {
   "attachments": {},
   "cell_type": "markdown",
   "metadata": {},
   "source": [
    "## IMPLICIT TYPE VARIABLES\n",
    "\n",
    "*NOTE: Once assigned, data type is immutable and cannot be implictly converted w/ re-assignment.*"
   ]
  },
  {
   "cell_type": "code",
   "execution_count": 8,
   "metadata": {
    "dotnet_interactive": {
     "language": "csharp"
    },
    "polyglot_notebook": {
     "kernelName": "csharp"
    }
   },
   "outputs": [
    {
     "ename": "Error",
     "evalue": "(2,8): error CS0029: Cannot implicitly convert type 'int' to 'string'",
     "output_type": "error",
     "traceback": [
      "(2,8): error CS0029: Cannot implicitly convert type 'int' to 'string'"
     ]
    }
   ],
   "source": [
    "var bleh = \"bleh\";\n",
    "bleh = 5; // ERROR: \"Cannot implicitly convert type 'int' to 'string'."
   ]
  },
  {
   "attachments": {},
   "cell_type": "markdown",
   "metadata": {},
   "source": [
    "<hr>"
   ]
  },
  {
   "attachments": {},
   "cell_type": "markdown",
   "metadata": {},
   "source": [
    "## KEYBOARD INPUT"
   ]
  },
  {
   "attachments": {},
   "cell_type": "markdown",
   "metadata": {},
   "source": [
    "### Regular C# version:"
   ]
  },
  {
   "cell_type": "code",
   "execution_count": 8,
   "metadata": {
    "dotnet_interactive": {
     "language": "csharp"
    },
    "polyglot_notebook": {
     "kernelName": "csharp"
    }
   },
   "outputs": [],
   "source": [
    "Console.Write(\"Enter any string: \");\n",
    "string str = Console.ReadLine(); // Doesn't work in Jupyter Notebooks .NET Interactive"
   ]
  },
  {
   "attachments": {},
   "cell_type": "markdown",
   "metadata": {},
   "source": [
    "### Jupyter Notebook version:"
   ]
  },
  {
   "cell_type": "code",
   "execution_count": 2,
   "metadata": {
    "dotnet_interactive": {
     "language": "csharp"
    },
    "polyglot_notebook": {
     "kernelName": "csharp"
    }
   },
   "outputs": [
    {
     "name": "stdout",
     "output_type": "stream",
     "text": [
      "Inputted string: bread\r\n"
     ]
    }
   ],
   "source": [
    "using Microsoft.DotNet.Interactive;\n",
    "\n",
    "string str = await Kernel.GetInputAsync(\"Enter any string: \");\n",
    "Console.WriteLine($\"Inputted string: {str}\");"
   ]
  },
  {
   "attachments": {},
   "cell_type": "markdown",
   "metadata": {},
   "source": [
    "<hr>"
   ]
  },
  {
   "attachments": {},
   "cell_type": "markdown",
   "metadata": {},
   "source": [
    "## COMMON OPERATORS & OPERATIONS"
   ]
  },
  {
   "cell_type": "code",
   "execution_count": 27,
   "metadata": {
    "dotnet_interactive": {
     "language": "csharp"
    },
    "polyglot_notebook": {
     "kernelName": "csharp"
    }
   },
   "outputs": [],
   "source": [
    "int a, b, c, d, e;\n",
    "a = 2;\n",
    "b = 4;\n",
    "c = 6;\n",
    "d = 8;\n",
    "e = 10;"
   ]
  },
  {
   "attachments": {},
   "cell_type": "markdown",
   "metadata": {},
   "source": [
    "### Arithmetic Operators"
   ]
  },
  {
   "cell_type": "code",
   "execution_count": 28,
   "metadata": {
    "dotnet_interactive": {
     "language": "csharp"
    },
    "polyglot_notebook": {
     "kernelName": "csharp"
    }
   },
   "outputs": [
    {
     "name": "stdout",
     "output_type": "stream",
     "text": [
      "a: 4 \n",
      "b: 3 \n",
      "c: 12 \n",
      "d: 8 \n",
      "e: 0\r\n"
     ]
    }
   ],
   "source": [
    "a = a + 2;\n",
    "b = b - 1;\n",
    "c = c * 2;\n",
    "d = d / 1;\n",
    "e = 10 % 2;\n",
    "\n",
    "Console.WriteLine($\"a: {a} \\nb: {b} \\nc: {c} \\nd: {d} \\ne: {e}\");"
   ]
  },
  {
   "attachments": {},
   "cell_type": "markdown",
   "metadata": {},
   "source": [
    "### Relational Operators"
   ]
  },
  {
   "cell_type": "code",
   "execution_count": 29,
   "metadata": {
    "dotnet_interactive": {
     "language": "csharp"
    },
    "polyglot_notebook": {
     "kernelName": "csharp"
    }
   },
   "outputs": [
    {
     "name": "stdout",
     "output_type": "stream",
     "text": [
      "False\n",
      "True\n",
      "True\n",
      "True\n",
      "False\n",
      "False\r\n"
     ]
    }
   ],
   "source": [
    "bool result_equal = (a == b);\n",
    "bool result_notequal = (a != b);\n",
    "bool result_greater = (a > 1);\n",
    "bool result_greater_equal = (a >= 1);\n",
    "bool result_lesser = (d < 1);\n",
    "bool result_lesser_equal = (d <= 1);\n",
    "\n",
    "Console.WriteLine($\"{result_equal}\\n{result_notequal}\\n{result_greater}\\n{result_greater_equal}\\n{result_lesser}\\n{result_lesser_equal}\")"
   ]
  },
  {
   "attachments": {},
   "cell_type": "markdown",
   "metadata": {},
   "source": [
    "### Logical Operators"
   ]
  },
  {
   "cell_type": "code",
   "execution_count": 30,
   "metadata": {
    "dotnet_interactive": {
     "language": "csharp"
    },
    "polyglot_notebook": {
     "kernelName": "csharp"
    }
   },
   "outputs": [
    {
     "name": "stdout",
     "output_type": "stream",
     "text": [
      "False\n",
      "True\n",
      "False\r\n"
     ]
    }
   ],
   "source": [
    "bool result_and = (result_greater && result_lesser);\n",
    "bool result_or = (result_greater || result_lesser);\n",
    "bool result_not = !(result_greater || result_lesser);\n",
    "\n",
    "Console.WriteLine($\"{result_and}\\n{result_or}\\n{result_not}\")"
   ]
  },
  {
   "attachments": {},
   "cell_type": "markdown",
   "metadata": {},
   "source": [
    "### Increment and Decrement Operators"
   ]
  },
  {
   "cell_type": "code",
   "execution_count": 31,
   "metadata": {
    "dotnet_interactive": {
     "language": "csharp"
    },
    "polyglot_notebook": {
     "kernelName": "csharp"
    }
   },
   "outputs": [
    {
     "name": "stdout",
     "output_type": "stream",
     "text": [
      "a: 4, b: 3, c: 12\n",
      "a: 3, b: 4, c: 13\n"
     ]
    }
   ],
   "source": [
    "/* BEFORE */\n",
    "Console.WriteLine($\"a: {a}, b: {b}, c: {c}\");\n",
    "\n",
    "c++; //increment by one; same as --> c = c + 1\n",
    "b = a--; //decrement by one; same as --> b = a - 1\n",
    "\n",
    "/* AFTER */\n",
    "Console.WriteLine($\"a: {a}, b: {b}, c: {c}\");"
   ]
  },
  {
   "cell_type": "code",
   "execution_count": 32,
   "metadata": {
    "dotnet_interactive": {
     "language": "csharp"
    },
    "polyglot_notebook": {
     "kernelName": "csharp"
    }
   },
   "outputs": [
    {
     "name": "stdout",
     "output_type": "stream",
     "text": [
      "Increment after printing: 10\n",
      "Increment before printing: 11\n"
     ]
    }
   ],
   "source": [
    "int num1 = 10;\n",
    "num1 = num1++;\n",
    "int num2 = 10;\n",
    "num2 = ++num2;\n",
    "Console.WriteLine($\"Increment after printing: {num1}\");\n",
    "Console.WriteLine($\"Increment before printing: {num2}\");"
   ]
  },
  {
   "attachments": {},
   "cell_type": "markdown",
   "metadata": {},
   "source": [
    "### Compound Assignment Operators"
   ]
  },
  {
   "cell_type": "code",
   "execution_count": 33,
   "metadata": {
    "dotnet_interactive": {
     "language": "csharp"
    },
    "polyglot_notebook": {
     "kernelName": "csharp"
    }
   },
   "outputs": [
    {
     "name": "stdout",
     "output_type": "stream",
     "text": [
      "a: 4 \n",
      "b: 2 \n",
      "c: 130 \n",
      "d: 4 \n",
      "e: 0\r\n"
     ]
    }
   ],
   "source": [
    "a += 1; //same as --> a = a + 1\n",
    "b -= 2; //same as --> b = b - 2;\n",
    "c *= 10; //same as --> c = c * 10;\n",
    "d /= 2; //same as --> d = d / 2\n",
    "e %= 2; //same as --> d = d % 2\n",
    "\n",
    "Console.WriteLine($\"a: {a} \\nb: {b} \\nc: {c} \\nd: {d} \\ne: {e}\");"
   ]
  },
  {
   "attachments": {},
   "cell_type": "markdown",
   "metadata": {},
   "source": [
    "### Ternary Operator (shortened if-else statement)"
   ]
  },
  {
   "cell_type": "code",
   "execution_count": 34,
   "metadata": {
    "dotnet_interactive": {
     "language": "csharp"
    },
    "polyglot_notebook": {
     "kernelName": "csharp"
    }
   },
   "outputs": [
    {
     "name": "stdout",
     "output_type": "stream",
     "text": [
      "a: 4, b: 2, c: 130\n",
      "c: 13\n"
     ]
    }
   ],
   "source": [
    "/* BEFORE */\n",
    "Console.WriteLine($\"a: {a}, b: {b}, c: {c}\");\n",
    "\n",
    "c = a >= 100 ? b : c / 10; // Condition ? valueIfTrue : valueIfFalse\n",
    "\n",
    "/* AFTER */\n",
    "Console.WriteLine($\"c: {c}\");"
   ]
  },
  {
   "attachments": {},
   "cell_type": "markdown",
   "metadata": {},
   "source": [
    "<hr>"
   ]
  },
  {
   "attachments": {},
   "cell_type": "markdown",
   "metadata": {},
   "source": [
    "## CONDITIONAL STATEMENTS"
   ]
  },
  {
   "attachments": {},
   "cell_type": "markdown",
   "metadata": {},
   "source": [
    "### if -- else if -- else Statement"
   ]
  },
  {
   "cell_type": "code",
   "execution_count": 35,
   "metadata": {
    "dotnet_interactive": {
     "language": "csharp"
    },
    "polyglot_notebook": {
     "kernelName": "csharp"
    }
   },
   "outputs": [
    {
     "name": "stdout",
     "output_type": "stream",
     "text": [
      "4 is even.\r\n"
     ]
    }
   ],
   "source": [
    "if (a % 2 == 0) {\n",
    "    Console.WriteLine($\"{a} is even.\");\n",
    "}\n",
    "else if (a % 2 != 0) {\n",
    "    Console.WriteLine($\"{a} is odd.\");\n",
    "}\n",
    "else {\n",
    "    Console.WriteLine(\"not a number i guess\");\n",
    "}"
   ]
  },
  {
   "attachments": {},
   "cell_type": "markdown",
   "metadata": {},
   "source": [
    "### Switch Statement"
   ]
  },
  {
   "cell_type": "code",
   "execution_count": 36,
   "metadata": {
    "dotnet_interactive": {
     "language": "csharp"
    },
    "polyglot_notebook": {
     "kernelName": "csharp"
    }
   },
   "outputs": [
    {
     "name": "stdout",
     "output_type": "stream",
     "text": [
      "food food food\r\n"
     ]
    }
   ],
   "source": [
    "string hungry = \"yes\";\n",
    "\n",
    "switch(hungry) {\n",
    "    case \"yes\":\n",
    "        Console.WriteLine(\"food food food\");\n",
    "        break;\n",
    "    case \"no\":\n",
    "        Console.WriteLine(\"no food no food no food\");\n",
    "        break;\n",
    "    default:\n",
    "        Console.WriteLine(\"food?\");\n",
    "        break;\n",
    "}"
   ]
  },
  {
   "attachments": {},
   "cell_type": "markdown",
   "metadata": {},
   "source": [
    "<hr>"
   ]
  },
  {
   "attachments": {},
   "cell_type": "markdown",
   "metadata": {},
   "source": [
    "## LOOPS"
   ]
  },
  {
   "attachments": {},
   "cell_type": "markdown",
   "metadata": {},
   "source": [
    "### While Loop"
   ]
  },
  {
   "cell_type": "code",
   "execution_count": 37,
   "metadata": {
    "dotnet_interactive": {
     "language": "csharp"
    },
    "polyglot_notebook": {
     "kernelName": "csharp"
    }
   },
   "outputs": [
    {
     "name": "stdout",
     "output_type": "stream",
     "text": [
      "Student Loan Debt Left: 9000000\n",
      "Student Loan Debt Left: 8000000\n",
      "Student Loan Debt Left: 7000000\n",
      "Student Loan Debt Left: 6000000\n",
      "Student Loan Debt Left: 5000000\n",
      "Student Loan Debt Left: 4000000\n",
      "Student Loan Debt Left: 3000000\n",
      "Student Loan Debt Left: 2000000\n",
      "Student Loan Debt Left: 1000000\n"
     ]
    }
   ],
   "source": [
    "int studentloandebt = 9000000;\n",
    "\n",
    "while (studentloandebt > 0) {\n",
    "    Console.WriteLine($\"Student Loan Debt Left: {studentloandebt}\");\n",
    "\n",
    "    studentloandebt -= 1000000;\n",
    "}"
   ]
  },
  {
   "attachments": {},
   "cell_type": "markdown",
   "metadata": {},
   "source": [
    "### do-while Loop"
   ]
  },
  {
   "cell_type": "code",
   "execution_count": 38,
   "metadata": {
    "dotnet_interactive": {
     "language": "csharp"
    },
    "polyglot_notebook": {
     "kernelName": "csharp"
    }
   },
   "outputs": [
    {
     "name": "stdout",
     "output_type": "stream",
     "text": [
      "you may still owe millions in student loans\r\n"
     ]
    }
   ],
   "source": [
    "do {\n",
    "    Console.WriteLine(\"you may still owe millions in student loans\");\n",
    "    studentloandebt -= 1000000;\n",
    "}\n",
    "while (studentloandebt > 0);"
   ]
  },
  {
   "attachments": {},
   "cell_type": "markdown",
   "metadata": {},
   "source": [
    "### for Loop"
   ]
  },
  {
   "cell_type": "code",
   "execution_count": 39,
   "metadata": {
    "dotnet_interactive": {
     "language": "csharp"
    },
    "polyglot_notebook": {
     "kernelName": "csharp"
    }
   },
   "outputs": [
    {
     "name": "stdout",
     "output_type": "stream",
     "text": [
      "T-Minus 5\n",
      "T-Minus 4\n",
      "T-Minus 3\n",
      "T-Minus 2\n",
      "T-Minus 1\n",
      "T-Minus 0\n"
     ]
    }
   ],
   "source": [
    "for(int i = 5; i >= 0; i--){\n",
    "    Console.WriteLine($\"T-Minus {i}\");\n",
    "}"
   ]
  },
  {
   "attachments": {},
   "cell_type": "markdown",
   "metadata": {},
   "source": [
    "### foreach Loop (iterating through arrays/collections) == Python's `in` keyword in for loops"
   ]
  },
  {
   "cell_type": "code",
   "execution_count": 40,
   "metadata": {
    "dotnet_interactive": {
     "language": "csharp"
    },
    "polyglot_notebook": {
     "kernelName": "csharp"
    }
   },
   "outputs": [
    {
     "name": "stdout",
     "output_type": "stream",
     "text": [
      "five\n",
      "four\n",
      "three\n",
      "two\n",
      "one\n",
      "zero\n"
     ]
    }
   ],
   "source": [
    "var numbers_words = new List<string>(new[] { \"five\", \"four\", \"three\", \"two\", \"one\", \"zero\" });\n",
    "foreach(string word in numbers_words) {\n",
    "    Console.WriteLine(word);\n",
    "}"
   ]
  },
  {
   "attachments": {},
   "cell_type": "markdown",
   "metadata": {},
   "source": [
    "<hr>"
   ]
  },
  {
   "attachments": {},
   "cell_type": "markdown",
   "metadata": {},
   "source": [
    "## ARRAYS/LISTS"
   ]
  },
  {
   "cell_type": "code",
   "execution_count": 41,
   "metadata": {
    "dotnet_interactive": {
     "language": "csharp"
    },
    "polyglot_notebook": {
     "kernelName": "csharp"
    }
   },
   "outputs": [],
   "source": [
    "var numbers = new List<int>(new[] { 1, 2, 3 });\n",
    "        \n",
    "string[] fruit = {\"apple\", \"applesauce\", \"red apple\", \"green apple\", \"red apple again\"};\n",
    "\n",
    "var scores = new[] { 90, 97, 78, 68, 85 };"
   ]
  },
  {
   "attachments": {},
   "cell_type": "markdown",
   "metadata": {},
   "source": [
    "<hr>"
   ]
  },
  {
   "attachments": {},
   "cell_type": "markdown",
   "metadata": {},
   "source": [
    "## STRINGS\n",
    "\n",
    "*NOTE: Strings are immutable*"
   ]
  },
  {
   "attachments": {},
   "cell_type": "markdown",
   "metadata": {},
   "source": [
    "### String Interpolation (format strings)"
   ]
  },
  {
   "cell_type": "code",
   "execution_count": 4,
   "metadata": {
    "dotnet_interactive": {
     "language": "csharp"
    },
    "polyglot_notebook": {
     "kernelName": "csharp"
    }
   },
   "outputs": [
    {
     "name": "stdout",
     "output_type": "stream",
     "text": [
      "here is a random string i entered previously: bread\r\n"
     ]
    }
   ],
   "source": [
    "Console.WriteLine($\"here is a random string i entered previously: {str}\");"
   ]
  },
  {
   "attachments": {},
   "cell_type": "markdown",
   "metadata": {},
   "source": [
    "### Indexing (by number) --> char"
   ]
  },
  {
   "cell_type": "code",
   "execution_count": 44,
   "metadata": {
    "dotnet_interactive": {
     "language": "csharp"
    },
    "polyglot_notebook": {
     "kernelName": "csharp"
    }
   },
   "outputs": [
    {
     "name": "stdout",
     "output_type": "stream",
     "text": [
      "Last character in previously entered string: d\r\n"
     ]
    }
   ],
   "source": [
    "char ch = str[str.Length - 1];\n",
    "Console.WriteLine($\"Last character in previously entered string: {ch}\");"
   ]
  },
  {
   "attachments": {},
   "cell_type": "markdown",
   "metadata": {},
   "source": [
    "### Indexing (by character/string) --> index"
   ]
  },
  {
   "cell_type": "code",
   "execution_count": 46,
   "metadata": {
    "dotnet_interactive": {
     "language": "csharp"
    },
    "polyglot_notebook": {
     "kernelName": "csharp"
    }
   },
   "outputs": [
    {
     "name": "stdout",
     "output_type": "stream",
     "text": [
      "Index of the last charcter of the previously entered string: 4\r\n"
     ]
    }
   ],
   "source": [
    "Console.WriteLine($\"Index of the last charcter of the previously entered string: {str.IndexOf(ch)}\");"
   ]
  },
  {
   "attachments": {},
   "cell_type": "markdown",
   "metadata": {},
   "source": [
    "### Concatenation"
   ]
  },
  {
   "cell_type": "code",
   "execution_count": 47,
   "metadata": {
    "dotnet_interactive": {
     "language": "csharp"
    },
    "polyglot_notebook": {
     "kernelName": "csharp"
    }
   },
   "outputs": [
    {
     "name": "stdout",
     "output_type": "stream",
     "text": [
      "Concatenation using String.Concat (no spaces): ILikeBread\n",
      "Concatenation using String.Join (with spaces): I Like Bread\n",
      "Using String.Format: Today's date is 3/26/2023 11:32:03 PM\n"
     ]
    }
   ],
   "source": [
    "// Option 1\n",
    "string str3 = \"i \" + \"am \" + \"doing \" + \"the \" + \"contenating \";\n",
    "\n",
    "string[] words = { \"I\", \"Like\", \"Bread\"};\n",
    "\n",
    "// Option 2\n",
    "var unreadablePhrase = String.Concat(words);\n",
    "System.Console.WriteLine($\"Concatenation using String.Concat (no spaces): {unreadablePhrase}\");\n",
    "\n",
    "// Option 3\n",
    "var readablePhrase = String.Join(\" \", words);\n",
    "System.Console.WriteLine($\"Concatenation using String.Join (with spaces): {readablePhrase}\");\n",
    "\n",
    "//Option 4\n",
    "string date = String.Format(\"Using String.Format: Today's date is {0}\", DateTime.Now);\n",
    "Console.WriteLine(date);"
   ]
  },
  {
   "attachments": {},
   "cell_type": "markdown",
   "metadata": {},
   "source": [
    "### Length"
   ]
  },
  {
   "cell_type": "code",
   "execution_count": 49,
   "metadata": {
    "dotnet_interactive": {
     "language": "csharp"
    },
    "polyglot_notebook": {
     "kernelName": "csharp"
    }
   },
   "outputs": [
    {
     "name": "stdout",
     "output_type": "stream",
     "text": [
      "The previously entered string this 5 letters in it.\r\n"
     ]
    }
   ],
   "source": [
    "Console.WriteLine($\"The previously entered string this {str.Length} letters in it.\");"
   ]
  },
  {
   "attachments": {},
   "cell_type": "markdown",
   "metadata": {},
   "source": [
    "### Substring"
   ]
  },
  {
   "cell_type": "code",
   "execution_count": 50,
   "metadata": {
    "dotnet_interactive": {
     "language": "csharp"
    },
    "polyglot_notebook": {
     "kernelName": "csharp"
    }
   },
   "outputs": [
    {
     "name": "stdout",
     "output_type": "stream",
     "text": [
      "A substring of 'Bread': read\r\n"
     ]
    }
   ],
   "source": [
    "Console.WriteLine($\"A substring of 'Bread': {words[2].Substring(1, words[2].Length-1)}\");"
   ]
  },
  {
   "attachments": {},
   "cell_type": "markdown",
   "metadata": {},
   "source": [
    "### Contains (boolean) & Replace"
   ]
  },
  {
   "cell_type": "code",
   "execution_count": 51,
   "metadata": {
    "dotnet_interactive": {
     "language": "csharp"
    },
    "polyglot_notebook": {
     "kernelName": "csharp"
    }
   },
   "outputs": [
    {
     "name": "stdout",
     "output_type": "stream",
     "text": [
      "paying taxes <3\r\n"
     ]
    }
   ],
   "source": [
    "string str4 = \"evading taxes <3\";\n",
    "        \n",
    "if (str4.Contains(\"evading\")) {\n",
    "    Console.WriteLine(str4.Replace(\"evading\", \"paying\"));\n",
    "}"
   ]
  },
  {
   "attachments": {},
   "cell_type": "markdown",
   "metadata": {},
   "source": [
    "### Raw (verbatim) strings"
   ]
  },
  {
   "cell_type": "code",
   "execution_count": 52,
   "metadata": {
    "dotnet_interactive": {
     "language": "csharp"
    },
    "polyglot_notebook": {
     "kernelName": "csharp"
    }
   },
   "outputs": [
    {
     "name": "stdout",
     "output_type": "stream",
     "text": [
      "I \\ am \\ a \\ literal \\ raw \\ string \\ right \\ now \\n\\t\r\n"
     ]
    }
   ],
   "source": [
    "Console.WriteLine(@\"I \\ am \\ a \\ literal \\ raw \\ string \\ right \\ now \\n\\t\");"
   ]
  },
  {
   "attachments": {},
   "cell_type": "markdown",
   "metadata": {},
   "source": [
    "### Trim (start & end)"
   ]
  },
  {
   "cell_type": "code",
   "execution_count": 5,
   "metadata": {
    "dotnet_interactive": {
     "language": "csharp"
    },
    "polyglot_notebook": {
     "kernelName": "csharp"
    }
   },
   "outputs": [
    {
     "name": "stdout",
     "output_type": "stream",
     "text": [
      "             i am a string with extra characters                  \n",
      "Length of string with whitespaces: 66\n",
      "New string: i am a string with extra characters, New length: 35\n"
     ]
    }
   ],
   "source": [
    "string str5 = \"*************i am a string with extra characters******************\";\n",
    "string str6 = str5.Replace('*', ' '); // output: \"                i am a string with extra characters              \"\n",
    "Console.WriteLine(str6);\n",
    "Console.WriteLine($\"Length of string with whitespaces: {str6.Length}\");\n",
    "Console.WriteLine($\"New string: {str6.Trim(' ')}, New length: {str6.Trim(' ').Length}\");"
   ]
  },
  {
   "attachments": {},
   "cell_type": "markdown",
   "metadata": {},
   "source": [
    "### Trim (left)"
   ]
  },
  {
   "cell_type": "code",
   "execution_count": 6,
   "metadata": {
    "dotnet_interactive": {
     "language": "csharp"
    },
    "polyglot_notebook": {
     "kernelName": "csharp"
    }
   },
   "outputs": [
    {
     "name": "stdout",
     "output_type": "stream",
     "text": [
      "[i am a string with extra characters                  ]\r\n"
     ]
    }
   ],
   "source": [
    "Console.WriteLine($\"[{str6.TrimStart()}]\");"
   ]
  },
  {
   "attachments": {},
   "cell_type": "markdown",
   "metadata": {},
   "source": [
    "### Trim (right)"
   ]
  },
  {
   "cell_type": "code",
   "execution_count": 7,
   "metadata": {
    "dotnet_interactive": {
     "language": "csharp"
    },
    "polyglot_notebook": {
     "kernelName": "csharp"
    }
   },
   "outputs": [
    {
     "name": "stdout",
     "output_type": "stream",
     "text": [
      "[             i am a string with extra characters]\r\n"
     ]
    }
   ],
   "source": [
    "Console.WriteLine($\"[{str6.TrimEnd()}]\");"
   ]
  },
  {
   "attachments": {},
   "cell_type": "markdown",
   "metadata": {},
   "source": [
    "### Uppercase & Lowercase"
   ]
  },
  {
   "cell_type": "code",
   "execution_count": 3,
   "metadata": {
    "dotnet_interactive": {
     "language": "csharp"
    },
    "polyglot_notebook": {
     "kernelName": "csharp"
    }
   },
   "outputs": [
    {
     "name": "stdout",
     "output_type": "stream",
     "text": [
      "BREAD\n",
      "bread\n"
     ]
    }
   ],
   "source": [
    "Console.WriteLine(str.ToUpper());\n",
    "Console.WriteLine(str.ToLower());"
   ]
  }
 ],
 "metadata": {
  "kernelspec": {
   "display_name": ".NET (C#)",
   "language": "C#",
   "name": ".net-csharp"
  },
  "language_info": {
   "name": "polyglot-notebook"
  },
  "orig_nbformat": 4,
  "polyglot_notebook": {
   "kernelInfo": {
    "defaultKernelName": "csharp",
    "items": [
     {
      "aliases": [],
      "name": "csharp"
     }
    ]
   }
  }
 },
 "nbformat": 4,
 "nbformat_minor": 2
}
