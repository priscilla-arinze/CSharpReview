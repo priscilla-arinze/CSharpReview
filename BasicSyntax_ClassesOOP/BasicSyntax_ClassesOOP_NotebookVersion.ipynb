{
 "cells": [
  {
   "attachments": {},
   "cell_type": "markdown",
   "metadata": {},
   "source": [
    "# CLASSES & OOP"
   ]
  },
  {
   "attachments": {},
   "cell_type": "markdown",
   "metadata": {},
   "source": [
    "## Base Class\n",
    "\n",
    "Additional topics include:\n",
    "* __OOP: Encapsultation__ (public & private acceses)\n",
    "    * for more info on access keywords, see [here](https://learn.microsoft.com/en-us/dotnet/csharp/tour-of-csharp/program-building-blocks#accessibility)\n",
    "* __OOP: Abstraction__\n",
    "    * NOTE: BankAccount class is seen as an abstract, base class that will be inherited by more specific bank account classes below (e.g. InterestEarningAccount, LineOfCreditAccount, GiftCardAccount)\n",
    "* Getters & setters\n",
    "* Constructor\n",
    "* Exception handling & raising\n",
    "* `virtual` methods (and brief on `abstract` methods)\n",
    "* StringBuilder objects (kinda like Python's 3-quoted strings or .join())"
   ]
  },
  {
   "cell_type": "code",
   "execution_count": 1,
   "metadata": {
    "dotnet_interactive": {
     "language": "csharp"
    },
    "polyglot_notebook": {
     "kernelName": "csharp"
    },
    "vscode": {
     "languageId": "polyglot-notebook"
    }
   },
   "outputs": [],
   "source": [
    "public class Transaction {\n",
    "    public decimal Amount { get; }\n",
    "    public DateTime Date { get; }\n",
    "    public string Description { get; }\n",
    "\n",
    "    public Transaction(decimal amount, DateTime date, string description) {\n",
    "        this.Amount = amount;\n",
    "        this.Date = date;\n",
    "        this.Description = description;\n",
    "    }\n",
    "}\n",
    "\n",
    "\n",
    "\n",
    "// CENTRAL CLASS\n",
    "public class BankAccount {\n",
    "    // Shorthand getter & setter methods, see https://codeeasy.io/lesson/properties\n",
    "    public string ID { get; }\n",
    "    public string Owner { get; set; }\n",
    "    public decimal Balance { \n",
    "        get { // custom getter\n",
    "            decimal balance = 0;\n",
    "\n",
    "            foreach (var transaction in allTransactions) {\n",
    "                balance += transaction.Amount;\n",
    "            }\n",
    "\n",
    "            return balance;\n",
    "        } \n",
    "    }\n",
    "\n",
    "    private static int accountNumberSeed = 101;\n",
    "    \n",
    "    private List<Transaction> allTransactions = new List<Transaction>();\n",
    "\n",
    "    // Constructor\n",
    "    public BankAccount(string name, decimal initialBalance) {\n",
    "        this.Owner = name;\n",
    "        // no need to assign 'this.Balance' in constructor since a custom getter has been written above\n",
    "        // this.Balance = initialBalance; \n",
    "        this.MakeDeposit(initialBalance, DateTime.Now, \"Initial Balance\");\n",
    "        this.ID = accountNumberSeed.ToString();\n",
    "        accountNumberSeed++;\n",
    "    }\n",
    "\n",
    "    public void MakeDeposit(decimal amount, DateTime date, string description) {\n",
    "        if (amount <= 0) {\n",
    "            // raising/throwing exceptions\n",
    "            throw new ArgumentOutOfRangeException(nameof(amount), \"Amount of deposit must be positive\");\n",
    "        }\n",
    "        \n",
    "        var deposit = new Transaction(amount, date, description);\n",
    "        allTransactions.Add(deposit);\n",
    "    }\n",
    "\n",
    "    public void MakeWithdrawal(decimal amount, DateTime date, string description) {\n",
    "        if (Balance - amount < 0) {\n",
    "            throw new InvalidOperationException(\"You're broke INSUFFICIENT FUNDS\");\n",
    "        }\n",
    "        var withdrawal = new Transaction(-amount, date, description);\n",
    "        allTransactions.Add(withdrawal);\n",
    "    }\n",
    "\n",
    "    // Will be used to demonstrate polymorphism in InterestEarningAccount class below\n",
    "    // `virtual` keyword gives inherited classes the (optional) ability to override base class implementation\n",
    "    // an `abstract` keyword is similar to `virtual`, but it is required to override base class implementation\n",
    "    public virtual void PerformMonthEndTransactions() { }\n",
    "\n",
    "\n",
    "    // Using a StringBuilder object to get transaction history\n",
    "    // StringBuilders are kinda like Python's 3-quoted strings or .join()\n",
    "    public string GetTransactionStatement() {\n",
    "        var report = new StringBuilder(); // in System.Text \n",
    "\n",
    "        //HEADER\n",
    "        report.AppendLine(\"Date\\t\\tAmount\\tDescription\"); // '\\t' is tabbed whitespace\n",
    "\n",
    "        foreach (var transaction in allTransactions) {\n",
    "            //ROWS\n",
    "            // DateTime.ToShortDateString() excludes the time and only includes the date\n",
    "            report.AppendLine($\"{transaction.Date.ToShortDateString()}\\t${transaction.Amount}\\t{transaction.Description}\");\n",
    "        }\n",
    "\n",
    "        return report.ToString();\n",
    "    }\n",
    "}\n"
   ]
  },
  {
   "cell_type": "markdown",
   "metadata": {},
   "source": [
    "### *just pretend that the cells below are the Main method for now*"
   ]
  },
  {
   "cell_type": "code",
   "execution_count": 2,
   "metadata": {
    "dotnet_interactive": {
     "language": "csharp"
    },
    "polyglot_notebook": {
     "kernelName": "csharp"
    },
    "vscode": {
     "languageId": "polyglot-notebook"
    }
   },
   "outputs": [
    {
     "name": "stdout",
     "output_type": "stream",
     "text": [
      "New bank account for Squidward [Account ID #101], starting with $260\r\n"
     ]
    }
   ],
   "source": [
    "var account1 = new BankAccount(\"Squidward\", 260);\n",
    "Console.WriteLine($\"New bank account for {account1.Owner} [Account ID #{account1.ID}], starting with ${account1.Balance}\");"
   ]
  },
  {
   "cell_type": "code",
   "execution_count": 3,
   "metadata": {
    "dotnet_interactive": {
     "language": "csharp"
    },
    "polyglot_notebook": {
     "kernelName": "csharp"
    },
    "vscode": {
     "languageId": "polyglot-notebook"
    }
   },
   "outputs": [
    {
     "name": "stdout",
     "output_type": "stream",
     "text": [
      "$75 has been debited from Squidward's account. Remaining balance: $185\r\n"
     ]
    }
   ],
   "source": [
    "account1.MakeWithdrawal(75, DateTime.Now, \"Clarinet\");\n",
    "Console.WriteLine($\"$75 has been debited from {account1.Owner}'s account. Remaining balance: ${account1.Balance}\");"
   ]
  },
  {
   "cell_type": "markdown",
   "metadata": {},
   "source": [
    "Handling exceptions (try/catch):"
   ]
  },
  {
   "cell_type": "code",
   "execution_count": 4,
   "metadata": {
    "dotnet_interactive": {
     "language": "csharp"
    },
    "polyglot_notebook": {
     "kernelName": "csharp"
    },
    "vscode": {
     "languageId": "polyglot-notebook"
    }
   },
   "outputs": [
    {
     "name": "stdout",
     "output_type": "stream",
     "text": [
      "Attempting to deposit a negative amount, cancelling transaction...\n",
      "Exception is as follows: System.ArgumentOutOfRangeException: Amount of deposit must be positive (Parameter 'amount')\n",
      "   at Submission#2.BankAccount.MakeDeposit(Decimal amount, DateTime date, String description)\n",
      "   at Submission#5.<<Initialize>>d__0.MoveNext()\n"
     ]
    }
   ],
   "source": [
    "try{\n",
    "    account1.MakeDeposit(-300, DateTime.Now, \"tax fraud\");\n",
    "}\n",
    "catch (ArgumentOutOfRangeException e){\n",
    "    Console.WriteLine(\"Attempting to deposit a negative amount, cancelling transaction...\");\n",
    "    Console.WriteLine($\"Exception is as follows: {e.ToString()}\");\n",
    "}"
   ]
  },
  {
   "cell_type": "code",
   "execution_count": 5,
   "metadata": {
    "dotnet_interactive": {
     "language": "csharp"
    },
    "polyglot_notebook": {
     "kernelName": "csharp"
    },
    "vscode": {
     "languageId": "polyglot-notebook"
    }
   },
   "outputs": [
    {
     "name": "stdout",
     "output_type": "stream",
     "text": [
      "You're broke INSUFFICIENT FUNDS\n",
      "Exception is as follows: System.InvalidOperationException: You're broke INSUFFICIENT FUNDS\n",
      "   at Submission#2.BankAccount.MakeWithdrawal(Decimal amount, DateTime date, String description)\n",
      "   at Submission#6.<<Initialize>>d__0.MoveNext()\n"
     ]
    }
   ],
   "source": [
    "try{\n",
    "    account1.MakeWithdrawal(9175, DateTime.Now, \"Rent\");\n",
    "    Console.WriteLine($\"$9175 has been debited from {account1.Owner}'s account. Remaining balance: ${account1.Balance}\");\n",
    "}\n",
    "catch (InvalidOperationException e){\n",
    "    Console.WriteLine(\"You're broke INSUFFICIENT FUNDS\");\n",
    "    Console.WriteLine($\"Exception is as follows: {e.ToString()}\");\n",
    "}"
   ]
  },
  {
   "cell_type": "markdown",
   "metadata": {},
   "source": [
    "Using method that uses StringBuilder object to get print out of all transaction history:"
   ]
  },
  {
   "cell_type": "code",
   "execution_count": 6,
   "metadata": {
    "dotnet_interactive": {
     "language": "csharp"
    },
    "polyglot_notebook": {
     "kernelName": "csharp"
    },
    "vscode": {
     "languageId": "polyglot-notebook"
    }
   },
   "outputs": [
    {
     "name": "stdout",
     "output_type": "stream",
     "text": [
      "Date\t\tAmount\tDescription\r\n",
      "4/30/2023\t$260\tInitial Balance\r\n",
      "4/30/2023\t$-75\tClarinet\r\n",
      "\r\n"
     ]
    }
   ],
   "source": [
    "Console.WriteLine(account1.GetTransactionStatement());"
   ]
  },
  {
   "attachments": {},
   "cell_type": "markdown",
   "metadata": {},
   "source": [
    "<hr>"
   ]
  },
  {
   "attachments": {},
   "cell_type": "markdown",
   "metadata": {},
   "source": [
    "## Inheritance, Polymorphism, & Overrides\n",
    "\n",
    "Additional topics include:\n",
    "* Inherited/derived class constructors\n",
    "* Optional/default parameters"
   ]
  },
  {
   "cell_type": "code",
   "execution_count": 7,
   "metadata": {
    "dotnet_interactive": {
     "language": "csharp"
    },
    "polyglot_notebook": {
     "kernelName": "csharp"
    },
    "vscode": {
     "languageId": "polyglot-notebook"
    }
   },
   "outputs": [],
   "source": [
    "public class InterestEarningAccount : BankAccount {\n",
    "\n",
    "    // If constructor is defined in base class, derived class must also declare a constructor that includes all parameters\n",
    "    // from base class constructor\n",
    "    public InterestEarningAccount(string name, decimal initialBalance) : base(name, initialBalance) { }\n",
    "\n",
    "    // derived from virtual method in BankAccount\n",
    "    public override void PerformMonthEndTransactions() {\n",
    "        if (Balance > 500m)\n",
    "        {\n",
    "            decimal interest = Balance * 0.05m;\n",
    "            MakeDeposit(interest, DateTime.Now, \"apply monthly interest\");\n",
    "        }\n",
    "    }\n",
    "}\n",
    "\n",
    "\n",
    "\n",
    "\n",
    "public class LineOfCreditAccount : BankAccount {\n",
    "    public LineOfCreditAccount(string name, decimal initialBalance) : base(name, initialBalance) { }\n",
    "\n",
    "    // derived from virtual method in BankAccount\n",
    "    public override void PerformMonthEndTransactions()\n",
    "    {\n",
    "        if (Balance < 0)\n",
    "        {\n",
    "            // Negate the balance to get a positive interest charge:\n",
    "            decimal interest = -Balance * 0.07m;\n",
    "            MakeWithdrawal(interest, DateTime.Now, \"Charge monthly interest\");\n",
    "        }\n",
    "    }\n",
    "}\n",
    "\n",
    "\n",
    "\n",
    "\n",
    "public class GiftCardAccount : BankAccount {\n",
    "    private readonly decimal _monthlyDeposit = 0m;\n",
    "\n",
    "    // optional/default parameter: monthlyDeposit\n",
    "    public GiftCardAccount(string name, decimal initialBalance, decimal monthlyDeposit = 0) : base(name, initialBalance)\n",
    "        => _monthlyDeposit = monthlyDeposit;\n",
    "\n",
    "    public override void PerformMonthEndTransactions()\n",
    "    {\n",
    "        if (_monthlyDeposit != 0)\n",
    "        {\n",
    "            MakeDeposit(_monthlyDeposit, DateTime.Now, \"Add monthly deposit\");\n",
    "        }\n",
    "    }\n",
    "    \n",
    "}"
   ]
  },
  {
   "cell_type": "code",
   "execution_count": 9,
   "metadata": {
    "dotnet_interactive": {
     "language": "csharp"
    },
    "polyglot_notebook": {
     "kernelName": "csharp"
    },
    "vscode": {
     "languageId": "polyglot-notebook"
    }
   },
   "outputs": [
    {
     "name": "stdout",
     "output_type": "stream",
     "text": [
      "Date\t\tAmount\tDescription\n",
      "4/30/2023\t$100\tInitial Balance\n",
      "4/30/2023\t$-20\tget expensive coffee\n",
      "4/30/2023\t$-50\tbuy groceries\n",
      "4/30/2023\t$50\tAdd monthly deposit\n",
      "4/30/2023\t$27.50\tadd some additional spending money\n",
      "\n",
      "Date\t\tAmount\tDescription\n",
      "4/30/2023\t$10000\tInitial Balance\n",
      "4/30/2023\t$750\tsave some money\n",
      "4/30/2023\t$1250\tAdd more savings\n",
      "4/30/2023\t$-250\tNeeded to pay monthly bills\n",
      "4/30/2023\t$587.50\tapply monthly interest\n",
      "\n"
     ]
    }
   ],
   "source": [
    "var giftCard = new GiftCardAccount(\"gift card\", 100, 50);\n",
    "giftCard.MakeWithdrawal(20, DateTime.Now, \"get expensive coffee\");\n",
    "giftCard.MakeWithdrawal(50, DateTime.Now, \"buy groceries\");\n",
    "giftCard.PerformMonthEndTransactions();\n",
    "// can make additional deposits:\n",
    "giftCard.MakeDeposit(27.50m, DateTime.Now, \"add some additional spending money\");\n",
    "Console.WriteLine(giftCard.GetTransactionStatement());\n",
    "\n",
    "var savings = new InterestEarningAccount(\"savings account\", 10000);\n",
    "savings.MakeDeposit(750, DateTime.Now, \"save some money\");\n",
    "savings.MakeDeposit(1250, DateTime.Now, \"Add more savings\");\n",
    "savings.MakeWithdrawal(250, DateTime.Now, \"Needed to pay monthly bills\");\n",
    "savings.PerformMonthEndTransactions();\n",
    "Console.WriteLine(savings.GetTransactionStatement());"
   ]
  }
 ],
 "metadata": {
  "language_info": {
   "name": "python"
  },
  "orig_nbformat": 4
 },
 "nbformat": 4,
 "nbformat_minor": 2
}
