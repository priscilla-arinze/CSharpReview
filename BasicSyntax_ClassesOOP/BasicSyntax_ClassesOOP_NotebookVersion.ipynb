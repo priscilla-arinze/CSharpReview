{
 "cells": [
  {
   "attachments": {},
   "cell_type": "markdown",
   "metadata": {},
   "source": [
    "# CLASSES & OOP"
   ]
  },
  {
   "attachments": {},
   "cell_type": "markdown",
   "metadata": {},
   "source": [
    "## Base Class\n",
    "\n",
    "Additional topics include:\n",
    "* __OOP: Encapsultation__ (public & private acceses)\n",
    "    * for more info on access keywords, see [here](https://learn.microsoft.com/en-us/dotnet/csharp/tour-of-csharp/program-building-blocks#accessibility)\n",
    "* __OOP: Abstraction__\n",
    "    * NOTE: BankAccount class is seen as an abstract, base class that will be inherited by more specific bank account classes below (e.g. InterestEarningAccount, LineOfCreditAccount, GiftCardAccount)\n",
    "* Getters & setters\n",
    "* Constructors & constructor chaining\n",
    "* Nullable reference types ('?')\n",
    "* Exception handling & raising\n",
    "* `virtual` methods (and brief on `abstract` methods)\n",
    "* StringBuilder objects (kinda like Python's 3-quoted strings or .join())"
   ]
  },
  {
   "cell_type": "code",
   "execution_count": 103,
   "metadata": {
    "dotnet_interactive": {
     "language": "csharp"
    },
    "polyglot_notebook": {
     "kernelName": "csharp"
    },
    "vscode": {
     "languageId": "polyglot-notebook"
    }
   },
   "outputs": [],
   "source": [
    "public class Transaction {\n",
    "    public decimal Amount { get; }\n",
    "    public DateTime Date { get; }\n",
    "    public string Description { get; }\n",
    "\n",
    "    public Transaction(decimal amount, DateTime date, string description) {\n",
    "        this.Amount = amount;\n",
    "        this.Date = date;\n",
    "        this.Description = description;\n",
    "    }\n",
    "}\n",
    "\n",
    "\n",
    "\n",
    "// CENTRAL CLASS\n",
    "public class BankAccount {\n",
    "    // Shorthand getter & setter methods, see https://codeeasy.io/lesson/properties\n",
    "    public string ID { get; }\n",
    "    public string Owner { get; set; }\n",
    "    public decimal Balance { \n",
    "        get { // custom getter\n",
    "            decimal balance = 0;\n",
    "\n",
    "            foreach (var transaction in _allTransactions) {\n",
    "                balance += transaction.Amount;\n",
    "            }\n",
    "\n",
    "            return balance;\n",
    "        } \n",
    "    }\n",
    "\n",
    "    private static int accountNumberSeed = 101;\n",
    "\n",
    "    private readonly decimal _minimumBalance;\n",
    "    \n",
    "    private List<Transaction> _allTransactions = new List<Transaction>();\n",
    "\n",
    "    // Constructor (& constructor chaining [constructor choice depends on derived class])\n",
    "    public BankAccount(string name, decimal initialBalance) : this(name, initialBalance, 0) { }\n",
    "\n",
    "    public BankAccount(string name, decimal initialBalance, decimal minimumBalance)\n",
    "    {\n",
    "        this.Owner = name;\n",
    "        // no need to assign 'this.Balance' in constructor since a custom getter has been written above\n",
    "        // this.Balance = initialBalance; \n",
    "        this.ID = accountNumberSeed.ToString();\n",
    "        accountNumberSeed++;\n",
    "\n",
    "        _minimumBalance = minimumBalance;\n",
    "        if (initialBalance > 0)\n",
    "            MakeDeposit(initialBalance, DateTime.Now, \"Initial balance\");\n",
    "    }\n",
    "\n",
    "    public void MakeDeposit(decimal amount, DateTime date, string description) {\n",
    "        if (amount <= 0) {\n",
    "            // raising/throwing exceptions\n",
    "            throw new ArgumentOutOfRangeException(nameof(amount), \"Amount of deposit must be positive\");\n",
    "        }\n",
    "        \n",
    "        var deposit = new Transaction(amount, date, description);\n",
    "        _allTransactions.Add(deposit);\n",
    "    }\n",
    "\n",
    "    /* OLD VERSION***********************************************************************\n",
    "    public void MakeWithdrawal(decimal amount, DateTime date, string description) {\n",
    "        if (amount <= 0) {\n",
    "            throw new ArgumentOutOfRangeException(nameof(amount), \"Amount of withdrawal must be positive\");\n",
    "        }\n",
    "        if (Balance - amount < _minimumBalance) {\n",
    "            throw new InvalidOperationException(\"Not sufficient funds for this withdrawal\");\n",
    "        }\n",
    "        var withdrawal = new Transaction(-amount, date, description);\n",
    "        allTransactions.Add(withdrawal);\n",
    "    }\n",
    "    */\n",
    "    // NEW VERSION: nullable reference types ('?') for overdraft transactions\n",
    "    // '?' annotation allows method to return null\n",
    "    public void MakeWithdrawal(decimal amount, DateTime date, string note)\n",
    "    {\n",
    "        if (amount <= 0) {\n",
    "            throw new ArgumentOutOfRangeException(nameof(amount), \"Amount of withdrawal must be positive\");\n",
    "        }\n",
    "\n",
    "        Transaction? overdraftTransaction = CheckWithdrawalLimit(Balance - amount < _minimumBalance);\n",
    "        Transaction? withdrawal = new(-amount, date, note);\n",
    "\n",
    "        _allTransactions.Add(withdrawal);\n",
    "\n",
    "        if (overdraftTransaction != null)\n",
    "            _allTransactions.Add(overdraftTransaction);\n",
    "    }\n",
    "\n",
    "    // `protected` access: can only be accessed from base/inherited classes (e.g. cannot be directly called from main())\n",
    "    // `virtual` keyword gives inherited classes the (optional) ability to override base class implementation --> LineOfCreditAccount class\n",
    "    protected virtual Transaction? CheckWithdrawalLimit(bool isOverdrawn)\n",
    "    {\n",
    "        if (isOverdrawn) {\n",
    "            throw new InvalidOperationException(\"Not sufficient funds for this withdrawal\");\n",
    "        }\n",
    "        else {\n",
    "            return default;\n",
    "        }\n",
    "    }\n",
    "\n",
    "    // Will be used to demonstrate polymorphism in InterestEarningAccount class below\n",
    "    // `virtual` keyword gives inherited classes the (optional) ability to override base class implementation\n",
    "    // an `abstract` keyword is similar to `virtual`, but it is required to override base class implementation\n",
    "    public virtual void PerformMonthEndTransactions() { }\n",
    "\n",
    "\n",
    "    // Using a StringBuilder object to get transaction history\n",
    "    // StringBuilders are kinda like Python's 3-quoted strings or .join()\n",
    "    public string GetTransactionStatement() {\n",
    "        var report = new StringBuilder(); // in System.Text \n",
    "\n",
    "        //HEADER\n",
    "        report.AppendLine(\"Date\\t\\tAmount\\tDescription\"); // '\\t' is tabbed whitespace\n",
    "\n",
    "        foreach (var transaction in _allTransactions) {\n",
    "            //ROWS\n",
    "            // DateTime.ToShortDateString() excludes the time and only includes the date\n",
    "            report.AppendLine($\"{transaction.Date.ToShortDateString()}\\t${transaction.Amount}\\t{transaction.Description}\");\n",
    "        }\n",
    "\n",
    "        return report.ToString();\n",
    "    }\n",
    "}\n"
   ]
  },
  {
   "cell_type": "markdown",
   "metadata": {},
   "source": [
    "### *just pretend that the cells below are the Main method for now*"
   ]
  },
  {
   "cell_type": "code",
   "execution_count": 83,
   "metadata": {
    "dotnet_interactive": {
     "language": "csharp"
    },
    "polyglot_notebook": {
     "kernelName": "csharp"
    },
    "vscode": {
     "languageId": "polyglot-notebook"
    }
   },
   "outputs": [
    {
     "name": "stdout",
     "output_type": "stream",
     "text": [
      "New bank account for Squidward [Account ID #101], starting with $260\r\n"
     ]
    }
   ],
   "source": [
    "var account1 = new BankAccount(\"Squidward\", 260);\n",
    "Console.WriteLine($\"New bank account for {account1.Owner} [Account ID #{account1.ID}], starting with ${account1.Balance}\");"
   ]
  },
  {
   "cell_type": "code",
   "execution_count": 84,
   "metadata": {
    "dotnet_interactive": {
     "language": "csharp"
    },
    "polyglot_notebook": {
     "kernelName": "csharp"
    },
    "vscode": {
     "languageId": "polyglot-notebook"
    }
   },
   "outputs": [
    {
     "name": "stdout",
     "output_type": "stream",
     "text": [
      "$75 has been debited from Squidward's account. Remaining balance: $185\r\n"
     ]
    }
   ],
   "source": [
    "account1.MakeWithdrawal(75, DateTime.Now, \"Clarinet\");\n",
    "Console.WriteLine($\"$75 has been debited from {account1.Owner}'s account. Remaining balance: ${account1.Balance}\");"
   ]
  },
  {
   "cell_type": "markdown",
   "metadata": {},
   "source": [
    "Handling exceptions (try/catch):"
   ]
  },
  {
   "cell_type": "code",
   "execution_count": 85,
   "metadata": {
    "dotnet_interactive": {
     "language": "csharp"
    },
    "polyglot_notebook": {
     "kernelName": "csharp"
    },
    "vscode": {
     "languageId": "polyglot-notebook"
    }
   },
   "outputs": [
    {
     "name": "stdout",
     "output_type": "stream",
     "text": [
      "Attempting to deposit a negative amount, cancelling transaction...\n",
      "Exception is as follows: System.ArgumentOutOfRangeException: Amount of deposit must be positive (Parameter 'amount')\n",
      "   at Submission#83.BankAccount.MakeDeposit(Decimal amount, DateTime date, String description)\n",
      "   at Submission#86.<<Initialize>>d__0.MoveNext()\n"
     ]
    }
   ],
   "source": [
    "try{\n",
    "    account1.MakeDeposit(-300, DateTime.Now, \"tax fraud\");\n",
    "}\n",
    "catch (ArgumentOutOfRangeException e){\n",
    "    Console.WriteLine(\"Attempting to deposit a negative amount, cancelling transaction...\");\n",
    "    Console.WriteLine($\"Exception is as follows: {e.ToString()}\");\n",
    "}"
   ]
  },
  {
   "cell_type": "code",
   "execution_count": 86,
   "metadata": {
    "dotnet_interactive": {
     "language": "csharp"
    },
    "polyglot_notebook": {
     "kernelName": "csharp"
    },
    "vscode": {
     "languageId": "polyglot-notebook"
    }
   },
   "outputs": [
    {
     "name": "stdout",
     "output_type": "stream",
     "text": [
      "You're broke INSUFFICIENT FUNDS\n",
      "Exception is as follows: System.InvalidOperationException: Not sufficient funds for this withdrawal\n",
      "   at Submission#83.BankAccount.MakeWithdrawal(Decimal amount, DateTime date, String description)\n",
      "   at Submission#87.<<Initialize>>d__0.MoveNext()\n"
     ]
    }
   ],
   "source": [
    "try{\n",
    "    account1.MakeWithdrawal(9175, DateTime.Now, \"Rent\");\n",
    "    Console.WriteLine($\"$9175 has been debited from {account1.Owner}'s account. Remaining balance: ${account1.Balance}\");\n",
    "}\n",
    "catch (InvalidOperationException e){\n",
    "    Console.WriteLine(\"You're broke INSUFFICIENT FUNDS\");\n",
    "    Console.WriteLine($\"Exception is as follows: {e.ToString()}\");\n",
    "}"
   ]
  },
  {
   "cell_type": "markdown",
   "metadata": {},
   "source": [
    "Using method that uses StringBuilder object to get print out of all transaction history:"
   ]
  },
  {
   "cell_type": "code",
   "execution_count": 87,
   "metadata": {
    "dotnet_interactive": {
     "language": "csharp"
    },
    "polyglot_notebook": {
     "kernelName": "csharp"
    },
    "vscode": {
     "languageId": "polyglot-notebook"
    }
   },
   "outputs": [
    {
     "name": "stdout",
     "output_type": "stream",
     "text": [
      "Date\t\tAmount\tDescription\r\n",
      "5/3/2023\t$260\tInitial balance\r\n",
      "5/3/2023\t$-75\tClarinet\r\n",
      "\r\n"
     ]
    }
   ],
   "source": [
    "Console.WriteLine(account1.GetTransactionStatement());"
   ]
  },
  {
   "attachments": {},
   "cell_type": "markdown",
   "metadata": {},
   "source": [
    "<hr>"
   ]
  },
  {
   "attachments": {},
   "cell_type": "markdown",
   "metadata": {},
   "source": [
    "## Inheritance, Polymorphism, & Overrides\n",
    "\n",
    "Additional topics include:\n",
    "* Inherited/derived class constructors\n",
    "* Optional/default parameters"
   ]
  },
  {
   "cell_type": "code",
   "execution_count": 108,
   "metadata": {
    "dotnet_interactive": {
     "language": "csharp"
    },
    "polyglot_notebook": {
     "kernelName": "csharp"
    },
    "vscode": {
     "languageId": "polyglot-notebook"
    }
   },
   "outputs": [],
   "source": [
    "public class InterestEarningAccount : BankAccount {\n",
    "\n",
    "    // If constructor is defined in base class, derived class must also declare a constructor that includes all parameters\n",
    "    // from base class constructor\n",
    "    public InterestEarningAccount(string name, decimal initialBalance) : base(name, initialBalance) { }\n",
    "\n",
    "    // derived from virtual method in BankAccount\n",
    "    public override void PerformMonthEndTransactions() {\n",
    "        if (Balance > 500m)\n",
    "        {\n",
    "            decimal interest = Balance * 0.05m;\n",
    "            MakeDeposit(interest, DateTime.Now, \"apply monthly interest\");\n",
    "        }\n",
    "    }\n",
    "}\n",
    "\n",
    "\n",
    "\n",
    "\n",
    "public class LineOfCreditAccount : BankAccount {\n",
    "    // using contructor chaining from base class\n",
    "    public LineOfCreditAccount(string name, decimal initialBalance, decimal creditLimit) : base(name, initialBalance, -creditLimit) { }\n",
    "\n",
    "    protected override Transaction? CheckWithdrawalLimit(bool isOverdrawn) =>\n",
    "        isOverdrawn\n",
    "        ? new Transaction(-2000, DateTime.Now, \"Oops small overdraft fee <3\")\n",
    "        : default;\n",
    "\n",
    "    // derived from virtual method in BankAccount\n",
    "    public override void PerformMonthEndTransactions()\n",
    "    {\n",
    "        if (Balance < 0)\n",
    "        {\n",
    "            // Negate the balance to get a positive interest charge:\n",
    "            decimal interest = -Balance * 0.07m;\n",
    "            MakeWithdrawal(interest, DateTime.Now, \"Charge monthly interest\");\n",
    "        }\n",
    "    }\n",
    "}\n",
    "\n",
    "\n",
    "\n",
    "\n",
    "public class GiftCardAccount : BankAccount {\n",
    "    private readonly decimal _monthlyDeposit = 0m;\n",
    "\n",
    "    // optional/default parameter: monthlyDeposit\n",
    "    public GiftCardAccount(string name, decimal initialBalance, decimal monthlyDeposit = 0) : base(name, initialBalance)\n",
    "        => _monthlyDeposit = monthlyDeposit;\n",
    "\n",
    "    public override void PerformMonthEndTransactions()\n",
    "    {\n",
    "        if (_monthlyDeposit != 0)\n",
    "        {\n",
    "            MakeDeposit(_monthlyDeposit, DateTime.Now, \"Add monthly deposit\");\n",
    "        }\n",
    "    }\n",
    "    \n",
    "}"
   ]
  },
  {
   "cell_type": "code",
   "execution_count": 89,
   "metadata": {
    "dotnet_interactive": {
     "language": "csharp"
    },
    "polyglot_notebook": {
     "kernelName": "csharp"
    },
    "vscode": {
     "languageId": "polyglot-notebook"
    }
   },
   "outputs": [
    {
     "name": "stdout",
     "output_type": "stream",
     "text": [
      "Date\t\tAmount\tDescription\n",
      "5/3/2023\t$100\tInitial balance\n",
      "5/3/2023\t$-20\tget expensive coffee\n",
      "5/3/2023\t$-50\tbuy groceries\n",
      "5/3/2023\t$50\tAdd monthly deposit\n",
      "5/3/2023\t$27.50\tadd some additional spending money\n",
      "\n",
      "Date\t\tAmount\tDescription\n",
      "5/3/2023\t$10000\tInitial balance\n",
      "5/3/2023\t$750\tsave some money\n",
      "5/3/2023\t$1250\tAdd more savings\n",
      "5/3/2023\t$-250\tNeeded to pay monthly bills\n",
      "5/3/2023\t$587.50\tapply monthly interest\n",
      "\n"
     ]
    }
   ],
   "source": [
    "var giftCard = new GiftCardAccount(\"gift card\", 100, 50);\n",
    "giftCard.MakeWithdrawal(20, DateTime.Now, \"get expensive coffee\");\n",
    "giftCard.MakeWithdrawal(50, DateTime.Now, \"buy groceries\");\n",
    "giftCard.PerformMonthEndTransactions();\n",
    "// can make additional deposits:\n",
    "giftCard.MakeDeposit(27.50m, DateTime.Now, \"add some additional spending money\");\n",
    "Console.WriteLine(giftCard.GetTransactionStatement());\n",
    "\n",
    "var savings = new InterestEarningAccount(\"savings account\", 10000);\n",
    "savings.MakeDeposit(750, DateTime.Now, \"save some money\");\n",
    "savings.MakeDeposit(1250, DateTime.Now, \"Add more savings\");\n",
    "savings.MakeWithdrawal(250, DateTime.Now, \"Needed to pay monthly bills\");\n",
    "savings.PerformMonthEndTransactions();\n",
    "Console.WriteLine(savings.GetTransactionStatement());"
   ]
  },
  {
   "attachments": {},
   "cell_type": "markdown",
   "metadata": {},
   "source": [
    "Sufficient line of credit:"
   ]
  },
  {
   "cell_type": "code",
   "execution_count": 97,
   "metadata": {
    "dotnet_interactive": {
     "language": "csharp"
    },
    "polyglot_notebook": {
     "kernelName": "csharp"
    },
    "vscode": {
     "languageId": "polyglot-notebook"
    }
   },
   "outputs": [
    {
     "name": "stdout",
     "output_type": "stream",
     "text": [
      "Date\t\tAmount\tDescription\r\n",
      "5/3/2023\t$-1000\tTake out monthly advance\r\n",
      "5/3/2023\t$50\tPay back small amount\r\n",
      "5/3/2023\t$-5000\tEmergency funds for repairs\r\n",
      "5/3/2023\t$150\tPartial restoration on repairs\r\n",
      "5/3/2023\t$-406.00\tCharge monthly interest\r\n",
      "\r\n"
     ]
    }
   ],
   "source": [
    "var lineOfCredit = new LineOfCreditAccount(\"line of credit\", 0, 11000);\n",
    "\n",
    "// How much is too much to borrow?\n",
    "lineOfCredit.MakeWithdrawal(1000m, DateTime.Now, \"Take out monthly advance\");\n",
    "lineOfCredit.MakeDeposit(50m, DateTime.Now, \"Pay back small amount\");\n",
    "lineOfCredit.MakeWithdrawal(5000m, DateTime.Now, \"Emergency funds for repairs\");\n",
    "lineOfCredit.MakeDeposit(150m, DateTime.Now, \"Partial restoration on repairs\");\n",
    "lineOfCredit.PerformMonthEndTransactions();\n",
    "Console.WriteLine(lineOfCredit.GetTransactionStatement());"
   ]
  },
  {
   "attachments": {},
   "cell_type": "markdown",
   "metadata": {},
   "source": [
    "Insufficient line of credit:"
   ]
  },
  {
   "cell_type": "code",
   "execution_count": 98,
   "metadata": {
    "dotnet_interactive": {
     "language": "csharp"
    },
    "polyglot_notebook": {
     "kernelName": "csharp"
    },
    "vscode": {
     "languageId": "polyglot-notebook"
    }
   },
   "outputs": [
    {
     "ename": "Error",
     "evalue": "System.InvalidOperationException: Not sufficient funds for this withdrawal\r\n   at Submission#83.BankAccount.MakeWithdrawal(Decimal amount, DateTime date, String description)\r\n   at Submission#99.<<Initialize>>d__0.MoveNext()\r\n--- End of stack trace from previous location ---\r\n   at Microsoft.CodeAnalysis.Scripting.ScriptExecutionState.RunSubmissionsAsync[TResult](ImmutableArray`1 precedingExecutors, Func`2 currentExecutor, StrongBox`1 exceptionHolderOpt, Func`2 catchExceptionOpt, CancellationToken cancellationToken)",
     "output_type": "error",
     "traceback": [
      "System.InvalidOperationException: Not sufficient funds for this withdrawal\r\n",
      "   at Submission#83.BankAccount.MakeWithdrawal(Decimal amount, DateTime date, String description)\r\n",
      "   at Submission#99.<<Initialize>>d__0.MoveNext()\r\n",
      "--- End of stack trace from previous location ---\r\n",
      "   at Microsoft.CodeAnalysis.Scripting.ScriptExecutionState.RunSubmissionsAsync[TResult](ImmutableArray`1 precedingExecutors, Func`2 currentExecutor, StrongBox`1 exceptionHolderOpt, Func`2 catchExceptionOpt, CancellationToken cancellationToken)"
     ]
    }
   ],
   "source": [
    "var lineOfCredit = new LineOfCreditAccount(\"line of credit\", 0, 500);\n",
    "\n",
    "// How much is too much to borrow?\n",
    "lineOfCredit.MakeWithdrawal(1000m, DateTime.Now, \"Take out monthly advance\");\n",
    "lineOfCredit.MakeDeposit(50m, DateTime.Now, \"Pay back small amount\");\n",
    "lineOfCredit.MakeWithdrawal(5000m, DateTime.Now, \"Emergency funds for repairs\");\n",
    "lineOfCredit.MakeDeposit(150m, DateTime.Now, \"Partial restoration on repairs\");\n",
    "lineOfCredit.PerformMonthEndTransactions();\n",
    "Console.WriteLine(lineOfCredit.GetTransactionStatement());"
   ]
  },
  {
   "attachments": {},
   "cell_type": "markdown",
   "metadata": {},
   "source": [
    "Overdraft transactions:"
   ]
  },
  {
   "cell_type": "code",
   "execution_count": 109,
   "metadata": {
    "dotnet_interactive": {
     "language": "csharp"
    },
    "polyglot_notebook": {
     "kernelName": "csharp"
    },
    "vscode": {
     "languageId": "polyglot-notebook"
    }
   },
   "outputs": [
    {
     "name": "stdout",
     "output_type": "stream",
     "text": [
      "Date\t\tAmount\tDescription\r\n",
      "5/3/2023\t$-1000\tTake out monthly advance\r\n",
      "5/3/2023\t$50\tPay back small amount\r\n",
      "5/3/2023\t$-5000\tEmergency funds for repairs\r\n",
      "5/3/2023\t$-2000\tOops small overdraft fee <3\r\n",
      "5/3/2023\t$150\tPartial restoration on repairs\r\n",
      "5/3/2023\t$-546.00\tCharge monthly interest\r\n",
      "5/3/2023\t$-2000\tOops small overdraft fee <3\r\n",
      "\r\n"
     ]
    }
   ],
   "source": [
    "var lineOfCredit = new LineOfCreditAccount(\"line of credit\", 0, 2000);\n",
    "\n",
    "// How much is too much to borrow?\n",
    "lineOfCredit.MakeWithdrawal(1000m, DateTime.Now, \"Take out monthly advance\");\n",
    "lineOfCredit.MakeDeposit(50m, DateTime.Now, \"Pay back small amount\");\n",
    "lineOfCredit.MakeWithdrawal(5000m, DateTime.Now, \"Emergency funds for repairs\");\n",
    "lineOfCredit.MakeDeposit(150m, DateTime.Now, \"Partial restoration on repairs\");\n",
    "lineOfCredit.PerformMonthEndTransactions();\n",
    "Console.WriteLine(lineOfCredit.GetTransactionStatement());"
   ]
  }
 ],
 "metadata": {
  "language_info": {
   "name": "python"
  },
  "orig_nbformat": 4
 },
 "nbformat": 4,
 "nbformat_minor": 2
}
