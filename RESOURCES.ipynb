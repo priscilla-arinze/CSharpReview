{
 "cells": [
  {
   "attachments": {},
   "cell_type": "markdown",
   "metadata": {},
   "source": [
    "# C# Resources"
   ]
  },
  {
   "attachments": {},
   "cell_type": "markdown",
   "metadata": {},
   "source": [
    "### Tutorial Resources\n",
    "\n",
    "__Official Microsoft C# Documentation Hub__: [Documentation](https://learn.microsoft.com/en-us/dotnet/csharp/)\n",
    "\n",
    "__Complete C# Tutorial__: [Documentation](https://csharp.net-tutorials.com/)\n",
    "<br>\n",
    "\n",
    "__Namespaces, `using`, and .NET >=6.0 changes (e.g. global `using`)__: [Video](https://www.youtube.com/watch?v=0f0K8vVJzkg)\n",
    "<br>\n",
    "\n",
    "__Getters & Setters (class properties)__: [Documentation](https://codeeasy.io/lesson/properties)\n",
    "<br>\n",
    "\n",
    "__LINQ Resources__\n",
    "* *Foundation of LINQ - Rainer Stropek*: [Video](https://www.youtube.com/watch?v=TeGwezv1z20)\n",
    "* *LINQ Tutorial - Derek Banas*: [Video/Documentation](https://www.youtube.com/watch?v=TeGwezv1z20)\n",
    "<br>\n",
    "\n",
    "\n",
    "<hr>\n",
    "\n",
    "\n",
    "### Utility Resources\n",
    "\n",
    "__.NET CLI Commands__: [Documentation](https://learn.microsoft.com/en-us/dotnet/core/tools/)\n",
    "<br>\n",
    "\n",
    "__Visual Studio IDE Keyboard Shortcuts__: [Documentation](https://learn.microsoft.com/en-us/visualstudio/ide/default-keyboard-shortcuts-in-visual-studio?view=vs-2019)\n",
    "<br>\n",
    "\n",
    "__.NET Interactive User Input for Jupyter Notebooks__: [Documentation](https://github.com/dotnet/interactive/blob/main/docs/input-prompts.md)"
   ]
  }
 ],
 "metadata": {
  "language_info": {
   "name": "python"
  },
  "orig_nbformat": 4
 },
 "nbformat": 4,
 "nbformat_minor": 2
}
