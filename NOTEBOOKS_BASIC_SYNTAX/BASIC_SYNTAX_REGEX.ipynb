{
 "cells": [
  {
   "attachments": {},
   "cell_type": "markdown",
   "metadata": {},
   "source": [
    "# REGULAR EXPRESSIONS (REGEX)"
   ]
  },
  {
   "cell_type": "code",
   "execution_count": 1,
   "metadata": {
    "dotnet_interactive": {
     "language": "csharp"
    },
    "polyglot_notebook": {
     "kernelName": "csharp"
    },
    "vscode": {
     "languageId": "polyglot-notebook"
    }
   },
   "outputs": [],
   "source": [
    "using System.Text.RegularExpressions;"
   ]
  },
  {
   "attachments": {},
   "cell_type": "markdown",
   "metadata": {},
   "source": [
    "## `IsMatch()` --> bool \n",
    "\n",
    "*kinda similar to Python's `re.search()`*"
   ]
  },
  {
   "cell_type": "code",
   "execution_count": 5,
   "metadata": {
    "dotnet_interactive": {
     "language": "csharp"
    },
    "polyglot_notebook": {
     "kernelName": "csharp"
    },
    "vscode": {
     "languageId": "polyglot-notebook"
    }
   },
   "outputs": [
    {
     "name": "stdout",
     "output_type": "stream",
     "text": [
      "Sentence contains numbers\r\n"
     ]
    }
   ],
   "source": [
    "string sentence = \"this kitten has been convicted of 7 counts of tax fraud\";\n",
    "\n",
    "Regex pattern = new Regex(\"[0-9]+\");\n",
    "\n",
    "if (pattern.IsMatch(sentence))\n",
    "{\n",
    "    Console.WriteLine(\"Sentence contains numbers\");\n",
    "}\n",
    "else \n",
    "{\n",
    "    Console.WriteLine(\"Sentence does NOT contain numbers\");\n",
    "}"
   ]
  },
  {
   "attachments": {},
   "cell_type": "markdown",
   "metadata": {},
   "source": [
    "## `Match()`\n",
    "\n",
    "*kinda similar to Python's `re.find()`*"
   ]
  },
  {
   "cell_type": "code",
   "execution_count": 25,
   "metadata": {
    "dotnet_interactive": {
     "language": "csharp"
    },
    "polyglot_notebook": {
     "kernelName": "csharp"
    },
    "vscode": {
     "languageId": "polyglot-notebook"
    }
   },
   "outputs": [
    {
     "name": "stdout",
     "output_type": "stream",
     "text": [
      "First comma found at index 13. Length: 1\r\n"
     ]
    }
   ],
   "source": [
    "string sentence2 = \"breaking news, water has been found in the ocean, more at 11\";\n",
    "\n",
    "Regex pattern = new Regex(@\"[,]+\");\n",
    "Match match = pattern.Match(sentence2);\n",
    "\n",
    "if (match.Success)\n",
    "    Console.WriteLine(\"First comma found at index \" + match.Index + \". Length: \" + match.Length);"
   ]
  },
  {
   "attachments": {},
   "cell_type": "markdown",
   "metadata": {},
   "source": [
    "## Capture Groups (Multiple)"
   ]
  },
  {
   "cell_type": "code",
   "execution_count": 26,
   "metadata": {
    "dotnet_interactive": {
     "language": "csharp"
    },
    "polyglot_notebook": {
     "kernelName": "csharp"
    },
    "vscode": {
     "languageId": "polyglot-notebook"
    }
   },
   "outputs": [
    {
     "name": "stdout",
     "output_type": "stream",
     "text": [
      "Name: Squiward Tentacles\n",
      "Age: 315\r\n"
     ]
    }
   ],
   "source": [
    "string sentence3 = \"**********Squiward Tentacles, 315 years old***********\";\n",
    "\n",
    "Regex pattern = new Regex(@\"([^*,]+),\\s([0-9]+)\");\n",
    "Match match = pattern.Match(sentence3);\n",
    "\n",
    "if (match.Success)\n",
    "    Console.WriteLine(\"Name: \" + match.Groups[1].Value + \"\\nAge: \" + match.Groups[2].Value);"
   ]
  },
  {
   "attachments": {},
   "cell_type": "markdown",
   "metadata": {},
   "source": [
    "### Named Capture Groups\n",
    "\n",
    "syntax: `?<NAME>` right after left parenthesis"
   ]
  },
  {
   "cell_type": "code",
   "execution_count": 28,
   "metadata": {
    "dotnet_interactive": {
     "language": "csharp"
    },
    "polyglot_notebook": {
     "kernelName": "csharp"
    },
    "vscode": {
     "languageId": "polyglot-notebook"
    }
   },
   "outputs": [
    {
     "name": "stdout",
     "output_type": "stream",
     "text": [
      "Name: Squiward Tentacles\n",
      "Age: 315\r\n"
     ]
    }
   ],
   "source": [
    "string sentence4 = \"**********Squiward Tentacles, 315 years old***********\";\n",
    "\n",
    "Regex pattern = new Regex(@\"(?<name>[^*,]+),\\s(?<age>[0-9]+)\");\n",
    "Match match = pattern.Match(sentence4);\n",
    "\n",
    "if (match.Success)\n",
    "    Console.WriteLine(\"Name: \" + match.Groups[\"name\"].Value + \"\\nAge: \" + match.Groups[\"age\"].Value);"
   ]
  },
  {
   "attachments": {},
   "cell_type": "markdown",
   "metadata": {},
   "source": [
    "## `Matches()` --> `MatchCollection` Class\n",
    "\n",
    "*kinda similar to Python's `re.findall()`*"
   ]
  },
  {
   "cell_type": "code",
   "execution_count": 7,
   "metadata": {
    "dotnet_interactive": {
     "language": "csharp"
    },
    "polyglot_notebook": {
     "kernelName": "csharp"
    },
    "vscode": {
     "languageId": "polyglot-notebook"
    }
   },
   "outputs": [
    {
     "name": "stdout",
     "output_type": "stream",
     "text": [
      "the word 'wood' found at index 16:  wood\n",
      "the word 'wood' found at index 27:  wood\n",
      "the word 'wood' found at index 37:  wood\n",
      "the word 'wood' found at index 60:  wood\n"
     ]
    }
   ],
   "source": [
    "string stupidexample = \"how much could a wood chuck wood if a wood chuck could chuck wood\";\n",
    "\n",
    "Regex pattern = new Regex(@\"\\swood\");\n",
    "MatchCollection matches = pattern.Matches(stupidexample);\n",
    "\n",
    "foreach (Match match in matches)\n",
    "    Console.WriteLine(\"the word 'wood' found at index \" + match.Index + \": \" + match.Value);"
   ]
  },
  {
   "cell_type": "code",
   "execution_count": 15,
   "metadata": {
    "dotnet_interactive": {
     "language": "csharp"
    },
    "polyglot_notebook": {
     "kernelName": "csharp"
    },
    "vscode": {
     "languageId": "polyglot-notebook"
    }
   },
   "outputs": [
    {
     "name": "stdout",
     "output_type": "stream",
     "text": [
      "an email was found at index 13: banana_apple@banana.com\n",
      "an email was found at index 38: word.some-thing@words.org\n",
      "an email was found at index 65: hfyurgyad2@ncfhdgdehjk.com\n",
      "an email was found at index 96: bleh123@bleh.gov\n"
     ]
    }
   ],
   "source": [
    "string emails = \"cool emails: banana_apple@banana.com, word.some-thing@words.org, hfyurgyad2@ncfhdgdehjk.com \\n \\n bleh123@bleh.gov \\n iamNOTanemail(AT).com\";\n",
    "\n",
    "Regex pattern = new Regex(@\"[A-Za-z0-9_\\-.]+[@][A-Za-z0-9.]+\");\n",
    "MatchCollection matches = pattern.Matches(emails);\n",
    "\n",
    "foreach (Match match in matches)\n",
    "    Console.WriteLine(\"an email was found at index \" + match.Index + \": \" + match.Value);"
   ]
  },
  {
   "cell_type": "code",
   "execution_count": 17,
   "metadata": {
    "dotnet_interactive": {
     "language": "csharp"
    },
    "polyglot_notebook": {
     "kernelName": "csharp"
    },
    "vscode": {
     "languageId": "polyglot-notebook"
    }
   },
   "outputs": [
    {
     "name": "stdout",
     "output_type": "stream",
     "text": [
      "stolen social security found at index 30: 123-456-7890\n",
      "stolen social security found at index 44: 555-555-5555\n",
      "stolen social security found at index 74: 098-765-4321\n",
      "stolen social security found at index 102: 111-222-3333\n"
     ]
    }
   ],
   "source": [
    "string favorite_social_security_numbers = \"favorite social security #'s: 123-456-7890, 555-555-5555, 555-55-5555555, 098-765-4321, abc-xyz-lmno, 111-222-3333, 1-2-3-4-5-6-7-8-9-0\";\n",
    "Regex regex = new Regex(@\"([0-9]{3}[\\-][0-9]{3}[\\-][0-9]{4})\");\n",
    "MatchCollection matchCollection = regex.Matches(favorite_social_security_numbers);\n",
    "foreach (Match match in matchCollection)\n",
    "    Console.WriteLine(\"stolen social security found at index \" + match.Index + \": \" + match.Value);"
   ]
  }
 ],
 "metadata": {
  "language_info": {
   "name": "python"
  },
  "orig_nbformat": 4
 },
 "nbformat": 4,
 "nbformat_minor": 2
}
