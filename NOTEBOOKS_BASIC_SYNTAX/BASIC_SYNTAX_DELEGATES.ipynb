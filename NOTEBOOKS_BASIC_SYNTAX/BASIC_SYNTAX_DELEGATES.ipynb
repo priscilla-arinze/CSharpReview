{
 "cells": [
  {
   "cell_type": "markdown",
   "metadata": {},
   "source": [
    "# Delegates\n",
    "\n",
    "*Basically an __interface__, but for functions/methods*\n",
    "\n",
    "### CONSIDERATIONS:\n",
    "* The \"interface contract\" is the method signature (in the case of delegates, return type & parameters (number, type, position))\n",
    "    * This allows for consistency & type safety\n",
    "* Very similar to C/C++ function pointers\n",
    "    * The delegate will essentially reference the specified method/function of the same method signature\n",
    "* Allows you to avoid calling the method directly --> loose coupling\n",
    "    * Kinda acts like a \"man in the middle\"\n",
    "    * So in the event that the method needed to change for whatever reason, it won't break other parts of the code as long as the method signature is the same\n",
    "* Best used with events and the multiple different ways that an event can be handled (subscribers)\n",
    "* Also best used when you need to programmatically change methods based on some user input or event\n",
    "* Another way to think about it: delegate == representative (doing something on behalf of someone else)"
   ]
  },
  {
   "cell_type": "code",
   "execution_count": 1,
   "metadata": {
    "dotnet_interactive": {
     "language": "csharp"
    },
    "polyglot_notebook": {
     "kernelName": "csharp"
    },
    "vscode": {
     "languageId": "polyglot-notebook"
    }
   },
   "outputs": [],
   "source": [
    "// Delegate/interface for handling VARIOUS math operations (on behalf of the specific math functions)\n",
    "// NOTE: method signature is & needs to match -->\n",
    "    // Return Type: int\n",
    "    // Number of Parameters: 2\n",
    "    // Type & Position of Parameters: (Position 1: int, Position 2: int)\n",
    "delegate int MathOperation(int a, int b);"
   ]
  },
  {
   "cell_type": "code",
   "execution_count": 6,
   "metadata": {
    "vscode": {
     "languageId": "polyglot-notebook"
    }
   },
   "outputs": [
    {
     "name": "stdout",
     "output_type": "stream",
     "text": [
      "Adding 4 & 2: 6\n",
      "Subtracting 4 & 2: 2\n",
      "Multipying 4 & 2: 8\n"
     ]
    }
   ],
   "source": [
    "// Create methods that match the delegate's signature.\n",
    "int Add(int a, int b)\n",
    "{\n",
    "    return a + b;\n",
    "}\n",
    "\n",
    "int Subtract(int a, int b)\n",
    "{\n",
    "    return a - b;\n",
    "}\n",
    "\n",
    "int Multiply(int a, int b)\n",
    "{\n",
    "    return a * b;\n",
    "}\n",
    "\n",
    "// NOTE: this will NOT work because the return type (double) differs from the delegate method signature return type (int)\n",
    "double Divide(int a, int b)\n",
    "{\n",
    "    return a / b;\n",
    "}\n",
    "\n",
    "// Assign different methods to the delegate.\n",
    "MathOperation operation = Add; // performing math operating on behalf of Add()\n",
    "Console.WriteLine($\"Adding 4 & 2: {operation(4, 2)}\");\n",
    "\n",
    "operation = Subtract; // performing math operating on behalf of Subtract()\n",
    "Console.WriteLine($\"Subtracting 4 & 2: {operation(4, 2)}\");\n",
    "\n",
    "operation = Multiply; // performing math operating on behalf of Multiply()\n",
    "Console.WriteLine($\"Multipying 4 & 2: {operation(4, 2)}\");\n"
   ]
  },
  {
   "cell_type": "markdown",
   "metadata": {},
   "source": [
    "NOTE: won't work b/c different method signature return type --> compile-time error"
   ]
  },
  {
   "cell_type": "code",
   "execution_count": 7,
   "metadata": {
    "dotnet_interactive": {
     "language": "csharp"
    },
    "polyglot_notebook": {
     "kernelName": "csharp"
    },
    "vscode": {
     "languageId": "polyglot-notebook"
    }
   },
   "outputs": [
    {
     "ename": "Error",
     "evalue": "(2,13): error CS0407: 'double Divide(int, int)' has the wrong return type",
     "output_type": "error",
     "traceback": [
      "(2,13): error CS0407: 'double Divide(int, int)' has the wrong return type"
     ]
    }
   ],
   "source": [
    "operation = Divide; // performing math operating on behalf of Divide()\n",
    "Console.WriteLine($\"Dividing 4 & 2: {operation(4, 2)}\");"
   ]
  }
 ],
 "metadata": {
  "language_info": {
   "name": "python"
  },
  "orig_nbformat": 4
 },
 "nbformat": 4,
 "nbformat_minor": 2
}
