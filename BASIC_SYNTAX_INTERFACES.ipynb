{
 "cells": [
  {
   "attachments": {},
   "cell_type": "markdown",
   "metadata": {},
   "source": [
    "# INTERFACES\n",
    "\n",
    "Essentially a template (\"contract\") for reference types like classes, very bare-bones\n",
    "\n",
    "### CONSIDERATIONS:\n",
    "* No access modifiers for interfaces, all will remain public\n",
    "* No curly braces or specific implementation definitions (this is what classes and other reference types are for)\n",
    "* Reference types that inherit an interface will need implement ALL method declarations in interface\n",
    "* Even though you can only inherit from one base class, you can inherit from multiple interfaces (comma-separated list)"
   ]
  },
  {
   "cell_type": "code",
   "execution_count": 65,
   "metadata": {
    "vscode": {
     "languageId": "polyglot-notebook"
    }
   },
   "outputs": [],
   "source": [
    "public interface IMediaPlayer\n",
    "{\n",
    "    void Play();\n",
    "    void Pause();\n",
    "    void Stop();\n",
    "    void UpdateSeekPosition(bool increment);\n",
    "    void UpdateVolume(bool increment);\n",
    "}"
   ]
  },
  {
   "cell_type": "code",
   "execution_count": 66,
   "metadata": {
    "dotnet_interactive": {
     "language": "csharp"
    },
    "polyglot_notebook": {
     "kernelName": "csharp"
    },
    "vscode": {
     "languageId": "polyglot-notebook"
    }
   },
   "outputs": [],
   "source": [
    "public class MediaPropertiesBase\n",
    "{\n",
    "    protected int SeekPosition { get; set; }\n",
    "    protected int VolumeLevel { get; set; }\n",
    "    protected int PercentUpdateAmount { get; set; }\n",
    "\n",
    "    public MediaPropertiesBase(int seekposition, int volumelevel, int percentamount)\n",
    "    {\n",
    "        // in percentages (%)\n",
    "        this.SeekPosition = seekposition;\n",
    "        this.VolumeLevel = volumelevel;\n",
    "        this.PercentUpdateAmount = percentamount;\n",
    "    }\n",
    "}\n",
    "\n",
    "\n",
    "\n",
    "public class AudioPlayer : MediaPropertiesBase, IMediaPlayer\n",
    "{\n",
    "    public AudioPlayer(int seekposition, int volumelevel, int percentamount) : base(seekposition, volumelevel, percentamount) { }\n",
    "    \n",
    "\n",
    "    public void Play()\n",
    "    {\n",
    "        Console.WriteLine(\"Playing audio...\");\n",
    "    }\n",
    "\n",
    "    public void Pause()\n",
    "    {\n",
    "        Console.WriteLine(\"Pausing audio...\");\n",
    "    }\n",
    "\n",
    "    public void Stop()\n",
    "    {\n",
    "        Console.WriteLine(\"Stopped audio player.\");\n",
    "    }\n",
    "\n",
    "    public void UpdateSeekPosition(bool increment)\n",
    "    {\n",
    "        string direction = \"\";\n",
    "\n",
    "        Console.WriteLine($\"Current Audio Seek Position: {this.SeekPosition}%\");\n",
    "        \n",
    "        if (increment == true)\n",
    "        {\n",
    "            this.SeekPosition += this.PercentUpdateAmount;\n",
    "            direction = \"forwards\";\n",
    "        }\n",
    "        else\n",
    "        {\n",
    "            this.SeekPosition -= this.PercentUpdateAmount;\n",
    "            direction = \"backwards\";\n",
    "        }       \n",
    "\n",
    "        Console.WriteLine($\"Going {direction} by {this.PercentUpdateAmount}%; New Audio Seek Position: {this.SeekPosition}%\\n\");\n",
    "    }\n",
    "\n",
    "    public void UpdateVolume(bool increment)\n",
    "    {\n",
    "        string direction = \"\";\n",
    "\n",
    "        Console.WriteLine($\"Current Audio Volume Level: {this.VolumeLevel}%\");\n",
    "        \n",
    "        if (increment == true)\n",
    "        {\n",
    "            this.VolumeLevel += this.PercentUpdateAmount;\n",
    "            direction = \"up\";\n",
    "        }\n",
    "        else\n",
    "        {\n",
    "            this.VolumeLevel -= this.PercentUpdateAmount;\n",
    "            direction = \"down\";\n",
    "        }\n",
    "\n",
    "        Console.WriteLine($\"Going {direction} by {this.PercentUpdateAmount}%; New Audio Volume Level: {this.VolumeLevel}%\\n\");\n",
    "    }\n",
    "\n",
    "}\n",
    "\n",
    "\n",
    "\n",
    "public class VideoPlayer : MediaPropertiesBase, IMediaPlayer\n",
    "{\n",
    "    public VideoPlayer(int seekposition, int volumelevel, int percentamount) : base(seekposition, volumelevel, percentamount) { }\n",
    "    \n",
    "\n",
    "    public void Play()\n",
    "    {\n",
    "        Console.WriteLine(\"Playing video...\");\n",
    "    }\n",
    "\n",
    "    public void Pause()\n",
    "    {\n",
    "        Console.WriteLine(\"Pausing video...\");\n",
    "    }\n",
    "\n",
    "    public void Stop()\n",
    "    {\n",
    "        Console.WriteLine(\"Stopped video player.\");\n",
    "    }\n",
    "\n",
    "    public void UpdateSeekPosition(bool increment)\n",
    "    {\n",
    "        string direction = \"\";\n",
    "\n",
    "        Console.WriteLine($\"Current Video Seek Position: {this.SeekPosition}%\");\n",
    "        \n",
    "        if (increment == true)\n",
    "        {\n",
    "            this.SeekPosition += this.PercentUpdateAmount;\n",
    "            direction = \"forward\";\n",
    "        }\n",
    "        else\n",
    "        {\n",
    "            this.SeekPosition -= this.PercentUpdateAmount;\n",
    "            direction = \"backwards\";\n",
    "        }       \n",
    "\n",
    "        Console.WriteLine($\"Going {direction} by {this.PercentUpdateAmount}%; New Audio Seek Position: {this.SeekPosition}%\\n\");\n",
    "    }\n",
    "\n",
    "    public void UpdateVolume(bool increment)\n",
    "    {\n",
    "        string direction = \"\";\n",
    "\n",
    "        Console.WriteLine($\"Current Video Volume Level: {this.VolumeLevel}%\");\n",
    "        \n",
    "        if (increment == true)\n",
    "        {\n",
    "            this.VolumeLevel += this.PercentUpdateAmount;\n",
    "            direction = \"up\";\n",
    "        }\n",
    "        else\n",
    "        {\n",
    "            this.VolumeLevel -= this.PercentUpdateAmount;\n",
    "            direction = \"down\";\n",
    "        }\n",
    "\n",
    "        Console.WriteLine($\"Going {direction} by {this.PercentUpdateAmount}%; New Audio Volume Level: {this.VolumeLevel}%\\n\");\n",
    "    }\n",
    "\n",
    "}\n"
   ]
  },
  {
   "cell_type": "code",
   "execution_count": 67,
   "metadata": {
    "dotnet_interactive": {
     "language": "csharp"
    },
    "polyglot_notebook": {
     "kernelName": "csharp"
    },
    "vscode": {
     "languageId": "polyglot-notebook"
    }
   },
   "outputs": [
    {
     "name": "stdout",
     "output_type": "stream",
     "text": [
      "Current Audio Seek Position: 0%\n",
      "Going forwards by 10%; New Audio Seek Position: 10%\n",
      "\n",
      "Current Audio Seek Position: 10%\n",
      "Going forwards by 10%; New Audio Seek Position: 20%\n",
      "\n",
      "Current Audio Seek Position: 20%\n",
      "Going forwards by 10%; New Audio Seek Position: 30%\n",
      "\n",
      "Current Audio Seek Position: 30%\n",
      "Going backwards by 10%; New Audio Seek Position: 20%\n",
      "\n"
     ]
    }
   ],
   "source": [
    "AudioPlayer a = new AudioPlayer(0, 50, 10);\n",
    "\n",
    "a.UpdateSeekPosition(true);\n",
    "a.UpdateSeekPosition(true);\n",
    "a.UpdateSeekPosition(true);\n",
    "a.UpdateSeekPosition(false);"
   ]
  },
  {
   "cell_type": "code",
   "execution_count": 68,
   "metadata": {
    "dotnet_interactive": {
     "language": "csharp"
    },
    "polyglot_notebook": {
     "kernelName": "csharp"
    },
    "vscode": {
     "languageId": "polyglot-notebook"
    }
   },
   "outputs": [
    {
     "name": "stdout",
     "output_type": "stream",
     "text": [
      "Current Video Seek Position: 0%\n",
      "Going forward by 20%; New Audio Seek Position: 20%\n",
      "\n",
      "Current Video Seek Position: 20%\n",
      "Going forward by 20%; New Audio Seek Position: 40%\n",
      "\n",
      "Current Video Seek Position: 40%\n",
      "Going backwards by 20%; New Audio Seek Position: 20%\n",
      "\n",
      "Current Video Seek Position: 20%\n",
      "Going forward by 20%; New Audio Seek Position: 40%\n",
      "\n"
     ]
    }
   ],
   "source": [
    "VideoPlayer v = new VideoPlayer(0, 40, 20);\n",
    "\n",
    "v.UpdateSeekPosition(true);\n",
    "v.UpdateSeekPosition(true);\n",
    "v.UpdateSeekPosition(false);\n",
    "v.UpdateSeekPosition(true);"
   ]
  },
  {
   "cell_type": "code",
   "execution_count": 69,
   "metadata": {
    "dotnet_interactive": {
     "language": "csharp"
    },
    "polyglot_notebook": {
     "kernelName": "csharp"
    },
    "vscode": {
     "languageId": "polyglot-notebook"
    }
   },
   "outputs": [
    {
     "name": "stdout",
     "output_type": "stream",
     "text": [
      "Current Audio Volume Level: 50%\n",
      "Going up by 10%; New Audio Volume Level: 60%\n",
      "\n",
      "Current Audio Volume Level: 60%\n",
      "Going down by 10%; New Audio Volume Level: 50%\n",
      "\n",
      "Current Audio Volume Level: 50%\n",
      "Going up by 10%; New Audio Volume Level: 60%\n",
      "\n",
      "Current Audio Volume Level: 60%\n",
      "Going up by 10%; New Audio Volume Level: 70%\n",
      "\n"
     ]
    }
   ],
   "source": [
    "a.UpdateVolume(true);\n",
    "a.UpdateVolume(false);\n",
    "a.UpdateVolume(true);\n",
    "a.UpdateVolume(true);"
   ]
  },
  {
   "cell_type": "code",
   "execution_count": 70,
   "metadata": {
    "dotnet_interactive": {
     "language": "csharp"
    },
    "polyglot_notebook": {
     "kernelName": "csharp"
    },
    "vscode": {
     "languageId": "polyglot-notebook"
    }
   },
   "outputs": [
    {
     "name": "stdout",
     "output_type": "stream",
     "text": [
      "Current Video Volume Level: 40%\n",
      "Going up by 20%; New Audio Volume Level: 60%\n",
      "\n",
      "Current Video Volume Level: 60%\n",
      "Going down by 20%; New Audio Volume Level: 40%\n",
      "\n",
      "Current Video Volume Level: 40%\n",
      "Going down by 20%; New Audio Volume Level: 20%\n",
      "\n",
      "Current Video Volume Level: 20%\n",
      "Going up by 20%; New Audio Volume Level: 40%\n",
      "\n"
     ]
    }
   ],
   "source": [
    "v.UpdateVolume(true);\n",
    "v.UpdateVolume(false);\n",
    "v.UpdateVolume(false);\n",
    "v.UpdateVolume(true);"
   ]
  }
 ],
 "metadata": {
  "language_info": {
   "name": "python"
  },
  "orig_nbformat": 4
 },
 "nbformat": 4,
 "nbformat_minor": 2
}
