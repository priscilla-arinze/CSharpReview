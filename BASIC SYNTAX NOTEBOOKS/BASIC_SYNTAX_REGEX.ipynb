{
 "cells": [
  {
   "attachments": {},
   "cell_type": "markdown",
   "metadata": {},
   "source": [
    "# REGULAR EXPRESSIONS (REGEX)"
   ]
  },
  {
   "cell_type": "code",
   "execution_count": 1,
   "metadata": {
    "dotnet_interactive": {
     "language": "csharp"
    },
    "polyglot_notebook": {
     "kernelName": "csharp"
    },
    "vscode": {
     "languageId": "polyglot-notebook"
    }
   },
   "outputs": [],
   "source": [
    "using System.Text.RegularExpressions;"
   ]
  },
  {
   "attachments": {},
   "cell_type": "markdown",
   "metadata": {},
   "source": [
    "## `IsMatch()` --> bool \n",
    "\n",
    "*kinda similar to Python's `re.search()`*"
   ]
  },
  {
   "cell_type": "code",
   "execution_count": 5,
   "metadata": {
    "dotnet_interactive": {
     "language": "csharp"
    },
    "polyglot_notebook": {
     "kernelName": "csharp"
    },
    "vscode": {
     "languageId": "polyglot-notebook"
    }
   },
   "outputs": [
    {
     "name": "stdout",
     "output_type": "stream",
     "text": [
      "Sentence contains numbers\r\n"
     ]
    }
   ],
   "source": [
    "string sentence = \"this kitten has been convicted of 7 counts of tax fraud\";\n",
    "\n",
    "Regex pattern = new Regex(\"[0-9]+\");\n",
    "\n",
    "if (pattern.IsMatch(sentence))\n",
    "{\n",
    "    Console.WriteLine(\"Sentence contains numbers\");\n",
    "}\n",
    "else \n",
    "{\n",
    "    Console.WriteLine(\"Sentence does NOT contain numbers\");\n",
    "}"
   ]
  },
  {
   "attachments": {},
   "cell_type": "markdown",
   "metadata": {},
   "source": [
    "## `Match()`\n",
    "\n",
    "*kinda similar to Python's `re.find()`*"
   ]
  },
  {
   "cell_type": "code",
   "execution_count": 25,
   "metadata": {
    "dotnet_interactive": {
     "language": "csharp"
    },
    "polyglot_notebook": {
     "kernelName": "csharp"
    },
    "vscode": {
     "languageId": "polyglot-notebook"
    }
   },
   "outputs": [
    {
     "name": "stdout",
     "output_type": "stream",
     "text": [
      "First comma found at index 13. Length: 1\r\n"
     ]
    }
   ],
   "source": [
    "string sentence2 = \"breaking news, water has been found in the ocean, more at 11\";\n",
    "\n",
    "Regex pattern = new Regex(@\"[,]+\");\n",
    "Match match = pattern.Match(sentence2);\n",
    "\n",
    "if (match.Success)\n",
    "    Console.WriteLine(\"First comma found at index \" + match.Index + \". Length: \" + match.Length);"
   ]
  },
  {
   "attachments": {},
   "cell_type": "markdown",
   "metadata": {},
   "source": [
    "## Capture Groups (Multiple)"
   ]
  },
  {
   "cell_type": "code",
   "execution_count": 26,
   "metadata": {
    "dotnet_interactive": {
     "language": "csharp"
    },
    "polyglot_notebook": {
     "kernelName": "csharp"
    },
    "vscode": {
     "languageId": "polyglot-notebook"
    }
   },
   "outputs": [
    {
     "name": "stdout",
     "output_type": "stream",
     "text": [
      "Name: Squiward Tentacles\n",
      "Age: 315\r\n"
     ]
    }
   ],
   "source": [
    "string sentence3 = \"**********Squiward Tentacles, 315 years old***********\";\n",
    "\n",
    "Regex pattern = new Regex(@\"([^*,]+),\\s([0-9]+)\");\n",
    "Match match = pattern.Match(sentence3);\n",
    "\n",
    "if (match.Success)\n",
    "    Console.WriteLine(\"Name: \" + match.Groups[1].Value + \"\\nAge: \" + match.Groups[2].Value);"
   ]
  },
  {
   "attachments": {},
   "cell_type": "markdown",
   "metadata": {},
   "source": [
    "### Named Capture Groups\n",
    "\n",
    "syntax: `?<NAME>` right after left parenthesis"
   ]
  },
  {
   "cell_type": "code",
   "execution_count": 28,
   "metadata": {
    "dotnet_interactive": {
     "language": "csharp"
    },
    "polyglot_notebook": {
     "kernelName": "csharp"
    },
    "vscode": {
     "languageId": "polyglot-notebook"
    }
   },
   "outputs": [
    {
     "name": "stdout",
     "output_type": "stream",
     "text": [
      "Name: Squiward Tentacles\n",
      "Age: 315\r\n"
     ]
    }
   ],
   "source": [
    "string sentence4 = \"**********Squiward Tentacles, 315 years old***********\";\n",
    "\n",
    "Regex pattern = new Regex(@\"(?<name>[^*,]+),\\s(?<age>[0-9]+)\");\n",
    "Match match = pattern.Match(sentence4);\n",
    "\n",
    "if (match.Success)\n",
    "    Console.WriteLine(\"Name: \" + match.Groups[\"name\"].Value + \"\\nAge: \" + match.Groups[\"age\"].Value);"
   ]
  },
  {
   "attachments": {},
   "cell_type": "markdown",
   "metadata": {},
   "source": [
    "## `MatchCollection Class`\n",
    "\n",
    "*kinda similar to Python's `re.findall()`*"
   ]
  },
  {
   "cell_type": "code",
   "execution_count": null,
   "metadata": {
    "dotnet_interactive": {
     "language": "csharp"
    },
    "polyglot_notebook": {
     "kernelName": "csharp"
    },
    "vscode": {
     "languageId": "polyglot-notebook"
    }
   },
   "outputs": [],
   "source": []
  }
 ],
 "metadata": {
  "language_info": {
   "name": "python"
  },
  "orig_nbformat": 4
 },
 "nbformat": 4,
 "nbformat_minor": 2
}
