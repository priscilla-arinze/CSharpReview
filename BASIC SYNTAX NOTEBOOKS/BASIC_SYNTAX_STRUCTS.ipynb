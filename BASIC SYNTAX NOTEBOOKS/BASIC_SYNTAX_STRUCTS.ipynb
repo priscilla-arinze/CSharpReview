{
 "cells": [
  {
   "attachments": {},
   "cell_type": "markdown",
   "metadata": {},
   "source": [
    "# STRUCTS (STRUCTURES)\n",
    "\n",
    "*Custom __value__ data type; lightweight version of classes, but doesn't require the creation of new instances to use them*\n",
    "\n",
    "## EXAMPLES:\n",
    "* Basic numeric types (`int`, `long`, `float`, etc.)\n",
    "* Basic game development geometry (x,y points, rectangle, color, etc.)\n",
    "* Game development objects (player, enemies, physics, etc.)\n",
    "* DateTime manipulation\n",
    "* Monetary/financial manipulation\n",
    "* IoT sensor data (temperatures, accelerator data, etc.)\n",
    "* Custom configuration settings in your app/game\n",
    "* Mock test samples\n",
    "\n",
    "<br>\n",
    "\n",
    "## GENERAL CONSIDERATIONS:\n",
    "* Structs are used/passed in by value rather than reference (unlike classes)\n",
    "* Structs are not allowed to inherit from classes nor other structs, only interfaces\n",
    "* Fields CANNOT have initializers, e.g.: `private string _color = \"Blue\";`\n",
    "* Structs CANNOT have a custom parameter-less constructor (__BEFORE C# 10__)\n",
    "* If a custom constructor is written, ALL parameters must be initialized in the constructor\n",
    "* Classes can reference itself or create same type instances within itself (since each instance is in a different place in memory)\n",
    "    * Structs cannot because it will create a never-ending recursive definition\n",
    "\n",
    "<br>\n",
    "\n",
    "## GOOD PRACTICE CONSIDERATIONS:\n",
    "* Use structs for small/simple data-centric types that provide little to no behavior\n",
    "    * Use classes for more involved/complex object types that focus on behavior\n",
    "* All of the possible values for an instantiated struct have the same hash code using the `GetHashCode()` method\n",
    "    * This increases the likelihood of causing hash collisions, making systems insecure\n",
    "        * Not a huge deal unless you decide to use structs for stuff that needs to be secure (e.g. passwords)\n",
    "        * In that case, you would need to implement a more complex hashing algorithm\n",
    "    * UNLESS you create custom `Equals()` and `GetHashCode()` method implementations in the struct\n",
    "* In addition to the above method implementations, you might also need to implement operator methods for `==` and `!=`\n",
    "* It is NOT good practice to use referene types inside struct implementations; use only primitive types\n",
    "* It's good practice to use the `readonly` modifier for structs to make it immutable upon instantiation\n",
    "\n",
    "<br>\n",
    "\n",
    "## MEMORY/PERFORMANCE CONSIDERATIONS:\n",
    "* Class instances are stored on the heap, whereas structs are *mostly* stored on the stack\n",
    "    * However in some cases, structs can also be stored on the heap as well (especially if they are contained/used inside of a class)\n",
    "* An array of instantiated structs are all stored in the same place/reference in heap memory\n",
    "* Classes relative to structs: each instantiated class object, even if they are contained inside an array, are still each located in different places in heap memory\n",
    "    * The array containing class instances will only contain pointer references to the different locations of each instance in heap memory\n",
    "* Structs cannot be `null`, they will automatically have a place allocated in memory for it regardless of whether it's being used or not\n",
    "    * Classes on the other hand can have a pointer reference to `null` until the instance is initalized and a reference is established using the `new` keyword\n",
    "* Can be efficient when it comes to performance, but only if the instantiated struct is under 16 bytes in size\n",
    "    * Since structs are passed in by value rather than reference, structs will need to be copied and will be performance-intensive if the struct is too big\n",
    "    * e.g GUIDs (globally unique identifiers) are expensive to use as a struct since they are exactly 16 bytes in size\n",
    "    * Therefore, it's best to stick to simple implementations when using structs"
   ]
  },
  {
   "cell_type": "code",
   "execution_count": 5,
   "metadata": {
    "dotnet_interactive": {
     "language": "csharp"
    },
    "polyglot_notebook": {
     "kernelName": "csharp"
    },
    "vscode": {
     "languageId": "polyglot-notebook"
    }
   },
   "outputs": [
    {
     "name": "stdout",
     "output_type": "stream",
     "text": [
      "This car is Blue\n",
      "This car is Red\n"
     ]
    }
   ],
   "source": [
    "struct Car\n",
    "{\n",
    "    public string Color { get; set; }\n",
    "\n",
    "    public Car(string color)\n",
    "    {\n",
    "        this.Color = color;\n",
    "    }\n",
    "\n",
    "    public string Describe()\n",
    "    {\n",
    "        return \"This car is \" + Color;\n",
    "    }\n",
    "}\n",
    "\n",
    "\n",
    "Car car;\n",
    "\n",
    "car = new Car(\"Blue\");\n",
    "Console.WriteLine(car.Describe());\n",
    "\n",
    "car = new Car(\"Red\");\n",
    "Console.WriteLine(car.Describe());"
   ]
  },
  {
   "cell_type": "code",
   "execution_count": 19,
   "metadata": {
    "dotnet_interactive": {
     "language": "csharp"
    },
    "polyglot_notebook": {
     "kernelName": "csharp"
    },
    "vscode": {
     "languageId": "polyglot-notebook"
    }
   },
   "outputs": [
    {
     "name": "stdout",
     "output_type": "stream",
     "text": [
      "First Name\tLast Name\tGrade Level\n",
      "Jonny\t\tJohnson\t\t5\n",
      "\n",
      "Next Grade Level: 6\n",
      "\n",
      "\n",
      "First Name\tLast Name\tGrade Level\n",
      "Rebecca\t\tBeck\t\t11\n",
      "\n",
      "Next Grade Level: 12\n"
     ]
    }
   ],
   "source": [
    "struct Student\n",
    "{\n",
    "    public string FirstName { get; set; }\n",
    "    public string LastName { get; set; }\n",
    "    public int GradeLevel { get; set; }\n",
    "\n",
    "    public Student(string firstname, string lastname)\n",
    "    {\n",
    "        this.FirstName = firstname;\n",
    "        this.LastName = lastname;\n",
    "    }\n",
    "\n",
    "    public string ShowStudentInfo()\n",
    "    {\n",
    "        StringBuilder info = new StringBuilder();\n",
    "\n",
    "        info.AppendLine(\"First Name\\tLast Name\\tGrade Level\");\n",
    "        info.AppendLine($\"{this.FirstName}\\t\\t{this.LastName}\\t\\t{this.GradeLevel}\");\n",
    "\n",
    "        return info.ToString();\n",
    "    }\n",
    "\n",
    "    public string NextGradeLevel()\n",
    "    {\n",
    "        // '?' in case grade level is NULL for Student type\n",
    "        int? currentGradeLevel = this.GradeLevel;\n",
    "        int? nextGradeLevel = currentGradeLevel + 1;\n",
    "        return $\"Next Grade Level: {nextGradeLevel}\";\n",
    "    }\n",
    "}\n",
    "\n",
    "Student s1 = new Student(\"Jonny\", \"Johnson\");\n",
    "s1.GradeLevel = 5;\n",
    "Console.WriteLine(s1.ShowStudentInfo());\n",
    "Console.WriteLine(s1.NextGradeLevel());\n",
    "\n",
    "Console.WriteLine(\"\\n\");\n",
    "\n",
    "Student s2 = new Student(\"Rebecca\", \"Beck\");\n",
    "s2.GradeLevel = 11;\n",
    "Console.WriteLine(s2.ShowStudentInfo());\n",
    "Console.WriteLine(s2.NextGradeLevel());"
   ]
  },
  {
   "cell_type": "markdown",
   "metadata": {},
   "source": [
    "### Custom Operator Implementations"
   ]
  },
  {
   "cell_type": "code",
   "execution_count": 35,
   "metadata": {
    "dotnet_interactive": {
     "language": "csharp"
    },
    "polyglot_notebook": {
     "kernelName": "csharp"
    },
    "vscode": {
     "languageId": "polyglot-notebook"
    }
   },
   "outputs": [
    {
     "name": "stdout",
     "output_type": "stream",
     "text": [
      "Does (0, 0)['p1']   ==   (10, 20)['p2']: False\n",
      "Does (0, 0)['p1']   !=   (10, 20)['p2']: True\n",
      "Does (0, 0)['p1']   ==   (0, 0)['p3']: True\n",
      "Does (0, 0)['p1']   !=   (0, 0)['p3']: False\n",
      "Does (0, 0)['p1'].Equals((0, 0)['p3']): True\n",
      "Does (0, 0)['p1']   ==   (0, 0)['p4']: True\n",
      "Does (0, 0)['p1'].Equals((0, 0)['p4']): True\n"
     ]
    }
   ],
   "source": [
    "struct Point\n",
    "{\n",
    "    public int X { get; set; }\n",
    "    public int Y { get; set; }\n",
    "\n",
    "    public Point(int x, int y)\n",
    "    {\n",
    "        this.X = x;\n",
    "        this.Y = y;\n",
    "    }\n",
    "\n",
    "    public override string ToString()\n",
    "    {\n",
    "        return $\"({this.X}, {this.Y})\";\n",
    "    }\n",
    "\n",
    "    // what to do when comparing points using `==`\n",
    "    public static bool operator ==(Point p1, Point p2)\n",
    "    {\n",
    "        return p1.X == p2.X && p1.Y == p2.Y;\n",
    "    }\n",
    "\n",
    "    // what to do when comparing points using `!=`\n",
    "    public static bool operator !=(Point p1, Point p2)\n",
    "    {\n",
    "        return p1.X != p2.X || p1.Y != p2.Y;\n",
    "    }\n",
    "\n",
    "    // what to do when comparing points using `Point.Equals()` (should do the same thing as `==`; value equality)\n",
    "    public override bool Equals(object obj)\n",
    "    {\n",
    "        if (!(obj is Point))\n",
    "        {\n",
    "            return false;\n",
    "        }\n",
    "        return obj is Point p && this.X == p.X && this.Y == p.Y;\n",
    "    }\n",
    "\n",
    "\n",
    "    public override int GetHashCode()\n",
    "    {\n",
    "        return (this.X, this.Y).GetHashCode();\n",
    "    }\n",
    "}\n",
    "\n",
    "Point p1 = new Point(0, 0);\n",
    "Point p2 = new Point(10, 20);\n",
    "Point p3 = new Point(0, 0);\n",
    "Point p4 = p1;\n",
    "\n",
    "Console.WriteLine($\"Does {p1}['p1']   ==   {p2}['p2']: {p1 == p2}\");\n",
    "Console.WriteLine($\"Does {p1}['p1']   !=   {p2}['p2']: {p1 != p2}\");\n",
    "Console.WriteLine($\"Does {p1}['p1']   ==   {p3}['p3']: {p1 == p3}\");\n",
    "Console.WriteLine($\"Does {p1}['p1']   !=   {p3}['p3']: {p1 != p3}\");\n",
    "Console.WriteLine($\"Does {p1}['p1'].Equals({p3}['p3']): {p1.Equals(p3)}\");\n",
    "Console.WriteLine($\"Does {p1}['p1']   ==   {p4}['p4']: {p1 == p4}\");\n",
    "Console.WriteLine($\"Does {p1}['p1'].Equals({p4}['p4']): {p1.Equals(p4)}\");"
   ]
  }
 ],
 "metadata": {
  "language_info": {
   "name": "python"
  },
  "orig_nbformat": 4
 },
 "nbformat": 4,
 "nbformat_minor": 2
}
