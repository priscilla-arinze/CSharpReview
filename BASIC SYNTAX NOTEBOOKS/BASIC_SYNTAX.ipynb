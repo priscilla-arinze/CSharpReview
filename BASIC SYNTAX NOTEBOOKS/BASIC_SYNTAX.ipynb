{
 "cells": [
  {
   "attachments": {},
   "cell_type": "markdown",
   "metadata": {},
   "source": [
    "# Basic C# Syntax"
   ]
  },
  {
   "attachments": {},
   "cell_type": "markdown",
   "metadata": {},
   "source": [
    "## PRINT STATEMENTS"
   ]
  },
  {
   "cell_type": "code",
   "execution_count": 1,
   "metadata": {
    "dotnet_interactive": {
     "language": "csharp"
    },
    "polyglot_notebook": {
     "kernelName": "csharp"
    }
   },
   "outputs": [
    {
     "name": "stdout",
     "output_type": "stream",
     "text": [
      "i am a print statement\n",
      "same linesame line"
     ]
    }
   ],
   "source": [
    "Console.WriteLine(\"i am a print statement\");\n",
    "Console.Write(\"same line\");\n",
    "Console.Write(\"same line\");"
   ]
  },
  {
   "attachments": {},
   "cell_type": "markdown",
   "metadata": {},
   "source": [
    "<hr>"
   ]
  },
  {
   "attachments": {},
   "cell_type": "markdown",
   "metadata": {},
   "source": [
    "## COMMENTS"
   ]
  },
  {
   "attachments": {},
   "cell_type": "markdown",
   "metadata": {},
   "source": [
    "### Single-Line Comments"
   ]
  },
  {
   "cell_type": "code",
   "execution_count": null,
   "metadata": {
    "dotnet_interactive": {
     "language": "csharp"
    },
    "polyglot_notebook": {
     "kernelName": "csharp"
    }
   },
   "outputs": [],
   "source": [
    "// blah blah blah"
   ]
  },
  {
   "attachments": {},
   "cell_type": "markdown",
   "metadata": {},
   "source": [
    "### Multi-Line Comments"
   ]
  },
  {
   "cell_type": "code",
   "execution_count": null,
   "metadata": {
    "dotnet_interactive": {
     "language": "csharp"
    },
    "polyglot_notebook": {
     "kernelName": "csharp"
    }
   },
   "outputs": [],
   "source": [
    "/*\n",
    "blah\n",
    "    blah\n",
    "        blah\n",
    "*/"
   ]
  },
  {
   "attachments": {},
   "cell_type": "markdown",
   "metadata": {},
   "source": [
    "### Documentation Comments (Docstring)"
   ]
  },
  {
   "cell_type": "code",
   "execution_count": null,
   "metadata": {
    "dotnet_interactive": {
     "language": "csharp"
    },
    "polyglot_notebook": {
     "kernelName": "csharp"
    }
   },
   "outputs": [],
   "source": [
    "class User\n",
    "{\n",
    "    /// <summary>\n",
    "    /// The Name of the User.\n",
    "    /// </summary>\n",
    "    public string Name { get; set; }\n",
    "\n",
    "    /**\n",
    "    * <summary>The Age of the User.</summary>\n",
    "    */\n",
    "    public string Age { get; set; }\n",
    "}\n",
    "\n",
    "User u = new User();\n",
    "u.Name\n"
   ]
  },
  {
   "attachments": {
    "image.png": {
     "image/png": "[encoded data removed]"
    }
   },
   "cell_type": "markdown",
   "metadata": {},
   "source": [
    "![image.png](attachment:image.png)"
   ]
  },
  {
   "attachments": {},
   "cell_type": "markdown",
   "metadata": {},
   "source": [
    "<hr>"
   ]
  },
  {
   "attachments": {},
   "cell_type": "markdown",
   "metadata": {},
   "source": [
    "## SIMPLE BUILT-IN DATA TYPES"
   ]
  },
  {
   "attachments": {},
   "cell_type": "markdown",
   "metadata": {},
   "source": [
    "|Data Type|Struct Type|Default Value|Size|Range Limit MIN|Range Limit MAX|Signed?|\n",
    "|:----|:----|:----|:----|:----|:----|:----|\n",
    "|`sbyte` (`System.SByte`)|Integral|0|8-bit|-128|127|Yes|\n",
    "|`byte` (`System.Byte`)|Integral|0|8-bit|0|255|No|\n",
    "|`short` (`System.Int16`)|Integral|0|16-bit|-32,768|32,767|Yes|\n",
    "|`ushort` (`System.UInt16`)|Integral|0|16-bit|0|65,535|No|\n",
    "|`int` (`System.Int32`)|Integral|0|32-bit|-2,147,483,648 *(billion)*|2,147,483,647 *(billion)*|Yes|\n",
    "|`uint` (`System.UInt32`)|Integral|0|32-bit|0|4,294,967,295 *(billion)*|No|\n",
    "|`long` (`System.Int64`)|Integral|0|64-bit|-9,223,372,036,854,770,000 *(quintillion)*|9,223,372,036,854,770,000 *(quintillion)*|Yes|\n",
    "|`ulong` (`System.UInt64`)|Integral|0|64-bit|0|18,446,744,073,709,500,000 *(quintillion)*|No|\n",
    "|`float`<sup>*a*</sup> (`System.Single`)|Floating-point (IEEE binary)|0.0f|32-bit (~6-9 digit precision)|-1.5 x 10<sup>-45</sup> *(quatturordecillion)*|3.4 x 10<sup>38</sup> *(undecillion)*|Yes|\n",
    "|`double`<sup>*a*</sup> (`System.Double`)|Floating-point (IEEE binary)|0.0d|64-bit (~15-16 digit precision)|-5.0 x 10<sup>-324</sup> *(more than a centillion)*|1.7 x 10<sup>308</sup> *(more than a centillion)*|Yes|\n",
    "|`decimal`<sup>*b*</sup> (`System.Decimal`)|Numeric (floating-point high-precision)|0m|128-bit (~28-29 digit precision)|-7.9 x 10<sup>-28</sup> *(sexvigintillion)*|7.9 x 10<sup>28</sup> *(sexvigintillion)*|Yes|\n",
    "|`char`<sup>*c*</sup> (`System.Char`)|Integral|`'\\x0000'`|16-bit integers|0|65,535|No|\n",
    "|`bool`<sup>*d*</sup> (`System.Boolean`)|Boolean|`false`|*N/A*|*N/A*|*N/A*|*N/A*|\n",
    "\n",
    "\n",
    "<br>\n",
    "\n",
    "\n",
    "__Footnotes:__\n",
    "\n",
    "*a*: Considerations for the `float` and `double` types:\n",
    "* `float` and `double` types never produce exceptions, only the following:\n",
    "    * Zero (positive or negative)\n",
    "    * Not-A-Number value (`NaN`)\n",
    "    * Infinity (1.0/0.0 and -1.0/0.0)\n",
    "* 0.0/0.0 or any other invalid floating point operation results in a `NaN` value\n",
    "\n",
    "\n",
    "*b*: Considerations for the `decimal` type:\n",
    "* often used for financial calculations\n",
    "* represented as an integer scaled by a power of ten (e.g. `1.0m` is 1.0 with at least 28 zeros after the decimal)\n",
    "* operations are performed with `double` precision\n",
    "* `decimal` to `float/double` conversions *may* result in loss of precision or an overflow exception\n",
    "* `float/double` conversions *may* result in overflow exceptions\n",
    "\n",
    "*c*: Considerations for the the `char` type:\n",
    "* Represents unicode values (UTF-16)\n",
    "* e.g. `char(10)` == `\\x000A`\n",
    "\n",
    "*d*: Considerations for the the `bool` type:\n",
    "* Cannot be used in place of an integral value type (e.g. `int`) and vice versa\n",
    "    * this is unlike Python where 1 and 0 can be interchangable with `True` and `False`\n",
    "\n",
    "<br>\n",
    "\n",
    "__NOTE: Numbers stored in a data type that is too small will result in a `System.OverflowException` error, except `float` and `double` types (*see footnote 'a'*).__\n"
   ]
  },
  {
   "attachments": {},
   "cell_type": "markdown",
   "metadata": {},
   "source": [
    "<hr>"
   ]
  },
  {
   "attachments": {},
   "cell_type": "markdown",
   "metadata": {},
   "source": [
    "## ACCESS MODIFIERS"
   ]
  },
  {
   "attachments": {},
   "cell_type": "markdown",
   "metadata": {},
   "source": [
    "| Access Modifier      | Visibility                                                                                                 |\n",
    "| -------------------- | ---------------------------------------------------------------------------------------------------------- |\n",
    "| `public`             | Accessible from anywhere                                                                                   |\n",
    "| `private`            | Accessible only within the same class or struct                                                            |\n",
    "| `protected`          | Accessible within the same class and derived classes, or within the same assembly (for protected internal) |\n",
    "| `internal`           | Accessible within the same assembly/project                                                                        |\n",
    "| `protected internal` | Accessible within the same assembly/project and from derived classes, even in different assemblies                 |\n",
    "\n",
    "\n",
    "*NOTE: Members with an `override` modifier must match the accessor of what is being overridden.*"
   ]
  },
  {
   "attachments": {},
   "cell_type": "markdown",
   "metadata": {},
   "source": [
    "<hr>"
   ]
  },
  {
   "attachments": {},
   "cell_type": "markdown",
   "metadata": {},
   "source": [
    "## REFERENCE DATA TYPES"
   ]
  },
  {
   "attachments": {},
   "cell_type": "markdown",
   "metadata": {},
   "source": [
    "* Class Types\n",
    "    * `object`: ultimate base class of all types\n",
    "    * `string`: sequence of UTF-16 unicode `char` units\n",
    "    * custom user created classes `class CExample {...}`\n",
    "* Interfaces: defines a contract (*interface*) that declare capabilities that can be shared among distinct types such as classes/structs \n",
    "    * e.g. `System.Collections.Generic.IEnumerable<T>` is a consistent way to traverse through a collection such as an array\n",
    "    * Capable of inheriting from multiple other interfaces\n",
    "    * `interface IExample {...}`\n",
    "* Arrays `int[]`, `int[,]`, `int[][]`\n",
    "* Delegates: provides a \"late binding\" mechanism where an algorithm supplies a common method that is used in said algorithm\n",
    "    * e.g. `Sort()` in an application that needs to use `Sort()` but for different sort options: names from A-Z, Z-A, longest to shortest, etc.\n",
    "    * `delegate int DExample(...)`"
   ]
  },
  {
   "attachments": {},
   "cell_type": "markdown",
   "metadata": {},
   "source": [
    "<hr>"
   ]
  },
  {
   "attachments": {},
   "cell_type": "markdown",
   "metadata": {},
   "source": [
    "## EXCEPTION HANDLING"
   ]
  },
  {
   "cell_type": "code",
   "execution_count": 1,
   "metadata": {
    "dotnet_interactive": {
     "language": "csharp"
    },
    "polyglot_notebook": {
     "kernelName": "csharp"
    }
   },
   "outputs": [
    {
     "name": "stdout",
     "output_type": "stream",
     "text": [
      "an index was out of range\n",
      "execute, exception or not\n"
     ]
    }
   ],
   "source": [
    "string s = \"string string i am a string\";\n",
    "try\n",
    "{\n",
    "    \n",
    "    int s_len = s.Length;\n",
    "    Console.WriteLine(s[s_len]);\n",
    "}\n",
    "catch(IndexOutOfRangeException ex)\n",
    "{\n",
    "    Console.WriteLine(\"an index was out of range\");\n",
    "}\n",
    "catch(Exception ex)\n",
    "{\n",
    "    Console.WriteLine(\"some other error occured: \" + ex.Message);\n",
    "}\n",
    "finally\n",
    "{\n",
    "    Console.WriteLine(\"execute, exception or not\");\n",
    "}"
   ]
  },
  {
   "attachments": {},
   "cell_type": "markdown",
   "metadata": {},
   "source": [
    "<hr>"
   ]
  },
  {
   "attachments": {},
   "cell_type": "markdown",
   "metadata": {},
   "source": [
    "## IMPLICIT TYPE VARIABLES (`var` vs `dynamic`)\n",
    "\n",
    "### `var`\n",
    "* *STATIC -- Once assigned, data type is immutable and cannot be implictly converted w/ re-assignment.\n",
    "* Potentially error-prone (less so than dynamic), but not performance intensive, will be resolved/checked at compile-time (see cell below)"
   ]
  },
  {
   "cell_type": "code",
   "execution_count": 8,
   "metadata": {
    "dotnet_interactive": {
     "language": "csharp"
    },
    "polyglot_notebook": {
     "kernelName": "csharp"
    }
   },
   "outputs": [
    {
     "ename": "Error",
     "evalue": "(2,8): error CS0029: Cannot implicitly convert type 'int' to 'string'",
     "output_type": "error",
     "traceback": [
      "(2,8): error CS0029: Cannot implicitly convert type 'int' to 'string'"
     ]
    }
   ],
   "source": [
    "var bleh = \"bleh\";\n",
    "bleh = 5; // ERROR: \"Cannot implicitly convert type 'int' to 'string'."
   ]
  },
  {
   "attachments": {},
   "cell_type": "markdown",
   "metadata": {},
   "source": [
    "### `dynamic`\n",
    "\n",
    "* \\*Technically\\* not statically typed (kinda similar to pythonic variable types)\n",
    "* assignment data type is unknown at compile time (similar to `object`, in fact, `dynamic` is pretty much considered an `object` at run time.) \n",
    "* `dynamic` declaration types are resolved at runtime.\n",
    "\n",
    "__NOTE: Might be error-prone since complier is unable to type check and a bit performance intensive to use frequently within a program, see [here](https://learn.microsoft.com/en-us/dotnet/framework/performance/performance-tips).__\n",
    "* Also the [boxing/unboxing process](https://learn.microsoft.com/en-us/dotnet/csharp/programming-guide/types/boxing-and-unboxing) seems to be taking place when `dynamic` is pretty much being considered an `object` and the type has to be determined by the CLR instead of at compile time."
   ]
  },
  {
   "cell_type": "code",
   "execution_count": 6,
   "metadata": {
    "dotnet_interactive": {
     "language": "csharp"
    },
    "polyglot_notebook": {
     "kernelName": "csharp"
    }
   },
   "outputs": [
    {
     "name": "stdout",
     "output_type": "stream",
     "text": [
      "5\r\n"
     ]
    }
   ],
   "source": [
    "dynamic x = \"bleh\";\n",
    "\n",
    "x = 5; // allows for implicit conversion from string to int\n",
    "\n",
    "Console.WriteLine(x);"
   ]
  },
  {
   "attachments": {},
   "cell_type": "markdown",
   "metadata": {},
   "source": [
    "<hr>"
   ]
  },
  {
   "attachments": {},
   "cell_type": "markdown",
   "metadata": {},
   "source": [
    "## TYPE CASTING"
   ]
  },
  {
   "cell_type": "code",
   "execution_count": 2,
   "metadata": {
    "dotnet_interactive": {
     "language": "csharp"
    },
    "polyglot_notebook": {
     "kernelName": "csharp"
    }
   },
   "outputs": [
    {
     "ename": "Error",
     "evalue": "(3,9): error CS0266: Cannot implicitly convert type 'decimal' to 'int'. An explicit conversion exists (are you missing a cast?)",
     "output_type": "error",
     "traceback": [
      "(3,9): error CS0266: Cannot implicitly convert type 'decimal' to 'int'. An explicit conversion exists (are you missing a cast?)"
     ]
    }
   ],
   "source": [
    "// will result in an implicit conversion error\n",
    "decimal x = 10;\n",
    "int y = x;\n",
    "\n",
    "Console.WriteLine(y);"
   ]
  },
  {
   "cell_type": "code",
   "execution_count": 3,
   "metadata": {
    "dotnet_interactive": {
     "language": "csharp"
    },
    "polyglot_notebook": {
     "kernelName": "csharp"
    }
   },
   "outputs": [
    {
     "name": "stdout",
     "output_type": "stream",
     "text": [
      "10\r\n"
     ]
    }
   ],
   "source": [
    "decimal x = 10;\n",
    "int y = (int)x; //type casting\n",
    "\n",
    "Console.WriteLine(y);"
   ]
  },
  {
   "attachments": {},
   "cell_type": "markdown",
   "metadata": {},
   "source": [
    "<hr>"
   ]
  },
  {
   "attachments": {},
   "cell_type": "markdown",
   "metadata": {},
   "source": [
    "## ENUMS\n",
    "\n",
    "* Defines a set of constants that is comprised of integral numeric types (default: `int`).\n",
    "* Explicit definitions are not required (will start and increment with index 0)"
   ]
  },
  {
   "cell_type": "code",
   "execution_count": 12,
   "metadata": {
    "dotnet_interactive": {
     "language": "csharp"
    },
    "polyglot_notebook": {
     "kernelName": "csharp"
    }
   },
   "outputs": [
    {
     "name": "stdout",
     "output_type": "stream",
     "text": [
      "Spring\n",
      "Autumn, Spring\n",
      "All\n"
     ]
    }
   ],
   "source": [
    "[Flags] // allows for combination of enums via bitwise logical operators (All)\n",
    "public enum Seasons\n",
    "{\n",
    "    None = 0,\n",
    "    Summer = 1,\n",
    "    Autumn = 2,\n",
    "    Winter = 4,\n",
    "    Spring = 8,\n",
    "    All = Summer | Autumn | Winter | Spring\n",
    "}\n",
    "\n",
    "\n",
    "var spring = Seasons.Spring;\n",
    "var startingOnEquinox = Seasons.Spring | Seasons.Autumn;\n",
    "var theYear = Seasons.All;\n",
    "\n",
    "Console.WriteLine(spring);\n",
    "Console.WriteLine(startingOnEquinox);\n",
    "Console.WriteLine(theYear);"
   ]
  },
  {
   "attachments": {},
   "cell_type": "markdown",
   "metadata": {},
   "source": [
    "<hr>"
   ]
  },
  {
   "attachments": {},
   "cell_type": "markdown",
   "metadata": {},
   "source": [
    "## NULLABLE TYPES\n",
    "\n",
    "`System.Nullable<T>`"
   ]
  },
  {
   "cell_type": "code",
   "execution_count": null,
   "metadata": {
    "dotnet_interactive": {
     "language": "csharp"
    },
    "polyglot_notebook": {
     "kernelName": "csharp"
    }
   },
   "outputs": [],
   "source": [
    "int? optionalInt = default; \n",
    "optionalInt = 5;\n",
    "string? optionalText = default;\n",
    "optionalText = \"Hello World.\";"
   ]
  },
  {
   "attachments": {},
   "cell_type": "markdown",
   "metadata": {},
   "source": [
    "<hr>"
   ]
  },
  {
   "attachments": {},
   "cell_type": "markdown",
   "metadata": {},
   "source": [
    "## KEYBOARD INPUT"
   ]
  },
  {
   "attachments": {},
   "cell_type": "markdown",
   "metadata": {},
   "source": [
    "### Regular C# version:"
   ]
  },
  {
   "cell_type": "code",
   "execution_count": 8,
   "metadata": {
    "dotnet_interactive": {
     "language": "csharp"
    },
    "polyglot_notebook": {
     "kernelName": "csharp"
    }
   },
   "outputs": [],
   "source": [
    "Console.Write(\"Enter any string: \");\n",
    "string str = Console.ReadLine(); // Doesn't work in Jupyter Notebooks .NET Interactive"
   ]
  },
  {
   "attachments": {},
   "cell_type": "markdown",
   "metadata": {},
   "source": [
    "### Jupyter Notebook version:"
   ]
  },
  {
   "cell_type": "code",
   "execution_count": 2,
   "metadata": {
    "dotnet_interactive": {
     "language": "csharp"
    },
    "polyglot_notebook": {
     "kernelName": "csharp"
    }
   },
   "outputs": [
    {
     "name": "stdout",
     "output_type": "stream",
     "text": [
      "Inputted string: bread\r\n"
     ]
    }
   ],
   "source": [
    "using Microsoft.DotNet.Interactive;\n",
    "\n",
    "string str = await Kernel.GetInputAsync(\"Enter any string: \");\n",
    "Console.WriteLine($\"Inputted string: {str}\");"
   ]
  },
  {
   "attachments": {},
   "cell_type": "markdown",
   "metadata": {},
   "source": [
    "<hr>"
   ]
  },
  {
   "attachments": {},
   "cell_type": "markdown",
   "metadata": {},
   "source": [
    "## COMMON OPERATORS & OPERATIONS"
   ]
  },
  {
   "cell_type": "code",
   "execution_count": 27,
   "metadata": {
    "dotnet_interactive": {
     "language": "csharp"
    },
    "polyglot_notebook": {
     "kernelName": "csharp"
    }
   },
   "outputs": [],
   "source": [
    "int a, b, c, d, e;\n",
    "a = 2;\n",
    "b = 4;\n",
    "c = 6;\n",
    "d = 8;\n",
    "e = 10;\n",
    "\n",
    "// OR\n",
    "// int a = 2, b = 4, c = 6, d = 8, e = 10;"
   ]
  },
  {
   "attachments": {},
   "cell_type": "markdown",
   "metadata": {},
   "source": [
    "### Arithmetic Operators"
   ]
  },
  {
   "cell_type": "code",
   "execution_count": 28,
   "metadata": {
    "dotnet_interactive": {
     "language": "csharp"
    },
    "polyglot_notebook": {
     "kernelName": "csharp"
    }
   },
   "outputs": [
    {
     "name": "stdout",
     "output_type": "stream",
     "text": [
      "a: 4 \n",
      "b: 3 \n",
      "c: 12 \n",
      "d: 8 \n",
      "e: 0\r\n"
     ]
    }
   ],
   "source": [
    "a = a + 2;\n",
    "b = b - 1;\n",
    "c = c * 2;\n",
    "d = d / 1;\n",
    "e = 10 % 2;\n",
    "\n",
    "Console.WriteLine($\"a: {a} \\nb: {b} \\nc: {c} \\nd: {d} \\ne: {e}\");"
   ]
  },
  {
   "attachments": {},
   "cell_type": "markdown",
   "metadata": {},
   "source": [
    "### Relational Operators"
   ]
  },
  {
   "cell_type": "code",
   "execution_count": 29,
   "metadata": {
    "dotnet_interactive": {
     "language": "csharp"
    },
    "polyglot_notebook": {
     "kernelName": "csharp"
    }
   },
   "outputs": [
    {
     "name": "stdout",
     "output_type": "stream",
     "text": [
      "False\n",
      "True\n",
      "True\n",
      "True\n",
      "False\n",
      "False\r\n"
     ]
    }
   ],
   "source": [
    "bool result_equal = (a == b);\n",
    "bool result_notequal = (a != b);\n",
    "bool result_greater = (a > 1);\n",
    "bool result_greater_equal = (a >= 1);\n",
    "bool result_lesser = (d < 1);\n",
    "bool result_lesser_equal = (d <= 1);\n",
    "\n",
    "Console.WriteLine($\"{result_equal}\\n{result_notequal}\\n{result_greater}\\n{result_greater_equal}\\n{result_lesser}\\n{result_lesser_equal}\")"
   ]
  },
  {
   "attachments": {},
   "cell_type": "markdown",
   "metadata": {},
   "source": [
    "### Logical Operators"
   ]
  },
  {
   "cell_type": "code",
   "execution_count": 30,
   "metadata": {
    "dotnet_interactive": {
     "language": "csharp"
    },
    "polyglot_notebook": {
     "kernelName": "csharp"
    }
   },
   "outputs": [
    {
     "name": "stdout",
     "output_type": "stream",
     "text": [
      "False\n",
      "True\n",
      "False\r\n"
     ]
    }
   ],
   "source": [
    "bool result_and = (result_greater && result_lesser);\n",
    "bool result_or = (result_greater || result_lesser);\n",
    "bool result_not = !(result_greater || result_lesser);\n",
    "\n",
    "Console.WriteLine($\"{result_and}\\n{result_or}\\n{result_not}\")"
   ]
  },
  {
   "attachments": {},
   "cell_type": "markdown",
   "metadata": {},
   "source": [
    "### Increment and Decrement Operators"
   ]
  },
  {
   "cell_type": "code",
   "execution_count": 31,
   "metadata": {
    "dotnet_interactive": {
     "language": "csharp"
    },
    "polyglot_notebook": {
     "kernelName": "csharp"
    }
   },
   "outputs": [
    {
     "name": "stdout",
     "output_type": "stream",
     "text": [
      "a: 4, b: 3, c: 12\n",
      "a: 3, b: 4, c: 13\n"
     ]
    }
   ],
   "source": [
    "/* BEFORE */\n",
    "Console.WriteLine($\"a: {a}, b: {b}, c: {c}\");\n",
    "\n",
    "c++; //increment by one; same as --> c = c + 1\n",
    "b = a--; //decrement by one; same as --> b = a - 1\n",
    "\n",
    "/* AFTER */\n",
    "Console.WriteLine($\"a: {a}, b: {b}, c: {c}\");"
   ]
  },
  {
   "cell_type": "code",
   "execution_count": 32,
   "metadata": {
    "dotnet_interactive": {
     "language": "csharp"
    },
    "polyglot_notebook": {
     "kernelName": "csharp"
    }
   },
   "outputs": [
    {
     "name": "stdout",
     "output_type": "stream",
     "text": [
      "Increment after printing: 10\n",
      "Increment before printing: 11\n"
     ]
    }
   ],
   "source": [
    "int num1 = 10;\n",
    "num1 = num1++;\n",
    "int num2 = 10;\n",
    "num2 = ++num2;\n",
    "Console.WriteLine($\"Increment after printing: {num1}\");\n",
    "Console.WriteLine($\"Increment before printing: {num2}\");"
   ]
  },
  {
   "attachments": {},
   "cell_type": "markdown",
   "metadata": {},
   "source": [
    "### Compound Assignment Operators"
   ]
  },
  {
   "cell_type": "code",
   "execution_count": 33,
   "metadata": {
    "dotnet_interactive": {
     "language": "csharp"
    },
    "polyglot_notebook": {
     "kernelName": "csharp"
    }
   },
   "outputs": [
    {
     "name": "stdout",
     "output_type": "stream",
     "text": [
      "a: 4 \n",
      "b: 2 \n",
      "c: 130 \n",
      "d: 4 \n",
      "e: 0\r\n"
     ]
    }
   ],
   "source": [
    "a += 1; //same as --> a = a + 1\n",
    "b -= 2; //same as --> b = b - 2;\n",
    "c *= 10; //same as --> c = c * 10;\n",
    "d /= 2; //same as --> d = d / 2\n",
    "e %= 2; //same as --> d = d % 2\n",
    "\n",
    "Console.WriteLine($\"a: {a} \\nb: {b} \\nc: {c} \\nd: {d} \\ne: {e}\");"
   ]
  },
  {
   "attachments": {},
   "cell_type": "markdown",
   "metadata": {},
   "source": [
    "### Ternary Operator (shortened if-else statement)"
   ]
  },
  {
   "cell_type": "code",
   "execution_count": 34,
   "metadata": {
    "dotnet_interactive": {
     "language": "csharp"
    },
    "polyglot_notebook": {
     "kernelName": "csharp"
    }
   },
   "outputs": [
    {
     "name": "stdout",
     "output_type": "stream",
     "text": [
      "a: 4, b: 2, c: 130\n",
      "c: 13\n"
     ]
    }
   ],
   "source": [
    "/* BEFORE */\n",
    "Console.WriteLine($\"a: {a}, b: {b}, c: {c}\");\n",
    "\n",
    "c = a >= 100 ? b : c / 10; // Condition ? valueIfTrue : valueIfFalse\n",
    "\n",
    "/* AFTER */\n",
    "Console.WriteLine($\"c: {c}\");"
   ]
  },
  {
   "attachments": {},
   "cell_type": "markdown",
   "metadata": {},
   "source": [
    "<hr>"
   ]
  },
  {
   "attachments": {},
   "cell_type": "markdown",
   "metadata": {},
   "source": [
    "## CONDITIONAL STATEMENTS"
   ]
  },
  {
   "attachments": {},
   "cell_type": "markdown",
   "metadata": {},
   "source": [
    "### if -- else if -- else Statement"
   ]
  },
  {
   "cell_type": "code",
   "execution_count": 35,
   "metadata": {
    "dotnet_interactive": {
     "language": "csharp"
    },
    "polyglot_notebook": {
     "kernelName": "csharp"
    }
   },
   "outputs": [
    {
     "name": "stdout",
     "output_type": "stream",
     "text": [
      "4 is even.\r\n"
     ]
    }
   ],
   "source": [
    "if (a % 2 == 0) {\n",
    "    Console.WriteLine($\"{a} is even.\");\n",
    "}\n",
    "else if (a % 2 != 0) {\n",
    "    Console.WriteLine($\"{a} is odd.\");\n",
    "}\n",
    "else {\n",
    "    Console.WriteLine(\"not a number i guess\");\n",
    "}"
   ]
  },
  {
   "attachments": {},
   "cell_type": "markdown",
   "metadata": {},
   "source": [
    "### Switch Statement"
   ]
  },
  {
   "cell_type": "code",
   "execution_count": 36,
   "metadata": {
    "dotnet_interactive": {
     "language": "csharp"
    },
    "polyglot_notebook": {
     "kernelName": "csharp"
    }
   },
   "outputs": [
    {
     "name": "stdout",
     "output_type": "stream",
     "text": [
      "food food food\r\n"
     ]
    }
   ],
   "source": [
    "string hungry = \"yes\";\n",
    "\n",
    "switch(hungry) {\n",
    "    case \"yes\":\n",
    "        Console.WriteLine(\"food food food\");\n",
    "        break;\n",
    "    case \"no\":\n",
    "        Console.WriteLine(\"no food no food no food\");\n",
    "        break;\n",
    "    default:\n",
    "        Console.WriteLine(\"food?\");\n",
    "        break;\n",
    "}"
   ]
  },
  {
   "attachments": {},
   "cell_type": "markdown",
   "metadata": {},
   "source": [
    "<hr>"
   ]
  },
  {
   "attachments": {},
   "cell_type": "markdown",
   "metadata": {},
   "source": [
    "## LOOPS"
   ]
  },
  {
   "attachments": {},
   "cell_type": "markdown",
   "metadata": {},
   "source": [
    "### While Loop"
   ]
  },
  {
   "cell_type": "code",
   "execution_count": 37,
   "metadata": {
    "dotnet_interactive": {
     "language": "csharp"
    },
    "polyglot_notebook": {
     "kernelName": "csharp"
    }
   },
   "outputs": [
    {
     "name": "stdout",
     "output_type": "stream",
     "text": [
      "Student Loan Debt Left: 9000000\n",
      "Student Loan Debt Left: 8000000\n",
      "Student Loan Debt Left: 7000000\n",
      "Student Loan Debt Left: 6000000\n",
      "Student Loan Debt Left: 5000000\n",
      "Student Loan Debt Left: 4000000\n",
      "Student Loan Debt Left: 3000000\n",
      "Student Loan Debt Left: 2000000\n",
      "Student Loan Debt Left: 1000000\n"
     ]
    }
   ],
   "source": [
    "int studentloandebt = 9000000;\n",
    "\n",
    "while (studentloandebt > 0) {\n",
    "    Console.WriteLine($\"Student Loan Debt Left: {studentloandebt}\");\n",
    "\n",
    "    studentloandebt -= 1000000;\n",
    "}"
   ]
  },
  {
   "attachments": {},
   "cell_type": "markdown",
   "metadata": {},
   "source": [
    "### do-while Loop"
   ]
  },
  {
   "cell_type": "code",
   "execution_count": 38,
   "metadata": {
    "dotnet_interactive": {
     "language": "csharp"
    },
    "polyglot_notebook": {
     "kernelName": "csharp"
    }
   },
   "outputs": [
    {
     "name": "stdout",
     "output_type": "stream",
     "text": [
      "you may still owe millions in student loans\r\n"
     ]
    }
   ],
   "source": [
    "do {\n",
    "    Console.WriteLine(\"you may still owe millions in student loans\");\n",
    "    studentloandebt -= 1000000;\n",
    "}\n",
    "while (studentloandebt > 0);"
   ]
  },
  {
   "attachments": {},
   "cell_type": "markdown",
   "metadata": {},
   "source": [
    "### for Loop"
   ]
  },
  {
   "cell_type": "code",
   "execution_count": 39,
   "metadata": {
    "dotnet_interactive": {
     "language": "csharp"
    },
    "polyglot_notebook": {
     "kernelName": "csharp"
    }
   },
   "outputs": [
    {
     "name": "stdout",
     "output_type": "stream",
     "text": [
      "T-Minus 5\n",
      "T-Minus 4\n",
      "T-Minus 3\n",
      "T-Minus 2\n",
      "T-Minus 1\n",
      "T-Minus 0\n"
     ]
    }
   ],
   "source": [
    "for(int i = 5; i >= 0; i--){\n",
    "    Console.WriteLine($\"T-Minus {i}\");\n",
    "}"
   ]
  },
  {
   "attachments": {},
   "cell_type": "markdown",
   "metadata": {},
   "source": [
    "### foreach Loop (iterating through arrays/collections) == Python's `in` keyword in for loops"
   ]
  },
  {
   "cell_type": "code",
   "execution_count": 40,
   "metadata": {
    "dotnet_interactive": {
     "language": "csharp"
    },
    "polyglot_notebook": {
     "kernelName": "csharp"
    }
   },
   "outputs": [
    {
     "name": "stdout",
     "output_type": "stream",
     "text": [
      "five\n",
      "four\n",
      "three\n",
      "two\n",
      "one\n",
      "zero\n"
     ]
    }
   ],
   "source": [
    "var numbers_words = new List<string>(new[] { \"five\", \"four\", \"three\", \"two\", \"one\", \"zero\" });\n",
    "foreach(string word in numbers_words) {\n",
    "    Console.WriteLine(word);\n",
    "}"
   ]
  },
  {
   "attachments": {},
   "cell_type": "markdown",
   "metadata": {},
   "source": [
    "<hr>"
   ]
  },
  {
   "attachments": {},
   "cell_type": "markdown",
   "metadata": {},
   "source": [
    "## ARRAYS/LISTS"
   ]
  },
  {
   "cell_type": "code",
   "execution_count": 1,
   "metadata": {
    "dotnet_interactive": {
     "language": "csharp"
    },
    "polyglot_notebook": {
     "kernelName": "csharp"
    }
   },
   "outputs": [],
   "source": [
    "var numbers = new List<int>(new[] { 1, 2, 3 });\n",
    "        \n",
    "string[] fruit = {\"apple\", \"applesauce\", \"red apple\", \"green apple\", \"red apple again\"};\n",
    "\n",
    "var scores = new[] { 90, 97, 78, 68, 85 };"
   ]
  },
  {
   "attachments": {},
   "cell_type": "markdown",
   "metadata": {},
   "source": [
    "### Adding & Removing Items\n",
    "\n",
    "*NOTE: Collection needs to be set with an explicit type in order to add/remove elements.*"
   ]
  },
  {
   "cell_type": "code",
   "execution_count": 2,
   "metadata": {
    "dotnet_interactive": {
     "language": "csharp"
    },
    "polyglot_notebook": {
     "kernelName": "csharp"
    }
   },
   "outputs": [
    {
     "name": "stdout",
     "output_type": "stream",
     "text": [
      "1\n",
      "3\n",
      "4\n"
     ]
    }
   ],
   "source": [
    "numbers.Add(4);\n",
    "numbers.Remove(2);\n",
    "\n",
    "foreach(var num in numbers) {\n",
    "    Console.WriteLine(num);\n",
    "}"
   ]
  },
  {
   "attachments": {},
   "cell_type": "markdown",
   "metadata": {},
   "source": [
    "<hr>"
   ]
  },
  {
   "attachments": {},
   "cell_type": "markdown",
   "metadata": {},
   "source": [
    "## TUPLES"
   ]
  },
  {
   "cell_type": "code",
   "execution_count": null,
   "metadata": {
    "dotnet_interactive": {
     "language": "csharp"
    },
    "polyglot_notebook": {
     "kernelName": "csharp"
    }
   },
   "outputs": [],
   "source": [
    "// EXAMPLES:\n",
    "\n",
    "(int, string) pair1 = (1, \"One\");\n",
    "(int, string word) pair2 = (2, \"Two\");\n",
    "(int number, string word) pair3 = (3, \"Three\");\n",
    "(int Item1, string Item2) pair4 = (4, \"Four\");\n",
    "(int Item2, string Item123) pair5 = (5, \"Five\"); // Error: \"Item\" names do not match their position\n",
    "(int, string) pair6 = new ValueTuple<int, string>(6, \"Six\");\n",
    "ValueTuple<int, string> pair7 = (7, \"Seven\");\n",
    "Console.WriteLine($\"{pair2.Item1}, {pair2.Item2}, {pair2.word}\");"
   ]
  },
  {
   "attachments": {},
   "cell_type": "markdown",
   "metadata": {},
   "source": [
    "<hr>"
   ]
  },
  {
   "attachments": {},
   "cell_type": "markdown",
   "metadata": {},
   "source": [
    "## STRINGS\n",
    "\n",
    "*NOTE: Strings are immutable*"
   ]
  },
  {
   "attachments": {},
   "cell_type": "markdown",
   "metadata": {},
   "source": [
    "### String Interpolation (format strings)"
   ]
  },
  {
   "cell_type": "code",
   "execution_count": 4,
   "metadata": {
    "dotnet_interactive": {
     "language": "csharp"
    },
    "polyglot_notebook": {
     "kernelName": "csharp"
    }
   },
   "outputs": [
    {
     "name": "stdout",
     "output_type": "stream",
     "text": [
      "here is a random string i entered previously: bread\r\n"
     ]
    }
   ],
   "source": [
    "Console.WriteLine($\"here is a random string i entered previously: {str}\");"
   ]
  },
  {
   "attachments": {},
   "cell_type": "markdown",
   "metadata": {},
   "source": [
    "### Indexing (by number) --> char"
   ]
  },
  {
   "cell_type": "code",
   "execution_count": 44,
   "metadata": {
    "dotnet_interactive": {
     "language": "csharp"
    },
    "polyglot_notebook": {
     "kernelName": "csharp"
    }
   },
   "outputs": [
    {
     "name": "stdout",
     "output_type": "stream",
     "text": [
      "Last character in previously entered string: d\r\n"
     ]
    }
   ],
   "source": [
    "char ch = str[str.Length - 1];\n",
    "Console.WriteLine($\"Last character in previously entered string: {ch}\");"
   ]
  },
  {
   "attachments": {},
   "cell_type": "markdown",
   "metadata": {},
   "source": [
    "### Indexing (by character/string) --> index"
   ]
  },
  {
   "cell_type": "code",
   "execution_count": 46,
   "metadata": {
    "dotnet_interactive": {
     "language": "csharp"
    },
    "polyglot_notebook": {
     "kernelName": "csharp"
    }
   },
   "outputs": [
    {
     "name": "stdout",
     "output_type": "stream",
     "text": [
      "Index of the last charcter of the previously entered string: 4\r\n"
     ]
    }
   ],
   "source": [
    "Console.WriteLine($\"Index of the last charcter of the previously entered string: {str.IndexOf(ch)}\");"
   ]
  },
  {
   "attachments": {},
   "cell_type": "markdown",
   "metadata": {},
   "source": [
    "### Concatenation"
   ]
  },
  {
   "cell_type": "code",
   "execution_count": 47,
   "metadata": {
    "dotnet_interactive": {
     "language": "csharp"
    },
    "polyglot_notebook": {
     "kernelName": "csharp"
    }
   },
   "outputs": [
    {
     "name": "stdout",
     "output_type": "stream",
     "text": [
      "Concatenation using String.Concat (no spaces): ILikeBread\n",
      "Concatenation using String.Join (with spaces): I Like Bread\n",
      "Using String.Format: Today's date is 3/26/2023 11:32:03 PM\n"
     ]
    }
   ],
   "source": [
    "// Option 1\n",
    "string str3 = \"i \" + \"am \" + \"doing \" + \"the \" + \"contenating \";\n",
    "\n",
    "string[] words = { \"I\", \"Like\", \"Bread\"};\n",
    "\n",
    "// Option 2\n",
    "var unreadablePhrase = String.Concat(words);\n",
    "System.Console.WriteLine($\"Concatenation using String.Concat (no spaces): {unreadablePhrase}\");\n",
    "\n",
    "// Option 3\n",
    "var readablePhrase = String.Join(\" \", words);\n",
    "System.Console.WriteLine($\"Concatenation using String.Join (with spaces): {readablePhrase}\");\n",
    "\n",
    "//Option 4\n",
    "string date = String.Format(\"Using String.Format: Today's date is {0}\", DateTime.Now);\n",
    "Console.WriteLine(date);"
   ]
  },
  {
   "attachments": {},
   "cell_type": "markdown",
   "metadata": {},
   "source": [
    "### Length"
   ]
  },
  {
   "cell_type": "code",
   "execution_count": 49,
   "metadata": {
    "dotnet_interactive": {
     "language": "csharp"
    },
    "polyglot_notebook": {
     "kernelName": "csharp"
    }
   },
   "outputs": [
    {
     "name": "stdout",
     "output_type": "stream",
     "text": [
      "The previously entered string this 5 letters in it.\r\n"
     ]
    }
   ],
   "source": [
    "Console.WriteLine($\"The previously entered string this {str.Length} letters in it.\");"
   ]
  },
  {
   "attachments": {},
   "cell_type": "markdown",
   "metadata": {},
   "source": [
    "### Substring"
   ]
  },
  {
   "cell_type": "code",
   "execution_count": 50,
   "metadata": {
    "dotnet_interactive": {
     "language": "csharp"
    },
    "polyglot_notebook": {
     "kernelName": "csharp"
    }
   },
   "outputs": [
    {
     "name": "stdout",
     "output_type": "stream",
     "text": [
      "A substring of 'Bread': read\r\n"
     ]
    }
   ],
   "source": [
    "Console.WriteLine($\"A substring of 'Bread': {words[2].Substring(1, words[2].Length-1)}\");"
   ]
  },
  {
   "attachments": {},
   "cell_type": "markdown",
   "metadata": {},
   "source": [
    "### Contains (boolean) & Replace"
   ]
  },
  {
   "cell_type": "code",
   "execution_count": 51,
   "metadata": {
    "dotnet_interactive": {
     "language": "csharp"
    },
    "polyglot_notebook": {
     "kernelName": "csharp"
    }
   },
   "outputs": [
    {
     "name": "stdout",
     "output_type": "stream",
     "text": [
      "paying taxes <3\r\n"
     ]
    }
   ],
   "source": [
    "string str4 = \"evading taxes <3\";\n",
    "        \n",
    "if (str4.Contains(\"evading\")) {\n",
    "    Console.WriteLine(str4.Replace(\"evading\", \"paying\"));\n",
    "}"
   ]
  },
  {
   "attachments": {},
   "cell_type": "markdown",
   "metadata": {},
   "source": [
    "### Raw (verbatim) strings"
   ]
  },
  {
   "cell_type": "code",
   "execution_count": 52,
   "metadata": {
    "dotnet_interactive": {
     "language": "csharp"
    },
    "polyglot_notebook": {
     "kernelName": "csharp"
    }
   },
   "outputs": [
    {
     "name": "stdout",
     "output_type": "stream",
     "text": [
      "I \\ am \\ a \\ literal \\ raw \\ string \\ right \\ now \\n\\t\r\n"
     ]
    }
   ],
   "source": [
    "Console.WriteLine(@\"I \\ am \\ a \\ literal \\ raw \\ string \\ right \\ now \\n\\t\");"
   ]
  },
  {
   "attachments": {},
   "cell_type": "markdown",
   "metadata": {},
   "source": [
    "### Trim (start & end)"
   ]
  },
  {
   "cell_type": "code",
   "execution_count": 5,
   "metadata": {
    "dotnet_interactive": {
     "language": "csharp"
    },
    "polyglot_notebook": {
     "kernelName": "csharp"
    }
   },
   "outputs": [
    {
     "name": "stdout",
     "output_type": "stream",
     "text": [
      "             i am a string with extra characters                  \n",
      "Length of string with whitespaces: 66\n",
      "New string: i am a string with extra characters, New length: 35\n"
     ]
    }
   ],
   "source": [
    "string str5 = \"*************i am a string with extra characters******************\";\n",
    "string str6 = str5.Replace('*', ' '); // output: \"                i am a string with extra characters              \"\n",
    "Console.WriteLine(str6);\n",
    "Console.WriteLine($\"Length of string with whitespaces: {str6.Length}\");\n",
    "Console.WriteLine($\"New string: {str6.Trim(' ')}, New length: {str6.Trim(' ').Length}\");"
   ]
  },
  {
   "attachments": {},
   "cell_type": "markdown",
   "metadata": {},
   "source": [
    "### Trim (left)"
   ]
  },
  {
   "cell_type": "code",
   "execution_count": 6,
   "metadata": {
    "dotnet_interactive": {
     "language": "csharp"
    },
    "polyglot_notebook": {
     "kernelName": "csharp"
    }
   },
   "outputs": [
    {
     "name": "stdout",
     "output_type": "stream",
     "text": [
      "[i am a string with extra characters                  ]\r\n"
     ]
    }
   ],
   "source": [
    "Console.WriteLine($\"[{str6.TrimStart()}]\");"
   ]
  },
  {
   "attachments": {},
   "cell_type": "markdown",
   "metadata": {},
   "source": [
    "### Trim (right)"
   ]
  },
  {
   "cell_type": "code",
   "execution_count": 7,
   "metadata": {
    "dotnet_interactive": {
     "language": "csharp"
    },
    "polyglot_notebook": {
     "kernelName": "csharp"
    }
   },
   "outputs": [
    {
     "name": "stdout",
     "output_type": "stream",
     "text": [
      "[             i am a string with extra characters]\r\n"
     ]
    }
   ],
   "source": [
    "Console.WriteLine($\"[{str6.TrimEnd()}]\");"
   ]
  },
  {
   "attachments": {},
   "cell_type": "markdown",
   "metadata": {},
   "source": [
    "### Uppercase & Lowercase"
   ]
  },
  {
   "cell_type": "code",
   "execution_count": 3,
   "metadata": {
    "dotnet_interactive": {
     "language": "csharp"
    },
    "polyglot_notebook": {
     "kernelName": "csharp"
    }
   },
   "outputs": [
    {
     "name": "stdout",
     "output_type": "stream",
     "text": [
      "BREAD\n",
      "bread\n"
     ]
    }
   ],
   "source": [
    "Console.WriteLine(str.ToUpper());\n",
    "Console.WriteLine(str.ToLower());"
   ]
  },
  {
   "attachments": {},
   "cell_type": "markdown",
   "metadata": {},
   "source": [
    "<hr>"
   ]
  },
  {
   "attachments": {},
   "cell_type": "markdown",
   "metadata": {},
   "source": [
    "## DATES/TIMES"
   ]
  },
  {
   "cell_type": "code",
   "execution_count": 1,
   "metadata": {
    "dotnet_interactive": {
     "language": "csharp"
    },
    "polyglot_notebook": {
     "kernelName": "csharp"
    }
   },
   "outputs": [
    {
     "name": "stdout",
     "output_type": "stream",
     "text": [
      "5/1/2023 9:00:00 AM\r\n"
     ]
    }
   ],
   "source": [
    "DateTime dt = new DateTime(2023, 5, 1, 9, 0, 0);\n",
    "\n",
    "Console.WriteLine(dt);"
   ]
  },
  {
   "cell_type": "code",
   "execution_count": 2,
   "metadata": {
    "dotnet_interactive": {
     "language": "csharp"
    },
    "polyglot_notebook": {
     "kernelName": "csharp"
    }
   },
   "outputs": [
    {
     "name": "stdout",
     "output_type": "stream",
     "text": [
      "09:00:00\r\n"
     ]
    }
   ],
   "source": [
    "Console.WriteLine(dt.TimeOfDay)"
   ]
  },
  {
   "cell_type": "code",
   "execution_count": 3,
   "metadata": {
    "dotnet_interactive": {
     "language": "csharp"
    },
    "polyglot_notebook": {
     "kernelName": "csharp"
    }
   },
   "outputs": [
    {
     "name": "stdout",
     "output_type": "stream",
     "text": [
      "5\r\n"
     ]
    }
   ],
   "source": [
    "Console.WriteLine(dt.Month);"
   ]
  },
  {
   "cell_type": "code",
   "execution_count": 8,
   "metadata": {
    "dotnet_interactive": {
     "language": "csharp"
    },
    "polyglot_notebook": {
     "kernelName": "csharp"
    }
   },
   "outputs": [
    {
     "name": "stdout",
     "output_type": "stream",
     "text": [
      "5/3/2023 5:47:09 PM\n",
      "5/3/2023 10:47:09 PM\n",
      "2023\n"
     ]
    }
   ],
   "source": [
    "DateTime today = DateTime.Now;\n",
    "DateTime todayUTC = DateTime.UtcNow;\n",
    "\n",
    "Console.WriteLine(today);\n",
    "Console.WriteLine(DateTime.UtcNow);\n",
    "Console.WriteLine(today.Year);"
   ]
  }
 ],
 "metadata": {
  "kernelspec": {
   "display_name": ".NET (C#)",
   "language": "C#",
   "name": ".net-csharp"
  },
  "language_info": {
   "name": "polyglot-notebook"
  },
  "orig_nbformat": 4,
  "polyglot_notebook": {
   "kernelInfo": {
    "defaultKernelName": "csharp",
    "items": [
     {
      "aliases": [],
      "name": "csharp"
     }
    ]
   }
  }
 },
 "nbformat": 4,
 "nbformat_minor": 2
}
