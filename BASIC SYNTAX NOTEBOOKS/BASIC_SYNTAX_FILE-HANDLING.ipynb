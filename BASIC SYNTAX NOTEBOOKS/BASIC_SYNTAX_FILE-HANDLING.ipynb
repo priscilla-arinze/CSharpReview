{
 "cells": [
  {
   "attachments": {},
   "cell_type": "markdown",
   "metadata": {},
   "source": [
    "# FILE HANDLING (READING/WRITING)\n",
    "\n",
    "*__NOTE__: `IOException` exceptions can be thrown really easily with file handling, so use try/catch statements often.*\n",
    "\n",
    "[Microsoft Documentation](https://learn.microsoft.com/en-us/dotnet/standard/io/common-i-o-tasks)"
   ]
  },
  {
   "attachments": {},
   "cell_type": "markdown",
   "metadata": {},
   "source": [
    "*Primary namespace for file handling operations:*"
   ]
  },
  {
   "cell_type": "code",
   "execution_count": 1,
   "metadata": {
    "dotnet_interactive": {
     "language": "csharp"
    },
    "polyglot_notebook": {
     "kernelName": "csharp"
    },
    "vscode": {
     "languageId": "polyglot-notebook"
    }
   },
   "outputs": [],
   "source": [
    "using System.IO;"
   ]
  },
  {
   "attachments": {},
   "cell_type": "markdown",
   "metadata": {},
   "source": [
    "## Writing to Files (Overwrite)"
   ]
  },
  {
   "cell_type": "code",
   "execution_count": 2,
   "metadata": {
    "dotnet_interactive": {
     "language": "csharp"
    },
    "polyglot_notebook": {
     "kernelName": "csharp"
    },
    "vscode": {
     "languageId": "polyglot-notebook"
    }
   },
   "outputs": [],
   "source": [
    "string stuff = \"adding lots of cool stuff to file\\ninserting more cool stuff and what not\";\n",
    "File.WriteAllText(\"file_handling_test.txt\", stuff);"
   ]
  },
  {
   "attachments": {
    "image.png": {
     "image/png": "[encoded data removed]"
    }
   },
   "cell_type": "markdown",
   "metadata": {},
   "source": [
    "### Result:\n",
    "![image.png](attachment:image.png)"
   ]
  },
  {
   "attachments": {},
   "cell_type": "markdown",
   "metadata": {},
   "source": [
    "## Appending to Files (No Overwrite)"
   ]
  },
  {
   "cell_type": "code",
   "execution_count": 3,
   "metadata": {
    "dotnet_interactive": {
     "language": "csharp"
    },
    "polyglot_notebook": {
     "kernelName": "csharp"
    },
    "vscode": {
     "languageId": "polyglot-notebook"
    }
   },
   "outputs": [],
   "source": [
    "string stuff2 = \"\\nblah blah blah\";\n",
    "File.AppendAllText(\"file_handling_test.txt\", stuff2);"
   ]
  },
  {
   "attachments": {},
   "cell_type": "markdown",
   "metadata": {},
   "source": [
    "*__OR__*"
   ]
  },
  {
   "cell_type": "code",
   "execution_count": 4,
   "metadata": {
    "dotnet_interactive": {
     "language": "csharp"
    },
    "polyglot_notebook": {
     "kernelName": "csharp"
    },
    "vscode": {
     "languageId": "polyglot-notebook"
    }
   },
   "outputs": [],
   "source": [
    "string stuff3 = \"blah blah blah\";\n",
    "File.AppendAllText(\"file_handling_test.txt\", stuff2 + Environment.NewLine);"
   ]
  },
  {
   "attachments": {},
   "cell_type": "markdown",
   "metadata": {},
   "source": [
    "## Writing to or Appending MULTIPLE Lines"
   ]
  },
  {
   "cell_type": "code",
   "execution_count": 5,
   "metadata": {
    "dotnet_interactive": {
     "language": "csharp"
    },
    "polyglot_notebook": {
     "kernelName": "csharp"
    },
    "vscode": {
     "languageId": "polyglot-notebook"
    }
   },
   "outputs": [],
   "source": [
    "string[] morestuff = {\"delete this\", \"delete that\", \"delete all of this\"};\n",
    "File.WriteAllLines(\"DELETE_ME_FILE.txt\", morestuff);"
   ]
  },
  {
   "attachments": {},
   "cell_type": "markdown",
   "metadata": {},
   "source": [
    "## Reading Files"
   ]
  },
  {
   "cell_type": "code",
   "execution_count": 6,
   "metadata": {
    "dotnet_interactive": {
     "language": "csharp"
    },
    "polyglot_notebook": {
     "kernelName": "csharp"
    },
    "vscode": {
     "languageId": "polyglot-notebook"
    }
   },
   "outputs": [
    {
     "name": "stdout",
     "output_type": "stream",
     "text": [
      "Reading file...\n",
      "\n",
      "adding lots of cool stuff to file\n",
      "inserting more cool stuff and what not\n",
      "blah blah blah\n",
      "blah blah blah\n",
      "\n"
     ]
    }
   ],
   "source": [
    "if(File.Exists(\"file_handling_test.txt\"))\n",
    "{\n",
    "    string content = File.ReadAllText(\"file_handling_test.txt\");\n",
    "    Console.WriteLine(\"Reading file...\\n\");\n",
    "    Console.WriteLine(content);\n",
    "}"
   ]
  },
  {
   "attachments": {},
   "cell_type": "markdown",
   "metadata": {},
   "source": [
    "## Reading MULTIPLE Lines"
   ]
  },
  {
   "cell_type": "code",
   "execution_count": 7,
   "metadata": {
    "dotnet_interactive": {
     "language": "csharp"
    },
    "polyglot_notebook": {
     "kernelName": "csharp"
    },
    "vscode": {
     "languageId": "polyglot-notebook"
    }
   },
   "outputs": [
    {
     "name": "stdout",
     "output_type": "stream",
     "text": [
      "delete this\n",
      "delete that\n",
      "delete all of this\n"
     ]
    }
   ],
   "source": [
    "if(File.Exists(\"DELETE_ME_FILE.txt\"))\n",
    "{\n",
    "    string[] lines = File.ReadAllLines(\"DELETE_ME_FILE.txt\");\n",
    "\n",
    "    foreach (string line in lines)\n",
    "    {\n",
    "        Console.WriteLine(line);\n",
    "    }\n",
    "}"
   ]
  },
  {
   "attachments": {},
   "cell_type": "markdown",
   "metadata": {},
   "source": [
    "## Renaming Files"
   ]
  },
  {
   "cell_type": "code",
   "execution_count": 8,
   "metadata": {
    "dotnet_interactive": {
     "language": "csharp"
    },
    "polyglot_notebook": {
     "kernelName": "csharp"
    },
    "vscode": {
     "languageId": "polyglot-notebook"
    }
   },
   "outputs": [],
   "source": [
    "File.Move(\"file_handling_test.txt\", \"file_handling_test_RENAMED.txt\");"
   ]
  },
  {
   "attachments": {},
   "cell_type": "markdown",
   "metadata": {},
   "source": [
    "## Get Absolute Path of File"
   ]
  },
  {
   "cell_type": "code",
   "execution_count": 3,
   "metadata": {
    "dotnet_interactive": {
     "language": "csharp"
    },
    "polyglot_notebook": {
     "kernelName": "csharp"
    },
    "vscode": {
     "languageId": "polyglot-notebook"
    }
   },
   "outputs": [
    {
     "name": "stdout",
     "output_type": "stream",
     "text": [
      "c:\\Users\\prisc\\Documents\\aa_CODE\\aa_C#\\CSharpReview\\BASIC SYNTAX NOTEBOOKS\\file_handling_test_RENAMED.txt\r\n"
     ]
    }
   ],
   "source": [
    "Console.WriteLine(Path.GetFullPath(\"file_handling_test_RENAMED.txt\"));"
   ]
  },
  {
   "attachments": {},
   "cell_type": "markdown",
   "metadata": {},
   "source": [
    "## Get Base Name of File (including extension)"
   ]
  },
  {
   "cell_type": "code",
   "execution_count": 4,
   "metadata": {
    "dotnet_interactive": {
     "language": "csharp"
    },
    "polyglot_notebook": {
     "kernelName": "csharp"
    },
    "vscode": {
     "languageId": "polyglot-notebook"
    }
   },
   "outputs": [
    {
     "name": "stdout",
     "output_type": "stream",
     "text": [
      "file_handling_test_RENAMED.txt\r\n"
     ]
    }
   ],
   "source": [
    "Console.WriteLine(Path.GetFileName(\"file_handling_test_RENAMED.txt\"));"
   ]
  },
  {
   "attachments": {},
   "cell_type": "markdown",
   "metadata": {},
   "source": [
    "## Get Extension of File (includes period '.')"
   ]
  },
  {
   "cell_type": "code",
   "execution_count": 5,
   "metadata": {
    "dotnet_interactive": {
     "language": "csharp"
    },
    "polyglot_notebook": {
     "kernelName": "csharp"
    },
    "vscode": {
     "languageId": "polyglot-notebook"
    }
   },
   "outputs": [
    {
     "name": "stdout",
     "output_type": "stream",
     "text": [
      ".txt\r\n"
     ]
    }
   ],
   "source": [
    "Console.WriteLine(Path.GetExtension(\"file_handling_test_RENAMED.txt\"));"
   ]
  },
  {
   "attachments": {},
   "cell_type": "markdown",
   "metadata": {},
   "source": [
    "## List All Files in Current Working Directory"
   ]
  },
  {
   "cell_type": "code",
   "execution_count": 9,
   "metadata": {
    "dotnet_interactive": {
     "language": "csharp"
    },
    "polyglot_notebook": {
     "kernelName": "csharp"
    },
    "vscode": {
     "languageId": "polyglot-notebook"
    }
   },
   "outputs": [
    {
     "name": "stdout",
     "output_type": "stream",
     "text": [
      "c:\\Users\\prisc\\Documents\\aa_CODE\\aa_C#\\CSharpReview\\BASIC SYNTAX NOTEBOOKS\\BASIC_SYNTAX.ipynb\n",
      "c:\\Users\\prisc\\Documents\\aa_CODE\\aa_C#\\CSharpReview\\BASIC SYNTAX NOTEBOOKS\\BASIC_SYNTAX_ANONYMOUS-TYPES.ipynb\n",
      "c:\\Users\\prisc\\Documents\\aa_CODE\\aa_C#\\CSharpReview\\BASIC SYNTAX NOTEBOOKS\\BASIC_SYNTAX_CLASSES-OOP.ipynb\n",
      "c:\\Users\\prisc\\Documents\\aa_CODE\\aa_C#\\CSharpReview\\BASIC SYNTAX NOTEBOOKS\\BASIC_SYNTAX_FILE-HANDLING.ipynb\n",
      "c:\\Users\\prisc\\Documents\\aa_CODE\\aa_C#\\CSharpReview\\BASIC SYNTAX NOTEBOOKS\\BASIC_SYNTAX_INTERFACES.ipynb\n",
      "c:\\Users\\prisc\\Documents\\aa_CODE\\aa_C#\\CSharpReview\\BASIC SYNTAX NOTEBOOKS\\BASIC_SYNTAX_METHOD-PARAMETERS.ipynb\n",
      "c:\\Users\\prisc\\Documents\\aa_CODE\\aa_C#\\CSharpReview\\BASIC SYNTAX NOTEBOOKS\\BASIC_SYNTAX_PROPERTIES.ipynb\n",
      "c:\\Users\\prisc\\Documents\\aa_CODE\\aa_C#\\CSharpReview\\BASIC SYNTAX NOTEBOOKS\\BASIC_SYNTAX_RECORDS.ipynb\n",
      "c:\\Users\\prisc\\Documents\\aa_CODE\\aa_C#\\CSharpReview\\BASIC SYNTAX NOTEBOOKS\\DELETE_ME_FILE.txt\n",
      "c:\\Users\\prisc\\Documents\\aa_CODE\\aa_C#\\CSharpReview\\BASIC SYNTAX NOTEBOOKS\\file_handling_test_RENAMED.txt\n",
      "c:\\Users\\prisc\\Documents\\aa_CODE\\aa_C#\\CSharpReview\\BASIC SYNTAX NOTEBOOKS\\README.md\n"
     ]
    }
   ],
   "source": [
    "string path_cwd = Environment.CurrentDirectory;\n",
    "string[] files = Directory.GetFiles(path_cwd);\n",
    "\n",
    "foreach (string file in files)\n",
    "{\n",
    "    Console.WriteLine(file);\n",
    "}"
   ]
  },
  {
   "attachments": {},
   "cell_type": "markdown",
   "metadata": {},
   "source": [
    "## Creating Directories"
   ]
  },
  {
   "cell_type": "code",
   "execution_count": 10,
   "metadata": {
    "dotnet_interactive": {
     "language": "csharp"
    },
    "polyglot_notebook": {
     "kernelName": "csharp"
    },
    "vscode": {
     "languageId": "polyglot-notebook"
    }
   },
   "outputs": [],
   "source": [
    "Directory.CreateDirectory(\"dir_to_be_deleted\");"
   ]
  },
  {
   "attachments": {},
   "cell_type": "markdown",
   "metadata": {},
   "source": [
    "## Renaming Directories"
   ]
  },
  {
   "cell_type": "code",
   "execution_count": 11,
   "metadata": {
    "dotnet_interactive": {
     "language": "csharp"
    },
    "polyglot_notebook": {
     "kernelName": "csharp"
    },
    "vscode": {
     "languageId": "polyglot-notebook"
    }
   },
   "outputs": [],
   "source": [
    "Directory.Move(\"dir_to_be_deleted\", \"dir_to_be_deleted_RENAMED\");"
   ]
  },
  {
   "attachments": {},
   "cell_type": "markdown",
   "metadata": {},
   "source": [
    "## List All Files & Directories in Current Working Directory"
   ]
  },
  {
   "cell_type": "code",
   "execution_count": 12,
   "metadata": {
    "dotnet_interactive": {
     "language": "csharp"
    },
    "polyglot_notebook": {
     "kernelName": "csharp"
    },
    "vscode": {
     "languageId": "polyglot-notebook"
    }
   },
   "outputs": [
    {
     "name": "stdout",
     "output_type": "stream",
     "text": [
      "c:\\Users\\prisc\\Documents\\aa_CODE\\aa_C#\\CSharpReview\\BASIC SYNTAX NOTEBOOKS\\BASIC_SYNTAX.ipynb\n",
      "c:\\Users\\prisc\\Documents\\aa_CODE\\aa_C#\\CSharpReview\\BASIC SYNTAX NOTEBOOKS\\BASIC_SYNTAX_ANONYMOUS-TYPES.ipynb\n",
      "c:\\Users\\prisc\\Documents\\aa_CODE\\aa_C#\\CSharpReview\\BASIC SYNTAX NOTEBOOKS\\BASIC_SYNTAX_CLASSES-OOP.ipynb\n",
      "c:\\Users\\prisc\\Documents\\aa_CODE\\aa_C#\\CSharpReview\\BASIC SYNTAX NOTEBOOKS\\BASIC_SYNTAX_FILE-HANDLING.ipynb\n",
      "c:\\Users\\prisc\\Documents\\aa_CODE\\aa_C#\\CSharpReview\\BASIC SYNTAX NOTEBOOKS\\BASIC_SYNTAX_INTERFACES.ipynb\n",
      "c:\\Users\\prisc\\Documents\\aa_CODE\\aa_C#\\CSharpReview\\BASIC SYNTAX NOTEBOOKS\\BASIC_SYNTAX_METHOD-PARAMETERS.ipynb\n",
      "c:\\Users\\prisc\\Documents\\aa_CODE\\aa_C#\\CSharpReview\\BASIC SYNTAX NOTEBOOKS\\BASIC_SYNTAX_PROPERTIES.ipynb\n",
      "c:\\Users\\prisc\\Documents\\aa_CODE\\aa_C#\\CSharpReview\\BASIC SYNTAX NOTEBOOKS\\BASIC_SYNTAX_RECORDS.ipynb\n",
      "c:\\Users\\prisc\\Documents\\aa_CODE\\aa_C#\\CSharpReview\\BASIC SYNTAX NOTEBOOKS\\DELETE_ME_FILE.txt\n",
      "c:\\Users\\prisc\\Documents\\aa_CODE\\aa_C#\\CSharpReview\\BASIC SYNTAX NOTEBOOKS\\dir_to_be_deleted_RENAMED\n",
      "c:\\Users\\prisc\\Documents\\aa_CODE\\aa_C#\\CSharpReview\\BASIC SYNTAX NOTEBOOKS\\file_handling_test_RENAMED.txt\n",
      "c:\\Users\\prisc\\Documents\\aa_CODE\\aa_C#\\CSharpReview\\BASIC SYNTAX NOTEBOOKS\\README.md\n"
     ]
    }
   ],
   "source": [
    "internal static void ListAllFilesDirs()\n",
    "{\n",
    "    string path_cwd = Environment.CurrentDirectory;\n",
    "    string[] files_and_dirs = Directory.GetFileSystemEntries(path_cwd);\n",
    "\n",
    "    foreach (string file_dir in files_and_dirs)\n",
    "    {\n",
    "        Console.WriteLine(file_dir);\n",
    "    }\n",
    "}\n",
    "\n",
    "ListAllFilesDirs()"
   ]
  },
  {
   "attachments": {},
   "cell_type": "markdown",
   "metadata": {},
   "source": [
    "## Deleting Files"
   ]
  },
  {
   "cell_type": "code",
   "execution_count": 13,
   "metadata": {
    "dotnet_interactive": {
     "language": "csharp"
    },
    "polyglot_notebook": {
     "kernelName": "csharp"
    },
    "vscode": {
     "languageId": "polyglot-notebook"
    }
   },
   "outputs": [
    {
     "name": "stdout",
     "output_type": "stream",
     "text": [
      "File deleted...\r\n"
     ]
    }
   ],
   "source": [
    "if(File.Exists(\"DELETE_ME_FILE.txt\"))\n",
    "{\n",
    "    File.Delete(\"DELETE_ME_FILE.txt\");\n",
    "\n",
    "    if(File.Exists(\"DELETE_ME_FILE.txt\") == false)\n",
    "    {\n",
    "        Console.WriteLine(\"File deleted...\");\n",
    "    }\n",
    "}"
   ]
  },
  {
   "attachments": {},
   "cell_type": "markdown",
   "metadata": {},
   "source": [
    "## Deleting Directories"
   ]
  },
  {
   "cell_type": "code",
   "execution_count": 14,
   "metadata": {
    "dotnet_interactive": {
     "language": "csharp"
    },
    "polyglot_notebook": {
     "kernelName": "csharp"
    },
    "vscode": {
     "languageId": "polyglot-notebook"
    }
   },
   "outputs": [
    {
     "name": "stdout",
     "output_type": "stream",
     "text": [
      "Directory deleted...\r\n"
     ]
    }
   ],
   "source": [
    "if(Directory.Exists(\"dir_to_be_deleted_RENAMED\"))\n",
    "{\n",
    "    Directory.Delete(\"dir_to_be_deleted_RENAMED\");\n",
    "\n",
    "    if(Directory.Exists(\"dir_to_be_deleted_RENAMED\") == false)\n",
    "    {\n",
    "        Console.WriteLine(\"Directory deleted...\");\n",
    "    }\n",
    "}"
   ]
  },
  {
   "attachments": {},
   "cell_type": "markdown",
   "metadata": {},
   "source": [
    "*__NOTE__: Above `Delete()` will only delete if directory is empty, otherwise `IOException`*\n",
    "\n",
    "__If directory is not empty and you really want to delete it regardless:__\n",
    "```csharp\n",
    "    Directory.Delete(\"dir_to_be_deleted_RENAMED\", true)\n",
    "```"
   ]
  },
  {
   "cell_type": "code",
   "execution_count": 15,
   "metadata": {
    "dotnet_interactive": {
     "language": "csharp"
    },
    "polyglot_notebook": {
     "kernelName": "csharp"
    },
    "vscode": {
     "languageId": "polyglot-notebook"
    }
   },
   "outputs": [
    {
     "name": "stdout",
     "output_type": "stream",
     "text": [
      "c:\\Users\\prisc\\Documents\\aa_CODE\\aa_C#\\CSharpReview\\BASIC SYNTAX NOTEBOOKS\\BASIC_SYNTAX.ipynb\n",
      "c:\\Users\\prisc\\Documents\\aa_CODE\\aa_C#\\CSharpReview\\BASIC SYNTAX NOTEBOOKS\\BASIC_SYNTAX_ANONYMOUS-TYPES.ipynb\n",
      "c:\\Users\\prisc\\Documents\\aa_CODE\\aa_C#\\CSharpReview\\BASIC SYNTAX NOTEBOOKS\\BASIC_SYNTAX_CLASSES-OOP.ipynb\n",
      "c:\\Users\\prisc\\Documents\\aa_CODE\\aa_C#\\CSharpReview\\BASIC SYNTAX NOTEBOOKS\\BASIC_SYNTAX_FILE-HANDLING.ipynb\n",
      "c:\\Users\\prisc\\Documents\\aa_CODE\\aa_C#\\CSharpReview\\BASIC SYNTAX NOTEBOOKS\\BASIC_SYNTAX_INTERFACES.ipynb\n",
      "c:\\Users\\prisc\\Documents\\aa_CODE\\aa_C#\\CSharpReview\\BASIC SYNTAX NOTEBOOKS\\BASIC_SYNTAX_METHOD-PARAMETERS.ipynb\n",
      "c:\\Users\\prisc\\Documents\\aa_CODE\\aa_C#\\CSharpReview\\BASIC SYNTAX NOTEBOOKS\\BASIC_SYNTAX_PROPERTIES.ipynb\n",
      "c:\\Users\\prisc\\Documents\\aa_CODE\\aa_C#\\CSharpReview\\BASIC SYNTAX NOTEBOOKS\\BASIC_SYNTAX_RECORDS.ipynb\n",
      "c:\\Users\\prisc\\Documents\\aa_CODE\\aa_C#\\CSharpReview\\BASIC SYNTAX NOTEBOOKS\\file_handling_test_RENAMED.txt\n",
      "c:\\Users\\prisc\\Documents\\aa_CODE\\aa_C#\\CSharpReview\\BASIC SYNTAX NOTEBOOKS\\README.md\n"
     ]
    }
   ],
   "source": [
    "ListAllFilesDirs()"
   ]
  }
 ],
 "metadata": {
  "language_info": {
   "name": "python"
  },
  "orig_nbformat": 4
 },
 "nbformat": 4,
 "nbformat_minor": 2
}
