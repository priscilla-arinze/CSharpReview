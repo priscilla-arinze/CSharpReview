{
 "cells": [
  {
   "attachments": {},
   "cell_type": "markdown",
   "metadata": {},
   "source": [
    "# ANONYMOUS TYPES\n",
    "\n",
    "*Allows you to create an object without having to declare a class; kinda sorta like JavaScript anonymous functions but for classes*\n",
    "\n",
    "### CONSIDERATIONS:\n",
    "* Since there's not a specific reference type (class) associated with the object, you have to use the `var` keyword for assignments\n",
    "* Methods/fields are NOT allowed inside anonymous types, only properties\n",
    "    * Sorta similar to dictionaries, except that anonymous types can use LINQ functionalities and dictionaries are not immutable\n",
    "* Commonly used in LINQ query expressions such as in a `select` clause\n",
    "    * e.g `select new { car.Year, car.Make, c.Model }`\n",
    "* Immutable; Not allowed to modify existing properties and Not allowed to add additional properties after initialization\n",
    "    * Can modify by value (not actual reference) using `with` keyword (similar to record reference types)\n",
    "* Can be useful for querying, event handling, simplifying complex classes, unit testing\n"
   ]
  },
  {
   "cell_type": "code",
   "execution_count": 1,
   "metadata": {
    "vscode": {
     "languageId": "polyglot-notebook"
    }
   },
   "outputs": [
    {
     "name": "stdout",
     "output_type": "stream",
     "text": [
      "Squidward Tentacles - 1113 years old\r\n"
     ]
    }
   ],
   "source": [
    "var user = new    \n",
    "{    \n",
    "    Name = \"Squidward Tentacles\",    \n",
    "    Age = 1113   \n",
    "};\n",
    "\n",
    "Console.WriteLine(user.Name + \" - \" + user.Age + \" years old\");"
   ]
  },
  {
   "attachments": {},
   "cell_type": "markdown",
   "metadata": {},
   "source": [
    "You can also have instance properties stand in for properties inside anonymous types:"
   ]
  },
  {
   "cell_type": "code",
   "execution_count": 2,
   "metadata": {
    "dotnet_interactive": {
     "language": "csharp"
    },
    "polyglot_notebook": {
     "kernelName": "csharp"
    },
    "vscode": {
     "languageId": "polyglot-notebook"
    }
   },
   "outputs": [
    {
     "name": "stdout",
     "output_type": "stream",
     "text": [
      "blahblahblah@gmail.com\r\n"
     ]
    }
   ],
   "source": [
    "internal class User\n",
    "{\n",
    "    public string ID { get; set; }\n",
    "    public string Username { get; set; }\n",
    "    public string Email { get; set; }\n",
    "    public string Password { get; set; }\n",
    "\n",
    "    public User(string id, string username, string email, string password)\n",
    "    {\n",
    "        this.ID = id;\n",
    "        this.Username = username;\n",
    "        this.Email = email;\n",
    "        this.Password = password;\n",
    "    }\n",
    "\n",
    "    // pretend like a bunch of methods or something exist down here....\n",
    "}\n",
    "\n",
    "User u = new User(\"0000001\", \"test_user\", \"blahblahblah@gmail.com\", \"totallysecurepassword123\");\n",
    "\n",
    "\n",
    "var u_test = new\n",
    "{\n",
    "    u.Username,\n",
    "    u.Email\n",
    "};\n",
    "\n",
    "Console.WriteLine(u_test.Email);"
   ]
  }
 ],
 "metadata": {
  "language_info": {
   "name": "python"
  },
  "orig_nbformat": 4
 },
 "nbformat": 4,
 "nbformat_minor": 2
}
