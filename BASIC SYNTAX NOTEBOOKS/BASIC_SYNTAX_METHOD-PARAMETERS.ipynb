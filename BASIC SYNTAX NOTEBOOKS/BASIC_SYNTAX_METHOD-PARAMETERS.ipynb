{
 "cells": [
  {
   "attachments": {},
   "cell_type": "markdown",
   "metadata": {},
   "source": [
    "# METHOD PARAMETERS"
   ]
  },
  {
   "attachments": {},
   "cell_type": "markdown",
   "metadata": {},
   "source": [
    "## Optional/Default Parameters\n",
    "\n",
    "*__NOTE__: All optional/default parameters have to be listed last in the method definition.*\n",
    "\n",
    "*__NOTE 2__: Default parameter values must be constants/literals, in other words you cannot set the default parameter value equal to an object*"
   ]
  },
  {
   "cell_type": "code",
   "execution_count": 3,
   "metadata": {
    "dotnet_interactive": {
     "language": "csharp"
    },
    "polyglot_notebook": {
     "kernelName": "csharp"
    },
    "vscode": {
     "languageId": "polyglot-notebook"
    }
   },
   "outputs": [
    {
     "name": "stdout",
     "output_type": "stream",
     "text": [
      "2 out of 3 parameters: 3\n",
      "3 out of 3 parameters: 12\n"
     ]
    }
   ],
   "source": [
    "public int AddNumbers(int number1, int number2, int number3 = 0)\n",
    "{\n",
    "\treturn number1 + number2 + number3;\n",
    "}\n",
    "\n",
    "\n",
    "Console.WriteLine($\"2 out of 3 parameters: {AddNumbers(1, 2)}\");\n",
    "Console.WriteLine($\"3 out of 3 parameters: {AddNumbers(2, 4, 6)}\");"
   ]
  },
  {
   "attachments": {},
   "cell_type": "markdown",
   "metadata": {},
   "source": [
    "## Arbitrary number of parameters (`params`)\n",
    "\n",
    "*0 or more*"
   ]
  },
  {
   "cell_type": "code",
   "execution_count": 1,
   "metadata": {
    "dotnet_interactive": {
     "language": "csharp"
    },
    "polyglot_notebook": {
     "kernelName": "csharp"
    },
    "vscode": {
     "languageId": "polyglot-notebook"
    }
   },
   "outputs": [
    {
     "name": "stdout",
     "output_type": "stream",
     "text": [
      "Hey Spongebob\n",
      "Hey Squidward\n",
      "Hey Patrick\n"
     ]
    }
   ],
   "source": [
    "public void GreetPersons(params string[] names)\n",
    "{\n",
    "\tforeach(string name in names)\n",
    "\t\tConsole.WriteLine(\"Hey \" + name);\n",
    "}\n",
    "\n",
    "GreetPersons(\"Spongebob\", \"Squidward\", \"Patrick\");"
   ]
  },
  {
   "attachments": {},
   "cell_type": "markdown",
   "metadata": {},
   "source": [
    "## Named Parameters\n",
    "\n",
    "*Allows you to pass in arguments, regardless of positional order in the method definition (including optional parameters).*"
   ]
  },
  {
   "cell_type": "code",
   "execution_count": 8,
   "metadata": {
    "dotnet_interactive": {
     "language": "csharp"
    },
    "polyglot_notebook": {
     "kernelName": "csharp"
    },
    "vscode": {
     "languageId": "polyglot-notebook"
    }
   },
   "outputs": [
    {
     "name": "stdout",
     "output_type": "stream",
     "text": [
      "My name is Mr. Krabs and I am 72 years old and I work as a full-time Crypto Scammer.\r\n"
     ]
    }
   ],
   "source": [
    "public void PersonDetails(int age, string occupation, string name)\n",
    "{\n",
    "    Console.WriteLine($\"My name is {name} and I am {age} years old and I work as a full-time {occupation}.\");\n",
    "}\n",
    "\n",
    "PersonDetails(name: \"Mr. Krabs\", age: 72, occupation: \"Crypto Scammer\");"
   ]
  },
  {
   "attachments": {},
   "cell_type": "markdown",
   "metadata": {},
   "source": [
    "## Extension Methods (`this` parameter)\n",
    "\n",
    "*Allows you to add custom methods to existing objects/types without having to create a new class.*\n",
    "\n",
    "__Considerations:__\n",
    "* All of the custom methods will need to have the `static` modifier.\n",
    "* They must be defined in a top level `static` class, basically they can't be inside nested classes nor regular classes"
   ]
  },
  {
   "cell_type": "code",
   "execution_count": 7,
   "metadata": {
    "dotnet_interactive": {
     "language": "csharp"
    },
    "polyglot_notebook": {
     "kernelName": "csharp"
    },
    "vscode": {
     "languageId": "polyglot-notebook"
    }
   },
   "outputs": [
    {
     "name": "stdout",
     "output_type": "stream",
     "text": [
      "We've been trying to reach your car's extended warranty\n",
      "Word Count: 9\n",
      "\n",
      "We've been trying to reach your car's extended warranty\n",
      " Self destructing in 5, 4, 3, 2...\n"
     ]
    }
   ],
   "source": [
    "public static int WordCount(this string str)\n",
    "{\n",
    "    return str.Split(new char[] { ' ', '.', '?' },\n",
    "                        StringSplitOptions.RemoveEmptyEntries).Length;\n",
    "}\n",
    "\n",
    "public static string SelfDestruct(this string str)\n",
    "{\n",
    "    return $\"{str}\\n Self destructing in 5, 4, 3, 2...\";;\n",
    "}\n",
    "\n",
    "\n",
    "string s = \"We've been trying to reach your car's extended warranty\";\n",
    "\n",
    "Console.WriteLine(s);\n",
    "Console.WriteLine($\"Word Count: {s.WordCount()}\\n\");\n",
    "Console.WriteLine(s.SelfDestruct());\n"
   ]
  },
  {
   "attachments": {},
   "cell_type": "markdown",
   "metadata": {},
   "source": [
    "## Method Parameters by Value vs Reference\n",
    "\n",
    "*Without the below modifiers, the object/type passed in is copied and all you are modifying is the __value__. The actual object reference is not being modified. If you want the actual object to be passed in, you can use one of the below modifiers.*\n",
    "\n",
    "*__NOTE__: Since the same object would be used if passed in by reference, no additional space needs to be allocated in memory, which can be a performance benefit.*"
   ]
  },
  {
   "attachments": {},
   "cell_type": "markdown",
   "metadata": {},
   "source": [
    "### `ref` modifier parameter\n",
    "*Allows you to pass in a parameter by reference instead of by value, regardless of whether you initialize it in the method or not.*"
   ]
  },
  {
   "cell_type": "code",
   "execution_count": 2,
   "metadata": {
    "dotnet_interactive": {
     "language": "csharp"
    },
    "polyglot_notebook": {
     "kernelName": "csharp"
    },
    "vscode": {
     "languageId": "polyglot-notebook"
    }
   },
   "outputs": [
    {
     "name": "stdout",
     "output_type": "stream",
     "text": [
      "Passing 20 by value, RESULT: 20\n",
      "Passing 20 by reference, RESULT: 25\n"
     ]
    }
   ],
   "source": [
    "public void AddFiveValue(int number)\n",
    "{\n",
    "\tnumber = number + 5;\n",
    "}\n",
    "\n",
    "public void AddFiveRef(ref int number)\n",
    "{\n",
    "\tnumber = number + 5;\n",
    "}\n",
    "\n",
    "\n",
    "int numberValue = 20;\n",
    "int numberRef = 20;\n",
    "\n",
    "AddFiveValue(numberValue);\n",
    "AddFiveRef(ref numberRef);\n",
    "Console.WriteLine($\"Passing 20 by value, RESULT: {numberValue}\");\n",
    "Console.WriteLine($\"Passing 20 by reference, RESULT: {numberRef}\");"
   ]
  },
  {
   "attachments": {},
   "cell_type": "markdown",
   "metadata": {},
   "source": [
    "### `out` modifier parameter\n",
    "\n",
    "*Very similar to the `ref` modifier, except that the `out` modifier requires you to initialize the parameter in the method, whereas the `ref` modifier didn't require initialization.*"
   ]
  },
  {
   "cell_type": "code",
   "execution_count": 5,
   "metadata": {
    "dotnet_interactive": {
     "language": "csharp"
    },
    "polyglot_notebook": {
     "kernelName": "csharp"
    },
    "vscode": {
     "languageId": "polyglot-notebook"
    }
   },
   "outputs": [
    {
     "name": "stdout",
     "output_type": "stream",
     "text": [
      "15\n",
      "5\n",
      "0\n",
      "0\n"
     ]
    }
   ],
   "source": [
    "public void DoMath(int number1, int number2, out int addedValue, out int subtractedValue)\n",
    "{\n",
    "\taddedValue = number1 + number2; // required initialization\n",
    "\tsubtractedValue = number1 - number2; // required initialization\n",
    "}\n",
    "\n",
    "\n",
    "int addedValue0, subtractedValue0; // default value is 0\n",
    "int addedValue, subtractedValue; // default value is 0\n",
    "DoMath(10, 5, out addedValue, out subtractedValue);\n",
    "Console.WriteLine(addedValue);\n",
    "Console.WriteLine(subtractedValue);\n",
    "\n",
    "Console.WriteLine(addedValue0);\n",
    "Console.WriteLine(subtractedValue0);"
   ]
  },
  {
   "attachments": {},
   "cell_type": "markdown",
   "metadata": {},
   "source": [
    "### `in` modifier parameter\n",
    "\n",
    "*Very similar to `out` modifier, except that the `in` modifier disallows you from initializing nor modifying the passed in parameter. It is considered a read-only parameter.*"
   ]
  },
  {
   "cell_type": "code",
   "execution_count": 6,
   "metadata": {
    "dotnet_interactive": {
     "language": "csharp"
    },
    "polyglot_notebook": {
     "kernelName": "csharp"
    },
    "vscode": {
     "languageId": "polyglot-notebook"
    }
   },
   "outputs": [
    {
     "name": "stdout",
     "output_type": "stream",
     "text": [
      "The 2007 critically-acclaimed documentary, Bee Movie, is a motion picture thriller/horror film.\r\n"
     ]
    }
   ],
   "source": [
    "public void PrintString(in string largeString)\n",
    "{\n",
    "\t// largeString = \"We can't do this...\";  // NOT ALLOWED\n",
    "    Console.WriteLine(largeString);\n",
    "}\n",
    "\n",
    "string aVeryLargeString = \"The 2007 critically-acclaimed documentary, Bee Movie, is a motion picture thriller/horror film.\";\n",
    "PrintString(aVeryLargeString);"
   ]
  }
 ],
 "metadata": {
  "language_info": {
   "name": "python"
  },
  "orig_nbformat": 4
 },
 "nbformat": 4,
 "nbformat_minor": 2
}
